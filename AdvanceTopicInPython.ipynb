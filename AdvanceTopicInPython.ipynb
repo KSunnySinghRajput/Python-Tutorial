{
 "cells": [
  {
   "cell_type": "code",
   "execution_count": 6,
   "id": "strong-baghdad",
   "metadata": {},
   "outputs": [
    {
     "name": "stdout",
     "output_type": "stream",
     "text": [
      "140713804923440\n",
      "0x7ffa7c5b8230\n"
     ]
    }
   ],
   "source": [
    "var1 = 10\n",
    "id_value=id(var1)\n",
    "hex_value=hex(id_value) # # print the address of var1 in hexadecimal format\n",
    "print(id_value)\n",
    "print(hex_value)"
   ]
  },
  {
   "cell_type": "code",
   "execution_count": null,
   "id": "attractive-booking",
   "metadata": {},
   "outputs": [],
   "source": [
    "y='0xc545d0'\n",
    "int(y,base=16)"
   ]
  },
  {
   "cell_type": "code",
   "execution_count": 5,
   "id": "alien-boring",
   "metadata": {},
   "outputs": [],
   "source": [
    "import ctypes"
   ]
  },
  {
   "cell_type": "code",
   "execution_count": 7,
   "id": "published-cooperation",
   "metadata": {},
   "outputs": [
    {
     "data": {
      "text/plain": [
       "10"
      ]
     },
     "execution_count": 7,
     "metadata": {},
     "output_type": "execute_result"
    }
   ],
   "source": [
    "ctypes.cast(id_value, ctypes.py_object).value"
   ]
  },
  {
   "cell_type": "code",
   "execution_count": null,
   "id": "cultural-morris",
   "metadata": {},
   "outputs": [],
   "source": []
  }
 ],
 "metadata": {
  "kernelspec": {
   "display_name": "Python 3",
   "language": "python",
   "name": "python3"
  },
  "language_info": {
   "codemirror_mode": {
    "name": "ipython",
    "version": 3
   },
   "file_extension": ".py",
   "mimetype": "text/x-python",
   "name": "python",
   "nbconvert_exporter": "python",
   "pygments_lexer": "ipython3",
   "version": "3.7.8"
  }
 },
 "nbformat": 4,
 "nbformat_minor": 5
}
