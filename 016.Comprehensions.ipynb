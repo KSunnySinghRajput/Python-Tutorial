{
 "cells": [
  {
   "cell_type": "code",
   "execution_count": null,
   "id": "express-eugene",
   "metadata": {},
   "outputs": [],
   "source": [
    "#Comprehensions in Python provide us with a short and concise way to construct new sequences (such as lists, set, dictionary etc.) using sequences which have been already defined.\n",
    "\n",
    "#Find the list of numbers divided by two/even numbers\n",
    "#Using Simple Program\n",
    "# list = []\n",
    "# for i in range(100):\n",
    "#     if i%2 == 0:\n",
    "#         list.append(i)\n",
    "# print(list)\n",
    "\n",
    "# 1 - Using List Comprehensions\n",
    "# list = [i for i in range(100) if i%2==0]\n",
    "# print(list)\n",
    "\n",
    "# 2 - Using Dict Comprehensions\n",
    "# dict1 = {i:f\"item{i}\" for i in range(100)}\n",
    "# dict1 = {i:f\"item{i}\" for i in range(1, 10001) if i%100==0}\n",
    "# dict1 = {i:f\"item{i}\" for i in range(5)}\n",
    "# dict1 = {value:key for key,value in dict1.items()}\n",
    "# print(dict1)\n",
    "\n",
    "# 3 - Using Set Comprehensions\n",
    "# set1 = {fruits for fruits in [\"apple\", \"banana\", \"orange\", \"apple\", \"banana\", \"orange\", \"apple\", \"banana\", \"orange\"]}\n",
    "# print(set1)\n",
    "\n",
    "# 4 - Default Parameters\n",
    "#Python allows function arguments to have default values; if the function is called without the argument, the argument gets its default value\n",
    "# def employee(firstname, lastname = \"Agarwal\", salary = 50000):\n",
    "#     return f\"Employee Name is {firstname} {lastname} and Salary is {salary}\"\n",
    "# print(employee(\"Rajiv\"))\n",
    "\n",
    "# 5 - Variable Arguments (Concept of *args and *kwargs)\n",
    "\n",
    "# 6 - Specialized Sorts\n",
    "# x = ['q', 'w', 'r', 'e', 't', 'y'] \n",
    "# x = ('q', 'w', 'e', 'r', 't', 'y') \n",
    "# x = \"python\"\n",
    "# x = {'q':1, 'w':2, 'e':3, 'r':4, 't':5, 'y':6} \n",
    "# x = {'q', 'w', 'e', 'r', 't', 'y'} \n",
    "# x = frozenset(('q', 'w', 'e', 'r', 't', 'y')) \n",
    "# print(sorted(x))\n",
    "\n",
    "# L = [\"cccc\", \"b\", \"dd\", \"aaa\"] \n",
    "# print (\"Normal sort :\",sorted(L))\n",
    "# print (\"Sort with len :\",sorted(L, key = len))\n",
    "\n",
    "# 7 - Iterator - An iterator is an object that contains a countable number of values. in Python, an iterator is an object which implements the iterator protocol, which consist of the methods __iter__() and __next__().\n",
    "#Lists, tuples, dictionaries, and sets are all iterable objects\n",
    "\n",
    "# mytuple = (\"apple\", \"banana\", \"cherry\")\n",
    "# myit = iter(mytuple)\n",
    "# print(next(myit))\n",
    "# print(next(myit))\n",
    "# print(next(myit))\n",
    "\n",
    "# mystr = \"banana\"\n",
    "# myit = iter(mystr)\n",
    "# print(next(myit))\n",
    "# print(next(myit))\n",
    "# print(next(myit))\n",
    "# print(next(myit))\n",
    "# print(next(myit))\n",
    "# print(next(myit))\n",
    "\n",
    "# mystr = \"banana\"\n",
    "# for x in mystr:\n",
    "#   print(x)\n",
    "\n",
    "# mytuple = (\"apple\", \"banana\", \"cherry\")\n",
    "# for x in mytuple:\n",
    "#   print(x)\n",
    "\n",
    "# 8 - with Statement\n",
    "# # using with statement\n",
    "# with open('file_writing', 'w') as file:\n",
    "#     file.write('hello world !')\n",
    "\n"
   ]
  },
  {
   "cell_type": "code",
   "execution_count": null,
   "id": "failing-carpet",
   "metadata": {},
   "outputs": [],
   "source": [
    "#List Comprehensions:=\n",
    "\n",
    "\n",
    "squares = []\n",
    "for x in range(10):\n",
    "  squares.append(x**2)\n",
    "...\n",
    "squares                 #[0, 1, 4, 9, 16, 25, 36, 49, 64, 81]\n",
    "\n",
    "squares = list(map(lambda x: x**2, range(10)))\n",
    "\n",
    "squares = [x**2 for x in range(10)]\n",
    "\n",
    "s=[(x, y) for x in [1,2,3] for y in [3,1,4] if x != y]  #[(1, 3), (1, 4), (2, 3), (2, 1), (2, 4), (3, 1), (3, 4)]\n",
    "\n",
    "\n",
    "vec = [-4, -2, 0, 2, 4]\n",
    "[x*2 for x in vec]\n",
    "[x for x in vec if x >= 0]\n",
    "[abs(x) for x in vec]\n",
    "\n",
    "#Nested List Comprehensions\n",
    "\n",
    "matrix = [\n",
    "  [1, 2, 3, 4],\n",
    "  [5, 6, 7, 8],\n",
    "  [9, 10, 11, 12],\n",
    "  ]\n",
    "[[row[i] for row in matrix] for i in range(4)]\n",
    "list(zip(*matrix))"
   ]
  },
  {
   "cell_type": "markdown",
   "id": "colonial-giant",
   "metadata": {},
   "source": [
    "# list  comprehension"
   ]
  },
  {
   "cell_type": "code",
   "execution_count": 1,
   "id": "native-public",
   "metadata": {},
   "outputs": [],
   "source": [
    "l = [2 * n for n in (0, 1, 2) if n > 0]"
   ]
  },
  {
   "cell_type": "code",
   "execution_count": 2,
   "id": "wooden-bearing",
   "metadata": {},
   "outputs": [
    {
     "data": {
      "text/plain": [
       "[2, 4]"
      ]
     },
     "execution_count": 2,
     "metadata": {},
     "output_type": "execute_result"
    }
   ],
   "source": [
    "l"
   ]
  },
  {
   "cell_type": "code",
   "execution_count": 3,
   "id": "opposite-script",
   "metadata": {},
   "outputs": [
    {
     "data": {
      "text/plain": [
       "[1, 2, 3]"
      ]
     },
     "execution_count": 3,
     "metadata": {},
     "output_type": "execute_result"
    }
   ],
   "source": [
    "[n for n in [1, 2, 3]]"
   ]
  },
  {
   "cell_type": "code",
   "execution_count": 4,
   "id": "spare-coupon",
   "metadata": {},
   "outputs": [
    {
     "data": {
      "text/plain": [
       "[2, 4, 6]"
      ]
     },
     "execution_count": 4,
     "metadata": {},
     "output_type": "execute_result"
    }
   ],
   "source": [
    "[n * 2 for n in [1, 2, 3]]"
   ]
  },
  {
   "cell_type": "code",
   "execution_count": 5,
   "id": "similar-prime",
   "metadata": {},
   "outputs": [
    {
     "data": {
      "text/plain": [
       "[1, 3]"
      ]
     },
     "execution_count": 5,
     "metadata": {},
     "output_type": "execute_result"
    }
   ],
   "source": [
    "[n for n in [1, 2, 3] if n % 2] "
   ]
  },
  {
   "cell_type": "code",
   "execution_count": 6,
   "id": "composed-focus",
   "metadata": {},
   "outputs": [
    {
     "data": {
      "text/plain": [
       "[[1, 0], [2, 0], [1, 2], [2, 2]]"
      ]
     },
     "execution_count": 6,
     "metadata": {},
     "output_type": "execute_result"
    }
   ],
   "source": [
    "[[m, n] for n in [0, 2] for m in [1, 2]]"
   ]
  },
  {
   "cell_type": "code",
   "execution_count": 7,
   "id": "nonprofit-nepal",
   "metadata": {},
   "outputs": [
    {
     "data": {
      "text/plain": [
       "[[1, 0], [2, 0], [1, 1], [2, 1]]"
      ]
     },
     "execution_count": 7,
     "metadata": {},
     "output_type": "execute_result"
    }
   ],
   "source": [
    "[[m, n] for n in [i for i in [0, 1]] for m in [1, 2]]"
   ]
  },
  {
   "cell_type": "markdown",
   "id": "correct-profit",
   "metadata": {},
   "source": [
    "# set  comprehension"
   ]
  },
  {
   "cell_type": "code",
   "execution_count": 8,
   "id": "metallic-resident",
   "metadata": {},
   "outputs": [
    {
     "data": {
      "text/plain": [
       "{0, 1, 2}"
      ]
     },
     "execution_count": 8,
     "metadata": {},
     "output_type": "execute_result"
    }
   ],
   "source": [
    "{s for s in [1, 2, 1, 0]}"
   ]
  },
  {
   "cell_type": "code",
   "execution_count": 9,
   "id": "civil-identity",
   "metadata": {},
   "outputs": [
    {
     "data": {
      "text/plain": [
       "{0, 1, 4}"
      ]
     },
     "execution_count": 9,
     "metadata": {},
     "output_type": "execute_result"
    }
   ],
   "source": [
    "{s**2 for s in [1, 2, 1, 0]}"
   ]
  },
  {
   "cell_type": "code",
   "execution_count": 11,
   "id": "devoted-research",
   "metadata": {},
   "outputs": [
    {
     "data": {
      "text/plain": [
       "{1, 3}"
      ]
     },
     "execution_count": 11,
     "metadata": {},
     "output_type": "execute_result"
    }
   ],
   "source": [
    "{s for s in [1, 2, 3] if s % 2}"
   ]
  },
  {
   "cell_type": "code",
   "execution_count": 10,
   "id": "necessary-execution",
   "metadata": {},
   "outputs": [
    {
     "data": {
      "text/plain": [
       "{(3, 0), (3, 1), (4, 0), (4, 1)}"
      ]
     },
     "execution_count": 10,
     "metadata": {},
     "output_type": "execute_result"
    }
   ],
   "source": [
    "{(m, n) for n in range(2) for m in range(3, 5)}"
   ]
  },
  {
   "cell_type": "markdown",
   "id": "looking-diversity",
   "metadata": {},
   "source": [
    "# dictionary comprehension"
   ]
  },
  {
   "cell_type": "code",
   "execution_count": 12,
   "id": "classical-weapon",
   "metadata": {},
   "outputs": [
    {
     "data": {
      "text/plain": [
       "{1: 2, 3: 4}"
      ]
     },
     "execution_count": 12,
     "metadata": {},
     "output_type": "execute_result"
    }
   ],
   "source": [
    "{k: v for k, v in [(1, 2), (3, 4)]}"
   ]
  },
  {
   "cell_type": "code",
   "execution_count": 13,
   "id": "existing-crash",
   "metadata": {},
   "outputs": [
    {
     "data": {
      "text/plain": [
       "{'b': 1}"
      ]
     },
     "execution_count": 13,
     "metadata": {},
     "output_type": "execute_result"
    }
   ],
   "source": [
    "{k: v for k, v in (('a', 0), ('b', 1)) if v == 1}"
   ]
  },
  {
   "cell_type": "code",
   "execution_count": null,
   "id": "sustainable-going",
   "metadata": {},
   "outputs": [],
   "source": []
  }
 ],
 "metadata": {
  "kernelspec": {
   "display_name": "Python 3",
   "language": "python",
   "name": "python3"
  },
  "language_info": {
   "codemirror_mode": {
    "name": "ipython",
    "version": 3
   },
   "file_extension": ".py",
   "mimetype": "text/x-python",
   "name": "python",
   "nbconvert_exporter": "python",
   "pygments_lexer": "ipython3",
   "version": "3.7.8"
  }
 },
 "nbformat": 4,
 "nbformat_minor": 5
}
