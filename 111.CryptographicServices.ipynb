{
 "cells": [
  {
   "cell_type": "markdown",
   "metadata": {},
   "source": [
    "    1. hashlib              — Secure hashes and message digests\n",
    "    2. hmac                 — Keyed-Hashing for Message Authentication\n",
    "    3. secrets              — Generate secure random numbers for managing secrets"
   ]
  },
  {
   "cell_type": "markdown",
   "metadata": {},
   "source": [
    "## 1. hashlib "
   ]
  },
  {
   "cell_type": "code",
   "execution_count": 1,
   "metadata": {},
   "outputs": [
    {
     "name": "stdout",
     "output_type": "stream",
     "text": [
      "{'sha3_512', 'sha384', 'shake_128', 'sha3_224', 'sha224', 'sha3_256', 'sha3_384', 'sha1', 'blake2s', 'md5', 'sha256', 'sha512', 'blake2b', 'shake_256'}\n",
      "{'sha3_512', 'sha384', 'shake_128', 'sha3_224', 'sha224', 'sha3_256', 'sha3_384', 'sha1', 'blake2s', 'md5', 'sha256', 'sha512', 'blake2b', 'shake_256'}\n"
     ]
    }
   ],
   "source": [
    "import hashlib\n",
    "\n",
    "print(hashlib.algorithms_available)\n",
    "print(hashlib.algorithms_guaranteed)"
   ]
  },
  {
   "cell_type": "code",
   "execution_count": 3,
   "metadata": {},
   "outputs": [
    {
     "name": "stdout",
     "output_type": "stream",
     "text": [
      "\n",
      "Example for SHA256\n",
      "Output 1 : b'\\xae[@\\xa0Z\\x02\\xca/\\xb8Y\\x86\\xdf\\x88?6a\\x8a\\xbbW\\x83\\xe7\\xec!\\x14\\x11vI\\x95\\xa3\\x9d\\xd8S'\n",
      "Output 2 : b'\\xae[@\\xa0Z\\x02\\xca/\\xb8Y\\x86\\xdf\\x88?6a\\x8a\\xbbW\\x83\\xe7\\xec!\\x14\\x11vI\\x95\\xa3\\x9d\\xd8S'\n"
     ]
    }
   ],
   "source": [
    "# initialize using sha256\n",
    "print('\\nExample for SHA256')\n",
    "m = hashlib.sha256()\n",
    "# append string one after another\n",
    "m.update(b\"This is a\")\n",
    "m.update(b\" great python tutorial.\")\n",
    "print('Output 1 :', m.digest())\n",
    "\n",
    "# use the whole string at once\n",
    "x = hashlib.sha256(b\"This is a great python tutorial.\")\n",
    "print('Output 2 :', x.digest())"
   ]
  },
  {
   "cell_type": "code",
   "execution_count": 4,
   "metadata": {},
   "outputs": [
    {
     "name": "stdout",
     "output_type": "stream",
     "text": [
      "\n",
      "Example for md5\n",
      "Output 1 : b'\\xb0\\xdd\\xeb\\xa2o}T9\\xa3\\xf1#\\x05\\x14|\\xfbp'\n",
      "Output 2 : b'\\xb0\\xdd\\xeb\\xa2o}T9\\xa3\\xf1#\\x05\\x14|\\xfbp'\n"
     ]
    }
   ],
   "source": [
    "# initialize using md5\n",
    "print('\\nExample for md5')\n",
    "m = hashlib.md5()\n",
    "# append string one after another\n",
    "m.update(b\"This is a\")\n",
    "m.update(b\" great python tutorial.\")\n",
    "print('Output 1 :', m.digest())\n",
    "\n",
    "# use the whole string at once\n",
    "x = hashlib.md5(b\"This is a great python tutorial.\")\n",
    "print('Output 2 :', x.digest())"
   ]
  },
  {
   "cell_type": "markdown",
   "metadata": {},
   "source": [
    " # 2. hmac"
   ]
  },
  {
   "cell_type": "markdown",
   "metadata": {},
   "source": [
    "## 4.Cryptography\n",
    "**encrypKey**"
   ]
  },
  {
   "cell_type": "code",
   "execution_count": 1,
   "metadata": {},
   "outputs": [
    {
     "output_type": "stream",
     "name": "stdout",
     "text": [
      "b'SuperSecretPassword'\n"
     ]
    }
   ],
   "source": [
    "# key \n",
    "from cryptography.fernet import Fernet\n",
    "#1.key\n",
    "#key = Fernet.generate_key()    //key generate\n",
    "#print(key)\n",
    "\n",
    "#2.key o/p\n",
    "key = b'8hGlMoDn54h3eKM8p7j9aLOmPc4kG88_srSbEIgBcC8='# Example key\n",
    "\n",
    "#3.encrypt\n",
    "#cipher_suite = Fernet(key)\n",
    "#input_msg=\"SuperSecretPassword\"\n",
    "#ciphered_text = cipher_suite.encrypt(b\"SuperSecretPassword\")   #required to be bytes\n",
    "#print(ciphered_text) \n",
    "\n",
    "#4.encrypt output\n",
    "ciphered_text=b'gAAAAABeagjdWQkmU12BdmX3KSP4dFulCrdWdzgqCyAkXT_K9bm9gyBdYfMJXD4ZoVPUTlfZZRrvp7KrqqXpfkGxn6EB_pMVb9nMQpxyjKojt-3-AsoAI4s='\n",
    "\n",
    "\n",
    "#5.decryp\n",
    "#cipher_suite = Fernet(key)\n",
    "#unciphered_text = cipher_suite.decrypt(ciphered_text)\n",
    "#print(unciphered_text)\n",
    "\n",
    "#6.decryp output\n",
    "output_msg=b'SuperSecretPassword'\n",
    "print(output_msg )\n",
    "with open('.res/mssqltip_bytes.bin', 'wb') as file_object:  file_object.write(ciphered_text)"
   ]
  },
  {
   "cell_type": "code",
   "execution_count": 2,
   "metadata": {},
   "outputs": [
    {
     "output_type": "stream",
     "name": "stdout",
     "text": [
      "Defaulting to user installation because normal site-packages is not writeable\nCollecting cryptography\n  Downloading cryptography-3.4.7-cp36-abi3-win_amd64.whl (1.6 MB)\nCollecting cffi>=1.12\n  Downloading cffi-1.14.5-cp37-cp37m-win_amd64.whl (178 kB)\nCollecting pycparser\n  Downloading pycparser-2.20-py2.py3-none-any.whl (112 kB)\nInstalling collected packages: pycparser, cffi, cryptography\nSuccessfully installed cffi-1.14.5 cryptography-3.4.7 pycparser-2.20\nNote: you may need to restart the kernel to use updated packages.\n"
     ]
    }
   ],
   "source": [
    "pip install cryptography"
   ]
  },
  {
   "cell_type": "code",
   "execution_count": 2,
   "metadata": {},
   "outputs": [
    {
     "output_type": "error",
     "ename": "InvalidToken",
     "evalue": "",
     "traceback": [
      "\u001b[1;31m---------------------------------------------------------------------------\u001b[0m",
      "\u001b[1;31mInvalidSignature\u001b[0m                          Traceback (most recent call last)",
      "\u001b[1;32m~\\AppData\\Roaming\\Python\\Python37\\site-packages\\cryptography\\fernet.py\u001b[0m in \u001b[0;36m_verify_signature\u001b[1;34m(self, data)\u001b[0m\n\u001b[0;32m    118\u001b[0m         \u001b[1;32mtry\u001b[0m\u001b[1;33m:\u001b[0m\u001b[1;33m\u001b[0m\u001b[1;33m\u001b[0m\u001b[0m\n\u001b[1;32m--> 119\u001b[1;33m             \u001b[0mh\u001b[0m\u001b[1;33m.\u001b[0m\u001b[0mverify\u001b[0m\u001b[1;33m(\u001b[0m\u001b[0mdata\u001b[0m\u001b[1;33m[\u001b[0m\u001b[1;33m-\u001b[0m\u001b[1;36m32\u001b[0m\u001b[1;33m:\u001b[0m\u001b[1;33m]\u001b[0m\u001b[1;33m)\u001b[0m\u001b[1;33m\u001b[0m\u001b[1;33m\u001b[0m\u001b[0m\n\u001b[0m\u001b[0;32m    120\u001b[0m         \u001b[1;32mexcept\u001b[0m \u001b[0mInvalidSignature\u001b[0m\u001b[1;33m:\u001b[0m\u001b[1;33m\u001b[0m\u001b[1;33m\u001b[0m\u001b[0m\n",
      "\u001b[1;32m~\\AppData\\Roaming\\Python\\Python37\\site-packages\\cryptography\\hazmat\\primitives\\hmac.py\u001b[0m in \u001b[0;36mverify\u001b[1;34m(self, signature)\u001b[0m\n\u001b[0;32m     73\u001b[0m         \u001b[0mctx\u001b[0m\u001b[1;33m,\u001b[0m \u001b[0mself\u001b[0m\u001b[1;33m.\u001b[0m\u001b[0m_ctx\u001b[0m \u001b[1;33m=\u001b[0m \u001b[0mself\u001b[0m\u001b[1;33m.\u001b[0m\u001b[0m_ctx\u001b[0m\u001b[1;33m,\u001b[0m \u001b[1;32mNone\u001b[0m\u001b[1;33m\u001b[0m\u001b[1;33m\u001b[0m\u001b[0m\n\u001b[1;32m---> 74\u001b[1;33m         \u001b[0mctx\u001b[0m\u001b[1;33m.\u001b[0m\u001b[0mverify\u001b[0m\u001b[1;33m(\u001b[0m\u001b[0msignature\u001b[0m\u001b[1;33m)\u001b[0m\u001b[1;33m\u001b[0m\u001b[1;33m\u001b[0m\u001b[0m\n\u001b[0m",
      "\u001b[1;32m~\\AppData\\Roaming\\Python\\Python37\\site-packages\\cryptography\\hazmat\\backends\\openssl\\hmac.py\u001b[0m in \u001b[0;36mverify\u001b[1;34m(self, signature)\u001b[0m\n\u001b[0;32m     74\u001b[0m         \u001b[1;32mif\u001b[0m \u001b[1;32mnot\u001b[0m \u001b[0mconstant_time\u001b[0m\u001b[1;33m.\u001b[0m\u001b[0mbytes_eq\u001b[0m\u001b[1;33m(\u001b[0m\u001b[0mdigest\u001b[0m\u001b[1;33m,\u001b[0m \u001b[0msignature\u001b[0m\u001b[1;33m)\u001b[0m\u001b[1;33m:\u001b[0m\u001b[1;33m\u001b[0m\u001b[1;33m\u001b[0m\u001b[0m\n\u001b[1;32m---> 75\u001b[1;33m             \u001b[1;32mraise\u001b[0m \u001b[0mInvalidSignature\u001b[0m\u001b[1;33m(\u001b[0m\u001b[1;34m\"Signature did not match digest.\"\u001b[0m\u001b[1;33m)\u001b[0m\u001b[1;33m\u001b[0m\u001b[1;33m\u001b[0m\u001b[0m\n\u001b[0m",
      "\u001b[1;31mInvalidSignature\u001b[0m: Signature did not match digest.",
      "\nDuring handling of the above exception, another exception occurred:\n",
      "\u001b[1;31mInvalidToken\u001b[0m                              Traceback (most recent call last)",
      "\u001b[1;32m<ipython-input-2-2c74cde977a3>\u001b[0m in \u001b[0;36m<module>\u001b[1;34m\u001b[0m\n\u001b[0;32m      5\u001b[0m     \u001b[1;32mfor\u001b[0m \u001b[0mline\u001b[0m \u001b[1;32min\u001b[0m \u001b[0mfile_object\u001b[0m\u001b[1;33m:\u001b[0m\u001b[1;33m\u001b[0m\u001b[1;33m\u001b[0m\u001b[0m\n\u001b[0;32m      6\u001b[0m         \u001b[0mencryptedpwd\u001b[0m \u001b[1;33m=\u001b[0m \u001b[0mline\u001b[0m\u001b[1;33m\u001b[0m\u001b[1;33m\u001b[0m\u001b[0m\n\u001b[1;32m----> 7\u001b[1;33m \u001b[0muncipher_text\u001b[0m \u001b[1;33m=\u001b[0m \u001b[1;33m(\u001b[0m\u001b[0mcipher_suite\u001b[0m\u001b[1;33m.\u001b[0m\u001b[0mdecrypt\u001b[0m\u001b[1;33m(\u001b[0m\u001b[0mencryptedpwd\u001b[0m\u001b[1;33m)\u001b[0m\u001b[1;33m)\u001b[0m\u001b[1;33m\u001b[0m\u001b[1;33m\u001b[0m\u001b[0m\n\u001b[0m\u001b[0;32m      8\u001b[0m \u001b[0mplain_text_encryptedpassword\u001b[0m \u001b[1;33m=\u001b[0m \u001b[0mbytes\u001b[0m\u001b[1;33m(\u001b[0m\u001b[0muncipher_text\u001b[0m\u001b[1;33m)\u001b[0m\u001b[1;33m.\u001b[0m\u001b[0mdecode\u001b[0m\u001b[1;33m(\u001b[0m\u001b[1;34m\"utf-8\"\u001b[0m\u001b[1;33m)\u001b[0m \u001b[1;31m#convert to string\u001b[0m\u001b[1;33m\u001b[0m\u001b[1;33m\u001b[0m\u001b[0m\n\u001b[0;32m      9\u001b[0m \u001b[0mprint\u001b[0m\u001b[1;33m(\u001b[0m\u001b[0mplain_text_encryptedpassword\u001b[0m\u001b[1;33m)\u001b[0m\u001b[1;33m\u001b[0m\u001b[1;33m\u001b[0m\u001b[0m\n",
      "\u001b[1;32m~\\AppData\\Roaming\\Python\\Python37\\site-packages\\cryptography\\fernet.py\u001b[0m in \u001b[0;36mdecrypt\u001b[1;34m(self, token, ttl)\u001b[0m\n\u001b[0;32m     78\u001b[0m         \u001b[1;32melse\u001b[0m\u001b[1;33m:\u001b[0m\u001b[1;33m\u001b[0m\u001b[1;33m\u001b[0m\u001b[0m\n\u001b[0;32m     79\u001b[0m             \u001b[0mtime_info\u001b[0m \u001b[1;33m=\u001b[0m \u001b[1;33m(\u001b[0m\u001b[0mttl\u001b[0m\u001b[1;33m,\u001b[0m \u001b[0mint\u001b[0m\u001b[1;33m(\u001b[0m\u001b[0mtime\u001b[0m\u001b[1;33m.\u001b[0m\u001b[0mtime\u001b[0m\u001b[1;33m(\u001b[0m\u001b[1;33m)\u001b[0m\u001b[1;33m)\u001b[0m\u001b[1;33m)\u001b[0m\u001b[1;33m\u001b[0m\u001b[1;33m\u001b[0m\u001b[0m\n\u001b[1;32m---> 80\u001b[1;33m         \u001b[1;32mreturn\u001b[0m \u001b[0mself\u001b[0m\u001b[1;33m.\u001b[0m\u001b[0m_decrypt_data\u001b[0m\u001b[1;33m(\u001b[0m\u001b[0mdata\u001b[0m\u001b[1;33m,\u001b[0m \u001b[0mtimestamp\u001b[0m\u001b[1;33m,\u001b[0m \u001b[0mtime_info\u001b[0m\u001b[1;33m)\u001b[0m\u001b[1;33m\u001b[0m\u001b[1;33m\u001b[0m\u001b[0m\n\u001b[0m\u001b[0;32m     81\u001b[0m \u001b[1;33m\u001b[0m\u001b[0m\n\u001b[0;32m     82\u001b[0m     def decrypt_at_time(\n",
      "\u001b[1;32m~\\AppData\\Roaming\\Python\\Python37\\site-packages\\cryptography\\fernet.py\u001b[0m in \u001b[0;36m_decrypt_data\u001b[1;34m(self, data, timestamp, time_info)\u001b[0m\n\u001b[0;32m    135\u001b[0m                 \u001b[1;32mraise\u001b[0m \u001b[0mInvalidToken\u001b[0m\u001b[1;33m\u001b[0m\u001b[1;33m\u001b[0m\u001b[0m\n\u001b[0;32m    136\u001b[0m \u001b[1;33m\u001b[0m\u001b[0m\n\u001b[1;32m--> 137\u001b[1;33m         \u001b[0mself\u001b[0m\u001b[1;33m.\u001b[0m\u001b[0m_verify_signature\u001b[0m\u001b[1;33m(\u001b[0m\u001b[0mdata\u001b[0m\u001b[1;33m)\u001b[0m\u001b[1;33m\u001b[0m\u001b[1;33m\u001b[0m\u001b[0m\n\u001b[0m\u001b[0;32m    138\u001b[0m \u001b[1;33m\u001b[0m\u001b[0m\n\u001b[0;32m    139\u001b[0m         \u001b[0miv\u001b[0m \u001b[1;33m=\u001b[0m \u001b[0mdata\u001b[0m\u001b[1;33m[\u001b[0m\u001b[1;36m9\u001b[0m\u001b[1;33m:\u001b[0m\u001b[1;36m25\u001b[0m\u001b[1;33m]\u001b[0m\u001b[1;33m\u001b[0m\u001b[1;33m\u001b[0m\u001b[0m\n",
      "\u001b[1;32m~\\AppData\\Roaming\\Python\\Python37\\site-packages\\cryptography\\fernet.py\u001b[0m in \u001b[0;36m_verify_signature\u001b[1;34m(self, data)\u001b[0m\n\u001b[0;32m    119\u001b[0m             \u001b[0mh\u001b[0m\u001b[1;33m.\u001b[0m\u001b[0mverify\u001b[0m\u001b[1;33m(\u001b[0m\u001b[0mdata\u001b[0m\u001b[1;33m[\u001b[0m\u001b[1;33m-\u001b[0m\u001b[1;36m32\u001b[0m\u001b[1;33m:\u001b[0m\u001b[1;33m]\u001b[0m\u001b[1;33m)\u001b[0m\u001b[1;33m\u001b[0m\u001b[1;33m\u001b[0m\u001b[0m\n\u001b[0;32m    120\u001b[0m         \u001b[1;32mexcept\u001b[0m \u001b[0mInvalidSignature\u001b[0m\u001b[1;33m:\u001b[0m\u001b[1;33m\u001b[0m\u001b[1;33m\u001b[0m\u001b[0m\n\u001b[1;32m--> 121\u001b[1;33m             \u001b[1;32mraise\u001b[0m \u001b[0mInvalidToken\u001b[0m\u001b[1;33m\u001b[0m\u001b[1;33m\u001b[0m\u001b[0m\n\u001b[0m\u001b[0;32m    122\u001b[0m \u001b[1;33m\u001b[0m\u001b[0m\n\u001b[0;32m    123\u001b[0m     def _decrypt_data(\n",
      "\u001b[1;31mInvalidToken\u001b[0m: "
     ]
    }
   ],
   "source": [
    "from cryptography.fernet import Fernet\n",
    "key = b'pRmgMa8T0INjEAfksaq2aafzoZXEuwKI7wDe4c1F8AY='\n",
    "cipher_suite = Fernet(key)\n",
    "with open('.res/mssqltip_bytes.bin', 'rb') as file_object:\n",
    "    for line in file_object:\n",
    "        encryptedpwd = line\n",
    "uncipher_text = (cipher_suite.decrypt(encryptedpwd))\n",
    "plain_text_encryptedpassword = bytes(uncipher_text).decode(\"utf-8\") #convert to string\n",
    "print(plain_text_encryptedpassword)"
   ]
  },
  {
   "cell_type": "code",
   "execution_count": 4,
   "metadata": {},
   "outputs": [
    {
     "output_type": "stream",
     "name": "stdout",
     "text": [
      "b'gAAAAABeagjdWQkmU12BdmX3KSP4dFulCrdWdzgqCyAkXT_K9bm9gyBdYfMJXD4ZoVPUTlfZZRrvp7KrqqXpfkGxn6EB_pMVb9nMQpxyjKojt-3-AsoAI4s='\n"
     ]
    }
   ],
   "source": [
    "with open('.res/mssqltip_bytes.bin', 'rb') as file_object:\n",
    "    for line in file_object:\n",
    "        encryptedpwd = line\n",
    "print(encryptedpwd)"
   ]
  },
  {
   "cell_type": "code",
   "execution_count": null,
   "metadata": {},
   "outputs": [],
   "source": []
  }
 ],
 "metadata": {
  "kernelspec": {
   "name": "python378jvsc74a57bd080f5c9b2991ebb56ed18c3aea41707daba99d1229ee618ace9f273f6a697dfb5",
   "display_name": "Python 3.7.8 64-bit"
  },
  "language_info": {
   "codemirror_mode": {
    "name": "ipython",
    "version": 3
   },
   "file_extension": ".py",
   "mimetype": "text/x-python",
   "name": "python",
   "nbconvert_exporter": "python",
   "pygments_lexer": "ipython3",
   "version": "3.7.8"
  }
 },
 "nbformat": 4,
 "nbformat_minor": 4
}