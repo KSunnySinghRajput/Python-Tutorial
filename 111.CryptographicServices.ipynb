{
 "cells": [
  {
   "cell_type": "markdown",
   "metadata": {},
   "source": [
    "    1. hashlib              — Secure hashes and message digests\n",
    "    2. hmac                 — Keyed-Hashing for Message Authentication\n",
    "    3. secrets              — Generate secure random numbers for managing secrets"
   ]
  },
  {
   "cell_type": "markdown",
   "metadata": {},
   "source": [
    "## 1. hashlib "
   ]
  },
  {
   "cell_type": "code",
   "execution_count": 1,
   "metadata": {},
   "outputs": [
    {
     "name": "stdout",
     "output_type": "stream",
     "text": [
      "{'sha3_512', 'sha384', 'shake_128', 'sha3_224', 'sha224', 'sha3_256', 'sha3_384', 'sha1', 'blake2s', 'md5', 'sha256', 'sha512', 'blake2b', 'shake_256'}\n",
      "{'sha3_512', 'sha384', 'shake_128', 'sha3_224', 'sha224', 'sha3_256', 'sha3_384', 'sha1', 'blake2s', 'md5', 'sha256', 'sha512', 'blake2b', 'shake_256'}\n"
     ]
    }
   ],
   "source": [
    "import hashlib\n",
    "\n",
    "print(hashlib.algorithms_available)\n",
    "print(hashlib.algorithms_guaranteed)"
   ]
  },
  {
   "cell_type": "code",
   "execution_count": 3,
   "metadata": {},
   "outputs": [
    {
     "name": "stdout",
     "output_type": "stream",
     "text": [
      "\n",
      "Example for SHA256\n",
      "Output 1 : b'\\xae[@\\xa0Z\\x02\\xca/\\xb8Y\\x86\\xdf\\x88?6a\\x8a\\xbbW\\x83\\xe7\\xec!\\x14\\x11vI\\x95\\xa3\\x9d\\xd8S'\n",
      "Output 2 : b'\\xae[@\\xa0Z\\x02\\xca/\\xb8Y\\x86\\xdf\\x88?6a\\x8a\\xbbW\\x83\\xe7\\xec!\\x14\\x11vI\\x95\\xa3\\x9d\\xd8S'\n"
     ]
    }
   ],
   "source": [
    "# initialize using sha256\n",
    "print('\\nExample for SHA256')\n",
    "m = hashlib.sha256()\n",
    "# append string one after another\n",
    "m.update(b\"This is a\")\n",
    "m.update(b\" great python tutorial.\")\n",
    "print('Output 1 :', m.digest())\n",
    "\n",
    "# use the whole string at once\n",
    "x = hashlib.sha256(b\"This is a great python tutorial.\")\n",
    "print('Output 2 :', x.digest())"
   ]
  },
  {
   "cell_type": "code",
   "execution_count": 4,
   "metadata": {},
   "outputs": [
    {
     "name": "stdout",
     "output_type": "stream",
     "text": [
      "\n",
      "Example for md5\n",
      "Output 1 : b'\\xb0\\xdd\\xeb\\xa2o}T9\\xa3\\xf1#\\x05\\x14|\\xfbp'\n",
      "Output 2 : b'\\xb0\\xdd\\xeb\\xa2o}T9\\xa3\\xf1#\\x05\\x14|\\xfbp'\n"
     ]
    }
   ],
   "source": [
    "# initialize using md5\n",
    "print('\\nExample for md5')\n",
    "m = hashlib.md5()\n",
    "# append string one after another\n",
    "m.update(b\"This is a\")\n",
    "m.update(b\" great python tutorial.\")\n",
    "print('Output 1 :', m.digest())\n",
    "\n",
    "# use the whole string at once\n",
    "x = hashlib.md5(b\"This is a great python tutorial.\")\n",
    "print('Output 2 :', x.digest())"
   ]
  },
  {
   "cell_type": "markdown",
   "metadata": {},
   "source": [
    " # 2. hmac"
   ]
  },
  {
   "cell_type": "markdown",
   "metadata": {},
   "source": [
    "## 4.Cryptography"
   ]
  },
  {
   "cell_type": "code",
   "execution_count": null,
   "metadata": {},
   "outputs": [],
   "source": []
  },
  {
   "cell_type": "code",
   "execution_count": null,
   "metadata": {},
   "outputs": [],
   "source": []
  },
  {
   "cell_type": "code",
   "execution_count": null,
   "metadata": {},
   "outputs": [],
   "source": []
  }
 ],
 "metadata": {
  "kernelspec": {
   "display_name": "Python 3",
   "language": "python",
   "name": "python3"
  },
  "language_info": {
   "codemirror_mode": {
    "name": "ipython",
    "version": 3
   },
   "file_extension": ".py",
   "mimetype": "text/x-python",
   "name": "python",
   "nbconvert_exporter": "python",
   "pygments_lexer": "ipython3",
   "version": "3.7.8"
  }
 },
 "nbformat": 4,
 "nbformat_minor": 4
}
