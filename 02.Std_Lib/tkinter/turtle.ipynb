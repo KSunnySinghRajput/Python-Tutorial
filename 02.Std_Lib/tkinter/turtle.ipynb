{
 "cells": [
  {
   "cell_type": "code",
   "execution_count": 1,
   "id": "beautiful-prescription",
   "metadata": {},
   "outputs": [],
   "source": [
    "from turtle import *\n",
    "Turtle(shape='classic', undobuffersize=1000, visible=False)\n",
    "\n",
    "forward(100)\n",
    "\n",
    "color(\"black\", \"red\")\n",
    "begin_fill()\n",
    "circle(60)\n",
    "end_fill()"
   ]
  },
  {
   "cell_type": "code",
   "execution_count": null,
   "id": "binding-knowing",
   "metadata": {},
   "outputs": [],
   "source": []
  }
 ],
 "metadata": {
  "kernelspec": {
   "display_name": "Python 3",
   "language": "python",
   "name": "python3"
  },
  "language_info": {
   "codemirror_mode": {
    "name": "ipython",
    "version": 3
   },
   "file_extension": ".py",
   "mimetype": "text/x-python",
   "name": "python",
   "nbconvert_exporter": "python",
   "pygments_lexer": "ipython3",
   "version": "3.7.8"
  }
 },
 "nbformat": 4,
 "nbformat_minor": 5
}
