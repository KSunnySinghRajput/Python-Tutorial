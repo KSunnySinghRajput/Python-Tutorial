{
 "cells": [
  {
   "cell_type": "markdown",
   "id": "complete-seventh",
   "metadata": {},
   "source": [
    "# From the top down:\n",
    "\n",
    "**Your App Here (Python)**\n",
    "A Python application makes a tkinter call.\n",
    "\n",
    "**tkinter (Python Package)**\n",
    "This call (say, for example, creating a button widget), is implemented in the tkinter package, which is written in Python. This Python function will parse the commands and the arguments and convert them into a form that makes them look as if they had come from a Tk script instead of a Python script.\n",
    "\n",
    "**_tkinter (C)**\n",
    "These commands and their arguments will be passed to a C function in the _tkinter - note the underscore - extension module.\n",
    "\n",
    "**Tk Widgets (C and Tcl)**\n",
    "This C function is able to make calls into other C modules, including the C functions that make up the Tk library. Tk is implemented in C and some Tcl. The Tcl part of the Tk widgets is used to bind certain default behaviors to widgets, and is executed once at the point where the Python tkinter package is imported. (The user never sees this stage).\n",
    "\n",
    "**Tk (C)**\n",
    "The Tk part of the Tk Widgets implement the final mapping to …\n",
    "\n",
    "**Xlib (C)**\n",
    "the Xlib library to draw graphics on the screen.\n",
    "\n",
    "class tkinter.Tk(screenName=None, baseName=None, className='Tk', useTk=1)\n",
    "The Tk class is instantiated without arguments. This creates a toplevel widget of Tk which usually is the main window of an application. Each instance has its own associated Tcl interpreter.\n",
    "\n",
    "tkinter.Tcl(screenName=None, baseName=None, className='Tk', useTk=0)\n",
    "The Tcl() function is a factory function which creates an object much like that created by the Tk class, except that it does not initialize the Tk subsystem. This is most often useful when driving the Tcl interpreter in an environment where one doesn’t want to create extraneous toplevel windows, or where one cannot (such as Unix/Linux systems without an X server). An object created by the Tcl() object can have a Toplevel window created (and the Tk subsystem initialized) by calling its loadtk() method.\n",
    "\n",
    "Other modules that provide Tk support include:\n",
    "\n",
    "**tkinter.colorchooser**\n",
    "Dialog to let the user choose a color.\n",
    "\n",
    "**tkinter.commondialog**\n",
    "Base class for the dialogs defined in the other modules listed here.\n",
    "\n",
    "**tkinter.filedialog**\n",
    "Common dialogs to allow the user to specify a file to open or save.\n",
    "\n",
    "**tkinter.font**\n",
    "Utilities to help work with fonts.\n",
    "\n",
    "**tkinter.messagebox**\n",
    "Access to standard Tk dialog boxes.\n",
    "\n",
    "**tkinter.scrolledtext**\n",
    "Text widget with a vertical scroll bar built in.\n",
    "\n",
    "**tkinter.simpledialog**\n",
    "Basic dialogs and convenience functions.\n",
    "\n",
    "**tkinter.dnd**\n",
    "Drag-and-drop support for tkinter. This is experimental and should become deprecated when it is replaced with the Tk DND.\n",
    "\n",
    "**turtle**\n",
    "Turtle graphics in a Tk window."
   ]
  },
  {
   "cell_type": "code",
   "execution_count": null,
   "id": "heard-dating",
   "metadata": {},
   "outputs": [],
   "source": []
  },
  {
   "cell_type": "markdown",
   "id": "christian-interim",
   "metadata": {},
   "source": [
    "# Python interface to Tcl/Tk"
   ]
  },
  {
   "cell_type": "code",
   "execution_count": null,
   "id": "future-classification",
   "metadata": {},
   "outputs": [],
   "source": [
    "from tkinter import *"
   ]
  },
  {
   "cell_type": "code",
   "execution_count": null,
   "id": "interested-framing",
   "metadata": {},
   "outputs": [],
   "source": [
    "#import tkinter as tk"
   ]
  },
  {
   "cell_type": "code",
   "execution_count": 1,
   "id": "eight-norfolk",
   "metadata": {},
   "outputs": [
    {
     "name": "stdout",
     "output_type": "stream",
     "text": [
      "hi there, everyone!\n",
      "hi there, everyone!\n"
     ]
    }
   ],
   "source": [
    "import tkinter as tk\n",
    "\n",
    "class Application(tk.Frame):\n",
    "    def __init__(self, master=None):\n",
    "        super().__init__(master)\n",
    "        self.master = master\n",
    "        self.pack()\n",
    "        self.create_widgets()\n",
    "\n",
    "    def create_widgets(self):\n",
    "        self.hi_there = tk.Button(self)\n",
    "        self.hi_there[\"text\"] = \"Hello World\\n(click me)\"\n",
    "        self.hi_there[\"command\"] = self.say_hi\n",
    "        self.hi_there.pack(side=\"top\")\n",
    "\n",
    "        self.quit = tk.Button(self, text=\"QUIT\", fg=\"red\",\n",
    "                              command=self.master.destroy)\n",
    "        self.quit.pack(side=\"bottom\")\n",
    "\n",
    "    def say_hi(self):\n",
    "        print(\"hi there, everyone!\")\n",
    "\n",
    "root = tk.Tk()\n",
    "app = Application(master=root)\n",
    "app.mainloop()"
   ]
  },
  {
   "cell_type": "markdown",
   "id": "administrative-mapping",
   "metadata": {},
   "source": [
    "# Setting Options"
   ]
  },
  {
   "cell_type": "code",
   "execution_count": 7,
   "id": "solar-assumption",
   "metadata": {},
   "outputs": [],
   "source": [
    "root = tk.Tk()\n",
    "#fred = tk.Button(root, fg=\"red\", bg=\"blue\")\n",
    "fred = tk.Button(root)\n",
    "fred[\"fg\"] = \"red\"\n",
    "fred[\"bg\"] = \"blue\"\n",
    "#fred.config(fg=\"red\", bg=\"blue\")\n",
    "fred.pack() \n",
    "root.mainloop()"
   ]
  },
  {
   "cell_type": "markdown",
   "id": "emerging-armstrong",
   "metadata": {},
   "source": [
    "# Packer\n",
    "\n",
    "**anchor**\n",
    "\n",
    "- Anchor type. Denotes where the packer is to place each slave in its parcel.\n",
    "\n",
    "**expand**\n",
    "\n",
    "- Boolean, 0 or 1.\n",
    "\n",
    "**fill**\n",
    "- Legal values: 'x', 'y', 'both', 'none'.\n",
    "\n",
    "**ipadx and ipady**\n",
    "\n",
    "- A distance - designating internal padding on each side of the slave widget.\n",
    "\n",
    "**padx and pady**\n",
    "\n",
    "- A distance - designating external padding on each side of the slave widget.\n",
    "\n",
    "**side**\n",
    "\n",
    "- Legal values are: 'left', 'right', 'top', 'bottom'."
   ]
  },
  {
   "cell_type": "code",
   "execution_count": null,
   "id": "amazing-wheat",
   "metadata": {},
   "outputs": [],
   "source": [
    "root = tk.Tk()\n",
    "#fred = tk.Button(root, fg=\"red\", bg=\"blue\")\n",
    "fred = tk.Button(root)\n",
    "fred[\"fg\"] = \"red\"\n",
    "fred[\"bg\"] = \"blue\"\n",
    "#fred.config(fg=\"red\", bg=\"blue\")\n",
    "fred.pack() \n",
    "root.mainloop()"
   ]
  },
  {
   "cell_type": "code",
   "execution_count": 14,
   "id": "irish-genre",
   "metadata": {},
   "outputs": [],
   "source": [
    "root = tk.Tk()\n",
    "fred = tk.Button(root)\n",
    "fred.pack()                    # defaults to side = \"top Center\"\n",
    "root.mainloop()"
   ]
  },
  {
   "cell_type": "code",
   "execution_count": 15,
   "id": "missing-reserve",
   "metadata": {},
   "outputs": [],
   "source": [
    "root = tk.Tk()\n",
    "fred = tk.Button(root)\n",
    "fred.pack(side=\"left\")         #left center\n",
    "root.mainloop()"
   ]
  },
  {
   "cell_type": "code",
   "execution_count": 16,
   "id": "engaging-poster",
   "metadata": {},
   "outputs": [],
   "source": [
    "root = tk.Tk()\n",
    "fred = tk.Button(root)\n",
    "fred.pack(expand=1)            #left center\n",
    "root.mainloop()"
   ]
  },
  {
   "cell_type": "markdown",
   "id": "radical-springfield",
   "metadata": {},
   "source": [
    "# Coupling Widget Variables"
   ]
  },
  {
   "cell_type": "code",
   "execution_count": 1,
   "id": "robust-general",
   "metadata": {},
   "outputs": [
    {
     "name": "stdout",
     "output_type": "stream",
     "text": [
      "Hi. The current entry content is: this is a va\n",
      "Hi. The current entry content is: this is a va\n",
      "Hi. The current entry content is: this is a va\n",
      "Hi. The current entry content is: this is a vaFCSD X\n",
      "Hi. The current entry content is: this is a vaFCSD X\n",
      "Hi. The current entry content is: this is a vaFCSD X\n",
      "Hi. The current entry content is: this is a vaFCSD XSDV SD\n"
     ]
    }
   ],
   "source": [
    "import tkinter as tk\n",
    "\n",
    "class App(tk.Frame):\n",
    "    def __init__(self, master):\n",
    "        super().__init__(master)\n",
    "        self.pack()\n",
    "\n",
    "        self.entrythingy = tk.Entry()\n",
    "        self.entrythingy.pack()\n",
    "\n",
    "        # Create the application variable.\n",
    "        self.contents = tk.StringVar()\n",
    "        # Set it to some value.\n",
    "        self.contents.set(\"this is a variable\")\n",
    "        # Tell the entry widget to watch this variable.\n",
    "        self.entrythingy[\"textvariable\"] = self.contents\n",
    "\n",
    "        # Define a callback for when the user hits return.\n",
    "        # It prints the current value of the variable.\n",
    "        self.entrythingy.bind('<Key-Return>',\n",
    "                             self.print_contents)\n",
    "\n",
    "    def print_contents(self, event):\n",
    "        print(\"Hi. The current entry content is:\",self.contents.get())\n",
    "\n",
    "root = tk.Tk()\n",
    "myapp = App(root)\n",
    "myapp.mainloop()"
   ]
  },
  {
   "cell_type": "markdown",
   "id": "different-inspector",
   "metadata": {},
   "source": [
    "# The Window Manager"
   ]
  },
  {
   "cell_type": "code",
   "execution_count": 19,
   "id": "promotional-shuttle",
   "metadata": {},
   "outputs": [],
   "source": [
    "import tkinter as tk\n",
    "\n",
    "class App(tk.Frame):\n",
    "    def __init__(self, master=None):\n",
    "        super().__init__(master)\n",
    "        self.pack()\n",
    "\n",
    "# create the application\n",
    "myapp = App()\n",
    "\n",
    "#\n",
    "# here are method calls to the window manager class\n",
    "#\n",
    "myapp.master.title(\"My Do-Nothing Application\")\n",
    "myapp.master.maxsize(1000, 400)\n",
    "\n",
    "# start the program\n",
    "myapp.mainloop()"
   ]
  },
  {
   "cell_type": "markdown",
   "id": "genuine-fault",
   "metadata": {},
   "source": [
    "# Tk Option Data Types"
   ]
  },
  {
   "cell_type": "code",
   "execution_count": null,
   "id": "alleged-spoke",
   "metadata": {},
   "outputs": [],
   "source": [
    "Tk Option Data Types\n",
    "anchor\n",
    "Legal values are points of the compass: \"n\", \"ne\", \"e\", \"se\", \"s\", \"sw\", \"w\", \"nw\", and also \"center\".\n",
    "\n",
    "bitmap\n",
    "There are eight built-in, named bitmaps: 'error', 'gray25', 'gray50', 'hourglass', 'info', 'questhead', 'question', 'warning'.\n",
    "    To specify an X bitmap filename, give the full path to the file, preceded with an @, as in \"@/usr/contrib/bitmap/gumby.bit\".\n",
    "\n",
    "boolean\n",
    "You can pass integers 0 or 1 or the strings \"yes\" or \"no\".\n",
    "\n",
    "callback\n",
    "This is any Python function that takes no arguments. For example:"
   ]
  },
  {
   "cell_type": "code",
   "execution_count": null,
   "id": "separated-socket",
   "metadata": {},
   "outputs": [],
   "source": [
    "def print_it():\n",
    "    print(\"hi there\")\n",
    "fred[\"command\"] = print_it"
   ]
  },
  {
   "cell_type": "code",
   "execution_count": null,
   "id": "coordinate-baghdad",
   "metadata": {},
   "outputs": [],
   "source": [
    "color\n",
    "Colors can be given as the names of X colors in the rgb.txt file, or as strings representing RGB values in 4 bit: \"#RGB\", 8 bit: \"#RRGGBB\", 12 bit” \"#RRRGGGBBB\", or 16 bit \"#RRRRGGGGBBBB\" ranges, where R,G,B here represent any legal hex digit. See page 160 of Ousterhout’s book for details.\n",
    "\n",
    "cursor\n",
    "The standard X cursor names from cursorfont.h can be used, without the XC_ prefix. For example to get a hand cursor (XC_hand2), use the string \"hand2\". You can also specify a bitmap and mask file of your own. See page 179 of Ousterhout’s book.\n",
    "\n",
    "distance\n",
    "Screen distances can be specified in either pixels or absolute distances. Pixels are given as numbers and absolute distances as strings, with the trailing character denoting units: c for centimetres, i for inches, m for millimetres, p for printer’s points. For example, 3.5 inches is expressed as \"3.5i\".\n",
    "\n",
    "font\n",
    "Tk uses a list font name format, such as {courier 10 bold}. Font sizes with positive numbers are measured in points; sizes with negative numbers are measured in pixels.\n",
    "\n",
    "geometry\n",
    "This is a string of the form widthxheight, where width and height are measured in pixels for most widgets (in characters for widgets displaying text). For example: fred[\"geometry\"] = \"200x100\".\n",
    "\n",
    "justify\n",
    "Legal values are the strings: \"left\", \"center\", \"right\", and \"fill\".\n",
    "\n",
    "region\n",
    "This is a string with four space-delimited elements, each of which is a legal distance (see above). For example: \"2 3 4 5\" and \"3i 2i 4.5i 2i\" and \"3c 2c 4c 10.43c\" are all legal regions.\n",
    "\n",
    "relief\n",
    "Determines what the border style of a widget will be. Legal values are: \"raised\", \"sunken\", \"flat\", \"groove\", and \"ridge\".\n",
    "\n",
    "scrollcommand\n",
    "This is almost always the set() method of some scrollbar widget, but can be any widget method that takes a single argument.\n",
    "\n",
    "wrap\n",
    "Must be one of: \"none\", \"char\", or \"word\"."
   ]
  },
  {
   "cell_type": "markdown",
   "id": "continental-significance",
   "metadata": {},
   "source": [
    "# Bindings and Events"
   ]
  },
  {
   "cell_type": "code",
   "execution_count": null,
   "id": "opened-edinburgh",
   "metadata": {},
   "outputs": [],
   "source": [
    "def bind(self, sequence, func, add=''):\n",
    "    pass"
   ]
  },
  {
   "cell_type": "markdown",
   "id": "nervous-software",
   "metadata": {},
   "source": [
    "<table class=\"docutils align-default\">\n",
    "    <colgroup>\n",
    "        <col style=\"width: 8%\">\n",
    "        <col style=\"width: 42%\">\n",
    "        <col style=\"width: 8%\">\n",
    "        <col style=\"width: 42%\">\n",
    "    </colgroup>\n",
    "    <thead>\n",
    "        <tr class=\"row-odd\">\n",
    "            <th class=\"head\">\n",
    "                <p>Tk</p>\n",
    "            </th>\n",
    "            <th class=\"head\">\n",
    "                <p>Tkinter Event Field</p>\n",
    "            </th>\n",
    "            <th class=\"head\">\n",
    "                <p>Tk</p>\n",
    "            </th>\n",
    "            <th class=\"head\">\n",
    "                <p>Tkinter Event Field</p>\n",
    "            </th>\n",
    "        </tr>\n",
    "    </thead>\n",
    "    <tbody>\n",
    "        <tr class=\"row-even\">\n",
    "            <td>\n",
    "                <p>%f</p>\n",
    "            </td>\n",
    "            <td>\n",
    "                <p>focus</p>\n",
    "            </td>\n",
    "            <td>\n",
    "                <p>%A</p>\n",
    "            </td>\n",
    "            <td>\n",
    "                <p>char</p>\n",
    "            </td>\n",
    "        </tr>\n",
    "        <tr class=\"row-odd\">\n",
    "            <td>\n",
    "                <p>%h</p>\n",
    "            </td>\n",
    "            <td>\n",
    "                <p>height</p>\n",
    "            </td>\n",
    "            <td>\n",
    "                <p>%E</p>\n",
    "            </td>\n",
    "            <td>\n",
    "                <p>send_event</p>\n",
    "            </td>\n",
    "        </tr>\n",
    "        <tr class=\"row-even\">\n",
    "            <td>\n",
    "                <p>%k</p>\n",
    "            </td>\n",
    "            <td>\n",
    "                <p>keycode</p>\n",
    "            </td>\n",
    "            <td>\n",
    "                <p>%K</p>\n",
    "            </td>\n",
    "            <td>\n",
    "                <p>keysym</p>\n",
    "            </td>\n",
    "        </tr>\n",
    "        <tr class=\"row-odd\">\n",
    "            <td>\n",
    "                <p>%s</p>\n",
    "            </td>\n",
    "            <td>\n",
    "                <p>state</p>\n",
    "            </td>\n",
    "            <td>\n",
    "                <p>%N</p>\n",
    "            </td>\n",
    "            <td>\n",
    "                <p>keysym_num</p>\n",
    "            </td>\n",
    "        </tr>\n",
    "        <tr class=\"row-even\">\n",
    "            <td>\n",
    "                <p>%t</p>\n",
    "            </td>\n",
    "            <td>\n",
    "                <p>time</p>\n",
    "            </td>\n",
    "            <td>\n",
    "                <p>%T</p>\n",
    "            </td>\n",
    "            <td>\n",
    "                <p>type</p>\n",
    "            </td>\n",
    "        </tr>\n",
    "        <tr class=\"row-odd\">\n",
    "            <td>\n",
    "                <p>%w</p>\n",
    "            </td>\n",
    "            <td>\n",
    "                <p>width</p>\n",
    "            </td>\n",
    "            <td>\n",
    "                <p>%W</p>\n",
    "            </td>\n",
    "            <td>\n",
    "                <p>widget</p>\n",
    "            </td>\n",
    "        </tr>\n",
    "        <tr class=\"row-even\">\n",
    "            <td>\n",
    "                <p>%x</p>\n",
    "            </td>\n",
    "            <td>\n",
    "                <p>x</p>\n",
    "            </td>\n",
    "            <td>\n",
    "                <p>%X</p>\n",
    "            </td>\n",
    "            <td>\n",
    "                <p>x_root</p>\n",
    "            </td>\n",
    "        </tr>\n",
    "        <tr class=\"row-odd\">\n",
    "            <td>\n",
    "                <p>%y</p>\n",
    "            </td>\n",
    "            <td>\n",
    "                <p>y</p>\n",
    "            </td>\n",
    "            <td>\n",
    "                <p>%Y</p>\n",
    "            </td>\n",
    "            <td>\n",
    "                <p>y_root</p>\n",
    "            </td>\n",
    "        </tr>\n",
    "    </tbody>\n",
    "</table>"
   ]
  },
  {
   "cell_type": "code",
   "execution_count": 22,
   "id": "bound-crossing",
   "metadata": {},
   "outputs": [
    {
     "ename": "AttributeError",
     "evalue": "'_tkinter.tkapp' object has no attribute 'createfilehandler'",
     "output_type": "error",
     "traceback": [
      "\u001b[1;31m--------------------------------------------------------------------\u001b[0m",
      "\u001b[1;31mAttributeError\u001b[0m                     Traceback (most recent call last)",
      "\u001b[1;32m<ipython-input-22-1412e5b1d527>\u001b[0m in \u001b[0;36m<module>\u001b[1;34m\u001b[0m\n\u001b[0;32m      2\u001b[0m \u001b[0mwidget\u001b[0m \u001b[1;33m=\u001b[0m \u001b[0mtkinter\u001b[0m\u001b[1;33m.\u001b[0m\u001b[0mTk\u001b[0m\u001b[1;33m(\u001b[0m\u001b[1;33m)\u001b[0m\u001b[1;33m\u001b[0m\u001b[1;33m\u001b[0m\u001b[0m\n\u001b[0;32m      3\u001b[0m \u001b[0mmask\u001b[0m \u001b[1;33m=\u001b[0m \u001b[0mtkinter\u001b[0m\u001b[1;33m.\u001b[0m\u001b[0mREADABLE\u001b[0m \u001b[1;33m|\u001b[0m \u001b[0mtkinter\u001b[0m\u001b[1;33m.\u001b[0m\u001b[0mWRITABLE\u001b[0m\u001b[1;33m\u001b[0m\u001b[1;33m\u001b[0m\u001b[0m\n\u001b[1;32m----> 4\u001b[1;33m \u001b[0mwidget\u001b[0m\u001b[1;33m.\u001b[0m\u001b[0mtk\u001b[0m\u001b[1;33m.\u001b[0m\u001b[0mcreatefilehandler\u001b[0m\u001b[1;33m(\u001b[0m\u001b[0mfile\u001b[0m\u001b[1;33m,\u001b[0m \u001b[0mmask\u001b[0m\u001b[1;33m,\u001b[0m \u001b[0mcallback\u001b[0m\u001b[1;33m)\u001b[0m\u001b[1;33m\u001b[0m\u001b[1;33m\u001b[0m\u001b[0m\n\u001b[0m\u001b[0;32m      5\u001b[0m \u001b[0mwidget\u001b[0m\u001b[1;33m.\u001b[0m\u001b[0mtk\u001b[0m\u001b[1;33m.\u001b[0m\u001b[0mdeletefilehandler\u001b[0m\u001b[1;33m(\u001b[0m\u001b[0mfile\u001b[0m\u001b[1;33m)\u001b[0m\u001b[1;33m\u001b[0m\u001b[1;33m\u001b[0m\u001b[0m\n",
      "\u001b[1;31mAttributeError\u001b[0m: '_tkinter.tkapp' object has no attribute 'createfilehandler'"
     ]
    }
   ],
   "source": [
    "import tkinter\n",
    "widget = tkinter.Tk()\n",
    "mask = tkinter.READABLE | tkinter.WRITABLE\n",
    "widget.tk.createfilehandler(file, mask, callback)\n",
    "\n",
    "widget.tk.deletefilehandler(file)"
   ]
  },
  {
   "cell_type": "code",
   "execution_count": null,
   "id": "instrumental-harris",
   "metadata": {},
   "outputs": [],
   "source": []
  }
 ],
 "metadata": {
  "kernelspec": {
   "display_name": "Python 3",
   "language": "python",
   "name": "python3"
  },
  "language_info": {
   "codemirror_mode": {
    "name": "ipython",
    "version": 3
   },
   "file_extension": ".py",
   "mimetype": "text/x-python",
   "name": "python",
   "nbconvert_exporter": "python",
   "pygments_lexer": "ipython3",
   "version": "3.7.8"
  }
 },
 "nbformat": 4,
 "nbformat_minor": 5
}
