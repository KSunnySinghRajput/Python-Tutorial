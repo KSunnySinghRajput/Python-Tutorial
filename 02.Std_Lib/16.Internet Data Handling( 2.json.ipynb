{
 "cells": [
  {
   "cell_type": "code",
   "execution_count": null,
   "metadata": {},
   "outputs": [],
   "source": [
    "import json\n",
    "a=json.dumps(['foo', {'bar': ('baz', None, 1.0, 2)}])\n",
    "print(json.dumps(\"\\\"foo\\bar\"))\n",
    "print(json.dumps('\\u1234'))\n",
    "print(json.dumps('\\\\'))\n",
    "print(json.dumps({\"c\": 0, \"b\": 0, \"a\": 0}, sort_keys=True))     #{\"a\": 0, \"b\": 0, \"c\": 0}\n",
    "\n",
    "from io import StringIO\n",
    "io = StringIO()\n",
    "json.dump(['streaming API'], io)\n",
    "print(io.getvalue())\n",
    "\n",
    "\n",
    "#Compact encoding::\n",
    "from collections import OrderedDict\n",
    "mydict = OrderedDict([('4', 5), ('6', 7)])\n",
    "print(json.dumps([1,2,3,mydict], separators=(',', ':')))\n",
    "\n",
    "\n",
    "#Pretty printing::\n",
    "print(json.dumps({'4': 5, '6': 7}, sort_keys=True, indent=7))\n",
    "\n",
    "#Decoding JSON::\n",
    "obj = ['foo', {'bar': ['baz', None, 1.0, 2]}]\n",
    "print(json.loads('[\"foo\", {\"bar\":[\"baz\", null, 1.0, 2]}]') == obj)         #True\n",
    "print(json.loads('\"\\\\\"foo\\\\bar\"') == '\"foo\\x08ar')             #True\n",
    "\n",
    "from io import StringIO\n",
    "io = StringIO('[\"streaming API\"]')\n",
    "print(json.load(io)[0] == 'streaming API')     #True\n",
    "\n",
    "\n",
    "#Specializing JSON object encoding::\n",
    " \n",
    "def encode_complex(obj):\n",
    "         if isinstance(obj, complex):\n",
    "             return [obj.real, obj.imag]\n",
    "         raise TypeError(repr(o) + \" is not JSON serializable\")\n",
    "    \n",
    "print(json.dumps(2 + 1j, default=encode_complex))\n",
    "    #'[2.0, 1.0]'\n",
    "print(json.JSONEncoder(default=encode_complex).encode(2 + 1j))\n",
    "    #'[2.0, 1.0]'\n",
    "print(''.join(json.JSONEncoder(default=encode_complex).iterencode(2 + 1j)))\n",
    "    #'[2.0, 1.0]'"
   ]
  }
 ],
 "metadata": {
  "kernelspec": {
   "display_name": "Python 3",
   "language": "python",
   "name": "python3"
  },
  "language_info": {
   "codemirror_mode": {
    "name": "ipython",
    "version": 3
   },
   "file_extension": ".py",
   "mimetype": "text/x-python",
   "name": "python",
   "nbconvert_exporter": "python",
   "pygments_lexer": "ipython3",
   "version": "3.7.8"
  }
 },
 "nbformat": 4,
 "nbformat_minor": 4
}