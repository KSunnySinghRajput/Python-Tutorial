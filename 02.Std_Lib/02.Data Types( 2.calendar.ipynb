{
 "cells": [
  {
   "cell_type": "code",
   "execution_count": 1,
   "metadata": {},
   "outputs": [],
   "source": [
    "import calendar\n",
    "calendar.setfirstweekday(calendar.SUNDAY)\n"
   ]
  },
  {
   "cell_type": "code",
   "execution_count": 2,
   "metadata": {},
   "outputs": [],
   "source": [
    "class CustomHTMLCal(calendar.HTMLCalendar):\n",
    "    cssclasses = [style + \" text-nowrap\" for style in\n",
    "                  calendar.HTMLCalendar.cssclasses]\n",
    "    cssclass_month_head = \"text-center month-head\"\n",
    "    cssclass_month = \"text-center month\"\n",
    "    cssclass_year = \"text-italic lead\""
   ]
  },
  {
   "cell_type": "code",
   "execution_count": null,
   "metadata": {},
   "outputs": [],
   "source": []
  }
 ],
 "metadata": {
  "kernelspec": {
   "display_name": "Python 3",
   "language": "python",
   "name": "python3"
  },
  "language_info": {
   "codemirror_mode": {
    "name": "ipython",
    "version": 3
   },
   "file_extension": ".py",
   "mimetype": "text/x-python",
   "name": "python",
   "nbconvert_exporter": "python",
   "pygments_lexer": "ipython3",
   "version": "3.7.8"
  }
 },
 "nbformat": 4,
 "nbformat_minor": 4
}
