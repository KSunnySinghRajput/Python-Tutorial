{
 "cells": [
  {
   "cell_type": "code",
   "execution_count": 7,
   "id": "nuclear-trail",
   "metadata": {},
   "outputs": [
    {
     "name": "stdout",
     "output_type": "stream",
     "text": [
      "TK Version  :  8.6\n",
      "TCL Version :  8.6\n"
     ]
    }
   ],
   "source": [
    "try:    \n",
    "    # python 3.x\n",
    "    from tkinter import *\n",
    "    from tkinter.ttk import *\n",
    "    import tkinter  as tkinter\n",
    "    from  tkinter import (  messagebox,\n",
    "                            colorchooser, \n",
    "                            commondialog, \n",
    "                          \n",
    "                            dnd\n",
    "                            filedialog,\n",
    "                            font, \n",
    "    messagebox, scrolledtext ,simpledialog,   )  \n",
    "\n",
    "    # from tkinter import Tk , BOTH, Botton\n",
    "    # from tkinter.ttk import Frame, Label, Style\n",
    "    \n",
    "except ImportError:        \n",
    "    # python 2.x\n",
    "    from Tkinter import *\n",
    "    import Tkinter  as tk\n",
    "    \n",
    "        \n",
    "print(\"TK Version  : \" , tk.TkVersion)\n",
    "print(\"TCL Version : \" , tk.TclVersion)\n",
    "from PIL import Image, ImageTk\n",
    " "
   ]
  },
  {
   "cell_type": "markdown",
   "id": "searching-vacation",
   "metadata": {},
   "source": [
    "**commondialog.py**"
   ]
  },
  {
   "cell_type": "code",
   "execution_count": 11,
   "id": "anticipated-thought",
   "metadata": {},
   "outputs": [],
   "source": [
    "from tkinter import *\n",
    "\n",
    "class Dialog:\n",
    "\n",
    "    command  = None\n",
    "\n",
    "    def __init__(self, master=None, **options):\n",
    "        self.master  = master\n",
    "        self.options = options\n",
    "        if not master and options.get('parent'):\n",
    "            self.master = options['parent']\n",
    "\n",
    "    def _fixoptions(self):\n",
    "        pass # hook\n",
    "\n",
    "    def _fixresult(self, widget, result):\n",
    "        return result # hook\n",
    "\n",
    "    def show(self, **options):\n",
    "\n",
    "        # update instance options\n",
    "        for k, v in options.items():\n",
    "            self.options[k] = v\n",
    "\n",
    "        self._fixoptions()\n",
    "\n",
    "        # we need a dummy widget to properly process the options\n",
    "        # (at least as long as we use Tkinter 1.63)\n",
    "        w = Frame(self.master)\n",
    "\n",
    "        try:\n",
    "\n",
    "            s = w.tk.call(self.command, *w._options(self.options))\n",
    "\n",
    "            s = self._fixresult(w, s)\n",
    "\n",
    "        finally:\n",
    "\n",
    "            try:\n",
    "                # get rid of the widget\n",
    "                w.destroy()\n",
    "            except:\n",
    "                pass\n",
    "\n",
    "        return s\n"
   ]
  },
  {
   "cell_type": "code",
   "execution_count": null,
   "id": "important-smile",
   "metadata": {},
   "outputs": [],
   "source": []
  }
 ],
 "metadata": {
  "kernelspec": {
   "display_name": "Python 3",
   "language": "python",
   "name": "python3"
  },
  "language_info": {
   "codemirror_mode": {
    "name": "ipython",
    "version": 3
   },
   "file_extension": ".py",
   "mimetype": "text/x-python",
   "name": "python",
   "nbconvert_exporter": "python",
   "pygments_lexer": "ipython3",
   "version": "3.7.8"
  }
 },
 "nbformat": 4,
 "nbformat_minor": 5
}
