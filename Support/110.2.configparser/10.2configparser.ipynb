{
 "cells": [
  {
   "cell_type": "code",
   "execution_count": 1,
   "id": "casual-envelope",
   "metadata": {},
   "outputs": [],
   "source": [
    "import configparser"
   ]
  },
  {
   "cell_type": "markdown",
   "id": "dependent-monitoring",
   "metadata": {},
   "source": [
    "**Demo**"
   ]
  },
  {
   "cell_type": "raw",
   "id": "incorporated-calendar",
   "metadata": {},
   "source": [
    "[DEFAULT]\n",
    "serveraliveinterval = 45\n",
    "compression = yes\n",
    "compressionlevel = 9\n",
    "forwardx11 = yes\n",
    "\n",
    "[bitbucket.org]\n",
    "user = hg\n",
    "\n",
    "[topsecret.server.com]\n",
    "port = 50022\n",
    "forwardx11 = no\n",
    "\n"
   ]
  },
  {
   "cell_type": "code",
   "execution_count": null,
   "id": "objective-clearance",
   "metadata": {},
   "outputs": [],
   "source": [
    "config_write = configparser.ConfigParser()"
   ]
  },
  {
   "cell_type": "markdown",
   "id": "viral-belly",
   "metadata": {},
   "source": [
    "**Create.ini**"
   ]
  },
  {
   "cell_type": "code",
   "execution_count": null,
   "id": "artistic-elite",
   "metadata": {},
   "outputs": [],
   "source": [
    "config_write['DEFAULT'] = {'ServerAliveInterval': '45',\n",
    "                     'Compression': 'yes',\n",
    "                     'CompressionLevel': '9'}"
   ]
  },
  {
   "cell_type": "code",
   "execution_count": null,
   "id": "downtown-efficiency",
   "metadata": {},
   "outputs": [],
   "source": [
    "config_write['bitbucket.org'] = {}"
   ]
  },
  {
   "cell_type": "code",
   "execution_count": null,
   "id": "mobile-phoenix",
   "metadata": {},
   "outputs": [],
   "source": [
    "config_write['bitbucket.org']['User'] = 'hg'"
   ]
  },
  {
   "cell_type": "code",
   "execution_count": null,
   "id": "manufactured-survivor",
   "metadata": {},
   "outputs": [],
   "source": [
    "config_write['topsecret.server.com'] = {}"
   ]
  },
  {
   "cell_type": "code",
   "execution_count": null,
   "id": "descending-ottawa",
   "metadata": {},
   "outputs": [],
   "source": [
    "topsecret = config_write['topsecret.server.com']"
   ]
  },
  {
   "cell_type": "code",
   "execution_count": null,
   "id": "successful-limitation",
   "metadata": {},
   "outputs": [],
   "source": [
    "topsecret['Port'] = '50022'"
   ]
  },
  {
   "cell_type": "code",
   "execution_count": null,
   "id": "intended-webcam",
   "metadata": {},
   "outputs": [],
   "source": [
    "topsecret['ForwardX11'] = 'no'"
   ]
  },
  {
   "cell_type": "code",
   "execution_count": null,
   "id": "major-saying",
   "metadata": {},
   "outputs": [],
   "source": [
    "config_write['DEFAULT']['ForwardX11'] = 'yes'"
   ]
  },
  {
   "cell_type": "code",
   "execution_count": null,
   "id": "supreme-setting",
   "metadata": {},
   "outputs": [],
   "source": [
    "with open('setting.ini', 'w') as configfile:\n",
    "    config_write.write(configfile)"
   ]
  },
  {
   "cell_type": "markdown",
   "id": "successful-forum",
   "metadata": {},
   "source": [
    "**Read.ini**"
   ]
  },
  {
   "cell_type": "code",
   "execution_count": 19,
   "id": "dated-trader",
   "metadata": {},
   "outputs": [
    {
     "data": {
      "text/plain": [
       "['setting.ini']"
      ]
     },
     "execution_count": 19,
     "metadata": {},
     "output_type": "execute_result"
    }
   ],
   "source": [
    "configRead= configparser.ConfigParser()\n",
    "configRead.read('setting.ini')"
   ]
  },
  {
   "cell_type": "code",
   "execution_count": 23,
   "id": "korean-diana",
   "metadata": {},
   "outputs": [
    {
     "data": {
      "text/plain": [
       "<Section: DEFAULT>"
      ]
     },
     "execution_count": 23,
     "metadata": {},
     "output_type": "execute_result"
    }
   ],
   "source": [
    "configRead['DEFAULT']"
   ]
  },
  {
   "cell_type": "code",
   "execution_count": 22,
   "id": "rational-rochester",
   "metadata": {},
   "outputs": [
    {
     "data": {
      "text/plain": [
       "['bitbucket.org', 'topsecret.server.com']"
      ]
     },
     "execution_count": 22,
     "metadata": {},
     "output_type": "execute_result"
    }
   ],
   "source": [
    "configRead.sections()"
   ]
  },
  {
   "cell_type": "code",
   "execution_count": 26,
   "id": "departmental-lindsay",
   "metadata": {},
   "outputs": [
    {
     "data": {
      "text/plain": [
       "True"
      ]
     },
     "execution_count": 26,
     "metadata": {},
     "output_type": "execute_result"
    }
   ],
   "source": [
    "'bitbucket.org' in configRead"
   ]
  },
  {
   "cell_type": "code",
   "execution_count": 27,
   "id": "native-colombia",
   "metadata": {},
   "outputs": [
    {
     "data": {
      "text/plain": [
       "False"
      ]
     },
     "execution_count": 27,
     "metadata": {},
     "output_type": "execute_result"
    }
   ],
   "source": [
    "'bytebong.com' in configRead"
   ]
  },
  {
   "cell_type": "code",
   "execution_count": 29,
   "id": "faced-fossil",
   "metadata": {},
   "outputs": [
    {
     "data": {
      "text/plain": [
       "'yes'"
      ]
     },
     "execution_count": 29,
     "metadata": {},
     "output_type": "execute_result"
    }
   ],
   "source": [
    "configRead['DEFAULT']['Compression']"
   ]
  },
  {
   "cell_type": "code",
   "execution_count": 30,
   "id": "level-conservation",
   "metadata": {},
   "outputs": [],
   "source": [
    "configRead['topsecret.server.com']"
   ]
  },
  {
   "cell_type": "code",
   "execution_count": 31,
   "id": "reasonable-idaho",
   "metadata": {},
   "outputs": [
    {
     "name": "stdout",
     "output_type": "stream",
     "text": [
      "user\n",
      "serveraliveinterval\n",
      "compression\n",
      "compressionlevel\n",
      "forwardx11\n"
     ]
    }
   ],
   "source": [
    "for key in configRead['bitbucket.org']:  \n",
    "    print(key)"
   ]
  },
  {
   "cell_type": "code",
   "execution_count": null,
   "id": "affecting-difficulty",
   "metadata": {},
   "outputs": [],
   "source": []
  },
  {
   "cell_type": "code",
   "execution_count": null,
   "id": "protective-latino",
   "metadata": {},
   "outputs": [],
   "source": []
  },
  {
   "cell_type": "code",
   "execution_count": null,
   "id": "intelligent-specialist",
   "metadata": {},
   "outputs": [],
   "source": []
  }
 ],
 "metadata": {
  "kernelspec": {
   "display_name": "Python 3",
   "language": "python",
   "name": "python3"
  },
  "language_info": {
   "codemirror_mode": {
    "name": "ipython",
    "version": 3
   },
   "file_extension": ".py",
   "mimetype": "text/x-python",
   "name": "python",
   "nbconvert_exporter": "python",
   "pygments_lexer": "ipython3",
   "version": "3.7.8"
  }
 },
 "nbformat": 4,
 "nbformat_minor": 5
}
