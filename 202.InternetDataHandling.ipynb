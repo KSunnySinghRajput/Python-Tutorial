{
 "cells": [
  {
   "cell_type": "markdown",
   "metadata": {},
   "source": [
    "    1. email                — An email and MIME handling package\n",
    "    2. json                 — JSON encoder and decoder\n",
    "    3. mailcap              — Mailcap file handling\n",
    "    4. mailbox              — Manipulate mailboxes in various formats\n",
    "    5. mimetypes            — Map filenames to MIME types\n",
    "    6. base64               — Base16, Base32, Base64, Base85 Data Encodings\n",
    "    7. binhex               — Encode and decode binhex4 files\n",
    "    8. binascii             — Convert between binary and ASCII\n",
    "    9. quopri               — Encode and decode MIME quoted-printable data\n",
    "    10. uu                  — Encode and decode uuencode files"
   ]
  },
  {
   "cell_type": "code",
   "execution_count": null,
   "metadata": {},
   "outputs": [],
   "source": []
  }
 ],
 "metadata": {
  "kernelspec": {
   "display_name": "Python 3",
   "language": "python",
   "name": "python3"
  },
  "language_info": {
   "codemirror_mode": {
    "name": "ipython",
    "version": 3
   },
   "file_extension": ".py",
   "mimetype": "text/x-python",
   "name": "python",
   "nbconvert_exporter": "python",
   "pygments_lexer": "ipython3",
   "version": "3.7.8"
  }
 },
 "nbformat": 4,
 "nbformat_minor": 4
}
