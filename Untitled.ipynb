{
 "cells": [
  {
   "cell_type": "code",
   "execution_count": 2,
   "id": "fatal-lecture",
   "metadata": {},
   "outputs": [],
   "source": [
    "import tkinter as tk\n",
    "from tk_html_widgets import HTMLLabel\n",
    "\n",
    "root = tk.Tk()\n",
    "html_label = HTMLLabel(root, html='<h1 style=\"color: red; text-align: center\"> Hello World </H1>')\n",
    "html_label.pack(fill=\"both\", expand=True)\n",
    "html_label.fit_height()\n",
    "root.mainloop()"
   ]
  },
  {
   "cell_type": "code",
   "execution_count": null,
   "id": "joint-dynamics",
   "metadata": {},
   "outputs": [],
   "source": []
  }
 ],
 "metadata": {
  "kernelspec": {
   "display_name": "Python 3",
   "language": "python",
   "name": "python3"
  },
  "language_info": {
   "codemirror_mode": {
    "name": "ipython",
    "version": 3
   },
   "file_extension": ".py",
   "mimetype": "text/x-python",
   "name": "python",
   "nbconvert_exporter": "python",
   "pygments_lexer": "ipython3",
   "version": "3.7.8"
  }
 },
 "nbformat": 4,
 "nbformat_minor": 5
}
