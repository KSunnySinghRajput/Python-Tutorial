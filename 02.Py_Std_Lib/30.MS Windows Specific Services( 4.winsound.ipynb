{
 "cells": [
  {
   "cell_type": "code",
   "execution_count": 1,
   "metadata": {},
   "outputs": [],
   "source": [
    "import winsound\n",
    "# Play Windows exit sound.\n",
    "winsound.PlaySound(\"SystemExit\", winsound.SND_ALIAS)"
   ]
  },
  {
   "cell_type": "code",
   "execution_count": 2,
   "metadata": {},
   "outputs": [],
   "source": [
    "# Probably play Windows default sound, if any is registered (because\n",
    "# \"*\" probably isn't the registered name of any sound).\n",
    "winsound.PlaySound(\"*\", winsound.SND_ALIAS)"
   ]
  },
  {
   "cell_type": "raw",
   "metadata": {},
   "source": [
    "'SystemAsterisk' Asterisk\n",
    "\n",
    "'SystemExclamation' Exclamation\n",
    "\n",
    "'SystemExit' Exit Windows\n",
    "\n",
    "'SystemHand' Critical Stop\n",
    "\n",
    "'SystemQuestion' Question"
   ]
  },
  {
   "cell_type": "code",
   "execution_count": null,
   "metadata": {},
   "outputs": [],
   "source": [
    "#winsound.Beep(freq, dur)\n",
    "winsound.Beep(200, 5000)"
   ]
  },
  {
   "cell_type": "code",
   "execution_count": null,
   "metadata": {},
   "outputs": [],
   "source": [
    "# winsound.PlaySound('filename', flag) \n",
    "winsound.PlaySound(\"Winsound//around_the_world.wav\", winsound.SND_FILENAME)"
   ]
  },
  {
   "cell_type": "raw",
   "metadata": {},
   "source": [
    "FLAGS       \tDESCRIPTION\n",
    "SND_FILENAME\tThe sound parameter is the name of a WAV file.\n",
    "SND_LOOP    \tPlay the sound repeatedly\n",
    "SND_MEMORY  \tThe sound parameter to PlaySound() is a memory image of a WAV file, as a bytes-like object.\n",
    "SND_ASYNC   \tReturn immediately, allowing sounds to play asynchronously.\n",
    "SND_NODEFAULT\tIf the specified sound cannot be found, do not play the system default sound.\n",
    "SND_NOSTOP  \tDo not interrupt sounds currently playing."
   ]
  },
  {
   "cell_type": "code",
   "execution_count": null,
   "metadata": {},
   "outputs": [],
   "source": []
  },
  {
   "cell_type": "code",
   "execution_count": null,
   "metadata": {},
   "outputs": [],
   "source": []
  }
 ],
 "metadata": {
  "kernelspec": {
   "display_name": "Python 3",
   "language": "python",
   "name": "python3"
  },
  "language_info": {
   "codemirror_mode": {
    "name": "ipython",
    "version": 3
   },
   "file_extension": ".py",
   "mimetype": "text/x-python",
   "name": "python",
   "nbconvert_exporter": "python",
   "pygments_lexer": "ipython3",
   "version": "3.7.8"
  }
 },
 "nbformat": 4,
 "nbformat_minor": 4
}
