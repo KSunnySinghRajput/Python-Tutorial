{
 "cells": [
  {
   "cell_type": "markdown",
   "metadata": {},
   "source": [
    "    1. webbrowser           — Convenient Web-browser controller\n",
    "    2. cgi                  — Common Gateway Interface support\n",
    "    3. cgitb                — Traceback manager for CGI scripts\n",
    "    4. wsgiref              — WSGI Utilities and Reference Implementation\n",
    "    5. urllib               — URL handling modules\n",
    "    6. urllib.request       — Extensible library for opening URLs\n",
    "    7. urllib.response      — Response classes used by urllib\n",
    "    8. urllib.parse         — Parse URLs into components\n",
    "    9. urllib.error         — Exception classes raised by urllib.request\n",
    "    10. urllib.robotparser  — Parser for robots.txt\n",
    "    11. http                — HTTP modules\n",
    "    12. http.client         — HTTP protocol client\n",
    "    13. ftplib              — FTP protocol client\n",
    "    14. poplib              — POP3 protocol client\n",
    "    15. imaplib             — IMAP4 protocol client\n",
    "    16. nntplib             — NNTP protocol client\n",
    "    17. smtplib             — SMTP protocol client\n",
    "    18. smtpd               — SMTP Server\n",
    "    19. telnetlib           — Telnet client\n",
    "    20. uuid                — UUID objects according to RFC 4122\n",
    "    21. socketserver        — A framework for network servers\n",
    "    22. http.server         — HTTP servers\n",
    "    23. http.cookies        — HTTP state management\n",
    "    24. http.cookiejar      — Cookie handling for HTTP clients\n",
    "    25. xmlrpc              — XMLRPC server and client modules\n",
    "    26. xmlrpc.client       — XML-RPC client access\n",
    "    27. xmlrpc.server       — Basic XML-RPC servers\n",
    "    29. ipaddress           — IPv4/IPv6 manipulation library"
   ]
  },
  {
   "cell_type": "code",
   "execution_count": 1,
   "metadata": {},
   "outputs": [],
   "source": [
    "import http \n",
    "import http.client"
   ]
  },
  {
   "cell_type": "code",
   "execution_count": 2,
   "metadata": {},
   "outputs": [
    {
     "name": "stdout",
     "output_type": "stream",
     "text": [
      "<http.client.HTTPConnection object at 0x0000023F24B7D388>\n"
     ]
    }
   ],
   "source": [
    "connection = http.client.HTTPConnection('www.python.org', 80, timeout=10)\n",
    "print(connection)"
   ]
  },
  {
   "cell_type": "code",
   "execution_count": 15,
   "metadata": {},
   "outputs": [
    {
     "name": "stdout",
     "output_type": "stream",
     "text": [
      "True\n",
      "200\n",
      "OK\n",
      "Request fulfilled, document follows\n"
     ]
    }
   ],
   "source": [
    "print (http.HTTPStatus.OK == 200)\n",
    "print (http.HTTPStatus.OK.value)\n",
    "print (http.HTTPStatus.OK.phrase)\n",
    "print (http.HTTPStatus.OK.description)"
   ]
  },
  {
   "cell_type": "code",
   "execution_count": 14,
   "metadata": {},
   "outputs": [],
   "source": [
    "#HTTPStatus = list(http.HTTPStatus)"
   ]
  },
  {
   "cell_type": "markdown",
   "metadata": {},
   "source": [
    "    Code        Enum Name                       Details      \n",
    "    \n",
    "    100         CONTINUE                        HTTP/1.1 RFC 7231, Section 6.2.1            \n",
    "    101         SWITCHING_PROTOCOLS             HTTP/1.1 RFC 7231, Section 6.2.2\n",
    "    102         PROCESSING                      WebDAV RFC 2518, Section 10.1\n",
    "    200         OK                              HTTP/1.1 RFC 7231, Section 6.3.1\n",
    "    201         CREATED                         HTTP/1.1 RFC 7231, Section 6.3.2\n",
    "    202         ACCEPTED                        HTTP/1.1 RFC 7231, Section 6.3.3\n",
    "    203         NON_AUTHORITATIVE_INFORMATION   HTTP/1.1 RFC 7231, Section 6.3.4\n",
    "    204         NO_CONTENT                      HTTP/1.1 RFC 7231, Section 6.3.5\n",
    "    205         RESET_CONTENT                   HTTP/1.1 RFC 7231, Section 6.3.6\n",
    "    206         PARTIAL_CONTENT                 HTTP/1.1 RFC 7233, Section 4.1\n",
    "    207         MULTI_STATUS                    WebDAV RFC 4918, Section 11.1\n",
    "    208         ALREADY_REPORTED                WebDAV Binding Extensions RFC 5842, Section 7.1 (Experimental)\n",
    "    226         IM_USED                         Delta Encoding in HTTP RFC 3229, Section 10.4.1\n",
    "    300         MULTIPLE_CHOICES                HTTP/1.1 RFC 7231, Section 6.4.1\n",
    "    301         MOVED_PERMANENTLY               HTTP/1.1 RFC 7231, Section 6.4.2\n",
    "    302         FOUND                           HTTP/1.1 RFC 7231, Section 6.4.3\n",
    "    303         SEE_OTHER                       HTTP/1.1 RFC 7231, Section 6.4.4\n",
    "    304         NOT_MODIFIED                    HTTP/1.1 RFC 7232, Section 4.1\n",
    "    305         USE_PROXY                       HTTP/1.1 RFC 7231, Section 6.4.5\n",
    "    307         TEMPORARY_REDIRECT              HTTP/1.1 RFC 7231, Section 6.4.7\n",
    "    308         PERMANENT_REDIRECT              Permanent Redirect RFC 7238, Section 3 (Experimental)\n",
    "    400         BAD_REQUEST                     HTTP/1.1 RFC 7231, Section 6.5.1\n",
    "    401         UNAUTHORIZED                    HTTP/1.1 Authentication RFC 7235, Section 3.1\n",
    "    402         PAYMENT_REQUIRED                HTTP/1.1 RFC 7231, Section 6.5.2\n",
    "    403         FORBIDDEN                       HTTP/1.1 RFC 7231, Section 6.5.3\n",
    "    404         NOT_FOUND                       HTTP/1.1 RFC 7231, Section 6.5.4\n",
    "    405         METHOD_NOT_ALLOWED              HTTP/1.1 RFC 7231, Section 6.5.5\n",
    "    406         NOT_ACCEPTABLE                  HTTP/1.1 RFC 7231, Section 6.5.6\n",
    "    407         PROXY_AUTHENTICATION_REQUIRED   HTTP/1.1 Authentication RFC 7235, Section 3.2\n",
    "    408         REQUEST_TIMEOUT                 HTTP/1.1 RFC 7231, Section 6.5.7\n",
    "    409         CONFLICT                        HTTP/1.1 RFC 7231, Section 6.5.8\n",
    "    410         GONE                            HTTP/1.1 RFC 7231, Section 6.5.9\n",
    "    411         LENGTH_REQUIRED                 HTTP/1.1 RFC 7231, Section 6.5.10\n",
    "    412         PRECONDITION_FAILED             HTTP/1.1 RFC 7232, Section 4.2\n",
    "    413         REQUEST_ENTITY_TOO_LARGE        HTTP/1.1 RFC 7231, Section 6.5.11\n",
    "    414         REQUEST_URI_TOO_LONG            HTTP/1.1 RFC 7231, Section 6.5.12\n",
    "    415         UNSUPPORTED_MEDIA_TYPE          HTTP/1.1 RFC 7231, Section 6.5.13\n",
    "    416         REQUESTED_RANGE_NOT_SATISFIABLE HTTP/1.1 Range Requests RFC 7233, Section 4.4\n",
    "    417         EXPECTATION_FAILED              HTTP/1.1 RFC 7231, Section 6.5.14\n",
    "    421         MISDIRECTED_REQUEST             HTTP/2 RFC 7540, Section 9.1.2\n",
    "    422         UNPROCESSABLE_ENTITY            WebDAV RFC 4918, Section 11.2\n",
    "    423         LOCKED                          WebDAV RFC 4918, Section 11.3\n",
    "    424         FAILED_DEPENDENCY               WebDAV RFC 4918, Section 11.4\n",
    "    426         UPGRADE_REQUIRED                HTTP/1.1 RFC 7231, Section 6.5.15\n",
    "    428         PRECONDITION_REQUIRED           Additiona   HTTP Status Codes RFC 6585\n",
    "    429         TOO_MANY_REQUESTS               Additiona   HTTP Status Codes RFC 6585\n",
    "    431         REQUEST_HEADER_FIELDS_TOO_LARGE Additiona   HTTP Status Codes RFC 6585\n",
    "    451         UNAVAILABLE_FOR_LEGAL_REASONS   A   HTTP Status Code to Report Legal Obstacles RFC 7725\n",
    "    500         INTERNAL_SERVER_ERROR           HTTP/1.1 RFC 7231, Section 6.6.1\n",
    "    501         NOT_IMPLEMENTED                 HTTP/1.1 RFC 7231, Section 6.6.2\n",
    "    502         BAD_GATEWAY                     HTTP/1.1 RFC 7231, Section 6.6.3\n",
    "    503         SERVICE_UNAVAILABLE             HTTP/1.1 RFC 7231, Section 6.6.4\n",
    "    504         GATEWAY_TIMEOUT                 HTTP/1.1 RFC 7231, Section 6.6.5        \n",
    "    505         HTTP_VERSION_NOT_SUPPORTED      HTTP/1.1 RFC 7231, Section 6.6.6\n",
    "    506         VARIANT_ALSO_NEGOTIATES         Transparent Content Negotiation i   \n",
    "                                                HTTP RFC 2295, Section 8.1 (Experimental)\n",
    "                                                \n",
    "    507         INSUFFICIENT_STORAGE            WebDAV RFC 4918, Section 11.5\n",
    "    508         LOOP_DETECTED                   WebDAV Binding Extensions RFC 5842, Section 7.2 (Experimental)\n",
    "    510         NOT_EXTENDED                    A   HTTP Extension Framework RFC 2774, Section 7 (Experimental)\n",
    "    511         NETWORK_AUTHENTICATION_REQUIRED         Additiona   HTTP Status Codes RFC 6585, Section 6\n"
   ]
  },
  {
   "cell_type": "code",
   "execution_count": 17,
   "metadata": {},
   "outputs": [
    {
     "name": "stdout",
     "output_type": "stream",
     "text": [
      "\n",
      "<!DOCTYPE html>\n",
      "<html lang=en>\n",
      "  <meta charset=utf-8>\n",
      "  <meta name=viewport content=\"initial-scale=1, minimum-scale=1, width=device-width\">\n",
      "  <title>Error 405 (Method Not Allowed)!!1</title>\n",
      "  <style>\n",
      "    *{margin:0;padding:0}html,code{font:15px/22px arial,sans-serif}html{background:#fff;color:#222;padding:15px}body{margin:7% auto 0;max-width:390px;min-height:180px;padding:30px 0 15px}* > body{background:url(//www.google.com/images/errors/robot.png) 100% 5px no-repeat;padding-right:205px}p{margin:11px 0 22px;overflow:hidden}ins{color:#777;text-decoration:none}a img{border:0}@media screen and (max-width:772px){body{background:none;margin-top:0;max-width:none;padding-right:0}}#logo{background:url(//www.google.com/images/logos/errorpage/error_logo-150x54.png) no-repeat;margin-left:-5px}@media only screen and (min-resolution:192dpi){#logo{background:url(//www.google.com/images/logos/errorpage/error_logo-150x54-2x.png) no-repeat 0% 0%/100% 100%;-moz-border-image:url(//www.google.com/images/logos/errorpage/error_logo-150x54-2x.png) 0}}@media only screen and (-webkit-min-device-pixel-ratio:2){#logo{background:url(//www.google.com/images/logos/errorpage/error_logo-150x54-2x.png) no-repeat;-webkit-background-size:100% 100%}}#logo{display:inline-block;height:54px;width:150px}\n",
      "  </style>\n",
      "  <a href=//www.google.com/><span id=logo aria-label=Google></span></a>\n",
      "  <p><b>405.</b> <ins>That’s an error.</ins>\n",
      "  <p>  <ins>That’s all we know.</ins>\n",
      "\n"
     ]
    }
   ],
   "source": [
    "import requests\n",
    "pload = {'username':'Olivia','password':'123'}\n",
    "#r = requests.post('https://httpbin.org/post',data = pload)\n",
    "r = requests.post('https://colab.research.google.com/')\n",
    "\n",
    "#print(r.http)\n",
    "\n",
    "print(r.text)\n"
   ]
  },
  {
   "cell_type": "code",
   "execution_count": null,
   "metadata": {},
   "outputs": [],
   "source": []
  }
 ],
 "metadata": {
  "kernelspec": {
   "display_name": "Python 3",
   "language": "python",
   "name": "python3"
  },
  "language_info": {
   "codemirror_mode": {
    "name": "ipython",
    "version": 3
   },
   "file_extension": ".py",
   "mimetype": "text/x-python",
   "name": "python",
   "nbconvert_exporter": "python",
   "pygments_lexer": "ipython3",
   "version": "3.7.8"
  }
 },
 "nbformat": 4,
 "nbformat_minor": 4
}
