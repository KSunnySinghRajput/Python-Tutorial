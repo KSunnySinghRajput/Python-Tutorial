{
 "cells": [
  {
   "cell_type": "markdown",
   "metadata": {},
   "source": [
    "    2. configparser         — Configuration file parser\n",
    "    3. netrc                — netrc file processing\n",
    "    4. xdrlib               — Encode and decode XDR data\n",
    "    5. plistlib             — Generate and parse Mac OS X .plist files"
   ]
  },
  {
   "cell_type": "code",
   "execution_count": 1,
   "metadata": {},
   "outputs": [],
   "source": [
    "import configparser"
   ]
  },
  {
   "cell_type": "markdown",
   "metadata": {},
   "source": [
    "**Demo**"
   ]
  },
  {
   "cell_type": "raw",
   "metadata": {},
   "source": [
    "[DEFAULT]\n",
    "serveraliveinterval = 45\n",
    "compression = yes\n",
    "compressionlevel = 9\n",
    "forwardx11 = yes\n",
    "\n",
    "[bitbucket.org]\n",
    "user = hg\n",
    "\n",
    "[topsecret.server.com]\n",
    "port = 50022\n",
    "forwardx11 = no\n"
   ]
  },
  {
   "cell_type": "markdown",
   "metadata": {},
   "source": [
    "**Create.ini**"
   ]
  },
  {
   "cell_type": "code",
   "execution_count": 3,
   "metadata": {},
   "outputs": [],
   "source": [
    "config_write = configparser.ConfigParser()\n",
    "config_write['DEFAULT'] = {'ServerAliveInterval': '45',\n",
    "                     'Compression': 'yes',\n",
    "                     'CompressionLevel': '9'}\n",
    "\n",
    "config_write['bitbucket.org'] = {}\n",
    "\n",
    "config_write['bitbucket.org']['User'] = 'hg'\n",
    "\n",
    "config_write['topsecret.server.com'] = {}\n",
    "\n",
    "topsecret = config_write['topsecret.server.com']\n",
    "\n",
    "topsecret['Port'] = '50022'\n",
    "\n",
    "topsecret['ForwardX11'] = 'no'\n",
    "\n",
    "config_write['DEFAULT']['ForwardX11'] = 'yes'\n",
    "\n",
    "with open('.res/setting.ini', 'w') as configfile:\n",
    "    config_write.write(configfile)"
   ]
  },
  {
   "cell_type": "markdown",
   "metadata": {},
   "source": [
    "**Read.ini**"
   ]
  },
  {
   "cell_type": "code",
   "execution_count": 4,
   "metadata": {},
   "outputs": [
    {
     "name": "stdout",
     "output_type": "stream",
     "text": [
      "user\n",
      "serveraliveinterval\n",
      "compression\n",
      "compressionlevel\n",
      "forwardx11\n"
     ]
    }
   ],
   "source": [
    "configRead= configparser.ConfigParser()\n",
    "configRead.read('.res/setting.ini')\n",
    "\n",
    "configRead['DEFAULT']\n",
    "\n",
    "configRead.sections()\n",
    "\n",
    "'bitbucket.org' in configRead\n",
    "\n",
    "'bytebong.com' in configRead\n",
    "\n",
    "configRead['DEFAULT']['Compression']\n",
    "\n",
    "configRead['topsecret.server.com']\n",
    "\n",
    "for key in configRead['bitbucket.org']:  \n",
    "    print(key)"
   ]
  },
  {
   "cell_type": "code",
   "execution_count": null,
   "metadata": {},
   "outputs": [],
   "source": []
  }
 ],
 "metadata": {
  "kernelspec": {
   "display_name": "Python 3",
   "language": "python",
   "name": "python3"
  },
  "language_info": {
   "codemirror_mode": {
    "name": "ipython",
    "version": 3
   },
   "file_extension": ".py",
   "mimetype": "text/x-python",
   "name": "python",
   "nbconvert_exporter": "python",
   "pygments_lexer": "ipython3",
   "version": "3.7.8"
  }
 },
 "nbformat": 4,
 "nbformat_minor": 4
}
