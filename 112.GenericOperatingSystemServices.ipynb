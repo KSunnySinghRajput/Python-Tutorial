{
 "cells": [
  {
   "cell_type": "markdown",
   "metadata": {},
   "source": [
    "    1. os                   — Miscellaneous operating system interfaces\n",
    "    2. io                   — Core tools for working with streams\n",
    "    3. time                 — Time access and conversions\n",
    "    4. argparse             — Parser for command-line options, arguments and sub-commands\n",
    "    5. getopt               — C-style parser for command line options\n",
    "    6. logging              — Logging facility for Python\n",
    "    7. logging.config       — Logging configuration\n",
    "    8. logging.handlers     — Logging handlers\n",
    "    9. getpass              — Portable password input\n",
    "    10. curses              — Terminal handling for character-cell displays\n",
    "    11. curses.textpad      — Text input widget for curses programs\n",
    "    12. curses.ascii        — Utilities for ASCII characters\n",
    "    13. curses.panel        — A panel stack extension for curses\n",
    "    14. platform            — Access to underlying platform’s identifying data\n",
    "    15. errno               — Standard errno system symbols\n",
    "    16. ctypes              — A foreign function library for Python\n",
    "    "
   ]
  },
  {
   "cell_type": "code",
   "execution_count": null,
   "metadata": {},
   "outputs": [],
   "source": [
    "import os"
   ]
  },
  {
   "cell_type": "code",
   "execution_count": null,
   "metadata": {},
   "outputs": [],
   "source": [
    "help(os)"
   ]
  },
  {
   "cell_type": "code",
   "execution_count": null,
   "metadata": {},
   "outputs": [],
   "source": [
    "os.name"
   ]
  },
  {
   "cell_type": "code",
   "execution_count": null,
   "metadata": {},
   "outputs": [],
   "source": [
    "os.curdir"
   ]
  },
  {
   "cell_type": "code",
   "execution_count": null,
   "metadata": {},
   "outputs": [],
   "source": [
    "os.pardir"
   ]
  },
  {
   "cell_type": "code",
   "execution_count": null,
   "metadata": {},
   "outputs": [],
   "source": [
    "os.sep"
   ]
  },
  {
   "cell_type": "code",
   "execution_count": null,
   "metadata": {},
   "outputs": [],
   "source": [
    "os.extsep"
   ]
  },
  {
   "cell_type": "code",
   "execution_count": null,
   "metadata": {},
   "outputs": [],
   "source": [
    "os.altsep"
   ]
  },
  {
   "cell_type": "code",
   "execution_count": null,
   "metadata": {},
   "outputs": [],
   "source": [
    "os.pathsep"
   ]
  },
  {
   "cell_type": "code",
   "execution_count": null,
   "metadata": {},
   "outputs": [],
   "source": [
    "os.linesep"
   ]
  },
  {
   "cell_type": "code",
   "execution_count": null,
   "metadata": {},
   "outputs": [],
   "source": [
    "os.defpath"
   ]
  },
  {
   "cell_type": "code",
   "execution_count": null,
   "metadata": {},
   "outputs": [],
   "source": [
    "os.devnull"
   ]
  },
  {
   "cell_type": "markdown",
   "metadata": {},
   "source": [
    "[os.path](107.FileAndDirectoryAccess.ipynb)"
   ]
  },
  {
   "cell_type": "code",
   "execution_count": null,
   "metadata": {},
   "outputs": [],
   "source": [
    "import os\n",
    "print(os.getcwd())          # Return the current working directory\n",
    "#os.chdir()                 # Change current working directory\n",
    "#os.system('mkdir today')   # Run the command mkdir in the system shell\n",
    "entries = os.listdir('e:/')\n",
    "for entry in entries:\n",
    "     print(entry)\n",
    "entries = os.scandir('e:/')\n",
    "print(entries)\n"
   ]
  },
  {
   "cell_type": "code",
   "execution_count": null,
   "metadata": {},
   "outputs": [],
   "source": [
    "#os.environ[\"PATH\"].replace(os.pathsep+os.pathsep, os.pathsep).split(os.pathsep)"
   ]
  },
  {
   "cell_type": "code",
   "execution_count": null,
   "metadata": {},
   "outputs": [],
   "source": [
    "#Example  : os.name,os.environ,os.curdir,os.access"
   ]
  },
  {
   "cell_type": "code",
   "execution_count": null,
   "metadata": {},
   "outputs": [],
   "source": [
    "import os\n",
    "\n",
    "def which(program):\n",
    "    if os.name == \"nt\" and not program.endswith(\".exe\"):\n",
    "        program += \".exe\"\n",
    "    envdir_list = [os.curdir] + os.environ[\"PATH\"].split(os.pathsep)\n",
    "    \n",
    "    path=[]\n",
    "    for envdir in envdir_list:\n",
    "        program_path = os.path.join(envdir, program)\n",
    "        if os.path.isfile(program_path) and os.access(program_path, os.X_OK):\n",
    "            path.append(program_path)\n",
    "            \n",
    "    if (len(path)):\n",
    "        return path\n",
    "    else:\n",
    "        print('No File exist!!!!')"
   ]
  },
  {
   "cell_type": "code",
   "execution_count": null,
   "metadata": {},
   "outputs": [],
   "source": [
    "a=which('python')\n",
    "print(\"All Path : -\",a)\n",
    "a[0]"
   ]
  },
  {
   "cell_type": "code",
   "execution_count": null,
   "metadata": {},
   "outputs": [],
   "source": []
  },
  {
   "cell_type": "code",
   "execution_count": null,
   "metadata": {},
   "outputs": [],
   "source": []
  },
  {
   "cell_type": "code",
   "execution_count": null,
   "metadata": {},
   "outputs": [],
   "source": []
  },
  {
   "cell_type": "code",
   "execution_count": null,
   "metadata": {},
   "outputs": [],
   "source": [
    "import os\n",
    "\n",
    "os.name\n",
    "\n",
    "os.environ\n",
    "\n",
    "os.chdir(path)\n",
    "os.fchdir(fd)\n",
    "os.getcwd()\n",
    "\n",
    "### Unix\n",
    "- **os.ctermid()**   Return the filename corresponding to the controlling terminal of the process.\n",
    "\n",
    "import os\n",
    "def which(program):\n",
    "    \"\"\"\n",
    "    Mimics behavior of UNIX which command.\n",
    "    \"\"\"\n",
    "    # Add .exe program extension for windows support\n",
    "    if os.name == \"nt\" and not program.endswith(\".exe\"):\n",
    "        program += \".exe\"\n",
    "\n",
    "    envdir_list = [os.curdir] + os.environ[\"PATH\"].split(os.pathsep)\n",
    "\n",
    "    for envdir in envdir_list:\n",
    "        program_path = os.path.join(envdir, program)\n",
    "        if os.path.isfile(program_path) and os.access(program_path, os.X_OK):\n",
    "            return program_path\n",
    "        else:\n",
    "            print(\"program file path set\")\n",
    "\n",
    "def add_path(path):   \n",
    "    os.environ[\"PATH\"]=os.environ[\"PATH\"].replace(\";;\", \";\")\n",
    "    envdir_list = [os.curdir] + os.environ[\"PATH\"].split(os.pathsep)\n",
    "    if path in envdir_list:\n",
    "        pass\n",
    "        print(\"exist\")\n",
    "    else:\n",
    "        if os.path.exists(path):\n",
    "            os.environ[\"PATH\"]+=os.pathsep+os.path.normcase(path) \n",
    "            print(\"enter\")\n",
    "\n",
    "from pathlib import Path\n",
    "Path(\"source_data/text_files/\")\n",
    "\n",
    "from pathlib import Path, PureWindowsPath\n",
    "\n",
    "PureWindowsPath(\"source_data\\\\text_files\")\n",
    "\n",
    "# ur\n",
    "\n",
    "PureWindowsPath('c:/Program Files')\n",
    "\n",
    "\n",
    "url='http://localhost:8888/notebooks/Notebook/os.ipynb'\n",
    "url\n",
    "\n",
    "print('/')\n",
    "\n",
    "print('//')\n",
    "\n",
    "# path\n",
    "\n",
    "print('E:\\\\#WorkSpace\\\\Artificial_Intelligence\\\\Notebook\\\\Proceesing\\\\NLP\\\\img')\n",
    "\n",
    "\n",
    "#'\\' escape key\n",
    "#print('\\')  \n",
    "\n",
    "print('\\\\')\n",
    "\n",
    "path=\"P:\\python\\t\\temp.txt\"\n",
    "os.path.normcase(path) \n",
    "\n",
    "p=Path('source_data//text_files')\n",
    "str(p)"
   ]
  },
  {
   "cell_type": "markdown",
   "metadata": {},
   "source": [
    "## 3. time"
   ]
  },
  {
   "cell_type": "code",
   "execution_count": null,
   "metadata": {},
   "outputs": [],
   "source": [
    "import time\n",
    " \n",
    "def sleeper():\n",
    "    while True:\n",
    "        # Get user input\n",
    "        num = input('How long to wait: ')\n",
    " \n",
    "        # Try to convert it to a float\n",
    "        try:\n",
    "            num = float(num)\n",
    "        except ValueError:\n",
    "            print('Please enter in a number.\\n')\n",
    "            continue\n",
    " \n",
    "        # Run our time.sleep() command,\n",
    "        # and show the before and after time\n",
    "        print('Before: %s' % time.ctime())\n",
    "        time.sleep(num)\n",
    "        print('After: %s\\n' % time.ctime())\n",
    " \n",
    " \n",
    "# try:\n",
    "#     sleeper()\n",
    "# except KeyboardInterrupt:\n",
    "#     print('\\n\\nKeyboard exception received. Exiting.')\n",
    "#     exit()\n"
   ]
  },
  {
   "cell_type": "code",
   "execution_count": null,
   "metadata": {},
   "outputs": [],
   "source": [
    "import time\n",
    "\n",
    "# initial = time.time()       #time() is a function under time module it retures tic(meanse second)\n",
    "# # print(initial)\n",
    "# t = 0\n",
    "# while(t<20):\n",
    "#     print(\"This is example of time\")\n",
    "#     time.sleep(.5)\n",
    "#     t=t+1\n",
    "# print(\"The execution time of while loop is\", time.time() - initial, \"seconds\")\n",
    "#\n",
    "# initial2 = time.time()\n",
    "# for i in range (20):\n",
    "#     print(\"This is example of time\")\n",
    "#     time.sleep(.5)\n",
    "# print(\"The execution time of for loop is\", time.time() - initial2, \"seconds\")\n",
    "\n",
    "#------------------------------------------------------------------------\n",
    "\n",
    "localtime = time.asctime(time.localtime(time.time()))\n",
    "print(localtime)\n",
    "\n",
    "#time.time() - returns tic. It calculate time from an old time\n",
    "#time.localtime - returns local time\n",
    "#time.asctime - returns time in presentable format\n"
   ]
  },
  {
   "cell_type": "code",
   "execution_count": null,
   "metadata": {},
   "outputs": [],
   "source": []
  },
  {
   "cell_type": "markdown",
   "metadata": {},
   "source": [
    "\n",
    "## 4. [argparse](112.4.Argparse) "
   ]
  },
  {
   "cell_type": "markdown",
   "metadata": {},
   "source": [
    "## 16. [ctypes]() "
   ]
  },
  {
   "cell_type": "code",
   "execution_count": null,
   "metadata": {},
   "outputs": [],
   "source": []
  }
 ],
 "metadata": {
  "kernelspec": {
   "display_name": "Python 3",
   "language": "python",
   "name": "python3"
  },
  "language_info": {
   "codemirror_mode": {
    "name": "ipython",
    "version": 3
   },
   "file_extension": ".py",
   "mimetype": "text/x-python",
   "name": "python",
   "nbconvert_exporter": "python",
   "pygments_lexer": "ipython3",
   "version": "3.7.8"
  }
 },
 "nbformat": 4,
 "nbformat_minor": 4
}
