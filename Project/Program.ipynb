{
 "cells": [
  {
   "cell_type": "markdown",
   "id": "ab83ce1b",
   "metadata": {},
   "source": [
    "## if/elif/else"
   ]
  },
  {
   "cell_type": "code",
   "execution_count": 9,
   "id": "7d59c4f4",
   "metadata": {},
   "outputs": [
    {
     "name": "stdout",
     "output_type": "stream",
     "text": [
      "Enter No : 25\n",
      "Odd No.\n"
     ]
    }
   ],
   "source": [
    "n=int(input(\"Enter No : \"))\n",
    "\n",
    "if n%2==0:\n",
    "    print('Even No.')\n",
    "    \n",
    "else:\n",
    "    print('Odd No.')"
   ]
  },
  {
   "cell_type": "markdown",
   "id": "fb8b2038",
   "metadata": {},
   "source": [
    "## while"
   ]
  },
  {
   "cell_type": "code",
   "execution_count": null,
   "id": "247c9a03",
   "metadata": {},
   "outputs": [],
   "source": [
    "\n",
    "\n",
    "sdgfsdh\n",
    "dfhgf\n"
   ]
  },
  {
   "cell_type": "markdown",
   "id": "eee4529d",
   "metadata": {},
   "source": [
    "## for"
   ]
  },
  {
   "cell_type": "code",
   "execution_count": null,
   "id": "d97783de",
   "metadata": {},
   "outputs": [],
   "source": [
    "iter \n",
    "str\n",
    "list\n",
    "tuple\n",
    "dict\n",
    "set\n",
    "range"
   ]
  },
  {
   "cell_type": "code",
   "execution_count": 7,
   "id": "d717fd50",
   "metadata": {},
   "outputs": [
    {
     "name": "stdout",
     "output_type": "stream",
     "text": [
      "hello\n",
      "helll1\n"
     ]
    }
   ],
   "source": [
    "str1 = {'hello':1,\"helll1\":2}\n",
    "for i in str1 :\n",
    "    print(i)"
   ]
  },
  {
   "cell_type": "code",
   "execution_count": 6,
   "id": "a283dabb",
   "metadata": {},
   "outputs": [
    {
     "name": "stdout",
     "output_type": "stream",
     "text": [
      "2\n",
      "4\n",
      "6\n",
      "8\n",
      "10\n",
      "12\n",
      "14\n",
      "16\n",
      "18\n"
     ]
    }
   ],
   "source": [
    "for i in range(2,20,2):\n",
    "    print(i)"
   ]
  },
  {
   "cell_type": "code",
   "execution_count": 8,
   "id": "f99f1aee",
   "metadata": {},
   "outputs": [
    {
     "name": "stdout",
     "output_type": "stream",
     "text": [
      "0    0\n",
      "0    1\n",
      "0    2\n",
      "0    3\n",
      "0    4\n",
      "1    0\n",
      "1    1\n",
      "1    2\n",
      "1    3\n",
      "1    4\n",
      "2    0\n",
      "2    1\n",
      "2    2\n",
      "2    3\n",
      "2    4\n",
      "3    0\n",
      "3    1\n",
      "3    2\n",
      "3    3\n",
      "3    4\n",
      "4    0\n",
      "4    1\n",
      "4    2\n",
      "4    3\n",
      "4    4\n"
     ]
    }
   ],
   "source": [
    "for i in range(5):\n",
    "    for j in range(5):\n",
    "        print(i,\"  \",j)"
   ]
  },
  {
   "cell_type": "code",
   "execution_count": 31,
   "id": "f432121e",
   "metadata": {},
   "outputs": [
    {
     "name": "stdout",
     "output_type": "stream",
     "text": [
      "* * * * * \n",
      "* * * * * \n",
      "* * * * * \n",
      "* * * * * \n",
      "* * * * * \n"
     ]
    }
   ],
   "source": [
    "for j in range(5): \n",
    "    for i in range(5):\n",
    "        print('*',end=' ')\n",
    "    print('')   "
   ]
  },
  {
   "cell_type": "code",
   "execution_count": 35,
   "id": "89a2d9ee",
   "metadata": {},
   "outputs": [
    {
     "data": {
      "text/plain": [
       "[]"
      ]
     },
     "execution_count": 35,
     "metadata": {},
     "output_type": "execute_result"
    }
   ],
   "source": [
    "list(range(0))"
   ]
  },
  {
   "cell_type": "code",
   "execution_count": 33,
   "id": "79e278c8",
   "metadata": {},
   "outputs": [
    {
     "name": "stdout",
     "output_type": "stream",
     "text": [
      "* \n",
      "* * \n",
      "* * * \n",
      "* * * * \n",
      "* * * * * \n"
     ]
    }
   ],
   "source": [
    "for j in range(5): \n",
    "    for i in range(j+1):\n",
    "        print('*',end=' ')\n",
    "    print('')   "
   ]
  },
  {
   "cell_type": "code",
   "execution_count": 36,
   "id": "124e4fd0",
   "metadata": {},
   "outputs": [
    {
     "name": "stdout",
     "output_type": "stream",
     "text": [
      "* * * * * \n",
      "* * * * \n",
      "* * * \n",
      "* * \n",
      "* \n"
     ]
    }
   ],
   "source": [
    "for j in range(5): \n",
    "    for i in range(5-j):\n",
    "        print('*',end=' ')\n",
    "    print('') "
   ]
  },
  {
   "cell_type": "markdown",
   "id": "9d047410",
   "metadata": {},
   "source": [
    "\n",
    "||0|1|2|3|4|\n",
    "|:-:|:-:|:-:|:-:|:-:|:-:|\n",
    "|0| * | * | * | * | * |\n",
    "|1|  | * | * | * | * |\n",
    "|2|  |  | * | * | * |\n",
    "|3|  |  |  | * | * |\n",
    "|4|  |  |  |  | * |\n"
   ]
  },
  {
   "cell_type": "code",
   "execution_count": 38,
   "id": "c331128f",
   "metadata": {},
   "outputs": [
    {
     "name": "stdout",
     "output_type": "stream",
     "text": [
      "* * * * * \n",
      "  * * * * \n",
      "    * * * \n",
      "      * * \n",
      "        * \n"
     ]
    }
   ],
   "source": [
    "for j in range(5): \n",
    "    for i in range(j):\n",
    "        print(' ',end=' ')\n",
    "        \n",
    "    for k in range(5-j):\n",
    "        print('*',end=' ')\n",
    "        \n",
    "    print('') "
   ]
  },
  {
   "cell_type": "markdown",
   "id": "24e00827",
   "metadata": {},
   "source": [
    "\n",
    "||0|1|2|3|4|\n",
    "|:-:|:-:|:-:|:-:|:-:|:-:|\n",
    "|0|  |  |  |  | * |\n",
    "|1|  | |  | * | * |\n",
    "|2|  |  | * | * | * |\n",
    "|3|  | * | * | * | * |\n",
    "|4| * | * | * | * | * |\n"
   ]
  },
  {
   "cell_type": "code",
   "execution_count": 41,
   "id": "c63bf28c",
   "metadata": {},
   "outputs": [
    {
     "name": "stdout",
     "output_type": "stream",
     "text": [
      "        * \n",
      "      * * \n",
      "    * * * \n",
      "  * * * * \n",
      "* * * * * \n"
     ]
    }
   ],
   "source": [
    "for j in range(5): \n",
    "    for i in range(5-j-1):\n",
    "        print(' ',end=' ')\n",
    "        \n",
    "    for k in range(j+1):\n",
    "        print('*',end=' ')\n",
    "        \n",
    "    print('') "
   ]
  },
  {
   "cell_type": "markdown",
   "id": "4dccadeb",
   "metadata": {},
   "source": [
    "\n",
    "||0|1|2|3|4|\n",
    "|:-:|:-:|:-:|:-:|:-:|:-:|\n",
    "|0| * | * | * | * | * |\n",
    "|1| * | * | * | * |  |\n",
    "|2| * | * | * |  |  |\n",
    "|3| * | * |  |  |  |\n",
    "|4| * |  |  |  |  |\n"
   ]
  },
  {
   "cell_type": "markdown",
   "id": "572f3285",
   "metadata": {},
   "source": [
    "\n",
    "||0|1|2|3|4|\n",
    "|:-:|:-:|:-:|:-:|:-:|:-:|\n",
    "|0| * |  |  |  |  |  \n",
    "|1| * | * |  |  |  |\n",
    "|2| * | * | * |  |  |\n",
    "|3| * | * | * | * |  |\n",
    "|4| * | * | * | * | * |\n",
    "\n",
    "\n",
    "\n"
   ]
  },
  {
   "cell_type": "code",
   "execution_count": 21,
   "id": "1fb89e43",
   "metadata": {},
   "outputs": [
    {
     "name": "stdout",
     "output_type": "stream",
     "text": [
      "\n",
      "0 \n",
      "0 1 \n",
      "0 1 2 \n",
      "0 1 2 3 \n"
     ]
    }
   ],
   "source": [
    "for i in range(5):\n",
    "    for j in range(i):\n",
    "        print(j, end=' ')\n",
    "    print('')"
   ]
  },
  {
   "cell_type": "code",
   "execution_count": null,
   "id": "dd4a1892",
   "metadata": {},
   "outputs": [],
   "source": [
    "for j in range(5): \n",
    "    for i in range(5-j):\n",
    "        print('*',end=' ')\n",
    "    print('')\n"
   ]
  },
  {
   "cell_type": "markdown",
   "id": "c49f751f",
   "metadata": {},
   "source": [
    "|   |0  |1  |2  |3  | 4 | 5 | 6 | 7 | 8 |\n",
    "|:-:|:-:|:-:|:-:|:-:|:-:|:-:|:-:|:-:|:-:|\n",
    "|0  | * | * | * | * | * | * | * | * | * |\n",
    "|1  | * | * | * | * |   | * | * | * | * | \n",
    "|2  | * | * | * |   |   |   | * | * | * | \n",
    "|3  | * | * |   |   |   |   |   | * | * |\n",
    "|4  | * |   |   |   |   |   |   |   | * | "
   ]
  },
  {
   "cell_type": "markdown",
   "id": "1ea26f75",
   "metadata": {},
   "source": [
    "## pass"
   ]
  },
  {
   "cell_type": "code",
   "execution_count": 43,
   "id": "d481a730",
   "metadata": {},
   "outputs": [],
   "source": [
    "for j in range(5): \n",
    "    pass"
   ]
  },
  {
   "cell_type": "markdown",
   "id": "5c3d6636",
   "metadata": {},
   "source": [
    "## continue"
   ]
  },
  {
   "cell_type": "code",
   "execution_count": 44,
   "id": "87629752",
   "metadata": {},
   "outputs": [
    {
     "name": "stdout",
     "output_type": "stream",
     "text": [
      "0\n",
      "1\n",
      "2\n",
      "3\n",
      "4\n",
      "6\n",
      "7\n",
      "8\n",
      "9\n",
      "10\n",
      "11\n",
      "12\n",
      "13\n",
      "14\n",
      "15\n",
      "16\n",
      "17\n",
      "18\n",
      "19\n"
     ]
    }
   ],
   "source": [
    "for j in range(20): \n",
    "    if j == 5:\n",
    "        continue\n",
    "    print(j)"
   ]
  },
  {
   "cell_type": "markdown",
   "id": "b2cfaef2",
   "metadata": {},
   "source": [
    "## break"
   ]
  },
  {
   "cell_type": "code",
   "execution_count": 47,
   "id": "30fe2f2b",
   "metadata": {},
   "outputs": [
    {
     "name": "stdout",
     "output_type": "stream",
     "text": [
      "0\n",
      "1\n",
      "2\n",
      "3\n",
      "4\n"
     ]
    }
   ],
   "source": [
    "for j in range(20): \n",
    "    if j == 5:\n",
    "        break\n",
    "    print(j)"
   ]
  },
  {
   "cell_type": "code",
   "execution_count": 46,
   "id": "d7e28e77",
   "metadata": {},
   "outputs": [
    {
     "name": "stdout",
     "output_type": "stream",
     "text": [
      "1\n",
      "2\n",
      "3\n",
      "4\n",
      "5\n"
     ]
    }
   ],
   "source": [
    "j = 0\n",
    "while True: \n",
    "    if j == 5:\n",
    "        break\n",
    "    j +=1\n",
    "    print(j)"
   ]
  },
  {
   "cell_type": "code",
   "execution_count": null,
   "id": "9c78c31f",
   "metadata": {},
   "outputs": [],
   "source": []
  }
 ],
 "metadata": {
  "kernelspec": {
   "display_name": "Python 3",
   "language": "python",
   "name": "python3"
  },
  "language_info": {
   "codemirror_mode": {
    "name": "ipython",
    "version": 3
   },
   "file_extension": ".py",
   "mimetype": "text/x-python",
   "name": "python",
   "nbconvert_exporter": "python",
   "pygments_lexer": "ipython3",
   "version": "3.7.10"
  }
 },
 "nbformat": 4,
 "nbformat_minor": 5
}
