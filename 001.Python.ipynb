{
 "cells": [
  {
   "cell_type": "markdown",
   "metadata": {},
   "source": [
    "# Python"
   ]
  },
  {
   "cell_type": "markdown",
   "metadata": {},
   "source": [
    "- foundation in the late 1980s.\n",
    "- The implementation of Python was started in December 1989 by Guido Van Rossum at CWI in Netherland.\n",
    "- In February 1991, Guido Van Rossum published the code (labeled version 0.9.0) to alt.sources.\n",
    "- In 1994, Python 1.0 was released with new features like lambda, map, filter, and reduce.\n",
    "- Python 2.0 added new features such as list comprehensions, garbage collection systems.\n",
    "- On December 3, 2008, Python 3.0 (also called \"Py3K\") was released. It was designed to rectify the fundamental flaw of the language.\n",
    "- ABC programming language is said to be the predecessor of Python language, which was capable of Exception Handling and interfacing with the Amoeba Operating System.\n",
    "- The following programming languages influence Python:\n",
    "    ABC language.\n",
    "    Modula-3"
   ]
  },
  {
   "cell_type": "markdown",
   "metadata": {},
   "source": [
    "**1.Keywords**\n",
    "\n",
    "||||||\n",
    "|:---|:---|:---|:----|:----|\n",
    "|True|False|None|and|as|\n",
    "|asset|def|class|continue|break|\n",
    "|else|finally|elif|del|except|\n",
    "|global|for|if|from|import|\n",
    "|raise|try|or|return|pass|\n",
    "|nonlocal|in|not|is|lambda|"
   ]
  },
  {
   "cell_type": "markdown",
   "metadata": {},
   "source": [
    "**2. Comment**"
   ]
  },
  {
   "cell_type": "code",
   "execution_count": 1,
   "metadata": {},
   "outputs": [],
   "source": [
    "# single line comment"
   ]
  },
  {
   "cell_type": "code",
   "execution_count": 2,
   "metadata": {
    "scrolled": true
   },
   "outputs": [
    {
     "data": {
      "text/plain": [
       "'\"\"\\nmultiple line comment\\nmultiple line comment\\nmultiple line comment\\n'"
      ]
     },
     "execution_count": 2,
     "metadata": {},
     "output_type": "execute_result"
    }
   ],
   "source": [
    "\"\"\"\"\"\n",
    "multiple line comment\n",
    "multiple line comment\n",
    "multiple line comment\n",
    "\"\"\"\"\""
   ]
  },
  {
   "cell_type": "markdown",
   "metadata": {},
   "source": [
    "**2. Datatype**"
   ]
  },
  {
   "cell_type": "markdown",
   "metadata": {},
   "source": [
    "<code>Datatype : \n",
    "            numerical : int, float, complex.  \n",
    "            interable : list, tuple, set, dict, str\n",
    "</code>\n",
    "\n",
    "<code >\n",
    "    1. None Type                     : None\n",
    "    2. Boolean type                  : bool\n",
    "    2. Numeric types                 : int, float, complex\n",
    "    3. Iterator\n",
    "         a. Sequence Types           : list, tuple, range\n",
    "         b. Text Sequence Type       : str\n",
    "         c. Binary Sequence Types    : bytes, bytearray, memoryview\n",
    "    4. Set Types                     : set, frozenset\n",
    "    5. Mapping Types                 : dictS\n",
    "       \n",
    "</code>"
   ]
  },
  {
   "cell_type": "code",
   "execution_count": 3,
   "metadata": {},
   "outputs": [],
   "source": [
    "a=None                                          #None\n",
    "b=True                                          #bool \n",
    "c=10                                            #int\n",
    "d=10.5                                          #float\n",
    "e=2.0 + 2.3j                                    #complex\n",
    "f= [1, \"hi\", \"python\", 2]                       #list\n",
    "g=(\"hi\", \"python\", 2)                           #tuple\n",
    "h={1:'Jimmy', 2:'Alex', 3:'john', 4:'mike'}     #dict\n",
    "i={'Friday', 'Tuesday', 'Monday', 'Saturday'}   #set\n",
    "j=\"Hi Python\"                                   #str"
   ]
  },
  {
   "cell_type": "markdown",
   "metadata": {},
   "source": [
    "**3. input()**"
   ]
  },
  {
   "cell_type": "code",
   "execution_count": 4,
   "metadata": {},
   "outputs": [
    {
     "name": "stdout",
     "output_type": "stream",
     "text": [
      "Enter : \n"
     ]
    },
    {
     "data": {
      "text/plain": [
       "''"
      ]
     },
     "execution_count": 4,
     "metadata": {},
     "output_type": "execute_result"
    }
   ],
   "source": [
    "input(\"Enter : \")   #return Type Str"
   ]
  },
  {
   "cell_type": "markdown",
   "metadata": {},
   "source": [
    "**4. print()**\n",
    "\n",
    "    print(value, ..., sep=' ', end='\\n', file=sys.stdout, flush=False)"
   ]
  },
  {
   "cell_type": "code",
   "execution_count": 5,
   "metadata": {},
   "outputs": [],
   "source": [
    "#help(print)"
   ]
  },
  {
   "cell_type": "code",
   "execution_count": 6,
   "metadata": {},
   "outputs": [
    {
     "name": "stdout",
     "output_type": "stream",
     "text": [
      "\u0007\n"
     ]
    }
   ],
   "source": [
    "# Rings bells                       \\a  \n",
    "print(\"\\a\")"
   ]
  },
  {
   "cell_type": "code",
   "execution_count": 7,
   "metadata": {},
   "outputs": [
    {
     "name": "stdout",
     "output_type": "stream",
     "text": [
      "Hello\f",
      "World\n"
     ]
    }
   ],
   "source": [
    "# Print from feed Charecter        \\f\n",
    "print(\"Hello\\fWorld\")"
   ]
  },
  {
   "cell_type": "code",
   "execution_count": 8,
   "metadata": {},
   "outputs": [
    {
     "name": "stdout",
     "output_type": "stream",
     "text": [
      "Hello\n",
      "World\n"
     ]
    }
   ],
   "source": [
    "# Print newline Charecter          \\n\n",
    "print(\"Hello\\nWorld\")"
   ]
  },
  {
   "cell_type": "code",
   "execution_count": 9,
   "metadata": {},
   "outputs": [
    {
     "name": "stdout",
     "output_type": "stream",
     "text": [
      "Hello\tWorld\n"
     ]
    }
   ],
   "source": [
    "# print a tab                      \\t\n",
    "print(\"Hello\\tWorld\")"
   ]
  },
  {
   "cell_type": "code",
   "execution_count": 10,
   "metadata": {},
   "outputs": [
    {
     "name": "stdout",
     "output_type": "stream",
     "text": [
      "Hello\bWorld\n"
     ]
    }
   ],
   "source": [
    "print(\"Hello\\bWorld\")"
   ]
  },
  {
   "cell_type": "code",
   "execution_count": 11,
   "metadata": {},
   "outputs": [
    {
     "name": "stdout",
     "output_type": "stream",
     "text": [
      "This is first program: of Comment, Escape Sequences & Print\n"
     ]
    }
   ],
   "source": [
    "print(\"This is first program:\", end=\" \")\n",
    "print(\"of Comment, Escape Sequences & Print\")"
   ]
  },
  {
   "cell_type": "code",
   "execution_count": 12,
   "metadata": {},
   "outputs": [
    {
     "name": "stdout",
     "output_type": "stream",
     "text": [
      "This is first program:\n",
      "of Comment, Escape Sequences & Print\n"
     ]
    }
   ],
   "source": [
    "print(\"This is first program:\", end=\"\\n\")\n",
    "print(\"of Comment, Escape Sequences & Print\")"
   ]
  },
  {
   "cell_type": "code",
   "execution_count": 13,
   "metadata": {},
   "outputs": [
    {
     "name": "stdout",
     "output_type": "stream",
     "text": [
      "hello Sunny\n"
     ]
    }
   ],
   "source": [
    "print(\"hello\",\"Sunny\")"
   ]
  },
  {
   "cell_type": "markdown",
   "metadata": {},
   "source": [
    "**6. type( )**"
   ]
  },
  {
   "cell_type": "code",
   "execution_count": 14,
   "metadata": {},
   "outputs": [
    {
     "name": "stdout",
     "output_type": "stream",
     "text": [
      "a: <class 'NoneType'>\n",
      "b: <class 'bool'>\n",
      "c: <class 'int'>\n",
      "d: <class 'float'>\n",
      "e: <class 'complex'>\n",
      "f: <class 'list'>\n",
      "g: <class 'tuple'>\n",
      "h: <class 'dict'>\n",
      "i: <class 'set'>\n",
      "j: <class 'str'>\n"
     ]
    }
   ],
   "source": [
    "print(\"a:\",type(a))\n",
    "print(\"b:\",type(b))\n",
    "print(\"c:\",type(c))\n",
    "print(\"d:\",type(d))\n",
    "print(\"e:\",type(e))\n",
    "print(\"f:\",type(f))\n",
    "print(\"g:\",type(g))\n",
    "print(\"h:\",type(h))\n",
    "print(\"i:\",type(i))\n",
    "print(\"j:\",type(j))"
   ]
  },
  {
   "cell_type": "code",
   "execution_count": 15,
   "metadata": {},
   "outputs": [],
   "source": [
    "# type of class is 'type'\n",
    "class Circle(object):\n",
    "     pass"
   ]
  },
  {
   "cell_type": "code",
   "execution_count": 16,
   "metadata": {},
   "outputs": [
    {
     "data": {
      "text/plain": [
       "type"
      ]
     },
     "execution_count": 16,
     "metadata": {},
     "output_type": "execute_result"
    }
   ],
   "source": [
    "type(Circle)"
   ]
  },
  {
   "cell_type": "markdown",
   "metadata": {},
   "source": [
    "**7. id()**"
   ]
  },
  {
   "cell_type": "code",
   "execution_count": 17,
   "metadata": {},
   "outputs": [
    {
     "data": {
      "text/plain": [
       "140731907866928"
      ]
     },
     "execution_count": 17,
     "metadata": {},
     "output_type": "execute_result"
    }
   ],
   "source": [
    "x = 2\n",
    "id(x)  # id is unique memory address"
   ]
  },
  {
   "cell_type": "code",
   "execution_count": 18,
   "metadata": {},
   "outputs": [
    {
     "data": {
      "text/plain": [
       "2761637849512"
      ]
     },
     "execution_count": 18,
     "metadata": {},
     "output_type": "execute_result"
    }
   ],
   "source": [
    "id(Circle)"
   ]
  },
  {
   "cell_type": "code",
   "execution_count": 19,
   "metadata": {},
   "outputs": [],
   "source": [
    "# b is new name for a\n",
    "a = [1, 2, 3]\n",
    "b = a "
   ]
  },
  {
   "cell_type": "code",
   "execution_count": 20,
   "metadata": {},
   "outputs": [
    {
     "name": "stdout",
     "output_type": "stream",
     "text": [
      "id a: 2761648562952\n",
      "id b: 2761648562952\n",
      "a is b: True\n"
     ]
    }
   ],
   "source": [
    "print(\"id a:\",id(a))\n",
    "print(\"id b:\",id(b))\n",
    "print(\"a is b:\",a is b)"
   ]
  },
  {
   "cell_type": "code",
   "execution_count": 21,
   "metadata": {},
   "outputs": [
    {
     "name": "stdout",
     "output_type": "stream",
     "text": [
      "id a: 2761648562952\n",
      "id b: 2761648562952\n",
      "a is b: True\n"
     ]
    }
   ],
   "source": [
    "# since a and b are same, hence if modify b, a also changes\n",
    "b.append(3)\n",
    "print(\"id a:\",id(a))\n",
    "print(\"id b:\",id(b))\n",
    "print(\"a is b:\",a is b)"
   ]
  },
  {
   "cell_type": "code",
   "execution_count": 22,
   "metadata": {},
   "outputs": [
    {
     "data": {
      "text/plain": [
       "[1, 2, 3, 3]"
      ]
     },
     "execution_count": 22,
     "metadata": {},
     "output_type": "execute_result"
    }
   ],
   "source": [
    "a"
   ]
  },
  {
   "cell_type": "markdown",
   "metadata": {},
   "source": [
    "**8.compile()**"
   ]
  },
  {
   "cell_type": "code",
   "execution_count": 23,
   "metadata": {},
   "outputs": [
    {
     "name": "stdout",
     "output_type": "stream",
     "text": [
      "<code object <module> at 0x00000282FF15BA50, file \"sum.py\", line 1>\n"
     ]
    }
   ],
   "source": [
    "py_code = 'x=5\\ny=10\\nprint(\"sum =\",x+y)'  \n",
    "a=compile(py_code, 'sum.py', 'exec')  \n",
    "print(a)"
   ]
  },
  {
   "cell_type": "markdown",
   "metadata": {},
   "source": [
    "**9. exec()**"
   ]
  },
  {
   "cell_type": "code",
   "execution_count": 24,
   "metadata": {},
   "outputs": [
    {
     "name": "stdout",
     "output_type": "stream",
     "text": [
      "sum = 15\n"
     ]
    }
   ],
   "source": [
    "exec(a)"
   ]
  },
  {
   "cell_type": "code",
   "execution_count": 25,
   "metadata": {},
   "outputs": [
    {
     "name": "stdout",
     "output_type": "stream",
     "text": [
      "True\n",
      "12\n"
     ]
    }
   ],
   "source": [
    "x = 8  \n",
    "exec('print(x==8)')  \n",
    "exec('print(x+4)')  "
   ]
  },
  {
   "cell_type": "code",
   "execution_count": null,
   "metadata": {},
   "outputs": [],
   "source": [
    "# Calling function\n",
    "result = slice(5) # returns slice object\n",
    "result2 = slice(0,5,3) # returns slice object\n",
    "# Displaying result\n",
    "print(result)\n",
    "print(result2) \n"
   ]
  },
  {
   "cell_type": "code",
   "execution_count": 26,
   "metadata": {},
   "outputs": [
    {
     "name": "stdout",
     "output_type": "stream",
     "text": [
      "The age is: 22\n"
     ]
    }
   ],
   "source": [
    "#help(globals)\n",
    "age = 22\n",
    "\n",
    "globals()['age'] = 22\n",
    "print('The age is:', age) "
   ]
  },
  {
   "cell_type": "code",
   "execution_count": null,
   "metadata": {},
   "outputs": [],
   "source": [
    "#help(callable)\n",
    "x = 8  \n",
    "print(callable(x)) "
   ]
  },
  {
   "cell_type": "code",
   "execution_count": null,
   "metadata": {},
   "outputs": [],
   "source": [
    "#help(hash)\n",
    "# Calling function\n",
    "result = hash(21) # integer value\n",
    "result2 = hash(22.2) # decimal value\n",
    "# Displaying result\n",
    "print(result)\n",
    "print(result2) "
   ]
  }
 ],
 "metadata": {
  "kernelspec": {
   "display_name": "Python 3",
   "language": "python",
   "name": "python3"
  },
  "language_info": {
   "codemirror_mode": {
    "name": "ipython",
    "version": 3
   },
   "file_extension": ".py",
   "mimetype": "text/x-python",
   "name": "python",
   "nbconvert_exporter": "python",
   "pygments_lexer": "ipython3",
   "version": "3.7.8"
  }
 },
 "nbformat": 4,
 "nbformat_minor": 4
}
