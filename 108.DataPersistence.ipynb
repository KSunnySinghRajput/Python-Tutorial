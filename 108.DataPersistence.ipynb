{
 "cells": [
  {
   "cell_type": "markdown",
   "metadata": {},
   "source": [
    "    1. pickle               — Python object serialization\n",
    "    2. copyreg              — Register pickle support functions\n",
    "    3. shelve               — Python object persistence\n",
    "    4. marshal              — Internal Python object serialization\n",
    "    5. dbm                  — Interfaces to Unix “databases”\n",
    "    6. sqlite3              — DB-API 2.0 interface for SQLite databases"
   ]
  },
  {
   "cell_type": "markdown",
   "metadata": {},
   "source": [
    "# 1. pickle\n",
    "# 2. copyreg\n",
    "# 3. sqlite3"
   ]
  },
  {
   "cell_type": "code",
   "execution_count": null,
   "metadata": {},
   "outputs": [],
   "source": []
  }
 ],
 "metadata": {
  "kernelspec": {
   "display_name": "Python 3",
   "language": "python",
   "name": "python3"
  },
  "language_info": {
   "codemirror_mode": {
    "name": "ipython",
    "version": 3
   },
   "file_extension": ".py",
   "mimetype": "text/x-python",
   "name": "python",
   "nbconvert_exporter": "python",
   "pygments_lexer": "ipython3",
   "version": "3.7.8"
  }
 },
 "nbformat": 4,
 "nbformat_minor": 4
}
