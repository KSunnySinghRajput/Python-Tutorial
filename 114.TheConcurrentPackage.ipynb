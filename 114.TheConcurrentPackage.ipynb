{
 "cells": [
  {
   "cell_type": "markdown",
   "metadata": {},
   "source": [
    "    1. concurrent.futures   — Launching parallel tasks\n",
    "    2. subprocess           — Subprocess management\n",
    "    3. sched                — Event scheduler\n",
    "    4. queue                — A synchronized queue class\n",
    "    5. _thread              — Low-level threading API\n",
    "    6. _dummy_thread        — Drop-in replacement for the _thread module\n",
    "    7. dummy_threading      — Drop-in replacement for the threading module"
   ]
  },
  {
   "cell_type": "markdown",
   "metadata": {},
   "source": [
    "## 2.subprocess"
   ]
  },
  {
   "cell_type": "code",
   "execution_count": null,
   "metadata": {},
   "outputs": [],
   "source": [
    "import subprocess"
   ]
  },
  {
   "cell_type": "code",
   "execution_count": null,
   "metadata": {},
   "outputs": [],
   "source": [
    "import os\n",
    "p=os.popen('dir')\n",
    "print(p.read())"
   ]
  },
  {
   "cell_type": "code",
   "execution_count": null,
   "metadata": {},
   "outputs": [],
   "source": [
    "# subprocess.Popen(\"cmd\",\n",
    "#                  bufsize=0,\n",
    "#                  executable=None,\n",
    "#                  stdin=None,\n",
    "#                  stdout=None,\n",
    "#                  stderr=None,\n",
    "#                  preexec_fn=None,\n",
    "#                  close_fds=False,\n",
    "#                  shell=False,\n",
    "#                  cwd=None,\n",
    "#                  env=None,\n",
    "#                  universal_newlines=False,\n",
    "#                  startupinfo=None,\n",
    "#                  creationflags=0)"
   ]
  },
  {
   "cell_type": "code",
   "execution_count": null,
   "metadata": {},
   "outputs": [],
   "source": [
    "l = os.listdir()\n",
    "print (l)"
   ]
  },
  {
   "cell_type": "code",
   "execution_count": null,
   "metadata": {},
   "outputs": [],
   "source": [
    "result = []\n",
    "process = subprocess.Popen('dir',shell=True,stdout=subprocess.PIPE,stderr=subprocess.PIPE )"
   ]
  },
  {
   "cell_type": "code",
   "execution_count": null,
   "metadata": {},
   "outputs": [],
   "source": [
    "for line in process.stdout:\n",
    "    result.append(line)\n",
    "    \n",
    "errcode = process.returncode\n",
    "\n",
    "for line in result:\n",
    "    print(line)"
   ]
  },
  {
   "cell_type": "code",
   "execution_count": null,
   "metadata": {},
   "outputs": [],
   "source": [
    "def runcmd(cmd):\n",
    "    x = subprocess.Popen(cmd, stdout=subprocess.PIPE, shell=True)\n",
    "    return x.communicate(stdout)\n",
    "runcmd(\"dir\")"
   ]
  },
  {
   "cell_type": "code",
   "execution_count": null,
   "metadata": {},
   "outputs": [],
   "source": [
    "def runcmd(cmd):\n",
    "  x = subprocess.Popen(cmd, stdout=subprocess.PIPE)\n",
    "  Result = x.communicate(stdout)\n",
    "  return Result\n",
    "runcmd(\"cmd\")"
   ]
  },
  {
   "cell_type": "code",
   "execution_count": null,
   "metadata": {},
   "outputs": [],
   "source": [
    "subprocess.run([\"cmd\"])  # doesn't capture output"
   ]
  },
  {
   "cell_type": "code",
   "execution_count": null,
   "metadata": {},
   "outputs": [],
   "source": [
    "subprocess.run(\"cmd\", shell=True, check=True)"
   ]
  },
  {
   "cell_type": "code",
   "execution_count": null,
   "metadata": {},
   "outputs": [],
   "source": [
    "import subprocess\n",
    "output = subprocess.check_output(['dir'])\n",
    "print (output)"
   ]
  },
  {
   "cell_type": "code",
   "execution_count": null,
   "metadata": {},
   "outputs": [],
   "source": [
    "import subprocess\n",
    "subprocess.call([\"gcc\",\"a.c\",\"-o\",\"x\"])\n",
    "subprocess.call([\"./x\",\"<inp.txt\"])"
   ]
  },
  {
   "cell_type": "code",
   "execution_count": null,
   "metadata": {},
   "outputs": [],
   "source": []
  },
  {
   "cell_type": "code",
   "execution_count": null,
   "metadata": {},
   "outputs": [],
   "source": []
  },
  {
   "cell_type": "code",
   "execution_count": null,
   "metadata": {},
   "outputs": [],
   "source": []
  },
  {
   "cell_type": "code",
   "execution_count": null,
   "metadata": {},
   "outputs": [],
   "source": []
  },
  {
   "cell_type": "code",
   "execution_count": 1,
   "metadata": {},
   "outputs": [],
   "source": [
    "import os\n",
    "from subprocess import Popen, PIPE\n",
    "from warnings import warn\n",
    "\n",
    "\n",
    "def which(program):\n",
    "    # Add .exe program extension for windows support\n",
    "    if os.name == \"nt\" and not program.endswith(\".exe\"):\n",
    "        program += \".exe\"\n",
    "\n",
    "    envdir_list = [os.curdir] + os.environ[\"PATH\"].split(os.pathsep)\n",
    "\n",
    "    for envdir in envdir_list:\n",
    "        program_path = os.path.join(envdir, program)\n",
    "        if os.path.isfile(program_path) and os.access(program_path, os.X_OK):\n",
    "            return program_path"
   ]
  },
  {
   "cell_type": "code",
   "execution_count": 2,
   "metadata": {},
   "outputs": [
    {
     "data": {
      "text/plain": [
       "'C:\\\\WINDOWS\\\\system32\\\\cmd.exe'"
      ]
     },
     "execution_count": 2,
     "metadata": {},
     "output_type": "execute_result"
    }
   ],
   "source": [
    "which(\"cmd\")"
   ]
  },
  {
   "cell_type": "code",
   "execution_count": 4,
   "metadata": {},
   "outputs": [
    {
     "data": {
      "text/plain": [
       "'D:\\\\PythonEnv\\\\Base3.7\\\\Scripts\\\\python.exe'"
      ]
     },
     "execution_count": 4,
     "metadata": {},
     "output_type": "execute_result"
    }
   ],
   "source": [
    "which(\"python\")"
   ]
  },
  {
   "cell_type": "code",
   "execution_count": null,
   "metadata": {},
   "outputs": [],
   "source": [
    "def cmd():\n",
    "    if which(\"cmd\"):\n",
    "        return \"cmd\"\n",
    "    else:\n",
    "        warn(\"cmd\", RuntimeWarning)\n",
    "        exit ()\n",
    "\n",
    "def batch(filepath):\n",
    "\n",
    "    prober = cmd()\n",
    "    command_args = [\n",
    "        \"-v\", \"info\",\n",
    "        \"-show_format\",\n",
    "        \"-show_streams\",\n",
    "    ]\n",
    "    try:\n",
    "        command_args += [fsdecode(filepath)]\n",
    "        stdin_parameter = None\n",
    "        stdin_data = None\n",
    "    except TypeError:\n",
    "        command_args += [\"-\"]\n",
    "        stdin_parameter = PIPE\n",
    "        file = _fd_or_path_or_tempfile(filepath, 'rb', tempfile=False)\n",
    "        file.seek(0)\n",
    "        stdin_data = file.read()\n",
    "\n",
    "    command = [prober, '-of', 'json'] + command_args\n",
    "    res = Popen(command, stdin=stdin_parameter, stdout=PIPE, stderr=PIPE)\n",
    "    output, stderr = res.communicate(input=stdin_data)\n",
    "    output = output.decode(\"utf-8\", 'ignore')\n",
    "    stderr = stderr.decode(\"utf-8\", 'ignore')\n",
    "\n",
    "    info = json.loads(output)\n",
    "\n",
    "    if not info:\n",
    "        # If ffprobe didn't give any information, just return it\n",
    "        # (for example, because the file doesn't exist)\n",
    "        return info\n",
    "\n",
    "    extra_info = get_extra_info(stderr)\n",
    "\n",
    "    audio_streams = [x for x in info['streams'] if x['codec_type'] == 'audio']\n",
    "    if len(audio_streams) == 0:\n",
    "        return info\n",
    "\n",
    "    # We just operate on the first audio stream in case there are more\n",
    "    stream = audio_streams[0]\n",
    "\n",
    "    def set_property(stream, prop, value):\n",
    "        if prop not in stream or stream[prop] == 0:\n",
    "            stream[prop] = value\n",
    "\n",
    "    for token in extra_info[stream['index']]:\n",
    "        m = re.match('([su]([0-9]{1,2})p?) \\(([0-9]{1,2}) bit\\)$', token)\n",
    "        m2 = re.match('([su]([0-9]{1,2})p?)( \\(default\\))?$', token)\n",
    "        if m:\n",
    "            set_property(stream, 'sample_fmt', m.group(1))\n",
    "            set_property(stream, 'bits_per_sample', int(m.group(2)))\n",
    "            set_property(stream, 'bits_per_raw_sample', int(m.group(3)))\n",
    "        elif m2:\n",
    "            set_property(stream, 'sample_fmt', m2.group(1))\n",
    "            set_property(stream, 'bits_per_sample', int(m2.group(2)))\n",
    "            set_property(stream, 'bits_per_raw_sample', int(m2.group(2)))\n",
    "        elif re.match('(flt)p?( \\(default\\))?$', token):\n",
    "            set_property(stream, 'sample_fmt', token)\n",
    "            set_property(stream, 'bits_per_sample', 32)\n",
    "            set_property(stream, 'bits_per_raw_sample', 32)\n",
    "        elif re.match('(dbl)p?( \\(default\\))?$', token):\n",
    "            set_property(stream, 'sample_fmt', token)\n",
    "            set_property(stream, 'bits_per_sample', 64)\n",
    "            set_property(stream, 'bits_per_raw_sample', 64)\n",
    "    return info"
   ]
  },
  {
   "cell_type": "code",
   "execution_count": null,
   "metadata": {},
   "outputs": [],
   "source": []
  },
  {
   "cell_type": "code",
   "execution_count": null,
   "metadata": {},
   "outputs": [],
   "source": []
  }
 ],
 "metadata": {
  "kernelspec": {
   "display_name": "Python 3",
   "language": "python",
   "name": "python3"
  },
  "language_info": {
   "codemirror_mode": {
    "name": "ipython",
    "version": 3
   },
   "file_extension": ".py",
   "mimetype": "text/x-python",
   "name": "python",
   "nbconvert_exporter": "python",
   "pygments_lexer": "ipython3",
   "version": "3.7.8"
  }
 },
 "nbformat": 4,
 "nbformat_minor": 4
}
