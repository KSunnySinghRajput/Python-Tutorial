{
 "cells": [
  {
   "cell_type": "markdown",
   "metadata": {},
   "source": [
    "    1. xml.etree.ElementTree — The ElementTree XML API\n",
    "    2. xml.dom              — The Document Object Model API\n",
    "    3. xml.dom.minidom      — Minimal DOM implementation\n",
    "    4. xml.dom.pulldom      — Support for building partial DOM trees\n",
    "    5. xml.sax              — Support for SAX2 parsers\n",
    "    6. xml.sax.handler      — Base classes for SAX handlers\n",
    "    7. xml.sax.saxutils     — SAX Utilities\n",
    "    8. xml.sax.xmlreader    — Interface for XML parsers\n",
    "    9. xml.parsers.expat    — Fast XML parsing using Expat"
   ]
  },
  {
   "cell_type": "code",
   "execution_count": null,
   "metadata": {},
   "outputs": [],
   "source": []
  }
 ],
 "metadata": {
  "kernelspec": {
   "display_name": "Python 3",
   "language": "python",
   "name": "python3"
  },
  "language_info": {
   "codemirror_mode": {
    "name": "ipython",
    "version": 3
   },
   "file_extension": ".py",
   "mimetype": "text/x-python",
   "name": "python",
   "nbconvert_exporter": "python",
   "pygments_lexer": "ipython3",
   "version": "3.7.8"
  }
 },
 "nbformat": 4,
 "nbformat_minor": 4
}
