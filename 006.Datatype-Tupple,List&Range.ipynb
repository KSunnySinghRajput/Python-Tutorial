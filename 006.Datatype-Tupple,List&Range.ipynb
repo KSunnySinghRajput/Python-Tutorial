{
 "cells": [
  {
   "cell_type": "markdown",
   "metadata": {},
   "source": [
    "## 1. tuple( )\n",
    "\n",
    "A tuple is a collection which is ordered and unchangeable. In Python tuples are written with round brackets."
   ]
  },
  {
   "cell_type": "code",
   "execution_count": null,
   "metadata": {},
   "outputs": [],
   "source": [
    "#help(tuple)"
   ]
  },
  {
   "cell_type": "markdown",
   "metadata": {},
   "source": [
    "**Create Tuple**"
   ]
  },
  {
   "cell_type": "code",
   "execution_count": null,
   "metadata": {},
   "outputs": [],
   "source": [
    "f=tuple()\n",
    "type(f),f"
   ]
  },
  {
   "cell_type": "code",
   "execution_count": null,
   "metadata": {},
   "outputs": [],
   "source": [
    "f=()\n",
    "type(f),f"
   ]
  },
  {
   "cell_type": "code",
   "execution_count": null,
   "metadata": {},
   "outputs": [],
   "source": [
    "#f=('sunny')    #str\n",
    "f=('sunny',)    #tuple\n",
    "type(f),f"
   ]
  },
  {
   "cell_type": "code",
   "execution_count": null,
   "metadata": {},
   "outputs": [],
   "source": [
    "f=\"sunny\",\n",
    "type(f),f"
   ]
  },
  {
   "cell_type": "code",
   "execution_count": null,
   "metadata": {},
   "outputs": [],
   "source": [
    "f=\"sunny\",\"singht\"\n",
    "type(f),f"
   ]
  },
  {
   "cell_type": "markdown",
   "metadata": {},
   "source": [
    "**Read Tuple**"
   ]
  },
  {
   "cell_type": "code",
   "execution_count": null,
   "metadata": {},
   "outputs": [],
   "source": [
    "f1=(\"hi\", \"python\", 2)\n",
    "print(f1)"
   ]
  },
  {
   "cell_type": "code",
   "execution_count": null,
   "metadata": {},
   "outputs": [],
   "source": [
    "for x in thistuple:\n",
    "    print(x,end=\", \")"
   ]
  },
  {
   "cell_type": "code",
   "execution_count": null,
   "metadata": {},
   "outputs": [],
   "source": [
    "thistuple[1]"
   ]
  },
  {
   "cell_type": "code",
   "execution_count": null,
   "metadata": {},
   "outputs": [],
   "source": [
    "\"apple\" in thistuple             "
   ]
  },
  {
   "cell_type": "code",
   "execution_count": null,
   "metadata": {},
   "outputs": [],
   "source": [
    "fruits = (\"apple\", \"banana\", \"cherry\", \"strawberry\", \"raspberry\")\n",
    "(green, yellow, *red) = fruits\n",
    "print(green)\n",
    "print(yellow)\n",
    "print(red)"
   ]
  },
  {
   "cell_type": "markdown",
   "metadata": {},
   "source": [
    "**Update Tuple**"
   ]
  },
  {
   "cell_type": "code",
   "execution_count": null,
   "metadata": {},
   "outputs": [],
   "source": [
    "#'tuple' object does not support item assignment\n",
    "#thistuple[1] = \"blackcurrant\""
   ]
  },
  {
   "cell_type": "code",
   "execution_count": null,
   "metadata": {},
   "outputs": [],
   "source": [
    "f1=f1+(\"C++\",)\n",
    "f1"
   ]
  },
  {
   "cell_type": "markdown",
   "metadata": {},
   "source": [
    "**Delete Tuple**"
   ]
  },
  {
   "cell_type": "code",
   "execution_count": null,
   "metadata": {},
   "outputs": [],
   "source": [
    "# thistuple = (\"apple\", \"banana\", \"cherry\")\n",
    "# del thistuple\n",
    "# thistuple     # name 'thistuple' is not defined"
   ]
  },
  {
   "cell_type": "markdown",
   "metadata": {},
   "source": [
    "### Tuple Methods"
   ]
  },
  {
   "cell_type": "code",
   "execution_count": null,
   "metadata": {},
   "outputs": [],
   "source": [
    "thistuple = (1, 3, 7, 8, 7, 5, 4, 6, 8, 5)\n",
    "thistuple.count(5)"
   ]
  },
  {
   "cell_type": "code",
   "execution_count": null,
   "metadata": {},
   "outputs": [],
   "source": [
    "thistuple = (1, 3, 7, 8, 7, 5, 4, 6, 8, 5)\n",
    "thistuple.index(8)"
   ]
  },
  {
   "cell_type": "markdown",
   "metadata": {},
   "source": [
    "**Conversion (Type Casting in Tuple)**"
   ]
  },
  {
   "cell_type": "code",
   "execution_count": null,
   "metadata": {},
   "outputs": [],
   "source": [
    "#int to str to tuple\n",
    "int1=234567\n",
    "try:\n",
    "    t1 = tuple(int1)     #'int' object is not iterable\n",
    "except:\n",
    "    t1 = tuple(int(i) for i in str(int1))\n",
    "    \n",
    "print(t1)"
   ]
  },
  {
   "cell_type": "code",
   "execution_count": null,
   "metadata": {},
   "outputs": [],
   "source": [
    "#str to tupple\n",
    "str1 = 'Java'  \n",
    "t1 = tuple(str1)\n",
    "print(t1)"
   ]
  },
  {
   "cell_type": "code",
   "execution_count": null,
   "metadata": {},
   "outputs": [],
   "source": [
    "#str to tupple\n",
    "str1 = 'Java Python'  \n",
    "t1 = tuple(str1)\n",
    "print('t1=',t1)"
   ]
  },
  {
   "cell_type": "code",
   "execution_count": null,
   "metadata": {},
   "outputs": [],
   "source": [
    "#str to tupple\n",
    "str1 = 'Java Python'.split(\" \") \n",
    "t1 = tuple(str1)\n",
    "print(t1)"
   ]
  },
  {
   "cell_type": "code",
   "execution_count": null,
   "metadata": {},
   "outputs": [],
   "source": [
    "# list to tupple\n",
    "list1=[\"sunny\",\"singh\",1,2,3]\n",
    "t1 = tuple(list1)\n",
    "print(t1)"
   ]
  },
  {
   "cell_type": "code",
   "execution_count": null,
   "metadata": {},
   "outputs": [],
   "source": [
    "# dict to tupple\n",
    "dict1={4: 'four', 5: 'five'}\n",
    "t1 = tuple(dict1)\n",
    "print(t1)"
   ]
  },
  {
   "cell_type": "code",
   "execution_count": null,
   "metadata": {},
   "outputs": [],
   "source": [
    "# dict to tupple\n",
    "dict1={4: 'four', 5: 'five'}\n",
    "t1 = tuple(dict1)\n",
    "print(t1)"
   ]
  },
  {
   "cell_type": "code",
   "execution_count": null,
   "metadata": {},
   "outputs": [],
   "source": [
    "# dict keys to tupple\n",
    "t1 = tuple(dict1.keys())\n",
    "print(t1)"
   ]
  },
  {
   "cell_type": "code",
   "execution_count": null,
   "metadata": {},
   "outputs": [],
   "source": [
    "# dict value to tupple\n",
    "t1 = tuple(dict1.values())\n",
    "print(t1)"
   ]
  },
  {
   "cell_type": "markdown",
   "metadata": {},
   "source": [
    "# 2. list()\n",
    "    A list is a data structure in Python that is a mutable, or changeable, ordered sequence of elements."
   ]
  },
  {
   "cell_type": "code",
   "execution_count": null,
   "metadata": {},
   "outputs": [],
   "source": [
    "#help(list)"
   ]
  },
  {
   "cell_type": "markdown",
   "metadata": {},
   "source": [
    "**Create List**"
   ]
  },
  {
   "cell_type": "code",
   "execution_count": null,
   "metadata": {},
   "outputs": [],
   "source": [
    "e=list()\n",
    "type(e)"
   ]
  },
  {
   "cell_type": "code",
   "execution_count": null,
   "metadata": {},
   "outputs": [],
   "source": [
    "e=[]\n",
    "type(e)"
   ]
  },
  {
   "cell_type": "code",
   "execution_count": null,
   "metadata": {},
   "outputs": [],
   "source": [
    "list1 = [1, \"hi\", \"python\", 2]\n",
    "type(list1 )"
   ]
  },
  {
   "cell_type": "markdown",
   "metadata": {},
   "source": [
    "**Read List**"
   ]
  },
  {
   "cell_type": "code",
   "execution_count": null,
   "metadata": {},
   "outputs": [],
   "source": [
    "list1"
   ]
  },
  {
   "cell_type": "code",
   "execution_count": null,
   "metadata": {},
   "outputs": [],
   "source": [
    "for x in list1:\n",
    "    print(x,end=\", \") "
   ]
  },
  {
   "cell_type": "code",
   "execution_count": null,
   "metadata": {},
   "outputs": [],
   "source": [
    "list1[3]"
   ]
  },
  {
   "cell_type": "markdown",
   "metadata": {},
   "source": [
    "**Update list**"
   ]
  },
  {
   "cell_type": "code",
   "execution_count": null,
   "metadata": {},
   "outputs": [],
   "source": [
    "thislist[1] = 6\n",
    "thislist"
   ]
  },
  {
   "cell_type": "code",
   "execution_count": null,
   "metadata": {},
   "outputs": [],
   "source": [
    "5 in thislist"
   ]
  },
  {
   "cell_type": "markdown",
   "metadata": {},
   "source": [
    "**Delete List**"
   ]
  },
  {
   "cell_type": "code",
   "execution_count": null,
   "metadata": {},
   "outputs": [],
   "source": [
    "#del keyword removes the specified index:\n",
    "del thislist[0]\n",
    "thislist"
   ]
  },
  {
   "cell_type": "code",
   "execution_count": null,
   "metadata": {},
   "outputs": [],
   "source": [
    "#list del\n",
    "#del thislist"
   ]
  },
  {
   "cell_type": "code",
   "execution_count": null,
   "metadata": {},
   "outputs": [],
   "source": [
    "# 2D"
   ]
  },
  {
   "cell_type": "code",
   "execution_count": null,
   "metadata": {},
   "outputs": [],
   "source": [
    "X-axis: Column\n",
    "Y-axis: Row"
   ]
  },
  {
   "cell_type": "code",
   "execution_count": 55,
   "metadata": {},
   "outputs": [
    {
     "data": {
      "text/plain": [
       "[[0, 10, 20, 30, 40, 50, 60, 70, 80, 90],\n",
       " [100, 110, 120, 130, 140, 150, 160, 170, 180, 190],\n",
       " [200, 210, 220, 230, 240, 250, 260, 270, 280, 290],\n",
       " [300, 310, 320, 330, 340, 350, 360, 370, 380, 390],\n",
       " [400, 410, 420, 430, 440, 450, 460, 470, 480, 490],\n",
       " [500, 510, 520, 530, 540, 550, 560, 570, 580, 590],\n",
       " [600, 610, 620, 630, 640, 650, 660, 670, 680, 690],\n",
       " [700, 710, 720, 730, 740, 750, 760, 770, 780, 790],\n",
       " [800, 810, 820, 830, 840, 850, 860, 870, 880, 890],\n",
       " [900, 910, 920, 930, 940, 950, 960, 970, 980, 990]]"
      ]
     },
     "execution_count": 55,
     "metadata": {},
     "output_type": "execute_result"
    }
   ],
   "source": [
    "A=[\n",
    "[  0, 10, 20, 30, 40, 50, 60, 70, 80, 90],\n",
    "[100,110,120,130,140,150,160,170,180,190],\n",
    "[200,210,220,230,240,250,260,270,280,290],\n",
    "[300,310,320,330,340,350,360,370,380,390],\n",
    "[400,410,420,430,440,450,460,470,480,490],\n",
    "[500,510,520,530,540,550,560,570,580,590],\n",
    "[600,610,620,630,640,650,660,670,680,690],\n",
    "[700,710,720,730,740,750,760,770,780,790],\n",
    "[800,810,820,830,840,850,860,870,880,890],\n",
    "[900,910,920,930,940,950,960,970,980,990]\n",
    "]\n",
    "\n",
    "A"
   ]
  },
  {
   "cell_type": "code",
   "execution_count": 56,
   "metadata": {},
   "outputs": [],
   "source": [
    "def RowShape(arr):\n",
    "    return len(arr)\n",
    "def ColShape(arr):\n",
    "    size_list=[len(arr[a])  for a in range (0,len(arr))]\n",
    "    if len(set(size_list))==1:\n",
    "        return size_list[0]\n",
    "    else:\n",
    "        print(\"Array not same\")\n",
    "        return size_list\n",
    "\n",
    "\n",
    "def shape(arr):\n",
    "    return dict(row = RowShape(arr),col=ColShape(arr))"
   ]
  },
  {
   "cell_type": "code",
   "execution_count": 57,
   "metadata": {},
   "outputs": [
    {
     "data": {
      "text/plain": [
       "{'row': 10, 'col': 10}"
      ]
     },
     "execution_count": 57,
     "metadata": {},
     "output_type": "execute_result"
    }
   ],
   "source": [
    "shape(A)"
   ]
  },
  {
   "cell_type": "raw",
   "metadata": {},
   "source": [
    "[ Initial : End : IndexJump ]"
   ]
  },
  {
   "cell_type": "code",
   "execution_count": 66,
   "metadata": {},
   "outputs": [
    {
     "data": {
      "text/plain": [
       "[[0, 10, 20, 30, 40, 50, 60, 70, 80, 90],\n",
       " [100, 110, 120, 130, 140, 150, 160, 170, 180, 190]]"
      ]
     },
     "execution_count": 66,
     "metadata": {},
     "output_type": "execute_result"
    }
   ],
   "source": [
    "#Row\n",
    "A[0:2]"
   ]
  },
  {
   "cell_type": "code",
   "execution_count": 75,
   "metadata": {},
   "outputs": [
    {
     "data": {
      "text/plain": [
       "[[0, 10, 20, 30, 40, 50, 60, 70, 80, 90],\n",
       " [300, 310, 320, 330, 340, 350, 360, 370, 380, 390]]"
      ]
     },
     "execution_count": 75,
     "metadata": {},
     "output_type": "execute_result"
    }
   ],
   "source": [
    "A[0:5:3]"
   ]
  },
  {
   "cell_type": "code",
   "execution_count": null,
   "metadata": {},
   "outputs": [],
   "source": [
    "\n",
    "\n",
    "# a=data[0:5,0:1,:]\n",
    "# print(a.shape)\n",
    "# a\n",
    "data = [\n",
    "\n"
   ]
  },
  {
   "cell_type": "markdown",
   "metadata": {},
   "source": [
    "### method"
   ]
  },
  {
   "cell_type": "markdown",
   "metadata": {},
   "source": [
    "\n",
    "|Method|Description|\n",
    "    |:-------------|:------------|\n",
    "|append|Adds an element at the end of the list\n",
    "|clear()|Removes all the elements from the list\n",
    "|copy()|Returns a copy of the list\n",
    "|count()|Returns the number of elements with the specified value\n",
    "|extend()|Add the elements of a list (or any iterable), to the end of the current list\n",
    "|index()|Returns the index of the first element with the specified value\n",
    "|insert()|Adds an element at the specified position\n",
    "|pop()|Removes the element at the specified position\n",
    "|remove()|Removes the first item with the specified value\n",
    "|reverse()|Reverses the order of the list\n",
    "|sort()|Sorts the list\n",
    "\n",
    "\n",
    "**Stack (FIFO):**\n",
    "- .pop(-1),\n",
    "- append()\n",
    "\n",
    "**Queue (LIFO):**\n",
    "- pop(1),\n",
    "- append()\n"
   ]
  },
  {
   "cell_type": "code",
   "execution_count": null,
   "metadata": {},
   "outputs": [],
   "source": [
    "#thislist =['apple', 'banana', 'cherry']\n",
    "thislist =['banana', 'cherry']"
   ]
  },
  {
   "cell_type": "code",
   "execution_count": null,
   "metadata": {},
   "outputs": [],
   "source": [
    "#.insert() an item as the second position:\n",
    "thislist.insert(0,'apple')  \n",
    "thislist.insert(0,'apple')  \n",
    "thislist"
   ]
  },
  {
   "cell_type": "code",
   "execution_count": null,
   "metadata": {},
   "outputs": [],
   "source": [
    "#.append()\n",
    "thislist.append(\"orange\")\n",
    "thislist"
   ]
  },
  {
   "cell_type": "code",
   "execution_count": null,
   "metadata": {},
   "outputs": [],
   "source": [
    "b = [\"Ford\", \"BMW\", \"Volvo\"]\n",
    "thislist.append(b)\n",
    "thislist"
   ]
  },
  {
   "cell_type": "code",
   "execution_count": null,
   "metadata": {},
   "outputs": [],
   "source": [
    "#.remove() method removes the specified item:\n",
    "thislist.remove('banana')\n",
    "thislist     "
   ]
  },
  {
   "cell_type": "code",
   "execution_count": null,
   "metadata": {},
   "outputs": [],
   "source": [
    "#.pop() method removes the specified index, (or the last item if index is not specified):\n",
    "print(thislist.pop())\n",
    "print(thislist)"
   ]
  },
  {
   "cell_type": "code",
   "execution_count": null,
   "metadata": {},
   "outputs": [],
   "source": [
    "print(thislist.pop(0))   # 0,1,..,-1,..\n",
    "print(thislist)"
   ]
  },
  {
   "cell_type": "code",
   "execution_count": null,
   "metadata": {},
   "outputs": [],
   "source": [
    "#.clear() method empties the list:\n",
    "# thislist.clear()                   #[]"
   ]
  },
  {
   "cell_type": "code",
   "execution_count": null,
   "metadata": {},
   "outputs": [],
   "source": [
    "thislist.remove('cherry')       \n",
    "print(thislist)"
   ]
  },
  {
   "cell_type": "code",
   "execution_count": null,
   "metadata": {},
   "outputs": [],
   "source": [
    "thislist = [2,5,74,36,31,4]\n",
    "# It will sort alphabetically and print\n",
    "thislist.sort()          \n",
    "thislist"
   ]
  },
  {
   "cell_type": "code",
   "execution_count": null,
   "metadata": {},
   "outputs": [],
   "source": [
    "# It will reverse the list and print\n",
    "thislist.reverse()      \n",
    "thislist"
   ]
  },
  {
   "cell_type": "code",
   "execution_count": null,
   "metadata": {},
   "outputs": [],
   "source": [
    "fruits = ['apple', 'banana', 'cherry']\n",
    "cars = ['Ford', 'BMW', 'Volvo']\n",
    "fruits.extend(cars)\n",
    "fruits"
   ]
  },
  {
   "cell_type": "code",
   "execution_count": null,
   "metadata": {},
   "outputs": [],
   "source": [
    "fruits = ['apple', 'banana', 'cherry', 'orange']\n",
    "x = fruits.copy()\n",
    "x"
   ]
  },
  {
   "cell_type": "code",
   "execution_count": null,
   "metadata": {},
   "outputs": [],
   "source": [
    "fruits = ['apple', 'banana', 'cherry','cherry']\n",
    "x = fruits.count(\"cherry\")\n",
    "x"
   ]
  },
  {
   "cell_type": "code",
   "execution_count": null,
   "metadata": {},
   "outputs": [],
   "source": [
    "fruits = ['apple', 'banana', 'cherry']\n",
    "x = fruits.index(\"cherry\")\n",
    "x"
   ]
  },
  {
   "cell_type": "markdown",
   "metadata": {},
   "source": [
    "**Conversion (Type Casting in Tuple)**"
   ]
  },
  {
   "cell_type": "code",
   "execution_count": null,
   "metadata": {},
   "outputs": [],
   "source": [
    "#tuple to list\n",
    "list((2,5,74,36,31,4))"
   ]
  },
  {
   "cell_type": "code",
   "execution_count": null,
   "metadata": {},
   "outputs": [],
   "source": [
    "**Conversion (Type Casting in List)**"
   ]
  },
  {
   "cell_type": "code",
   "execution_count": null,
   "metadata": {},
   "outputs": [],
   "source": [
    "#int to str to tuple\n",
    "int1=234567\n",
    "try:\n",
    "    t1 = list(int1)     #'int' object is not iterable\n",
    "except:\n",
    "    t1 = list(int(i) for i in str(int1))\n",
    "    \n",
    "print(t1)"
   ]
  },
  {
   "cell_type": "code",
   "execution_count": null,
   "metadata": {},
   "outputs": [],
   "source": [
    "#str to list\n",
    "str1 = 'Java'  \n",
    "t1 = list(str1)\n",
    "print(t1)"
   ]
  },
  {
   "cell_type": "code",
   "execution_count": null,
   "metadata": {},
   "outputs": [],
   "source": [
    "#str to list\n",
    "str1 = 'Java Python'  \n",
    "t1 = list(str1)\n",
    "print(t1)"
   ]
  },
  {
   "cell_type": "code",
   "execution_count": null,
   "metadata": {},
   "outputs": [],
   "source": [
    "#str to list\n",
    "str1 = 'Java Python'.split(\" \") \n",
    "t1 = list(str1)\n",
    "print(t1)"
   ]
  },
  {
   "cell_type": "code",
   "execution_count": null,
   "metadata": {},
   "outputs": [],
   "source": [
    "# tuple to list\n",
    "list1=(\"sunny\",\"singh\",1,2,3)\n",
    "t1 = list(list1)\n",
    "print(t1)"
   ]
  },
  {
   "cell_type": "code",
   "execution_count": null,
   "metadata": {},
   "outputs": [],
   "source": [
    "# dict to list\n",
    "dict1={4: 'four', 5: 'five'}\n",
    "t1 = list(dict1)\n",
    "print(t1)"
   ]
  },
  {
   "cell_type": "code",
   "execution_count": null,
   "metadata": {},
   "outputs": [],
   "source": [
    "# dict to list\n",
    "dict1={4: 'four', 5: 'five'}\n",
    "t1 = list(dict1)\n",
    "print(t1)"
   ]
  },
  {
   "cell_type": "code",
   "execution_count": null,
   "metadata": {},
   "outputs": [],
   "source": [
    "# dict keys to list\n",
    "t1 = tuple(dict1.keys())\n",
    "print(t1)"
   ]
  },
  {
   "cell_type": "code",
   "execution_count": null,
   "metadata": {},
   "outputs": [],
   "source": [
    "# dict value to list\n",
    "t1 = list(dict1.values())\n",
    "print(t1)"
   ]
  },
  {
   "cell_type": "markdown",
   "metadata": {},
   "source": [
    "# <center>Built-in Functions</center>\n"
   ]
  },
  {
   "cell_type": "code",
   "execution_count": null,
   "metadata": {},
   "outputs": [],
   "source": [
    "#help(__builtins__)"
   ]
  },
  {
   "cell_type": "markdown",
   "metadata": {},
   "source": [
    "## a. range"
   ]
  },
  {
   "cell_type": "raw",
   "metadata": {},
   "source": [
    "type : range\n",
    "1. range(no.elemen Store)\n",
    "2. range(initial_value,final_value)\n",
    "3. range(initial_value,final_value,step)      {initial_value} < {final_value}   Step positive\n",
    "4. range(initial_value,final_value,step)      {initial_value} > {final_value}   Step Negetive"
   ]
  },
  {
   "cell_type": "code",
   "execution_count": null,
   "metadata": {},
   "outputs": [],
   "source": [
    "# empty range(stop)\n",
    "print(range(0))\n",
    "list(range(0))"
   ]
  },
  {
   "cell_type": "code",
   "execution_count": null,
   "metadata": {},
   "outputs": [],
   "source": [
    "# using the range(stop)\n",
    "print(range(4))\n",
    "print(list(range(4)))"
   ]
  },
  {
   "cell_type": "code",
   "execution_count": null,
   "metadata": {},
   "outputs": [],
   "source": [
    "# using the range(start, stop)\n",
    "print(range(1,20))\n",
    "print(list(range(1,20))) "
   ]
  },
  {
   "cell_type": "code",
   "execution_count": null,
   "metadata": {},
   "outputs": [],
   "source": [
    "# using the range(start, stop,step)\n",
    "print(range(1,20,2))\n",
    "print(list(range(1,20,2))) "
   ]
  },
  {
   "cell_type": "code",
   "execution_count": null,
   "metadata": {},
   "outputs": [],
   "source": [
    "# using the range(start, stop,step)\n",
    "print(range(20,1,-2))\n",
    "print(list(range(20,1,-2))) "
   ]
  },
  {
   "cell_type": "markdown",
   "metadata": {},
   "source": [
    "## b. len, min, max,  sorted, reversed"
   ]
  },
  {
   "cell_type": "code",
   "execution_count": null,
   "metadata": {},
   "outputs": [],
   "source": [
    "#help(min)\n",
    "#help(max)\n",
    "#help(len)"
   ]
  },
  {
   "cell_type": "markdown",
   "metadata": {},
   "source": [
    "**Number**"
   ]
  },
  {
   "cell_type": "code",
   "execution_count": null,
   "metadata": {},
   "outputs": [],
   "source": [
    "# min(2225,325,2025)\n",
    "# 325\n",
    "\n",
    "# max(2225,325,2025)\n",
    "# 2225"
   ]
  },
  {
   "cell_type": "markdown",
   "metadata": {},
   "source": [
    "**float**"
   ]
  },
  {
   "cell_type": "code",
   "execution_count": null,
   "metadata": {},
   "outputs": [],
   "source": [
    "# min(1000.25,2025.35,5625.36,10052.50)\n",
    "# 1000.25\n",
    "\n",
    "# max(1000.25,2025.35,5625.36,10052.50)\n",
    "# 10052.5"
   ]
  },
  {
   "cell_type": "markdown",
   "metadata": {},
   "source": [
    "**str**"
   ]
  },
  {
   "cell_type": "code",
   "execution_count": null,
   "metadata": {},
   "outputs": [],
   "source": [
    "a = 'hello python developer'  "
   ]
  },
  {
   "cell_type": "code",
   "execution_count": null,
   "metadata": {},
   "outputs": [],
   "source": [
    "# min(a)\n",
    "# ' '\n",
    "\n",
    "# max(a)\n",
    "# 'y'\n",
    "\n",
    "# len(a)\n",
    "# 22\n",
    "\n",
    "# sorted(a)   \n",
    "# [' ',' ','d','e','e','e','e','h','h','l','l','l','n','o','o','o','p','p','r','t','v','y']\n",
    "\n",
    "# list(reversed(a))\n",
    "# ['r','e','p','o','l','e','v','e','d',' ','n','o','h','t','y','p',' ','o','l','l','e','h']"
   ]
  },
  {
   "cell_type": "markdown",
   "metadata": {},
   "source": [
    "**list / tuple**"
   ]
  },
  {
   "cell_type": "code",
   "execution_count": null,
   "metadata": {},
   "outputs": [],
   "source": [
    "#a = [2,5,74,36,31,4]\n",
    "a = (2,5,74,36,31,4)"
   ]
  },
  {
   "cell_type": "code",
   "execution_count": null,
   "metadata": {},
   "outputs": [],
   "source": [
    "# min(a)\n",
    "# 2\n",
    "\n",
    "# max(a)\n",
    "# 74\n",
    "\n",
    "# len(a)\n",
    "# 6\n",
    "\n",
    "# sorted(a)\n",
    "# [2, 4, 5, 31, 36, 74]"
   ]
  },
  {
   "cell_type": "code",
   "execution_count": null,
   "metadata": {},
   "outputs": [],
   "source": [
    "#list(reversed(a))\n",
    "tuple(reversed(a))"
   ]
  },
  {
   "cell_type": "markdown",
   "metadata": {},
   "source": [
    "## c. next( ), iter( )"
   ]
  },
  {
   "cell_type": "code",
   "execution_count": null,
   "metadata": {},
   "outputs": [],
   "source": [
    "#help(next)\n",
    "#help(iter)"
   ]
  },
  {
   "cell_type": "code",
   "execution_count": null,
   "metadata": {},
   "outputs": [],
   "source": [
    "# list of numbers  \n",
    "list1 = [1,2,3,4,5]  "
   ]
  },
  {
   "cell_type": "code",
   "execution_count": null,
   "metadata": {},
   "outputs": [],
   "source": [
    " # Creating iterator  \n",
    "listIter = iter(list1)"
   ]
  },
  {
   "cell_type": "code",
   "execution_count": null,
   "metadata": {},
   "outputs": [],
   "source": [
    "next(listIter)"
   ]
  },
  {
   "cell_type": "code",
   "execution_count": null,
   "metadata": {},
   "outputs": [],
   "source": [
    "next(listIter)"
   ]
  },
  {
   "cell_type": "code",
   "execution_count": null,
   "metadata": {},
   "outputs": [],
   "source": [
    "next(listIter)"
   ]
  },
  {
   "cell_type": "code",
   "execution_count": null,
   "metadata": {},
   "outputs": [],
   "source": [
    "next(listIter)"
   ]
  },
  {
   "cell_type": "markdown",
   "metadata": {},
   "source": [
    "## d. zip( )"
   ]
  },
  {
   "cell_type": "code",
   "execution_count": null,
   "metadata": {},
   "outputs": [],
   "source": [
    "# result = zip()\n",
    "# resultList = list(result)  \n",
    "# resultList"
   ]
  },
  {
   "cell_type": "code",
   "execution_count": null,
   "metadata": {},
   "outputs": [],
   "source": [
    "#help(zip)"
   ]
  },
  {
   "cell_type": "code",
   "execution_count": null,
   "metadata": {},
   "outputs": [],
   "source": [
    "numList = [4,5, 6]  \n",
    "strList = ['four', 'five', 'six'] "
   ]
  },
  {
   "cell_type": "code",
   "execution_count": null,
   "metadata": {},
   "outputs": [],
   "source": [
    "# Converting itertor to list\n",
    "result = zip(numList, strList) \n",
    "resultSet = set(result)  \n",
    "resultList"
   ]
  },
  {
   "cell_type": "code",
   "execution_count": null,
   "metadata": {},
   "outputs": [],
   "source": [
    "type(resultSet)"
   ]
  },
  {
   "cell_type": "code",
   "execution_count": null,
   "metadata": {},
   "outputs": [],
   "source": [
    "result = zip(numList, strList) \n",
    "resultList = list(result)  \n",
    "resultList"
   ]
  },
  {
   "cell_type": "code",
   "execution_count": null,
   "metadata": {},
   "outputs": [],
   "source": [
    "type(resultList)"
   ]
  },
  {
   "cell_type": "markdown",
   "metadata": {},
   "source": [
    "## e.map( )\n",
    "\n",
    "**Map Function**\n",
    "\n",
    "        Map takes a function and a collection of items. It makes a new, empty collection, runs the function on each item in\n",
    "        the original collection and inserts each return value into the new collection. It returns the new collection.\n",
    "        This is a simple map that takes a list of names and returns a list of the lengths of those names:"
   ]
  },
  {
   "cell_type": "code",
   "execution_count": null,
   "metadata": {},
   "outputs": [],
   "source": [
    "#help(map)"
   ]
  },
  {
   "cell_type": "code",
   "execution_count": null,
   "metadata": {},
   "outputs": [],
   "source": [
    "a= [\"Mary\", \"Isla\", \"Sam\"]\n",
    "list(map(len,a))"
   ]
  },
  {
   "cell_type": "code",
   "execution_count": null,
   "metadata": {},
   "outputs": [],
   "source": [
    "def calculateAddition(n):\n",
    "    return n+n"
   ]
  },
  {
   "cell_type": "code",
   "execution_count": null,
   "metadata": {},
   "outputs": [],
   "source": [
    "numbers = (1, 2, 6, 4)\n",
    "list(map(calculateAddition, numbers))"
   ]
  },
  {
   "cell_type": "code",
   "execution_count": null,
   "metadata": {},
   "outputs": [],
   "source": [
    "#help(all)\n",
    "#The all() function returns True if all items in an iterable are true, otherwise it returns False.\n",
    "k = [1, 3, 4, 6]  # all values true\n",
    "print(all(k))  \n",
    "k = [0, False]      # all values false \n",
    "print(all(k))  \n",
    "k = [1, 3, 7, 0]    # one false value \n",
    "print(all(k))  \n",
    "k = [0, False, 5]   # one true value  \n",
    "print(all(k))  \n",
    "k = []               # empty iterable  \n",
    "print(all(k))  "
   ]
  },
  {
   "cell_type": "code",
   "execution_count": null,
   "metadata": {},
   "outputs": [],
   "source": [
    "#help(any)\n",
    "# The any() function returns True if any item in an iterable are true, otherwise it returns False.\n",
    "# If the iterable object is empty, the any() function will return False."
   ]
  },
  {
   "cell_type": "code",
   "execution_count": null,
   "metadata": {},
   "outputs": [],
   "source": [
    "l = [4, 3, 2, 0]                              \n",
    "print(any(l))                                   \n",
    "l = [0, False]  \n",
    "print(any(l))  \n",
    "l = [0, False, 5]  \n",
    "print(any(l))    \n",
    "l = []  \n",
    "print(any(l)) \n"
   ]
  }
 ],
 "metadata": {
  "kernelspec": {
   "display_name": "Python 3",
   "language": "python",
   "name": "python3"
  },
  "language_info": {
   "codemirror_mode": {
    "name": "ipython",
    "version": 3
   },
   "file_extension": ".py",
   "mimetype": "text/x-python",
   "name": "python",
   "nbconvert_exporter": "python",
   "pygments_lexer": "ipython3",
   "version": "3.7.8"
  }
 },
 "nbformat": 4,
 "nbformat_minor": 4
}
