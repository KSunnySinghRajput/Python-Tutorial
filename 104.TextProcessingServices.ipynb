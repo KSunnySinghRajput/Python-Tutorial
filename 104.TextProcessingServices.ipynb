{
 "cells": [
  {
   "cell_type": "markdown",
   "metadata": {},
   "source": [
    "    1. string               — Common string operations\n",
    "    2. re                   — Regular expression operations\n",
    "    3. difflib              — Helpers for computing deltas\n",
    "    4. textwrap             — Text wrapping and filling\n",
    "    5. unicodedata          — Unicode Database\n",
    "    6. stringprep           — Internet String Preparation\n",
    "    7. readline             — GNU readline interface\n",
    "    8. rlcompleter          — Completion function for GNU readline    "
   ]
  },
  {
   "cell_type": "markdown",
   "metadata": {},
   "source": [
    "## 1. string"
   ]
  },
  {
   "cell_type": "markdown",
   "metadata": {},
   "source": [
    "## 2. re"
   ]
  },
  {
   "cell_type": "code",
   "execution_count": 5,
   "metadata": {},
   "outputs": [],
   "source": [
    "import re"
   ]
  },
  {
   "cell_type": "markdown",
   "metadata": {},
   "source": [
    "\n",
    "|Function|Description|\n",
    "|:-----|:------|\n",
    "|findall(pattern, string, flags=0)|Returns a list containing all matches|\n",
    "|search(pattern, string, flags=0)|Returns a Match object if there is a match anywhere in the string|\n",
    "|split(pattern, string, maxsplit=0, flags=0)|Returns a list where the string has been split at each match|\n",
    "|sub(pattern, repl, string, count=0, flags=0)|Replaces one or many matches with a string|\n",
    "|compile(pattern, flags=0)||\n",
    "|escape(pattern)||\n",
    "|finditer(pattern, string, flags=0)||\n",
    "|fullmatch(pattern, string, flags=0)||\n",
    "|match(pattern, string, flags=0)||\n",
    "|purge()||\n",
    "|subn(pattern, repl, string, count=0, flags=0)||\n",
    "|template(pattern, flags=0)||\n",
    "\n",
    "\n",
    "The Match object has properties and methods used to retrieve information about the search, and the result:\n",
    "\n",
    "- .span() returns a tuple containing the start-, and end positions of the match.\n",
    "- .string returns the string passed into the function\n",
    "- .group() returns the part of the string where there was a match"
   ]
  },
  {
   "cell_type": "code",
   "execution_count": 6,
   "metadata": {},
   "outputs": [
    {
     "data": {
      "text/plain": [
       "['ai', 'ai']"
      ]
     },
     "execution_count": 6,
     "metadata": {},
     "output_type": "execute_result"
    }
   ],
   "source": [
    "# \"The rain in Spain\"\n",
    "re.findall(\"ai\",\"The rain in Spain\")"
   ]
  },
  {
   "cell_type": "code",
   "execution_count": 3,
   "metadata": {},
   "outputs": [
    {
     "data": {
      "text/plain": [
       "<re.Match object; span=(0, 17), match='The rain in Spain'>"
      ]
     },
     "execution_count": 3,
     "metadata": {},
     "output_type": "execute_result"
    }
   ],
   "source": [
    "# Returns a Match object if there is a match anywhere in the string\n",
    "re.search(\"^The.*Spain$\", \"The rain in Spain\")"
   ]
  },
  {
   "cell_type": "code",
   "execution_count": 10,
   "metadata": {},
   "outputs": [
    {
     "data": {
      "text/plain": [
       "['The', 'rain', 'in', 'Spain']"
      ]
     },
     "execution_count": 10,
     "metadata": {},
     "output_type": "execute_result"
    }
   ],
   "source": [
    "re.split(\" \", \"The rain in Spain\")"
   ]
  },
  {
   "cell_type": "code",
   "execution_count": 11,
   "metadata": {},
   "outputs": [
    {
     "data": {
      "text/plain": [
       "'The_rain_in_Spain'"
      ]
     },
     "execution_count": 11,
     "metadata": {},
     "output_type": "execute_result"
    }
   ],
   "source": [
    "re.sub(\" \", \"_\", \"The rain in Spain\")"
   ]
  },
  {
   "cell_type": "code",
   "execution_count": 13,
   "metadata": {},
   "outputs": [
    {
     "data": {
      "text/plain": [
       "['The', 'rain in Spain']"
      ]
     },
     "execution_count": 13,
     "metadata": {},
     "output_type": "execute_result"
    }
   ],
   "source": [
    "re.split(\" \", \"The rain in Spain\", 1)"
   ]
  },
  {
   "cell_type": "markdown",
   "metadata": {},
   "source": [
    "|Character|Description|ExampleTry it|\n",
    "|:---|:---|:---|\n",
    "|\\\\A|Returns a match if the specified characters are at the beginning of the string|\"\\AThe\"|\n",
    "|\\\\b|Returns a match where the specified characters are at the beginning or at the end of a word (the \"r\" in the beginning is making sure that the string is being treated as a \"raw string\")|r\"\\bain\" r\"ain\\b\"|\n",
    "|\\\\B|Returns a match where the specified characters are present, but NOT at the beginning (or at the end) of a word (the \"r\" in the beginning is making sure that the string is being treated as a \"raw string\")|r\"\\Bain\" r\"ain\\B\"|\n",
    "|\\d|\tReturns a match where the string contains digits (numbers from 0-9)|\t\"\\d\"\t\n",
    "|\\D|\tReturns a match where the string DOES NOT contain digits|\t\"\\D\"\t\n",
    "|\\s|\tReturns a match where the string contains a white space character|\t\"\\s\"\t\n",
    "|\\S|\tReturns a match where the string DOES NOT contain a white space character|\t\"\\S\"\t\n",
    "|\\w|\tReturns a match where the string contains any word characters (characters from a to Z, digits from 0-9, and the underscore _ character)|\t\"\\w\"\t\n",
    "|\\W|\tReturns a match where the string DOES NOT contain any word characters|\t\"\\W\"\t\n",
    "|\\Z|\tReturns a match if the specified characters are at the end of the string|\t\"Spain\\Z\""
   ]
  },
  {
   "cell_type": "code",
   "execution_count": 7,
   "metadata": {},
   "outputs": [
    {
     "data": {
      "text/plain": [
       "<re.Match object; span=(3, 4), match=' '>"
      ]
     },
     "execution_count": 7,
     "metadata": {},
     "output_type": "execute_result"
    }
   ],
   "source": [
    "# Returns a match where the string contains a white space character\n",
    "re.search(\"\\s\", \"The rain in Spain\")"
   ]
  },
  {
   "cell_type": "code",
   "execution_count": 9,
   "metadata": {},
   "outputs": [
    {
     "data": {
      "text/plain": [
       "['The', 'rain', 'in', 'Spain']"
      ]
     },
     "execution_count": 9,
     "metadata": {},
     "output_type": "execute_result"
    }
   ],
   "source": [
    "re.split(\"\\s\", \"The rain in Spain\")"
   ]
  },
  {
   "cell_type": "code",
   "execution_count": 14,
   "metadata": {},
   "outputs": [
    {
     "data": {
      "text/plain": [
       "<re.Match object; span=(12, 17), match='Spain'>"
      ]
     },
     "execution_count": 14,
     "metadata": {},
     "output_type": "execute_result"
    }
   ],
   "source": [
    "re.search(r\"\\bS\\w+\", \"The rain in Spain\")"
   ]
  },
  {
   "cell_type": "code",
   "execution_count": 16,
   "metadata": {},
   "outputs": [
    {
     "data": {
      "text/plain": [
       "'The rain in Spain'"
      ]
     },
     "execution_count": 16,
     "metadata": {},
     "output_type": "execute_result"
    }
   ],
   "source": [
    "x = re.search(r\"\\bS\\w+\", \"The rain in Spain\")\n",
    "x.string"
   ]
  },
  {
   "cell_type": "code",
   "execution_count": 15,
   "metadata": {},
   "outputs": [
    {
     "data": {
      "text/plain": [
       "'Spain'"
      ]
     },
     "execution_count": 15,
     "metadata": {},
     "output_type": "execute_result"
    }
   ],
   "source": [
    "x = re.search(r\"\\bS\\w+\", \"The rain in Spain\")\n",
    "x.group()"
   ]
  },
  {
   "cell_type": "markdown",
   "metadata": {},
   "source": [
    "|Character|Description|Example|\n",
    "|:----|:---|:----|\n",
    "|[]|A set of characters|\"[a-m]\"|\n",
    "|\\\\|Signals a special sequence (can also be used to escape special characters)|\"\\d\"|\n",
    "|.|Any character (except newline character)|\"he..o\"|\n",
    "|^|Starts with|\"^hello\"|\n",
    "|\\$ |Ends with|\"world$\"|\n",
    "|* |Zero or more occurrences|\"aix*\"|\n",
    "|+|One or more occurrences|\"aix+\"|\n",
    "|{}|Exactly the specified number of occurrences|\"al{2}\"|\n",
    "|||Either or|\"falls|stays\"|\n",
    "|()|Capture and group||\n",
    "\n",
    "|Set|Description|\n",
    "|:---|:---|\n",
    "|[arn]|Returns a match where one of the specified characters (a, r, or n) are present\t\n",
    "|[a-n]|Returns a match for any lower case character, alphabetically between a and n\t\n",
    "|[^arn]|Returns a match for any character EXCEPT a, r, and n\t\n",
    "|[0123]|Returns a match where any of the specified digits (0, 1, 2, or 3) are present\t\n",
    "|[0-9]|Returns a match for any digit between 0 and 9\t\n",
    "|[0-5][0-9]|Returns a match for any two-digit numbers from 00 and 59\t\n",
    "|[a-zA-Z]|Returns a match for any character alphabetically between a and z, lower case OR upper case\t\n",
    "|[+]|In sets, +, *, ., \\|, (), $,{} has no special meaning, so [+] means: return a match for any + character in the string"
   ]
  },
  {
   "cell_type": "code",
   "execution_count": 17,
   "metadata": {},
   "outputs": [
    {
     "name": "stdout",
     "output_type": "stream",
     "text": [
      "['16', '102']\n"
     ]
    }
   ],
   "source": [
    "exampleString=\"\"\"Rohan is 16 years old Grandfather's of Mohan is 102 years old.\"\"\"\n",
    "age= re.findall('\\d{1,3}',exampleString)\n",
    "print(age)"
   ]
  },
  {
   "cell_type": "code",
   "execution_count": 18,
   "metadata": {},
   "outputs": [
    {
     "name": "stdout",
     "output_type": "stream",
     "text": [
      "['Rohan', 'Grandfather', 'Mohan']\n"
     ]
    }
   ],
   "source": [
    "name= re.findall('[A-Z][a-z]*',exampleString)\n",
    "print(name)"
   ]
  },
  {
   "cell_type": "code",
   "execution_count": 33,
   "metadata": {
    "scrolled": true
   },
   "outputs": [
    {
     "data": {
      "text/plain": [
       "['56', '+', '78', '+', '256', '+', '25']"
      ]
     },
     "execution_count": 33,
     "metadata": {},
     "output_type": "execute_result"
    }
   ],
   "source": [
    "string1='56+78+256+25'\n",
    "expr=re.findall('[0-9]+|[+]',string1)"
   ]
  },
  {
   "cell_type": "code",
   "execution_count": null,
   "metadata": {},
   "outputs": [],
   "source": [
    "# def evalute(expr):\n",
    "#     array=[]\n",
    "#     hold=None\n",
    "#     for i in expr:\n",
    "#         if i.isnumeric():\n",
    "#             array.push(i)\n",
    "#         else:\n",
    "#             op1=array.pop()\n",
    "            \n",
    "#             op2=array.pop()\n",
    "\n",
    "#             result=self.cal(op2,op1,i)\n",
    "#             self.push(result)\n",
    "#     return self.pop()\n",
    "\n",
    "# def cal(self,op2,op1,i):\n",
    "#     if i is '+':\n",
    "#         return int(op2)+int(op1)\n",
    "\n",
    "# s=evaluate_postfix()\n",
    "# s.evalute(expr)"
   ]
  },
  {
   "cell_type": "code",
   "execution_count": 37,
   "metadata": {},
   "outputs": [
    {
     "data": {
      "text/plain": [
       "False"
      ]
     },
     "execution_count": 37,
     "metadata": {},
     "output_type": "execute_result"
    }
   ],
   "source": []
  },
  {
   "cell_type": "code",
   "execution_count": 1,
   "metadata": {},
   "outputs": [
    {
     "ename": "FileNotFoundError",
     "evalue": "[Errno 2] No such file or directory: 'myfile.txt'",
     "output_type": "error",
     "traceback": [
      "\u001b[1;31m---------------------------------------------------------------------------\u001b[0m",
      "\u001b[1;31mFileNotFoundError\u001b[0m                         Traceback (most recent call last)",
      "\u001b[1;32m<ipython-input-1-37b6633e0341>\u001b[0m in \u001b[0;36m<module>\u001b[1;34m\u001b[0m\n\u001b[0;32m     17\u001b[0m \u001b[1;33m\u001b[0m\u001b[0m\n\u001b[0;32m     18\u001b[0m \u001b[1;33m\u001b[0m\u001b[0m\n\u001b[1;32m---> 19\u001b[1;33m \u001b[0mf\u001b[0m \u001b[1;33m=\u001b[0m \u001b[0mopen\u001b[0m\u001b[1;33m(\u001b[0m\u001b[1;34m\"myfile.txt\"\u001b[0m\u001b[1;33m)\u001b[0m\u001b[1;33m\u001b[0m\u001b[1;33m\u001b[0m\u001b[0m\n\u001b[0m\u001b[0;32m     20\u001b[0m \u001b[1;32mfor\u001b[0m \u001b[0mline\u001b[0m \u001b[1;32min\u001b[0m \u001b[0mf\u001b[0m\u001b[1;33m:\u001b[0m\u001b[1;33m\u001b[0m\u001b[1;33m\u001b[0m\u001b[0m\n\u001b[0;32m     21\u001b[0m   \u001b[1;32mpass\u001b[0m\u001b[1;33m\u001b[0m\u001b[1;33m\u001b[0m\u001b[0m\n",
      "\u001b[1;31mFileNotFoundError\u001b[0m: [Errno 2] No such file or directory: 'myfile.txt'"
     ]
    }
   ],
   "source": [
    "import re\n",
    "\n",
    "#Check if the string starts with \"The\" and ends with \"Spain\":\n",
    "\n",
    "'''f = open(\"myfile.txt\")\n",
    "for line in f:\n",
    "  line = line.rstrip()\n",
    "\n",
    "if re.search('^The', line):\n",
    "  print(\"YES! We have a match!\")\n",
    "else:\n",
    "  print(\"No match\")\n",
    "f.close()'''\n",
    "f = open(\"myfile.txt\")\n",
    "for line in f:\n",
    "  pass\n",
    "  # line = line.rstrip()\n",
    "x = re.findall(\"\\w\", line)\n",
    "print(x)\n",
    "if(x):\n",
    "  print(\"YES! We have a match!\")\n",
    "else:\n",
    "  print(\"No match\")\n",
    "f.close()"
   ]
  },
  {
   "cell_type": "markdown",
   "metadata": {},
   "source": [
    "## 3. difflib"
   ]
  },
  {
   "cell_type": "markdown",
   "metadata": {},
   "source": [
    "## 4. textwrap"
   ]
  },
  {
   "cell_type": "markdown",
   "metadata": {},
   "source": [
    "## 5. unicodedata"
   ]
  },
  {
   "cell_type": "markdown",
   "metadata": {},
   "source": [
    "## 6. stringprep"
   ]
  },
  {
   "cell_type": "markdown",
   "metadata": {},
   "source": [
    "## 7. readline"
   ]
  },
  {
   "cell_type": "markdown",
   "metadata": {},
   "source": [
    "## 8. rlcompleter"
   ]
  },
  {
   "cell_type": "code",
   "execution_count": null,
   "metadata": {},
   "outputs": [],
   "source": []
  }
 ],
 "metadata": {
  "kernelspec": {
   "display_name": "Python 3",
   "language": "python",
   "name": "python3"
  },
  "language_info": {
   "codemirror_mode": {
    "name": "ipython",
    "version": 3
   },
   "file_extension": ".py",
   "mimetype": "text/x-python",
   "name": "python",
   "nbconvert_exporter": "python",
   "pygments_lexer": "ipython3",
   "version": "3.7.8"
  }
 },
 "nbformat": 4,
 "nbformat_minor": 4
}
