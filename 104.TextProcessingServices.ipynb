{
 "cells": [
  {
   "cell_type": "markdown",
   "metadata": {},
   "source": [
    "    1. string               — Common string operations\n",
    "    2. re                   — Regular expression operations\n",
    "    3. difflib              — Helpers for computing deltas\n",
    "    4. textwrap             — Text wrapping and filling\n",
    "    5. unicodedata          — Unicode Database\n",
    "    6. stringprep           — Internet String Preparation\n",
    "    7. readline             — GNU readline interface\n",
    "    8. rlcompleter          — Completion function for GNU readline    "
   ]
  },
  {
   "cell_type": "markdown",
   "metadata": {},
   "source": [
    "## 1. string"
   ]
  },
  {
   "cell_type": "markdown",
   "metadata": {},
   "source": [
    "## 2. re"
   ]
  },
  {
   "cell_type": "code",
   "execution_count": null,
   "metadata": {},
   "outputs": [],
   "source": [
    "import re\n",
    "\"\"\"\n",
    "FUNCTIONS\n",
    "    compile(pattern, flags=0)\n",
    "       \n",
    "    escape(pattern)\n",
    "      \n",
    "    findall(pattern, string, flags=0)\n",
    "      \n",
    "    finditer(pattern, string, flags=0)\n",
    "      \n",
    "    fullmatch(pattern, string, flags=0)\n",
    "      \n",
    "    match(pattern, string, flags=0)\n",
    "     \n",
    "    purge()\n",
    "      \n",
    "    search(pattern, string, flags=0)\n",
    "      \n",
    "    split(pattern, string, maxsplit=0, flags=0)\n",
    "     \n",
    "    sub(pattern, repl, string, count=0, flags=0)\n",
    "     \n",
    "    \n",
    "    subn(pattern, repl, string, count=0, flags=0)\n",
    "\n",
    "    template(pattern, flags=0)\n",
    "\"\"\"\n",
    "exampleString=\"\"\"Rohan is 16 years old Grandfather's of Mohan is 102 years old.\"\"\"\n",
    "age= re.findall('\\d{1,3}',exampleString)\n",
    "print(age)\n",
    "name= re.findall('[A-Z][a-z]*',exampleString)\n",
    "print(name)\n"
   ]
  },
  {
   "cell_type": "code",
   "execution_count": 1,
   "metadata": {},
   "outputs": [
    {
     "ename": "FileNotFoundError",
     "evalue": "[Errno 2] No such file or directory: 'myfile.txt'",
     "output_type": "error",
     "traceback": [
      "\u001b[1;31m---------------------------------------------------------------------------\u001b[0m",
      "\u001b[1;31mFileNotFoundError\u001b[0m                         Traceback (most recent call last)",
      "\u001b[1;32m<ipython-input-1-37b6633e0341>\u001b[0m in \u001b[0;36m<module>\u001b[1;34m\u001b[0m\n\u001b[0;32m     17\u001b[0m \u001b[1;33m\u001b[0m\u001b[0m\n\u001b[0;32m     18\u001b[0m \u001b[1;33m\u001b[0m\u001b[0m\n\u001b[1;32m---> 19\u001b[1;33m \u001b[0mf\u001b[0m \u001b[1;33m=\u001b[0m \u001b[0mopen\u001b[0m\u001b[1;33m(\u001b[0m\u001b[1;34m\"myfile.txt\"\u001b[0m\u001b[1;33m)\u001b[0m\u001b[1;33m\u001b[0m\u001b[1;33m\u001b[0m\u001b[0m\n\u001b[0m\u001b[0;32m     20\u001b[0m \u001b[1;32mfor\u001b[0m \u001b[0mline\u001b[0m \u001b[1;32min\u001b[0m \u001b[0mf\u001b[0m\u001b[1;33m:\u001b[0m\u001b[1;33m\u001b[0m\u001b[1;33m\u001b[0m\u001b[0m\n\u001b[0;32m     21\u001b[0m   \u001b[1;32mpass\u001b[0m\u001b[1;33m\u001b[0m\u001b[1;33m\u001b[0m\u001b[0m\n",
      "\u001b[1;31mFileNotFoundError\u001b[0m: [Errno 2] No such file or directory: 'myfile.txt'"
     ]
    }
   ],
   "source": [
    "import re\n",
    "\n",
    "#Check if the string starts with \"The\" and ends with \"Spain\":\n",
    "\n",
    "'''f = open(\"myfile.txt\")\n",
    "for line in f:\n",
    "  line = line.rstrip()\n",
    "\n",
    "if re.search('^The', line):\n",
    "  print(\"YES! We have a match!\")\n",
    "else:\n",
    "  print(\"No match\")\n",
    "f.close()'''\n",
    "f = open(\"myfile.txt\")\n",
    "for line in f:\n",
    "  pass\n",
    "  # line = line.rstrip()\n",
    "x = re.findall(\"\\w\", line)\n",
    "print(x)\n",
    "if(x):\n",
    "  print(\"YES! We have a match!\")\n",
    "else:\n",
    "  print(\"No match\")\n",
    "f.close()"
   ]
  },
  {
   "cell_type": "markdown",
   "metadata": {},
   "source": [
    "## 3. difflib"
   ]
  },
  {
   "cell_type": "markdown",
   "metadata": {},
   "source": [
    "## 4. textwrap"
   ]
  },
  {
   "cell_type": "markdown",
   "metadata": {},
   "source": [
    "## 5. unicodedata"
   ]
  },
  {
   "cell_type": "markdown",
   "metadata": {},
   "source": [
    "## 6. stringprep"
   ]
  },
  {
   "cell_type": "markdown",
   "metadata": {},
   "source": [
    "## 7. readline"
   ]
  },
  {
   "cell_type": "markdown",
   "metadata": {},
   "source": [
    "## 8. rlcompleter"
   ]
  },
  {
   "cell_type": "code",
   "execution_count": null,
   "metadata": {},
   "outputs": [],
   "source": []
  }
 ],
 "metadata": {
  "kernelspec": {
   "display_name": "Python 3",
   "language": "python",
   "name": "python3"
  },
  "language_info": {
   "codemirror_mode": {
    "name": "ipython",
    "version": 3
   },
   "file_extension": ".py",
   "mimetype": "text/x-python",
   "name": "python",
   "nbconvert_exporter": "python",
   "pygments_lexer": "ipython3",
   "version": "3.7.8"
  }
 },
 "nbformat": 4,
 "nbformat_minor": 4
}
