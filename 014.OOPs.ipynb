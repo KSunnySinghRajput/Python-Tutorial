{
 "cells": [
  {
   "cell_type": "markdown",
   "metadata": {},
   "source": [
    "## 1. Object"
   ]
  },
  {
   "cell_type": "code",
   "execution_count": 19,
   "metadata": {},
   "outputs": [],
   "source": [
    "python = object()"
   ]
  },
  {
   "cell_type": "code",
   "execution_count": 20,
   "metadata": {},
   "outputs": [
    {
     "name": "stdout",
     "output_type": "stream",
     "text": [
      "<class 'object'>\n"
     ]
    }
   ],
   "source": [
    "print(type(python))"
   ]
  },
  {
   "cell_type": "code",
   "execution_count": 92,
   "metadata": {},
   "outputs": [
    {
     "name": "stdout",
     "output_type": "stream",
     "text": [
      "<class 'object'>\n",
      "['__class__', '__delattr__', '__dir__', '__doc__', '__eq__', '__format__', '__ge__', '__getattribute__', '__gt__', '__hash__', '__init__', '__init_subclass__', '__le__', '__lt__', '__ne__', '__new__', '__reduce__', '__reduce_ex__', '__repr__', '__setattr__', '__sizeof__', '__str__', '__subclasshook__']\n"
     ]
    }
   ],
   "source": [
    "print(dir(python)) "
   ]
  },
  {
   "cell_type": "markdown",
   "metadata": {},
   "source": [
    "## 2. OOPs\n",
    "**Class, Objects & Constructor**\n"
   ]
  },
  {
   "cell_type": "code",
   "execution_count": null,
   "metadata": {},
   "outputs": [],
   "source": [
    "#Almost everything in Python is an object, with its properties and methods.\n",
    "#A Class is like an object constructor, or a \"blueprint\" for creating objects.\n",
    "\n",
    "#Note: The __init__() function is called automatically every time the class is being used to create a new object.\n",
    "#Note: The self parameter is a reference to the class instance itself, and is used to access variables that belongs to the class.\n"
   ]
  },
  {
   "cell_type": "code",
   "execution_count": 3,
   "metadata": {},
   "outputs": [],
   "source": [
    "class carColor:\n",
    "    brad=\"hello\"\n",
    "    def __init__(data,a,brand):\n",
    "        data.brand=brand\n",
    "        data.a=a\n",
    "        \n",
    "    def color(data):\n",
    "        print(data.a)\n",
    "    \n",
    "    def BrandName(data):\n",
    "        print(data.brand)\n",
    "  "
   ]
  },
  {
   "cell_type": "code",
   "execution_count": 4,
   "metadata": {},
   "outputs": [
    {
     "name": "stdout",
     "output_type": "stream",
     "text": [
      "red\n",
      "honda\n"
     ]
    },
    {
     "data": {
      "text/plain": [
       "'honda'"
      ]
     },
     "execution_count": 4,
     "metadata": {},
     "output_type": "execute_result"
    }
   ],
   "source": [
    "      \n",
    "a1=carColor('red',\"honda\")\n",
    "a1.color()\n",
    "a1.BrandName()\n",
    "a1.a\n",
    "a1.brand"
   ]
  },
  {
   "cell_type": "code",
   "execution_count": 5,
   "metadata": {},
   "outputs": [
    {
     "name": "stdout",
     "output_type": "stream",
     "text": [
      "blue\n",
      "Hero\n"
     ]
    }
   ],
   "source": [
    "a2=carColor('blue',\"Hero\")\n",
    "a2.color()\n",
    "a2.BrandName()"
   ]
  },
  {
   "cell_type": "code",
   "execution_count": 6,
   "metadata": {},
   "outputs": [],
   "source": [
    "class carColor:\n",
    "    pass"
   ]
  },
  {
   "cell_type": "code",
   "execution_count": 8,
   "metadata": {},
   "outputs": [
    {
     "name": "stdout",
     "output_type": "stream",
     "text": [
      "hello\n"
     ]
    }
   ],
   "source": [
    "a1=carColor()\n",
    "a1.hello=\"hello\"\n",
    "print(a1.hello)"
   ]
  },
  {
   "cell_type": "code",
   "execution_count": 15,
   "metadata": {},
   "outputs": [],
   "source": [
    "# Creating Class\n",
    "class Employee:\n",
    " \n",
    "    # The __init__() (Constructer function)\n",
    "    def __init__(self, fname, lname, salary):    \n",
    "        self.fname = fname \n",
    "        self.lname = lname\n",
    "        self.salary = salary\n",
    "    \n",
    "    def FullName(self):\n",
    "        name = self.fname,self.lname\n",
    "        print(type(name))\n",
    "        print(name)"
   ]
  },
  {
   "cell_type": "code",
   "execution_count": 16,
   "metadata": {},
   "outputs": [],
   "source": [
    "# self : a Class’s own attr or method\n",
    "# SELF means the object whom I am talking too...\n",
    "\n",
    "# Creating Objects's  Instance (emp1 & emp2)\n",
    "emp1 = Employee(\"Ram\", \"Singh\", 50000)\n",
    "emp2 = Employee(\"Shayam\", \"Vimal\", 50000)\n",
    "\n",
    "# Employee() is Object\n",
    "# em1,em2 Is instance"
   ]
  },
  {
   "cell_type": "code",
   "execution_count": 17,
   "metadata": {},
   "outputs": [
    {
     "name": "stdout",
     "output_type": "stream",
     "text": [
      "50000\n",
      "Ram\n"
     ]
    }
   ],
   "source": [
    "# attr\n",
    "print(emp1.salary)\n",
    "print(emp1.fname)"
   ]
  },
  {
   "cell_type": "code",
   "execution_count": 106,
   "metadata": {},
   "outputs": [
    {
     "name": "stdout",
     "output_type": "stream",
     "text": [
      "<class 'tuple'>\n",
      "('Ram', 'Singh')\n"
     ]
    }
   ],
   "source": [
    "# method\n",
    "emp1.FullName()"
   ]
  },
  {
   "cell_type": "markdown",
   "metadata": {},
   "source": [
    "## 3. Class Demo ( Create an empty employee record)"
   ]
  },
  {
   "cell_type": "code",
   "execution_count": 93,
   "metadata": {},
   "outputs": [],
   "source": [
    "##Class Define\n",
    "class Employee:\n",
    "    pass\n",
    "\n",
    "john = Employee()\n",
    "\n",
    "\n",
    "\n",
    "# Fill the fields of the record\n",
    "john.name = 'John Doe'\n",
    "john.dept = 'computer lab'\n",
    "john.salary = 1000"
   ]
  },
  {
   "cell_type": "markdown",
   "metadata": {},
   "source": [
    "### 5. Public, Protected, Private Variables\n",
    "\n",
    "    They are access modifiers and help us implement Encapsulation (or information hiding). They tell the compiler which other classes should have access to the field or method being defined.\n",
    "\n",
    "- **private** - Only the current class will have access to the field or method.\n",
    "\n",
    "- **protected** - Only the current class and subclasses (and sometimes also same-package classes) of this class will have access to the field or method.\n",
    "\n",
    "- **public** - Any class can refer to the field or call the method."
   ]
  },
  {
   "cell_type": "code",
   "execution_count": 26,
   "metadata": {},
   "outputs": [],
   "source": [
    "class mySql:\n",
    "    Password=\"MasterRoot\""
   ]
  },
  {
   "cell_type": "code",
   "execution_count": 27,
   "metadata": {},
   "outputs": [
    {
     "data": {
      "text/plain": [
       "'MasterRoot'"
      ]
     },
     "execution_count": 27,
     "metadata": {},
     "output_type": "execute_result"
    }
   ],
   "source": [
    "a=mySql\n",
    "a.Password"
   ]
  },
  {
   "cell_type": "code",
   "execution_count": 34,
   "metadata": {},
   "outputs": [],
   "source": [
    "class Employee:\n",
    "    #Protected Attributes\n",
    "    public = 10\n",
    "    _protected = 20\n",
    "    __private = 30\n",
    "    __private__ = 30"
   ]
  },
  {
   "cell_type": "code",
   "execution_count": 35,
   "metadata": {},
   "outputs": [
    {
     "name": "stdout",
     "output_type": "stream",
     "text": [
      "10\n"
     ]
    }
   ],
   "source": [
    "emp1 = Employee()\n",
    "print(emp1.public)"
   ]
  },
  {
   "cell_type": "code",
   "execution_count": 36,
   "metadata": {},
   "outputs": [
    {
     "data": {
      "text/plain": [
       "50"
      ]
     },
     "execution_count": 36,
     "metadata": {},
     "output_type": "execute_result"
    }
   ],
   "source": [
    "emp1.public = 50\n",
    "emp1.public"
   ]
  },
  {
   "cell_type": "code",
   "execution_count": 42,
   "metadata": {},
   "outputs": [
    {
     "name": "stdout",
     "output_type": "stream",
     "text": [
      "60\n"
     ]
    },
    {
     "data": {
      "text/plain": [
       "60"
      ]
     },
     "execution_count": 42,
     "metadata": {},
     "output_type": "execute_result"
    }
   ],
   "source": [
    "print(emp1._protected)\n",
    "emp1._protected = 60\n",
    "emp1._protected "
   ]
  },
  {
   "cell_type": "code",
   "execution_count": 38,
   "metadata": {},
   "outputs": [
    {
     "name": "stdout",
     "output_type": "stream",
     "text": [
      "30\n",
      "30\n"
     ]
    }
   ],
   "source": [
    "print(emp1._Employee__private--)\n",
    "emp1.__private = 70\n",
    "print(emp1._Employee__private)"
   ]
  },
  {
   "cell_type": "code",
   "execution_count": 45,
   "metadata": {},
   "outputs": [
    {
     "ename": "AttributeError",
     "evalue": "'Employee' object has no attribute '_Employee__private__'",
     "output_type": "error",
     "traceback": [
      "\u001b[1;31m---------------------------------------------------------------------------\u001b[0m",
      "\u001b[1;31mAttributeError\u001b[0m                            Traceback (most recent call last)",
      "\u001b[1;32m<ipython-input-45-3c62990b9f50>\u001b[0m in \u001b[0;36m<module>\u001b[1;34m\u001b[0m\n\u001b[1;32m----> 1\u001b[1;33m \u001b[0mprint\u001b[0m\u001b[1;33m(\u001b[0m\u001b[0memp1\u001b[0m\u001b[1;33m.\u001b[0m\u001b[0m_Employee__private__\u001b[0m\u001b[1;33m)\u001b[0m\u001b[1;33m\u001b[0m\u001b[1;33m\u001b[0m\u001b[0m\n\u001b[0m\u001b[0;32m      2\u001b[0m \u001b[0memp1\u001b[0m\u001b[1;33m.\u001b[0m\u001b[0m__private\u001b[0m \u001b[1;33m=\u001b[0m \u001b[1;36m70\u001b[0m\u001b[1;33m\u001b[0m\u001b[1;33m\u001b[0m\u001b[0m\n\u001b[0;32m      3\u001b[0m \u001b[0mprint\u001b[0m\u001b[1;33m(\u001b[0m\u001b[0memp1\u001b[0m\u001b[1;33m.\u001b[0m\u001b[0m_Employee__private__\u001b[0m\u001b[1;33m)\u001b[0m\u001b[1;33m\u001b[0m\u001b[1;33m\u001b[0m\u001b[0m\n",
      "\u001b[1;31mAttributeError\u001b[0m: 'Employee' object has no attribute '_Employee__private__'"
     ]
    }
   ],
   "source": [
    "print(emp1._Employee__private__)\n",
    "emp1.__private = 70\n",
    "print(emp1._Employee__private__)"
   ]
  },
  {
   "cell_type": "code",
   "execution_count": null,
   "metadata": {},
   "outputs": [],
   "source": [
    "\n",
    "class Employee:\n",
    "    def __init__(self, name, age, salary):\n",
    "        self.name = name\n",
    "        self._age = age\n",
    "        self.__salary = salary\n",
    "    \n",
    "    def setsalary(self, salary):\n",
    "        self.__salary = salary\n",
    "    def getsalary(self):\n",
    "        return self.__salary\n",
    "\n",
    "\n",
    "\n",
    "emp1 = Employee(\"Ramesh\", 48, 50000)\n",
    "\n",
    "emp1.setsalary(65000)\n",
    "# emp1.__salary = 65000\n",
    "print(emp1.getsalary())\n",
    "# print(emp1.name)\n",
    "# print(emp1._age)"
   ]
  },
  {
   "cell_type": "markdown",
   "metadata": {},
   "source": [
    "## 4. Decorators\n",
    "\n",
    "    @property       Declares a method as a property's setter or getter methods.\n",
    "    @classmethod    Declares a method as a class's method that can be called using the class name.\n",
    "    @staticmethod   Declares a method as a static method."
   ]
  },
  {
   "cell_type": "raw",
   "metadata": {},
   "source": [
    "def mydecorator(fn):\n",
    "    def inner_function():        \n",
    "        fn()\n",
    "        print('How are you?')\n",
    "    return inner_function"
   ]
  },
  {
   "cell_type": "code",
   "execution_count": 27,
   "metadata": {},
   "outputs": [],
   "source": [
    "def greet():\n",
    "    print('Hello! ', end='')\n",
    "    \n",
    "def mydecorator(fn):\n",
    "    fn()\n",
    "    print('How are you?')"
   ]
  },
  {
   "cell_type": "code",
   "execution_count": 28,
   "metadata": {},
   "outputs": [],
   "source": [
    "#mydecorator(greet)"
   ]
  },
  {
   "cell_type": "code",
   "execution_count": 29,
   "metadata": {},
   "outputs": [
    {
     "name": "stdout",
     "output_type": "stream",
     "text": [
      "Hello! How are you?\n"
     ]
    }
   ],
   "source": [
    "@mydecorator\n",
    "def greet():\n",
    "    print('Hello! ', end='')\n",
    "    "
   ]
  },
  {
   "cell_type": "markdown",
   "metadata": {},
   "source": [
    "**1. @property**\n",
    "    \n",
    "    The @property decorator is a built-in decorator in Python for the property() function. Use @property decorator on any method in the class to use the method as a property.\n",
    "\n",
    "You can use the following three decorators to define a property:\n",
    "\n",
    "    - @property: Declares the method as a property.\n",
    "    - @<property-name>.setter: Specifies the setter method for a property that sets the value to a property.\n",
    "    - @<property-name>.deleter: Specifies the delete method as a property that deletes a property."
   ]
  },
  {
   "cell_type": "code",
   "execution_count": 119,
   "metadata": {},
   "outputs": [],
   "source": [
    "class Student:\n",
    "\n",
    "    def __init__(self, name):\n",
    "        self.__name = name\n",
    "\n",
    "    @property\n",
    "    def name(self):\n",
    "        return self.__name\n",
    "    \n",
    "    @name.setter   #property-name.setter decorator\n",
    "    def name(self, value):\n",
    "        self.__name = value\n",
    "    \n",
    "    @name.deleter   #property-name.deleter decorator\n",
    "    def name(self):\n",
    "        print('Deleting..')\n",
    "        del self.__name"
   ]
  },
  {
   "cell_type": "code",
   "execution_count": 120,
   "metadata": {},
   "outputs": [
    {
     "data": {
      "text/plain": [
       "'Steve'"
      ]
     },
     "execution_count": 120,
     "metadata": {},
     "output_type": "execute_result"
    }
   ],
   "source": [
    "s = Student('Steve')\n",
    "s.name "
   ]
  },
  {
   "cell_type": "code",
   "execution_count": 121,
   "metadata": {},
   "outputs": [
    {
     "data": {
      "text/plain": [
       "'Bill'"
      ]
     },
     "execution_count": 121,
     "metadata": {},
     "output_type": "execute_result"
    }
   ],
   "source": [
    "s.name = 'Bill'\n",
    "s.name "
   ]
  },
  {
   "cell_type": "code",
   "execution_count": 122,
   "metadata": {},
   "outputs": [
    {
     "name": "stdout",
     "output_type": "stream",
     "text": [
      "Deleting..\n"
     ]
    }
   ],
   "source": [
    "s = Student('Steve')\n",
    "del s.name "
   ]
  },
  {
   "cell_type": "code",
   "execution_count": 123,
   "metadata": {},
   "outputs": [],
   "source": [
    "#s.name \n",
    "# AttributeError: 'Student' object has no attribute '_Student__name'"
   ]
  },
  {
   "cell_type": "markdown",
   "metadata": {},
   "source": [
    "### 2. @classmethod\n",
    "\n",
    "    In Python, the @classmethod decorator is used to declare a method in the class as a class method that can be called using ClassName.MethodName(). The class method can also be called using an object of the class.\n",
    "\n",
    "- The @classmethod is an alternative of the classmethod() function.\n",
    "- It is recommended to use the @classmethod decorator instead of the function because it is just a syntactic sugar.\n",
    "\n",
    "**@classmethod Characteristics**\n",
    "\n",
    "    Declares a class method.\n",
    "    The first parameter must be cls, which can be used to access class attributes.\n",
    "    The class method can only access the class attributes but not the instance attributes.\n",
    "    The class method can be called using ClassName.MethodName() and also using object.\n",
    "    It can return an object of the class.\n"
   ]
  },
  {
   "cell_type": "code",
   "execution_count": 124,
   "metadata": {},
   "outputs": [],
   "source": [
    "class Student:\n",
    "    name = 'unknown' # class attribute\n",
    "    def __init__(self):\n",
    "        self.age = 20  # instance attribute\n",
    "\n",
    "    @classmethod\n",
    "    def tostring1(cls):\n",
    "        print('Student Class Attributes: name=',cls.name)\n",
    "    \n",
    "    @classmethod\n",
    "    def tostring2(cls):\n",
    "        print('Student Class Attributes: age=', cls.age)\n"
   ]
  },
  {
   "cell_type": "code",
   "execution_count": 125,
   "metadata": {},
   "outputs": [
    {
     "name": "stdout",
     "output_type": "stream",
     "text": [
      "Student Class Attributes: name= unknown\n"
     ]
    }
   ],
   "source": [
    "Student.tostring1()"
   ]
  },
  {
   "cell_type": "code",
   "execution_count": 126,
   "metadata": {},
   "outputs": [
    {
     "name": "stdout",
     "output_type": "stream",
     "text": [
      "Student Class Attributes: name= unknown\n"
     ]
    }
   ],
   "source": [
    "Student().tostring1() "
   ]
  },
  {
   "cell_type": "code",
   "execution_count": 127,
   "metadata": {},
   "outputs": [],
   "source": [
    "#Student().tostring2() \n",
    "\n",
    "# AttributeError: type object 'Student' has no attribute 'age'"
   ]
  },
  {
   "cell_type": "markdown",
   "metadata": {},
   "source": [
    "### 3.@staticmethod\n",
    "\n",
    "    The @staticmethod is a built-in decorator that defines a static method in the class in Python. A static method doesn't receive any reference argument whether it is called by an instance of a class or by the class itself.\n",
    "\n",
    "**@staticmethod Characteristics**\n",
    "\n",
    "    Declares a static method in the class.\n",
    "    It cannot have cls or self parameter.\n",
    "    The static method cannot access the class attributes or the instance attributes.\n",
    "    The static method can be called using ClassName.MethodName() and also using object.MethodName().\n",
    "    It can return an object of the class."
   ]
  },
  {
   "cell_type": "code",
   "execution_count": 128,
   "metadata": {},
   "outputs": [],
   "source": [
    "class Student:\n",
    "    name = 'unknown' # class attribute\n",
    "    \n",
    "    def __init__(self):\n",
    "        self.age = 20  # instance attribute\n",
    "\n",
    "    @staticmethod\n",
    "    def tostring1():\n",
    "        print('Student Class')\n",
    "    \n",
    "    @staticmethod\n",
    "    def tostring2():\n",
    "        print('age=',self.age)"
   ]
  },
  {
   "cell_type": "code",
   "execution_count": 129,
   "metadata": {},
   "outputs": [
    {
     "name": "stdout",
     "output_type": "stream",
     "text": [
      "Student Class\n"
     ]
    }
   ],
   "source": [
    "Student.tostring1()"
   ]
  },
  {
   "cell_type": "code",
   "execution_count": 130,
   "metadata": {},
   "outputs": [
    {
     "name": "stdout",
     "output_type": "stream",
     "text": [
      "Student Class\n"
     ]
    }
   ],
   "source": [
    "Student().tostring1() "
   ]
  },
  {
   "cell_type": "code",
   "execution_count": 131,
   "metadata": {},
   "outputs": [],
   "source": [
    "# Student.tostring2()\n",
    "# NameError: name 'self' is not defined"
   ]
  },
  {
   "cell_type": "markdown",
   "metadata": {},
   "source": [
    "# Scopes and Namespaces"
   ]
  },
  {
   "cell_type": "code",
   "execution_count": 133,
   "metadata": {},
   "outputs": [
    {
     "name": "stdout",
     "output_type": "stream",
     "text": [
      "After local assignment: test spam\n",
      "After nonlocal assignment: nonlocal spam\n",
      "After global assignment: nonlocal spam\n",
      "In global scope: global spam\n"
     ]
    }
   ],
   "source": []
  },
  {
   "cell_type": "markdown",
   "metadata": {},
   "source": [
    "# <center>Inheritance</center>"
   ]
  },
  {
   "cell_type": "code",
   "execution_count": 22,
   "metadata": {},
   "outputs": [],
   "source": [
    "o=object()"
   ]
  },
  {
   "cell_type": "code",
   "execution_count": 23,
   "metadata": {},
   "outputs": [
    {
     "data": {
      "text/plain": [
       "object"
      ]
     },
     "execution_count": 23,
     "metadata": {},
     "output_type": "execute_result"
    }
   ],
   "source": [
    "type(o)"
   ]
  },
  {
   "cell_type": "code",
   "execution_count": 24,
   "metadata": {},
   "outputs": [
    {
     "data": {
      "text/plain": [
       "['__class__',\n",
       " '__delattr__',\n",
       " '__dir__',\n",
       " '__doc__',\n",
       " '__eq__',\n",
       " '__format__',\n",
       " '__ge__',\n",
       " '__getattribute__',\n",
       " '__gt__',\n",
       " '__hash__',\n",
       " '__init__',\n",
       " '__init_subclass__',\n",
       " '__le__',\n",
       " '__lt__',\n",
       " '__ne__',\n",
       " '__new__',\n",
       " '__reduce__',\n",
       " '__reduce_ex__',\n",
       " '__repr__',\n",
       " '__setattr__',\n",
       " '__sizeof__',\n",
       " '__str__',\n",
       " '__subclasshook__']"
      ]
     },
     "execution_count": 24,
     "metadata": {},
     "output_type": "execute_result"
    }
   ],
   "source": [
    "dir(o)"
   ]
  },
  {
   "cell_type": "code",
   "execution_count": 113,
   "metadata": {},
   "outputs": [],
   "source": [
    "class Grandfather:\n",
    "    def __init__(self,hello):\n",
    "        print(hello)\n",
    "        self.hello=hello\n",
    "        print(\"GF Const\")\n",
    "        print( self.hello)\n",
    "\n",
    "    def GfHello(self):\n",
    "        print(\"hello I am Grandfather\")\n",
    "        \n",
    "    def SuperArg(self):\n",
    "        print(self.hello)"
   ]
  },
  {
   "cell_type": "code",
   "execution_count": 114,
   "metadata": {},
   "outputs": [
    {
     "name": "stdout",
     "output_type": "stream",
     "text": [
      "hello\n",
      "GF Const\n",
      "hello\n"
     ]
    }
   ],
   "source": [
    "gf= Grandfather(\"hello\")"
   ]
  },
  {
   "cell_type": "code",
   "execution_count": 115,
   "metadata": {},
   "outputs": [
    {
     "name": "stdout",
     "output_type": "stream",
     "text": [
      "hello I am Grandfather\n"
     ]
    }
   ],
   "source": [
    "gf.GfHello()"
   ]
  },
  {
   "cell_type": "code",
   "execution_count": 116,
   "metadata": {},
   "outputs": [
    {
     "name": "stdout",
     "output_type": "stream",
     "text": [
      "hello\n"
     ]
    }
   ],
   "source": [
    "gf.SuperArg()"
   ]
  },
  {
   "cell_type": "code",
   "execution_count": null,
   "metadata": {},
   "outputs": [],
   "source": [
    "#         hello=\"hello\"\n",
    "#         super().__init__(\"hello\")"
   ]
  },
  {
   "cell_type": "code",
   "execution_count": 128,
   "metadata": {},
   "outputs": [],
   "source": [
    "class father(Grandfather):\n",
    "    def __init__(self):\n",
    "        self.hello=\"hello\"\n",
    "#         super().__init__(\"hello\")\n",
    "        print(\"F Const\")\n",
    "\n",
    "    def FHello(self):\n",
    "        print(\"hello I am Father\")"
   ]
  },
  {
   "cell_type": "code",
   "execution_count": 129,
   "metadata": {},
   "outputs": [
    {
     "name": "stdout",
     "output_type": "stream",
     "text": [
      "F Const\n"
     ]
    }
   ],
   "source": [
    "f=father()"
   ]
  },
  {
   "cell_type": "code",
   "execution_count": 130,
   "metadata": {},
   "outputs": [
    {
     "name": "stdout",
     "output_type": "stream",
     "text": [
      "hello I am Father\n"
     ]
    }
   ],
   "source": [
    "f.FHello()"
   ]
  },
  {
   "cell_type": "code",
   "execution_count": 131,
   "metadata": {},
   "outputs": [
    {
     "name": "stdout",
     "output_type": "stream",
     "text": [
      "hello I am Grandfather\n"
     ]
    }
   ],
   "source": [
    "f.GfHello()"
   ]
  },
  {
   "cell_type": "code",
   "execution_count": 132,
   "metadata": {},
   "outputs": [
    {
     "name": "stdout",
     "output_type": "stream",
     "text": [
      "hello\n"
     ]
    }
   ],
   "source": [
    "f.SuperArg()"
   ]
  },
  {
   "cell_type": "code",
   "execution_count": 56,
   "metadata": {},
   "outputs": [],
   "source": [
    "class child(father):\n",
    "    def __init__(self,a):\n",
    "        print(a)\n",
    "        \n",
    "    def Hello(self):\n",
    "        print(\"hello I am Child\")"
   ]
  },
  {
   "cell_type": "code",
   "execution_count": 57,
   "metadata": {},
   "outputs": [
    {
     "name": "stdout",
     "output_type": "stream",
     "text": [
      "<__main__.a object at 0x000001AB13B6B388>\n"
     ]
    }
   ],
   "source": [
    "ch = child(a)"
   ]
  },
  {
   "cell_type": "code",
   "execution_count": 58,
   "metadata": {},
   "outputs": [
    {
     "name": "stdout",
     "output_type": "stream",
     "text": [
      "hello I am Child\n"
     ]
    }
   ],
   "source": [
    "ch.Hello()"
   ]
  },
  {
   "cell_type": "code",
   "execution_count": 59,
   "metadata": {},
   "outputs": [
    {
     "name": "stdout",
     "output_type": "stream",
     "text": [
      "hello I am Father\n"
     ]
    }
   ],
   "source": [
    "ch.FHello()"
   ]
  },
  {
   "cell_type": "code",
   "execution_count": 61,
   "metadata": {},
   "outputs": [
    {
     "name": "stdout",
     "output_type": "stream",
     "text": [
      "hello I am Grandfather\n"
     ]
    }
   ],
   "source": [
    "ch.GfHello()"
   ]
  },
  {
   "cell_type": "markdown",
   "metadata": {},
   "source": [
    "## 1.Single Inheritance"
   ]
  },
  {
   "cell_type": "code",
   "execution_count": 1,
   "metadata": {},
   "outputs": [
    {
     "name": "stdout",
     "output_type": "stream",
     "text": [
      "Name is Ramesh Agarwal and age is 50\n",
      "Name is Suresh Agarwal and age is 12\n"
     ]
    }
   ],
   "source": [
    "class Father:\n",
    "    def __init__(self, fname, lname, age):\n",
    "        self.fname = fname\n",
    "        self.lname = lname\n",
    "        self.age = age\n",
    "    def fdetails(self):\n",
    "        return f\"Name is {self.fname} {self.lname} and age is {self.age}\"\n",
    "    \n",
    "class Child(Father):\n",
    "    def cdetails(self):\n",
    "        return f\"Name is {self.fname} {self.lname} and age is {self.age}\"\n",
    "ramesh = Father(\"Ramesh\",\"Agarwal\", 50)\n",
    "print(ramesh.fdetails())\n",
    "suresh = Child(\"Suresh\",\"Agarwal\", 12)\n",
    "print(suresh.cdetails())"
   ]
  },
  {
   "cell_type": "markdown",
   "metadata": {},
   "source": [
    "## 2.Multiple Inheritance "
   ]
  },
  {
   "cell_type": "code",
   "execution_count": null,
   "metadata": {},
   "outputs": [],
   "source": [
    "#Parent Class\n",
    "class Father:\n",
    "    no_of_leaves = 30\n",
    "    def __init__(self, fname, lname, age, occupation):\n",
    "        self.fname = fname\n",
    "        self.lname = lname\n",
    "        self.age = age\n",
    "        self.occupation = occupation\n",
    "    def fdetails(self):\n",
    "        return f\"Name is {self.fname} {self.lname}, age is {self.age} and occupation is {self.occupation}\"\n",
    "    # def fleaves(self):\n",
    "    #     print(self.fleaves)\n",
    "\n",
    "#Parent Class\n",
    "class Mother:\n",
    "    no_of_leaves = 30\n",
    "    def __init__(self, fname, lname, age, expertise):\n",
    "        self.fname = fname\n",
    "        self.lname = lname\n",
    "        self.age = age\n",
    "        self.expertise = expertise\n",
    "    def mdetails(self):\n",
    "        return f\"Name is {self.fname} {self.lname} and age is {self.age} and expertise is {self.expertise}\"\n",
    "    # def mexpertise(self):\n",
    "    #     print (self.cooking_expertise)\n",
    "\n",
    "#Child Class - It Inherits from both above classes\n",
    "class Child(Father, Mother):\n",
    "    no_of_leaves = 30\n",
    "    def cdetails(self):\n",
    "        return f\"Name is {self.fname} {self.lname}, age is {self.age} and he is {self.occupation}\"\n",
    "\n",
    "ramesh = Father(\"Ramesh\",\"Agarwal\", 50, \"Business\")\n",
    "print(ramesh.fdetails())\n",
    "# ramesh.fleaves()\n",
    "\n",
    "sushma = Mother(\"Sushma\", \"Agarwal\", 47, \"Cooking\")\n",
    "print(sushma.mdetails())\n",
    "\n",
    "suresh = Child(\"Suresh\",\"Agarwal\", 12, \"Student\")\n",
    "print(suresh.cdetails())\n",
    "print(suresh.no_of_leaves)"
   ]
  },
  {
   "cell_type": "markdown",
   "metadata": {},
   "source": [
    "## 3.Multilevel Inheritance"
   ]
  },
  {
   "cell_type": "code",
   "execution_count": 2,
   "metadata": {},
   "outputs": [
    {
     "name": "stdout",
     "output_type": "stream",
     "text": [
      "Name is Ramesh and age is 50\n",
      "Name is Mahesh, age is 47 and occupation is Teacher\n",
      "15\n",
      "Name is Suresh, age is 12 and occupation is Student and my leaves are 20\n"
     ]
    }
   ],
   "source": [
    "#Parent Class\n",
    "class Grandfather:\n",
    "    no_of_leaves = 10\n",
    "    def __init__(self, name, age):\n",
    "        self.name = name\n",
    "        self.age = age  \n",
    "    def gfdetails(self):\n",
    "        return f\"Name is {self.name} and age is {self.age}\"\n",
    "\n",
    "class Father(Grandfather):\n",
    "    no_of_leaves = 15\n",
    "    def __init__(self, name, age, occupation):\n",
    "        self.name = name\n",
    "        self.age = age\n",
    "        self.occupation = occupation\n",
    "    def fdetails(self):\n",
    "        return f\"Name is {self.name}, age is {self.age} and occupation is {self.occupation}\"    \n",
    "\n",
    "class Child(Father):\n",
    "    no_of_leaves = 20\n",
    "    def fdetails(self):\n",
    "        return f\"Name is {self.name}, age is {self.age} and occupation is {self.occupation} and my leaves are {self.no_of_leaves}\" \n",
    "        \n",
    "ramesh = Grandfather(\"Ramesh\",50)\n",
    "print(ramesh.gfdetails())\n",
    "\n",
    "mahesh = Father(\"Mahesh\", 47, \"Teacher\")\n",
    "print(mahesh.fdetails())\n",
    "print(mahesh.no_of_leaves)\n",
    "\n",
    "suresh = Child(\"Suresh\", 12, \"Student\")\n",
    "print(suresh.fdetails())        \n",
    "# print(suresh.no_of_leaves)"
   ]
  },
  {
   "cell_type": "markdown",
   "metadata": {},
   "source": [
    "## 4.Super Inheritance"
   ]
  },
  {
   "cell_type": "code",
   "execution_count": 3,
   "metadata": {},
   "outputs": [
    {
     "name": "stdout",
     "output_type": "stream",
     "text": [
      "Name is Ramesh Agarwal, age is 35 and salary is 50000\n",
      "Name is Suresh Sharma, age is 35, salary is 45000, language is Python and role is Python Programmer\n"
     ]
    }
   ],
   "source": [
    "class Employee:\n",
    "    def __init__(self, fname, lname, age, salary):\n",
    "        self.fname = fname\n",
    "        self.lname = lname\n",
    "        self.age = age\n",
    "        self.salary = salary\n",
    "    def edetails(self):\n",
    "        return f\"Name is {self.fname} {self.lname}, age is {self.age} and salary is {self.salary}\"\n",
    "\n",
    "\n",
    "class Programmer(Employee):\n",
    "    def __init__(self, fname, lname, age, salary, language, role):\n",
    "        super().__init__(fname, lname, age, salary)\n",
    "        self.language = language\n",
    "        self.role = role\n",
    "    def pdetails(self):\n",
    "        return f\"Name is {self.fname} {self.lname}, age is {self.age}, salary is {self.salary}, language is {self.language} and role is {self.role}\"\n",
    "\n",
    "\n",
    "ramesh = Employee(\"Ramesh\",\"Agarwal\", 35, 50000)\n",
    "print(ramesh.edetails())\n",
    "suresh = Programmer(\"Suresh\",\"Sharma\", 35, 45000, \"Python\", \"Python Programmer\")\n",
    "print(suresh.pdetails())"
   ]
  },
  {
   "cell_type": "markdown",
   "metadata": {},
   "source": [
    "# <center>Polymorphism</center>"
   ]
  },
  {
   "cell_type": "markdown",
   "metadata": {},
   "source": [
    "### doc"
   ]
  },
  {
   "cell_type": "code",
   "execution_count": 1,
   "metadata": {},
   "outputs": [
    {
     "name": "stdout",
     "output_type": "stream",
     "text": [
      "Do nothing, but document it.\n",
      "    No, really, it doesn't do anything.\n",
      "    \n"
     ]
    }
   ],
   "source": [
    "def my_function():\n",
    "    \"\"\"Do nothing, but document it.\n",
    "    No, really, it doesn't do anything.\n",
    "    \"\"\"\n",
    "    pass\n",
    "print(my_function.__doc__)"
   ]
  },
  {
   "cell_type": "markdown",
   "metadata": {},
   "source": [
    "# <center>Built-in Functions</center>"
   ]
  },
  {
   "cell_type": "code",
   "execution_count": 134,
   "metadata": {},
   "outputs": [
    {
     "name": "stdout",
     "output_type": "stream",
     "text": [
      "Help on built-in function len in module builtins:\n",
      "\n",
      "len(obj, /)\n",
      "    Return the number of items in a container.\n",
      "\n"
     ]
    }
   ],
   "source": [
    "# help(len)"
   ]
  },
  {
   "cell_type": "code",
   "execution_count": 135,
   "metadata": {},
   "outputs": [],
   "source": [
    "# help(__builtins__)"
   ]
  },
  {
   "cell_type": "code",
   "execution_count": 36,
   "metadata": {},
   "outputs": [
    {
     "name": "stdout",
     "output_type": "stream",
     "text": [
      "<class 'object'>\n",
      "['__class__', '__delattr__', '__dir__', '__doc__', '__eq__', '__format__', '__ge__', '__getattribute__', '__gt__', '__hash__', '__init__', '__init_subclass__', '__le__', '__lt__', '__ne__', '__new__', '__reduce__', '__reduce_ex__', '__repr__', '__setattr__', '__sizeof__', '__str__', '__subclasshook__']\n"
     ]
    }
   ],
   "source": []
  },
  {
   "cell_type": "code",
   "execution_count": 150,
   "metadata": {},
   "outputs": [],
   "source": [
    "#help(delattr)\n",
    "class Student:\n",
    "    \"\"\"this Is Student Class\"\"\"\n",
    "    id = 101\n",
    "    name = \"Pranshu\"\n",
    "    email = \"pranshu@abc.com\"\n",
    "    def __init__(self,age = 7, y = 9):\n",
    "        self.x = age\n",
    "        self.y = y \n",
    "        \n",
    "    def getinfo(self):\n",
    "        print(self.id, self.name, self.email)\n",
    "        \n",
    "    def m(self):\n",
    "        return \"result\""
   ]
  },
  {
   "cell_type": "code",
   "execution_count": 152,
   "metadata": {},
   "outputs": [
    {
     "name": "stdout",
     "output_type": "stream",
     "text": [
      "Help on built-in function len in module builtins:\n",
      "\n",
      "len(obj, /)\n",
      "    Return the number of items in a container.\n",
      "\n"
     ]
    }
   ],
   "source": [
    "help(len)"
   ]
  },
  {
   "cell_type": "code",
   "execution_count": 151,
   "metadata": {},
   "outputs": [
    {
     "name": "stdout",
     "output_type": "stream",
     "text": [
      "Help on Student in module __main__ object:\n",
      "\n",
      "class Student(builtins.object)\n",
      " |  Student(age=7, y=9)\n",
      " |  \n",
      " |  this Is Student Class\n",
      " |  \n",
      " |  Methods defined here:\n",
      " |  \n",
      " |  __init__(self, age=7, y=9)\n",
      " |      Initialize self.  See help(type(self)) for accurate signature.\n",
      " |  \n",
      " |  getinfo(self)\n",
      " |  \n",
      " |  m(self)\n",
      " |  \n",
      " |  ----------------------------------------------------------------------\n",
      " |  Data descriptors defined here:\n",
      " |  \n",
      " |  __dict__\n",
      " |      dictionary for instance variables (if defined)\n",
      " |  \n",
      " |  __weakref__\n",
      " |      list of weak references to the object (if defined)\n",
      " |  \n",
      " |  ----------------------------------------------------------------------\n",
      " |  Data and other attributes defined here:\n",
      " |  \n",
      " |  email = 'pranshu@abc.com'\n",
      " |  \n",
      " |  id = 101\n",
      " |  \n",
      " |  name = 'Pranshu'\n",
      "\n"
     ]
    }
   ],
   "source": [
    "help(Student())"
   ]
  },
  {
   "cell_type": "code",
   "execution_count": 143,
   "metadata": {},
   "outputs": [
    {
     "data": {
      "text/plain": [
       "__main__.Student"
      ]
     },
     "execution_count": 143,
     "metadata": {},
     "output_type": "execute_result"
    }
   ],
   "source": [
    "type(Student())"
   ]
  },
  {
   "cell_type": "code",
   "execution_count": 144,
   "metadata": {},
   "outputs": [
    {
     "name": "stdout",
     "output_type": "stream",
     "text": [
      "['__class__', '__delattr__', '__dict__', '__dir__', '__doc__', '__eq__', '__format__', '__ge__', '__getattribute__', '__gt__', '__hash__', '__init__', '__init_subclass__', '__le__', '__lt__', '__module__', '__ne__', '__new__', '__reduce__', '__reduce_ex__', '__repr__', '__setattr__', '__sizeof__', '__str__', '__subclasshook__', '__weakref__', 'email', 'getinfo', 'id', 'm', 'name', 'x', 'y']\n"
     ]
    }
   ],
   "source": [
    "print(dir(Student())) "
   ]
  },
  {
   "cell_type": "markdown",
   "metadata": {},
   "source": [
    "### 1. vars (Class Variable)"
   ]
  },
  {
   "cell_type": "code",
   "execution_count": 145,
   "metadata": {},
   "outputs": [],
   "source": [
    "InstanceOfStudent = Student()  "
   ]
  },
  {
   "cell_type": "code",
   "execution_count": 146,
   "metadata": {},
   "outputs": [
    {
     "name": "stdout",
     "output_type": "stream",
     "text": [
      "{'x': 7, 'y': 9}\n"
     ]
    }
   ],
   "source": [
    "print(vars(InstanceOfStudent)) "
   ]
  },
  {
   "cell_type": "markdown",
   "metadata": {},
   "source": [
    "### 1. getinfo"
   ]
  },
  {
   "cell_type": "code",
   "execution_count": 147,
   "metadata": {},
   "outputs": [
    {
     "data": {
      "text/plain": [
       "{'x': 7, 'y': 9}"
      ]
     },
     "execution_count": 147,
     "metadata": {},
     "output_type": "execute_result"
    }
   ],
   "source": [
    "Student().__dict__"
   ]
  },
  {
   "cell_type": "code",
   "execution_count": 148,
   "metadata": {},
   "outputs": [
    {
     "name": "stdout",
     "output_type": "stream",
     "text": [
      "101 Pranshu pranshu@abc.com\n"
     ]
    }
   ],
   "source": [
    "s = Student()\n",
    "s.getinfo()"
   ]
  },
  {
   "cell_type": "markdown",
   "metadata": {},
   "source": [
    "### 2. getattr"
   ]
  },
  {
   "cell_type": "code",
   "execution_count": 35,
   "metadata": {},
   "outputs": [
    {
     "name": "stdout",
     "output_type": "stream",
     "text": [
      "101\n"
     ]
    },
    {
     "data": {
      "text/plain": [
       "__main__.Student"
      ]
     },
     "execution_count": 35,
     "metadata": {},
     "output_type": "execute_result"
    }
   ],
   "source": [
    "stu_object = Student()\n",
    "print(stu_object.id)\n",
    "type(stu_object)"
   ]
  },
  {
   "cell_type": "code",
   "execution_count": 23,
   "metadata": {},
   "outputs": [
    {
     "data": {
      "text/plain": [
       "'Pranshu'"
      ]
     },
     "execution_count": 23,
     "metadata": {},
     "output_type": "execute_result"
    }
   ],
   "source": [
    "getattr(Student, \"name\")"
   ]
  },
  {
   "cell_type": "code",
   "execution_count": 30,
   "metadata": {},
   "outputs": [
    {
     "data": {
      "text/plain": [
       "'result'"
      ]
     },
     "execution_count": 30,
     "metadata": {},
     "output_type": "execute_result"
    }
   ],
   "source": [
    " getattr(C, \"m\")(C())"
   ]
  },
  {
   "cell_type": "code",
   "execution_count": 29,
   "metadata": {},
   "outputs": [
    {
     "data": {
      "text/plain": [
       "'result'"
      ]
     },
     "execution_count": 29,
     "metadata": {},
     "output_type": "execute_result"
    }
   ],
   "source": [
    "class_method = getattr(C, \"m\")\n",
    "an_object = C()\n",
    "class_method(an_object)"
   ]
  },
  {
   "cell_type": "markdown",
   "metadata": {},
   "source": [
    "### 3. setattr"
   ]
  },
  {
   "cell_type": "code",
   "execution_count": 46,
   "metadata": {},
   "outputs": [],
   "source": [
    "setattr(Student, 'email','sohan@abc.com') # adding new attribute  "
   ]
  },
  {
   "cell_type": "code",
   "execution_count": 47,
   "metadata": {},
   "outputs": [
    {
     "data": {
      "text/plain": [
       "'sohan@abc.com'"
      ]
     },
     "execution_count": 47,
     "metadata": {},
     "output_type": "execute_result"
    }
   ],
   "source": [
    "getattr(Student, 'email')"
   ]
  },
  {
   "cell_type": "markdown",
   "metadata": {},
   "source": [
    "### 4. delattr"
   ]
  },
  {
   "cell_type": "code",
   "execution_count": 21,
   "metadata": {},
   "outputs": [
    {
     "name": "stdout",
     "output_type": "stream",
     "text": [
      "EROR : Att Del\n"
     ]
    }
   ],
   "source": [
    "try: \n",
    "    delattr(Student,'course') # Removing attribute which is not available\n",
    "except:\n",
    "    print(\"EROR : Att Del\")"
   ]
  },
  {
   "cell_type": "markdown",
   "metadata": {},
   "source": [
    "### isinstance check"
   ]
  },
  {
   "cell_type": "code",
   "execution_count": 66,
   "metadata": {},
   "outputs": [
    {
     "name": "stdout",
     "output_type": "stream",
     "text": [
      "True\n",
      "False\n"
     ]
    }
   ],
   "source": [
    "#help(isinstance)\n",
    "class Student:  \n",
    "    id = 101  \n",
    "    name = \"John\"  \n",
    "    def __init__(self, id, name):  \n",
    "        self.id=id  \n",
    "        self.name=name  \n",
    "  \n",
    "student = Student(1010,\"John\")  \n",
    "lst = [12,34,5,6,767]  \n",
    "# Calling function   \n",
    "print(isinstance(student, Student)) # isinstance of Student class  \n",
    "print(isinstance(lst, Student))  "
   ]
  },
  {
   "cell_type": "markdown",
   "metadata": {},
   "source": [
    "### Inheritance Check issubclass"
   ]
  },
  {
   "cell_type": "code",
   "execution_count": 74,
   "metadata": {},
   "outputs": [
    {
     "name": "stdout",
     "output_type": "stream",
     "text": [
      "True\n",
      "False\n",
      "True\n",
      "True\n"
     ]
    }
   ],
   "source": [
    "#help(issubclass)\n",
    "class Rectangle:\n",
    "    \"inint Vlasd\"\n",
    "    def __init__(rectangleType):\n",
    "        print('Rectangle is a ', rectangleType)  \n",
    "\n",
    "class Square(Rectangle):\n",
    "    \n",
    "    def __init__(self):\n",
    "        Rectangle.__init__('square')  \n",
    "      \n",
    "print(issubclass(Square, Rectangle))  \n",
    "print(issubclass(Square, list))  \n",
    "print(issubclass(Square, (list, Rectangle)))  \n",
    "print(issubclass(Rectangle, (list, Rectangle)))  "
   ]
  },
  {
   "cell_type": "markdown",
   "metadata": {},
   "source": [
    "### Iteration"
   ]
  },
  {
   "cell_type": "code",
   "execution_count": 90,
   "metadata": {},
   "outputs": [
    {
     "name": "stdout",
     "output_type": "stream",
     "text": [
      "2\n",
      "4\n",
      "8\n"
     ]
    }
   ],
   "source": [
    "class iteraion():\n",
    "    def __init__(self):\n",
    "        self.start = 1\n",
    "        \n",
    "    def __iter__(self):\n",
    "        return self\n",
    "\n",
    "    def __next__(self):\n",
    "        self.start *= 2\n",
    "        return self.start\n",
    "\n",
    "    __call__ = __next__\n",
    "\n",
    "my_iter = iter(DoubleIt(), 16)\n",
    "\n",
    "for x in my_iter:\n",
    "    print(x)"
   ]
  },
  {
   "cell_type": "code",
   "execution_count": null,
   "metadata": {},
   "outputs": [],
   "source": [
    "random = [5, 9, 'cat']\n",
    "\n",
    "# converting the list to an iterator\n",
    "random_iterator = iter(random)\n",
    "print(random_iterator)\n",
    "\n",
    "# Output: 5\n",
    "print(next(random_iterator))\n",
    "\n",
    "# Output: 9\n",
    "print(next(random_iterator))\n",
    "\n",
    "# Output: 'cat'\n",
    "print(next(random_iterator))\n",
    "\n",
    "# This will raise Error\n",
    "# iterator is exhausted\n",
    "#print(next(random_iterator))"
   ]
  }
 ],
 "metadata": {
  "kernelspec": {
   "display_name": "Python 3",
   "language": "python",
   "name": "python3"
  },
  "language_info": {
   "codemirror_mode": {
    "name": "ipython",
    "version": 3
   },
   "file_extension": ".py",
   "mimetype": "text/x-python",
   "name": "python",
   "nbconvert_exporter": "python",
   "pygments_lexer": "ipython3",
   "version": "3.7.8"
  }
 },
 "nbformat": 4,
 "nbformat_minor": 4
}
