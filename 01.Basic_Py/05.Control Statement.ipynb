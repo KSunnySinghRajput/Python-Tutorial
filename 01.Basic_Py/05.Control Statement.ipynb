{
 "cells": [
  {
   "cell_type": "markdown",
   "metadata": {},
   "source": [
    " # if, elif, else Statements"
   ]
  },
  {
   "cell_type": "code",
   "execution_count": 2,
   "metadata": {},
   "outputs": [
    {
     "name": "stdout",
     "output_type": "stream",
     "text": [
      "Negative changed to zero\n"
     ]
    }
   ],
   "source": [
    "#x = int(input(\"Please enter an integer: \"))\n",
    "x=10\n",
    "if x > 1:\n",
    "    x = 0\n",
    "    print('Negative changed to zero')\n",
    "elif x == 0:\n",
    "    print('Zero')\n",
    "elif x == 1:\n",
    "    print('Single')\n",
    "else:\n",
    "    print('More')\n"
   ]
  },
  {
   "cell_type": "markdown",
   "metadata": {},
   "source": [
    "# for Statements"
   ]
  },
  {
   "cell_type": "code",
   "execution_count": 7,
   "metadata": {},
   "outputs": [
    {
     "name": "stdout",
     "output_type": "stream",
     "text": [
      "cat 3\n",
      "window 6\n",
      "defenestrate 12\n"
     ]
    }
   ],
   "source": [
    "#for iterating_var in sequence:  \n",
    "#iterating_var:=Store one by one value Store\n",
    "#sequence or iterator := string,list,file,dict,tuple,set,word\n",
    "\n",
    "\n",
    "# Measure some strings:\n",
    "words = ['cat', 'window', 'defenestrate']           \n",
    "for w in words:                     \n",
    "    print(w, len(w))"
   ]
  },
  {
   "cell_type": "code",
   "execution_count": 8,
   "metadata": {},
   "outputs": [
    {
     "name": "stdout",
     "output_type": "stream",
     "text": [
      "w\n",
      "i\n",
      "n\n",
      "d\n",
      "o\n",
      "w\n"
     ]
    }
   ],
   "source": [
    "word = 'window'           \n",
    "for w in word:                     \n",
    "    print(w)"
   ]
  },
  {
   "cell_type": "code",
   "execution_count": 9,
   "metadata": {},
   "outputs": [
    {
     "name": "stdout",
     "output_type": "stream",
     "text": [
      "0\n",
      "1\n",
      "2\n",
      "3\n",
      "4\n"
     ]
    }
   ],
   "source": [
    "for i in range(5):    #range Study In Function\n",
    "     print(i)"
   ]
  },
  {
   "cell_type": "code",
   "execution_count": 11,
   "metadata": {},
   "outputs": [
    {
     "name": "stdout",
     "output_type": "stream",
     "text": [
      "Delhi the area is 80\n",
      "Mumbai the area is 100\n",
      "Kolkata the area is 90\n",
      "Chennai the area is 85\n"
     ]
    }
   ],
   "source": [
    "List = [[\"Delhi\", 80], [\"Mumbai\", 100], [\"Kolkata\", 90], [\"Chennai\", 85]]\n",
    "for cities, area in List:\n",
    "     print(cities, \"the area is\", area)"
   ]
  },
  {
   "cell_type": "code",
   "execution_count": 18,
   "metadata": {},
   "outputs": [
    {
     "name": "stdout",
     "output_type": "stream",
     "text": [
      "{'Delhi': 80, 'Mumbai': 100, 'Kolkata': 90, 'Chennai': 85}\n"
     ]
    }
   ],
   "source": [
    "List = [[\"Delhi\", 80], [\"Mumbai\", 100], [\"Kolkata\", 90], [\"Chennai\", 85]]\n",
    "Dict = dict(List)           #Typecast List in Dictionary\n",
    "print(Dict)"
   ]
  },
  {
   "cell_type": "code",
   "execution_count": 19,
   "metadata": {},
   "outputs": [
    {
     "name": "stdout",
     "output_type": "stream",
     "text": [
      "Delhi\n",
      "Mumbai\n",
      "Kolkata\n",
      "Chennai\n"
     ]
    }
   ],
   "source": [
    "for items in Dict:          #To print the keys of Dictionary\n",
    "     print(items)"
   ]
  },
  {
   "cell_type": "code",
   "execution_count": 20,
   "metadata": {},
   "outputs": [
    {
     "name": "stdout",
     "output_type": "stream",
     "text": [
      "('Delhi', 80)\n",
      "('Mumbai', 100)\n",
      "('Kolkata', 90)\n",
      "('Chennai', 85)\n"
     ]
    }
   ],
   "source": [
    "for items in Dict.items():  #To print the key and values of Dictionary\n",
    "     print(items)"
   ]
  },
  {
   "cell_type": "markdown",
   "metadata": {},
   "source": [
    "# while Statements"
   ]
  },
  {
   "cell_type": "code",
   "execution_count": 12,
   "metadata": {},
   "outputs": [
    {
     "name": "stdout",
     "output_type": "stream",
     "text": [
      "1\n",
      "2\n",
      "3\n",
      "4\n",
      "5\n",
      "6\n",
      "7\n",
      "8\n",
      "9\n",
      "10\n"
     ]
    }
   ],
   "source": [
    "'''\n",
    "while expression:  \n",
    "    statements\n",
    "'''  \n",
    "i=1 \n",
    "while i<=10:\n",
    "    print(i)\n",
    "    i=i+1\n",
    "   "
   ]
  },
  {
   "cell_type": "raw",
   "metadata": {},
   "source": [
    "while True:\n",
    "   pass # Busy-wait for keyboard interrupt (Ctrl+C)\n"
   ]
  },
  {
   "cell_type": "raw",
   "metadata": {},
   "source": [
    "i = 0\n",
    "while(1): #OR while(True) - Both are such type of loop which will never stop\n",
    "    if(i+1<5):\n",
    "        i = i+1\n",
    "        continue\n",
    "    print(i)\n",
    "    if(i==50):\n",
    "        break\n",
    "    i = i + 1"
   ]
  },
  {
   "cell_type": "raw",
   "metadata": {},
   "source": [
    "while(True):\n",
    "    num = int(input(\"Enter a number:\"))\n",
    "    if num>100:\n",
    "         print(\"You have entered a number greater than 100\")\n",
    "    else:\n",
    "         print(\"Try Again\")continue"
   ]
  },
  {
   "cell_type": "markdown",
   "metadata": {},
   "source": [
    "# break   "
   ]
  },
  {
   "cell_type": "code",
   "execution_count": 14,
   "metadata": {},
   "outputs": [
    {
     "name": "stdout",
     "output_type": "stream",
     "text": [
      "item matched\n",
      "found at 2 location\n"
     ]
    }
   ],
   "source": [
    "\"\"\"\n",
    "#loop statements  \n",
    "break   \n",
    "\"\"\"\n",
    "list =[1,2,3,4]  \n",
    "count = 1 \n",
    "for i in list:  \n",
    "    if i == 4:  \n",
    "        print(\"item matched\")  \n",
    "        count = count + 1  \n",
    "        break  \n",
    "print(\"found at\",count,\"location\")"
   ]
  },
  {
   "cell_type": "markdown",
   "metadata": {},
   "source": [
    "# continue "
   ]
  },
  {
   "cell_type": "code",
   "execution_count": 15,
   "metadata": {},
   "outputs": [
    {
     "name": "stdout",
     "output_type": "stream",
     "text": [
      "1\n",
      "2\n",
      "3\n",
      "4\n",
      "6\n",
      "7\n",
      "8\n",
      "9\n",
      "10\n"
     ]
    }
   ],
   "source": [
    "\"\"\"\n",
    "#loop statements  \n",
    "continue;  \n",
    "#the code to be skipped   \n",
    "\n",
    "\"\"\"\n",
    "\n",
    "\n",
    "i=1              #initializing a local variable  \n",
    "#starting a loop from 1 to 10  \n",
    "for i in range(1,11):  \n",
    "    if i==5:  \n",
    "        continue  \n",
    "    print(\"%d\"%i)  "
   ]
  }
 ],
 "metadata": {
  "kernelspec": {
   "display_name": "Python 3",
   "language": "python",
   "name": "python3"
  },
  "language_info": {
   "codemirror_mode": {
    "name": "ipython",
    "version": 3
   },
   "file_extension": ".py",
   "mimetype": "text/x-python",
   "name": "python",
   "nbconvert_exporter": "python",
   "pygments_lexer": "ipython3",
   "version": "3.7.3"
  }
 },
 "nbformat": 4,
 "nbformat_minor": 4
}
