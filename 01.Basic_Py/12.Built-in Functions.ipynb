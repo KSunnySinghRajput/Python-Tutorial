{
 "cells": [
  {
   "cell_type": "code",
   "execution_count": 43,
   "metadata": {},
   "outputs": [],
   "source": [
    "#help(__builtins__)"
   ]
  },
  {
   "cell_type": "code",
   "execution_count": 11,
   "metadata": {},
   "outputs": [
    {
     "name": "stdout",
     "output_type": "stream",
     "text": [
      "Absolute value of -40 is: 20\n",
      "Absolute value of -40.83 is: 20.83\n"
     ]
    }
   ],
   "source": [
    "#help(abs)\n",
    "integer = -20  \n",
    "print('Absolute value of -40 is:', abs(integer))  \n",
    "floating = -20.83  \n",
    "print('Absolute value of -40.83 is:', abs(floating))"
   ]
  },
  {
   "cell_type": "code",
   "execution_count": 12,
   "metadata": {},
   "outputs": [
    {
     "name": "stdout",
     "output_type": "stream",
     "text": [
      "True\n",
      "False\n",
      "False\n",
      "False\n",
      "True\n"
     ]
    }
   ],
   "source": [
    "#help(all)\n",
    "k = [1, 3, 4, 6]  # all values true\n",
    "print(all(k))  \n",
    "k = [0, False]      # all values false \n",
    "print(all(k))  \n",
    "k = [1, 3, 7, 0]    # one false value \n",
    "print(all(k))  \n",
    "k = [0, False, 5]   # one true value  \n",
    "print(all(k))  \n",
    "k = []               # empty iterable  \n",
    "print(all(k))  \n"
   ]
  },
  {
   "cell_type": "code",
   "execution_count": 21,
   "metadata": {},
   "outputs": [
    {
     "name": "stdout",
     "output_type": "stream",
     "text": [
      "True\n",
      "False\n",
      "True\n",
      "False\n"
     ]
    }
   ],
   "source": [
    "#help(any)\n",
    "l = [4, 3, 2, 0]                              \n",
    "print(any(l))                                   \n",
    "l = [0, False]  \n",
    "print(any(l))  \n",
    "l = [0, False, 5]  \n",
    "print(any(l))    \n",
    "l = []  \n",
    "print(any(l)) \n"
   ]
  },
  {
   "cell_type": "code",
   "execution_count": 22,
   "metadata": {},
   "outputs": [
    {
     "name": "stdout",
     "output_type": "stream",
     "text": [
      "'Python is interesting'\n",
      "'Pyth\\xf6n is interesting'\n",
      "Pythön is interesting\n"
     ]
    }
   ],
   "source": [
    "#help(ascii)\n",
    "normalText = 'Python is interesting'  \n",
    "print(ascii(normalText))  \n",
    "otherText = 'Pythön is interesting'  \n",
    "print(ascii(otherText))  \n",
    "print('Pyth\\xf6n is interesting')  "
   ]
  },
  {
   "cell_type": "code",
   "execution_count": 13,
   "metadata": {},
   "outputs": [
    {
     "name": "stdout",
     "output_type": "stream",
     "text": [
      "0b1010\n"
     ]
    }
   ],
   "source": [
    "#help(bin)\n",
    "x =  10  \n",
    "y =  bin(x)  \n",
    "print (y)  "
   ]
  },
  {
   "cell_type": "code",
   "execution_count": 14,
   "metadata": {},
   "outputs": [
    {
     "name": "stdout",
     "output_type": "stream",
     "text": [
      "[] is False\n",
      "[0] is True\n",
      "0.0 is False\n",
      "None is False\n",
      "True is True\n",
      "Easy string is True\n"
     ]
    }
   ],
   "source": [
    "#help(bool)\n",
    "test1 = []  \n",
    "print(test1,'is',bool(test1))  \n",
    "test1 = [0]  \n",
    "print(test1,'is',bool(test1))  \n",
    "test1 = 0.0  \n",
    "print(test1,'is',bool(test1))  \n",
    "test1 = None  \n",
    "print(test1,'is',bool(test1))  \n",
    "test1 = True  \n",
    "print(test1,'is',bool(test1))  \n",
    "test1 = 'Easy string'  \n",
    "print(test1,'is',bool(test1))  "
   ]
  },
  {
   "cell_type": "code",
   "execution_count": 15,
   "metadata": {},
   "outputs": [
    {
     "name": "stdout",
     "output_type": "stream",
     "text": [
      "b'Hello World.'\n"
     ]
    }
   ],
   "source": [
    "#Python bytes()\n",
    "string = \"Hello World.\"  \n",
    "array = bytes(string, 'utf-8')  \n",
    "print(array)  "
   ]
  },
  {
   "cell_type": "code",
   "execution_count": null,
   "metadata": {},
   "outputs": [],
   "source": [
    "#Python bytearray()\n",
    "string = \"Python is a programming language.\"  \n",
    "  \n",
    "# string with encoding 'utf-8'  \n",
    "arr = bytearray(string, 'utf-8')  \n",
    "print(arr) "
   ]
  },
  {
   "cell_type": "code",
   "execution_count": 6,
   "metadata": {},
   "outputs": [],
   "source": [
    "#help(callable)\n",
    "x = 8  \n",
    "print(callable(x)) "
   ]
  },
  {
   "cell_type": "code",
   "execution_count": 7,
   "metadata": {},
   "outputs": [],
   "source": [
    "#help(chr)\n",
    "# Calling function\n",
    "result = chr(102) # It returns string representation of a char\n",
    "result2 = chr(112)\n",
    "# Displaying result\n",
    "print(result)\n",
    "print(result2)\n",
    "# Verify, is it string type?\n",
    "print(\"is it string type:\", type(result) is str) "
   ]
  },
  {
   "cell_type": "code",
   "execution_count": 19,
   "metadata": {},
   "outputs": [
    {
     "name": "stdout",
     "output_type": "stream",
     "text": [
      "sum = 15\n"
     ]
    }
   ],
   "source": [
    "#help(compile)\n",
    "code_str = 'x=5\\ny=10\\nprint(\"sum =\",x+y)'  \n",
    "code = compile(code_str, 'sum.py', 'exec')\n",
    "exec(code)  "
   ]
  },
  {
   "cell_type": "code",
   "execution_count": 12,
   "metadata": {},
   "outputs": [
    {
     "name": "stdout",
     "output_type": "stream",
     "text": [
      "(1+0j)\n",
      "(1+2j)\n"
     ]
    }
   ],
   "source": [
    "# Python complex() function example\n",
    "# Calling function\n",
    "a = complex(1) # Passing single parameter\n",
    "b = complex(1,2) # Passing both parameters\n",
    "# Displaying result\n",
    "print(a)\n",
    "print(b) "
   ]
  },
  {
   "cell_type": "code",
   "execution_count": 19,
   "metadata": {},
   "outputs": [
    {
     "name": "stdout",
     "output_type": "stream",
     "text": [
      "{}\n",
      "{'a': 1, 'b': 2}\n"
     ]
    }
   ],
   "source": [
    "# Calling function\n",
    "result = dict() # returns an empty dictionary\n",
    "result2 = dict(a=1,b=2)\n",
    "# Displaying result\n",
    "print(result)\n",
    "print(result2) "
   ]
  },
  {
   "cell_type": "code",
   "execution_count": 16,
   "metadata": {},
   "outputs": [
    {
     "name": "stdout",
     "output_type": "stream",
     "text": [
      "101 Pranshu pranshu@abc.com\n"
     ]
    },
    {
     "ename": "AttributeError",
     "evalue": "course",
     "output_type": "error",
     "traceback": [
      "\u001b[1;31m---------------------------------------------------------------------------\u001b[0m",
      "\u001b[1;31mAttributeError\u001b[0m                            Traceback (most recent call last)",
      "\u001b[1;32m<ipython-input-16-634d7a31e403>\u001b[0m in \u001b[0;36m<module>\u001b[1;34m\u001b[0m\n\u001b[0;32m      9\u001b[0m \u001b[0ms\u001b[0m \u001b[1;33m=\u001b[0m \u001b[0mStudent\u001b[0m\u001b[1;33m(\u001b[0m\u001b[1;33m)\u001b[0m\u001b[1;33m\u001b[0m\u001b[1;33m\u001b[0m\u001b[0m\n\u001b[0;32m     10\u001b[0m \u001b[0ms\u001b[0m\u001b[1;33m.\u001b[0m\u001b[0mgetinfo\u001b[0m\u001b[1;33m(\u001b[0m\u001b[1;33m)\u001b[0m\u001b[1;33m\u001b[0m\u001b[1;33m\u001b[0m\u001b[0m\n\u001b[1;32m---> 11\u001b[1;33m \u001b[0mdelattr\u001b[0m\u001b[1;33m(\u001b[0m\u001b[0mStudent\u001b[0m\u001b[1;33m,\u001b[0m\u001b[1;34m'course'\u001b[0m\u001b[1;33m)\u001b[0m \u001b[1;31m# Removing attribute which is not available\u001b[0m\u001b[1;33m\u001b[0m\u001b[1;33m\u001b[0m\u001b[0m\n\u001b[0m\u001b[0;32m     12\u001b[0m \u001b[0ms\u001b[0m\u001b[1;33m.\u001b[0m\u001b[0mgetinfo\u001b[0m\u001b[1;33m(\u001b[0m\u001b[1;33m)\u001b[0m \u001b[1;31m# error: throws an error\u001b[0m\u001b[1;33m\u001b[0m\u001b[1;33m\u001b[0m\u001b[0m\n",
      "\u001b[1;31mAttributeError\u001b[0m: course"
     ]
    }
   ],
   "source": [
    "#help(delattr)\n",
    "class Student:\n",
    "    id = 101\n",
    "    name = \"Pranshu\"\n",
    "    email = \"pranshu@abc.com\"\n",
    "    def getinfo(self):\n",
    "        print(self.id, self.name, self.email)\n",
    "\n",
    "s = Student()\n",
    "s.getinfo()\n",
    "delattr(Student,'course') # Removing attribute which is not available\n",
    "s.getinfo() # error: throws an error "
   ]
  },
  {
   "cell_type": "code",
   "execution_count": 13,
   "metadata": {},
   "outputs": [
    {
     "name": "stdout",
     "output_type": "stream",
     "text": [
      "['Details', 'In', 'List', 'Out', 'String', 'Tuple', '_', '__', '___', '__builtin__', '__builtins__', '__doc__', '__loader__', '__name__', '__package__', '__spec__', '_dh', '_i', '_i1', '_i10', '_i11', '_i12', '_i13', '_i2', '_i3', '_i4', '_i5', '_i6', '_i7', '_i8', '_i9', '_ih', '_ii', '_iii', '_oh', 'a', 'b', 'calculateAddition', 'details', 'exit', 'fSet', 'get_ipython', 'l', 'letters', 'localsAbsent', 'localsPresent', 'numbers', 'numbersAddition', 'quit', 'result', 's', 'strA', 'x']\n"
     ]
    }
   ],
   "source": [
    "#help(dir)\n",
    "# Calling function\n",
    "att = dir()\n",
    "# Displaying result\n",
    "print(att) "
   ]
  },
  {
   "cell_type": "code",
   "execution_count": 17,
   "metadata": {},
   "outputs": [
    {
     "name": "stdout",
     "output_type": "stream",
     "text": [
      "(5, 0)\n"
     ]
    }
   ],
   "source": [
    "#help(divmod)\n",
    "# Python divmod() function example\n",
    "# Calling function\n",
    "result = divmod(10,2)\n",
    "# Displaying result\n",
    "print(result) "
   ]
  },
  {
   "cell_type": "code",
   "execution_count": null,
   "metadata": {},
   "outputs": [],
   "source": [
    "Python hex() Function Example\n",
    "\n",
    "# Calling function  \n",
    "result = hex(1)   \n",
    "# integer value  \n",
    "result2 = hex(342)   \n",
    "# Displaying result  \n",
    "print(result)  \n",
    "print(result2) "
   ]
  },
  {
   "cell_type": "code",
   "execution_count": 18,
   "metadata": {},
   "outputs": [
    {
     "name": "stdout",
     "output_type": "stream",
     "text": [
      "<enumerate object at 0x0000019B73869EE8>\n",
      "[(0, 1), (1, 2), (2, 3)]\n"
     ]
    }
   ],
   "source": [
    "# Calling function\n",
    "result = enumerate([1,2,3])\n",
    "# Displaying result\n",
    "print(result)\n",
    "print(list(result)) "
   ]
  },
  {
   "cell_type": "code",
   "execution_count": 2,
   "metadata": {},
   "outputs": [
    {
     "name": "stdout",
     "output_type": "stream",
     "text": [
      "9\n"
     ]
    }
   ],
   "source": [
    "#help(eval)\n",
    "x = 8\n",
    "print(eval('x + 1')) "
   ]
  },
  {
   "cell_type": "code",
   "execution_count": 20,
   "metadata": {},
   "outputs": [
    {
     "name": "stdout",
     "output_type": "stream",
     "text": [
      "True\n",
      "12\n"
     ]
    }
   ],
   "source": [
    "#help(exec)\n",
    "code_str = 'x=5\\ny=10\\nprint(\"sum =\",x+y)'  \n",
    "code = compile(code_str, 'sum.py', 'exec')  \n",
    "\n",
    "x = 8  \n",
    "exec('print(x==8)')  \n",
    "exec('print(x+4)')  "
   ]
  },
  {
   "cell_type": "code",
   "execution_count": null,
   "metadata": {},
   "outputs": [],
   "source": [
    "# for integers\n",
    "print(float(9))\n",
    "\n",
    "# for floats\n",
    "print(float(8.19))\n",
    "\n",
    "# for string floats\n",
    "print(float(\"-24.27\"))\n",
    "\n",
    "# for string floats with whitespaces\n",
    "print(float(\" -17.19\\n\"))\n",
    "\n",
    "# string float error\n",
    "print(float(\"xyz\")) "
   ]
  },
  {
   "cell_type": "code",
   "execution_count": 36,
   "metadata": {},
   "outputs": [
    {
     "name": "stdout",
     "output_type": "stream",
     "text": [
      "[5, 6]\n"
     ]
    }
   ],
   "source": [
    "'''\n",
    "Filter Function\n",
    "===============\n",
    "Filter takes a function and a collection. It returns a collection of every item\n",
    "for which the function returned True.\n",
    "'''\n",
    "arr=[1,2,3,4,5,6]\n",
    "s=lambda x:x>4\n",
    "\n",
    "a=filter(s,arr) # object address\n",
    "c=list(a)\n",
    "print(c)   #[5,6]\n"
   ]
  },
  {
   "cell_type": "code",
   "execution_count": null,
   "metadata": {},
   "outputs": [],
   "source": [
    "#help(format)\n",
    "# d, f and b are a type\n",
    "\n",
    "# integer\n",
    "print(format(123, \"d\"))\n",
    "\n",
    "# float arguments\n",
    "print(format(123.4567898, \"f\"))\n",
    "\n",
    "# binary format\n",
    "print(format(12, \"b\")) "
   ]
  },
  {
   "cell_type": "code",
   "execution_count": 3,
   "metadata": {},
   "outputs": [
    {
     "name": "stdout",
     "output_type": "stream",
     "text": [
      "Frozen set is: frozenset({'m', 's', 'r', 't', 'o'})\n",
      "Empty frozen set is: frozenset()\n"
     ]
    }
   ],
   "source": [
    "# tuple of letters\n",
    "letters = ('m', 'r', 'o', 't', 's') \n",
    "fSet = frozenset(letters)\n",
    "print('Frozen set is:', fSet)\n",
    "print('Empty frozen set is:', frozenset()) "
   ]
  },
  {
   "cell_type": "code",
   "execution_count": 4,
   "metadata": {},
   "outputs": [
    {
     "name": "stdout",
     "output_type": "stream",
     "text": [
      "The age is: 22\n",
      "The age is: 22\n"
     ]
    }
   ],
   "source": [
    "#help(getattr)\n",
    "class Details:\n",
    " age = 22\n",
    " name = \"Phill\"\n",
    "\n",
    "details = Details()\n",
    "print('The age is:', getattr(details, \"age\"))\n",
    "print('The age is:', details.age) \n"
   ]
  },
  {
   "cell_type": "code",
   "execution_count": null,
   "metadata": {},
   "outputs": [],
   "source": [
    "#help(globals)\n",
    "age = 22\n",
    "\n",
    "globals()['age'] = 22\n",
    "print('The age is:', age) "
   ]
  },
  {
   "cell_type": "code",
   "execution_count": 5,
   "metadata": {},
   "outputs": [
    {
     "name": "stdout",
     "output_type": "stream",
     "text": [
      "True\n",
      "False\n",
      "True\n",
      "False\n"
     ]
    }
   ],
   "source": [
    "#help(hasattr)\n",
    "l = [4, 3, 2, 0]\n",
    "print(any(l))\n",
    "\n",
    "l = [0, False] \n",
    "print(any(l))\n",
    "\n",
    "l = [0, False, 5]\n",
    "print(any(l))\n",
    "\n",
    "l = []\n",
    "print(any(l)) "
   ]
  },
  {
   "cell_type": "code",
   "execution_count": null,
   "metadata": {},
   "outputs": [],
   "source": [
    "#help(hash)\n",
    "# Calling function\n",
    "result = hash(21) # integer value\n",
    "result2 = hash(22.2) # decimal value\n",
    "# Displaying result\n",
    "print(result)\n",
    "print(result2) \n"
   ]
  },
  {
   "cell_type": "code",
   "execution_count": 23,
   "metadata": {},
   "outputs": [
    {
     "name": "stdout",
     "output_type": "stream",
     "text": [
      "0x1\n",
      "0x156\n"
     ]
    }
   ],
   "source": [
    "#help(hex)\n",
    "# Calling function\n",
    "result = hex(1)\n",
    "# integer value\n",
    "result2 = hex(342)\n",
    "# Displaying result\n",
    "print(result)\n",
    "print(result2) \n"
   ]
  },
  {
   "cell_type": "code",
   "execution_count": 21,
   "metadata": {},
   "outputs": [],
   "source": [
    "# Calling function\n",
    "#info = help() # No argument\n",
    "# Displaying result\n",
    "#print(info) "
   ]
  },
  {
   "cell_type": "code",
   "execution_count": null,
   "metadata": {},
   "outputs": [],
   "source": [
    "#help(id)\n",
    "# Calling function  \n",
    "val = id(\"Javatpoint\") # string object  \n",
    "val2 = id(1200) # integer object  \n",
    "val3 = id([25,336,95,236,92,3225]) # List object  \n",
    "# Displaying result  \n",
    "print(val)  \n",
    "print(val2)  \n",
    "print(val3)  "
   ]
  },
  {
   "cell_type": "code",
   "execution_count": null,
   "metadata": {},
   "outputs": [],
   "source": [
    "#help(input)\n",
    "# Calling function\n",
    "val = input(\"Enter a value: \")\n",
    "# Displaying result\n",
    "print(\"You entered:\",val) \n"
   ]
  },
  {
   "cell_type": "code",
   "execution_count": null,
   "metadata": {},
   "outputs": [],
   "source": [
    "# Calling function\n",
    "val = int(10) # integer value\n",
    "val2 = int(10.52) # float value\n",
    "val3 = int('10') # string value\n",
    "# Displaying result\n",
    "print(\"integer values :\",val, val2, val3) "
   ]
  },
  {
   "cell_type": "code",
   "execution_count": null,
   "metadata": {},
   "outputs": [],
   "source": [
    "#help(isinstance)\n",
    "class Student:  \n",
    "    id = 101  \n",
    "    name = \"John\"  \n",
    "    def __init__(self, id, name):  \n",
    "        self.id=id  \n",
    "        self.name=name  \n",
    "  \n",
    "student = Student(1010,\"John\")  \n",
    "lst = [12,34,5,6,767]  \n",
    "# Calling function   \n",
    "print(isinstance(student, Student)) # isinstance of Student class  \n",
    "print(isinstance(lst, Student))  "
   ]
  },
  {
   "cell_type": "code",
   "execution_count": 29,
   "metadata": {},
   "outputs": [
    {
     "name": "stdout",
     "output_type": "stream",
     "text": [
      "True\n",
      "False\n",
      "True\n",
      "True\n"
     ]
    }
   ],
   "source": [
    "#help(issubclass)\n",
    "class Rectangle:\n",
    "    def __init__(rectangleType):\n",
    "        print('Rectangle is a ', rectangleType)  \n",
    "\n",
    "class Square(Rectangle):\n",
    "    def __init__(self):\n",
    "        Rectangle.__init__('square')  \n",
    "      \n",
    "print(issubclass(Square, Rectangle))  \n",
    "print(issubclass(Square, list))  \n",
    "print(issubclass(Square, (list, Rectangle)))  \n",
    "print(issubclass(Rectangle, (list, Rectangle)))  "
   ]
  },
  {
   "cell_type": "code",
   "execution_count": null,
   "metadata": {},
   "outputs": [],
   "source": [
    "#help(iter)\n",
    "# list of numbers  \n",
    "list = [1,2,3,4,5]  \n",
    "  \n",
    "listIter = iter(list)  \n",
    "  \n",
    "# prints '1'  \n",
    "print(next(listIter))  \n",
    "  \n",
    "# prints '2'  \n",
    "print(next(listIter))  \n",
    "  \n",
    "# prints '3'  \n",
    "print(next(listIter))  \n",
    "  \n",
    "# prints '4'  \n",
    "print(next(listIter))  \n",
    "  \n",
    "# prints '5'  \n",
    "print(next(listIter))  "
   ]
  },
  {
   "cell_type": "code",
   "execution_count": 6,
   "metadata": {},
   "outputs": [
    {
     "name": "stdout",
     "output_type": "stream",
     "text": [
      "6\n"
     ]
    }
   ],
   "source": [
    "#help(len)\n",
    "strA = 'Python'\n",
    "print(len(strA))"
   ]
  },
  {
   "cell_type": "code",
   "execution_count": 7,
   "metadata": {},
   "outputs": [
    {
     "name": "stdout",
     "output_type": "stream",
     "text": [
      "[]\n",
      "['a', 'b', 'c', 'd', 'e']\n",
      "[1, 2, 3, 4, 5]\n",
      "[1, 2, 3, 4, 5]\n"
     ]
    }
   ],
   "source": [
    "# empty list\n",
    "print(list())\n",
    "\n",
    "# string\n",
    "String = 'abcde'\n",
    "print(list(String))\n",
    "\n",
    "# tuple\n",
    "Tuple = (1,2,3,4,5)\n",
    "print(list(Tuple))\n",
    "# list\n",
    "List = [1,2,3,4,5]\n",
    "print(list(List)) \n"
   ]
  },
  {
   "cell_type": "code",
   "execution_count": 9,
   "metadata": {},
   "outputs": [
    {
     "name": "stdout",
     "output_type": "stream",
     "text": [
      "localsNotPresent: {}\n",
      "localsPresent: {'present': True}\n"
     ]
    }
   ],
   "source": [
    "def localsAbsent():\n",
    "    return locals()\n",
    "\n",
    "def localsPresent():\n",
    "    present = True\n",
    "    return locals()\n",
    "\n",
    "print('localsNotPresent:', localsAbsent())\n",
    "print('localsPresent:', localsPresent()) \n"
   ]
  },
  {
   "cell_type": "code",
   "execution_count": null,
   "metadata": {},
   "outputs": [],
   "source": [
    "#help(map)Class\n",
    "\"\"\"\n",
    "Map Function:-\n",
    "============\n",
    "Map takes a function and a collection of items. It makes a new, empty collection, runs the function on each item in\n",
    "the original collection and inserts each return value into the new collection. It returns the new collection.\n",
    "This is a simple map that takes a list of names and returns a list of the lengths of those names:\n",
    "\"\"\"\n",
    "a= [\"Mary\", \"Isla\", \"Sam\"]\n",
    "b = list(map(len,a))\n",
    "print(b)                          #[4, 4, 3]\n"
   ]
  },
  {
   "cell_type": "code",
   "execution_count": 10,
   "metadata": {},
   "outputs": [
    {
     "name": "stdout",
     "output_type": "stream",
     "text": [
      "<map object at 0x0000019B737E9470>\n",
      "{8, 2, 4, 6}\n"
     ]
    }
   ],
   "source": [
    "def calculateAddition(n):\n",
    " return n+n\n",
    "\n",
    "numbers = (1, 2, 3, 4)\n",
    "result = map(calculateAddition, numbers)\n",
    "print(result)\n",
    "\n",
    "# converting map object to set\n",
    "numbersAddition = set(result)\n",
    "print(numbersAddition) \n"
   ]
  },
  {
   "cell_type": "code",
   "execution_count": null,
   "metadata": {},
   "outputs": [],
   "source": [
    "#A random bytearray\n",
    "randomByteArray = bytearray('ABC', 'utf-8')\n",
    "\n",
    "mv = memoryview(randomByteArray)\n",
    "\n",
    "# access the memory view's zeroth index\n",
    "print(mv[0])\n",
    "\n",
    "# It create byte from memory view\n",
    "print(bytes(mv[0:2]))\n",
    "\n",
    "# It create list from memory view\n",
    "print(list(mv[0:3])) "
   ]
  },
  {
   "cell_type": "code",
   "execution_count": null,
   "metadata": {},
   "outputs": [],
   "source": [
    "#help(max)"
   ]
  },
  {
   "cell_type": "code",
   "execution_count": null,
   "metadata": {},
   "outputs": [],
   "source": [
    "#help(min)\n",
    "# Calling function\n",
    "small = min(2225,325,2025) # returns smallest element\n",
    "small2 = min(1000.25,2025.35,5625.36,10052.50)\n",
    "# Displaying result\n",
    "print(small)\n",
    "print(small2) "
   ]
  },
  {
   "cell_type": "code",
   "execution_count": null,
   "metadata": {},
   "outputs": [],
   "source": [
    "#help(next)\n",
    "number = iter([256, 32, 82]) # Creating iterator  \n",
    "# Calling function  \n",
    "item = next(number)   \n",
    "# Displaying result  \n",
    "print(item)  \n",
    "# second item  \n",
    "item = next(number)  \n",
    "print(item)  \n",
    "# third item  \n",
    "item = next(number)  \n",
    "print(item) "
   ]
  },
  {
   "cell_type": "code",
   "execution_count": null,
   "metadata": {},
   "outputs": [],
   "source": [
    "python = object()\n",
    "\n",
    "print(type(python))\n",
    "print(dir(python)) \n"
   ]
  },
  {
   "cell_type": "code",
   "execution_count": 11,
   "metadata": {},
   "outputs": [
    {
     "ename": "FileNotFoundError",
     "evalue": "[Errno 2] No such file or directory: 'python.txt'",
     "output_type": "error",
     "traceback": [
      "\u001b[1;31m---------------------------------------------------------------------------\u001b[0m",
      "\u001b[1;31mFileNotFoundError\u001b[0m                         Traceback (most recent call last)",
      "\u001b[1;32m<ipython-input-11-9eea2428a3ff>\u001b[0m in \u001b[0;36m<module>\u001b[1;34m\u001b[0m\n\u001b[0;32m      1\u001b[0m \u001b[1;31m#help(open)\u001b[0m\u001b[1;33m\u001b[0m\u001b[1;33m\u001b[0m\u001b[1;33m\u001b[0m\u001b[0m\n\u001b[0;32m      2\u001b[0m \u001b[1;31m# opens python.text file of the current directory\u001b[0m\u001b[1;33m\u001b[0m\u001b[1;33m\u001b[0m\u001b[1;33m\u001b[0m\u001b[0m\n\u001b[1;32m----> 3\u001b[1;33m \u001b[0mf\u001b[0m \u001b[1;33m=\u001b[0m \u001b[0mopen\u001b[0m\u001b[1;33m(\u001b[0m\u001b[1;34m\"python.txt\"\u001b[0m\u001b[1;33m)\u001b[0m\u001b[1;33m\u001b[0m\u001b[1;33m\u001b[0m\u001b[0m\n\u001b[0m\u001b[0;32m      4\u001b[0m \u001b[1;31m# specifying full path\u001b[0m\u001b[1;33m\u001b[0m\u001b[1;33m\u001b[0m\u001b[1;33m\u001b[0m\u001b[0m\n\u001b[0;32m      5\u001b[0m \u001b[0mf\u001b[0m \u001b[1;33m=\u001b[0m \u001b[0mopen\u001b[0m\u001b[1;33m(\u001b[0m\u001b[1;34m\"C:/Python33/README.txt\"\u001b[0m\u001b[1;33m)\u001b[0m\u001b[1;33m\u001b[0m\u001b[1;33m\u001b[0m\u001b[0m\n",
      "\u001b[1;31mFileNotFoundError\u001b[0m: [Errno 2] No such file or directory: 'python.txt'"
     ]
    }
   ],
   "source": [
    "#help(open)\n",
    "# opens python.text file of the current directory\n",
    "f = open(\"python.txt\")\n",
    "# specifying full path\n",
    "f = open(\"C:/Python33/README.txt\") \n",
    "f.close"
   ]
  },
  {
   "cell_type": "code",
   "execution_count": null,
   "metadata": {},
   "outputs": [],
   "source": [
    "val = oct(10)  \n",
    "# Displaying result  \n",
    "print(\"Octal value of 10:\",val) "
   ]
  },
  {
   "cell_type": "code",
   "execution_count": null,
   "metadata": {},
   "outputs": [],
   "source": [
    "#help(ord)\n",
    "# Code point of an integer  \n",
    "print(ord('8'))  \n",
    "  \n",
    "# Code point of an alphabet   \n",
    "print(ord('R'))  \n",
    "  \n",
    "# Code point of a character  \n",
    "print(ord('&')) "
   ]
  },
  {
   "cell_type": "code",
   "execution_count": 34,
   "metadata": {},
   "outputs": [
    {
     "name": "stdout",
     "output_type": "stream",
     "text": [
      "16\n",
      "16\n",
      "0.0625\n",
      "0.0625\n"
     ]
    }
   ],
   "source": [
    "#help(pow)\n",
    "# positive x, positive y (x**y)  \n",
    "print(pow(4, 2))  \n",
    "  \n",
    "# negative x, positive y  \n",
    "print(pow(-4, 2))  \n",
    "  \n",
    "# positive x, negative y (x**-y)  \n",
    "print(pow(4, -2))  \n",
    "  \n",
    "# negative x, negative y  \n",
    "print(pow(-4, -2))"
   ]
  },
  {
   "cell_type": "code",
   "execution_count": null,
   "metadata": {},
   "outputs": [],
   "source": [
    "#help(print)"
   ]
  },
  {
   "cell_type": "code",
   "execution_count": null,
   "metadata": {},
   "outputs": [],
   "source": [
    "# empty range\n",
    "print(list(range(0)))\n",
    "\n",
    "# using the range(stop)\n",
    "print(list(range(4)))\n",
    "\n",
    "# using the range(start, stop)\n",
    "print(list(range(1,7 ))) \n"
   ]
  },
  {
   "cell_type": "code",
   "execution_count": null,
   "metadata": {},
   "outputs": [],
   "source": [
    "#help(repr)"
   ]
  },
  {
   "cell_type": "code",
   "execution_count": 30,
   "metadata": {},
   "outputs": [
    {
     "name": "stdout",
     "output_type": "stream",
     "text": [
      "10\n",
      "11\n",
      "7\n"
     ]
    }
   ],
   "source": [
    "#help(round)\n",
    "#  for integers  \n",
    "print(round(10))  \n",
    "  \n",
    "#  for floating point  \n",
    "print(round(10.8))  \n",
    "  \n",
    "#  even choice  \n",
    "print(round(6.6))  "
   ]
  },
  {
   "cell_type": "code",
   "execution_count": null,
   "metadata": {},
   "outputs": [],
   "source": [
    "# Calling function\n",
    "result = slice(5) # returns slice object\n",
    "result2 = slice(0,5,3) # returns slice object\n",
    "# Displaying result\n",
    "print(result)\n",
    "print(result2) \n"
   ]
  },
  {
   "cell_type": "code",
   "execution_count": 31,
   "metadata": {},
   "outputs": [
    {
     "name": "stdout",
     "output_type": "stream",
     "text": [
      "['a', 'v', 'a', 'J']\n",
      "['a', 'v', 'a', 'J']\n",
      "[11, 10, 9, 8]\n",
      "[5, 7, 2, 1]\n"
     ]
    }
   ],
   "source": [
    "# for string  \n",
    "String = 'Java'  \n",
    "print(list(reversed(String)))  \n",
    "  \n",
    "# for tuple  \n",
    "Tuple = ('J', 'a', 'v', 'a')  \n",
    "print(list(reversed(Tuple)))  \n",
    "  \n",
    "# for range  \n",
    "Range = range(8, 12)  \n",
    "print(list(reversed(Range)))  \n",
    "  \n",
    "# for list  \n",
    "List = [1, 2, 7, 5]  \n",
    "print(list(reversed(List))) "
   ]
  },
  {
   "cell_type": "code",
   "execution_count": 22,
   "metadata": {},
   "outputs": [
    {
     "name": "stdout",
     "output_type": "stream",
     "text": [
      "set()\n",
      "{'2', '1'}\n",
      "{'p', 'v', 'n', 'a', 't', 'o', 'i', 'j'}\n"
     ]
    }
   ],
   "source": [
    "# Calling function\n",
    "result = set() # empty set\n",
    "result2 = set('12')\n",
    "result3 = set('javatpoint')\n",
    "# Displaying result\n",
    "print(result)\n",
    "print(result2)\n",
    "print(result3) \n"
   ]
  },
  {
   "cell_type": "code",
   "execution_count": null,
   "metadata": {},
   "outputs": [],
   "source": []
  },
  {
   "cell_type": "code",
   "execution_count": null,
   "metadata": {},
   "outputs": [],
   "source": [
    "#help(setattr)\n",
    "class Student:  \n",
    "    id = 0  \n",
    "    name = \"\"  \n",
    "      \n",
    "    def __init__(self, id, name):  \n",
    "        self.id = id  \n",
    "        self.name = name  \n",
    "          \n",
    "student = Student(102,\"Sohan\")  \n",
    "print(student.id)  \n",
    "print(student.name)  \n",
    "#print(student.email) product error  \n",
    "setattr(student, 'email','sohan@abc.com') # adding new attribute  \n",
    "print(student.email)  "
   ]
  },
  {
   "cell_type": "code",
   "execution_count": null,
   "metadata": {},
   "outputs": [],
   "source": [
    "#help(sorted)\n",
    "str = \"javatpoint\" # declaring string  \n",
    "# Calling function  \n",
    "sorted1 = sorted(str) # sorting string  \n",
    "# Displaying result  \n",
    "print(sorted1)  "
   ]
  },
  {
   "cell_type": "code",
   "execution_count": 1,
   "metadata": {},
   "outputs": [
    {
     "name": "stdout",
     "output_type": "stream",
     "text": [
      "7\n",
      "17\n"
     ]
    }
   ],
   "source": [
    "#help(sum)\n",
    "s = sum([1, 2,4 ])\n",
    "print(s)\n",
    "\n",
    "s = sum([1, 2, 4], 10)\n",
    "print(s) "
   ]
  },
  {
   "cell_type": "code",
   "execution_count": null,
   "metadata": {},
   "outputs": [],
   "source": [
    "#help(super)"
   ]
  },
  {
   "cell_type": "code",
   "execution_count": 24,
   "metadata": {},
   "outputs": [
    {
     "name": "stdout",
     "output_type": "stream",
     "text": [
      "{'x': 7, 'y': 9}\n"
     ]
    }
   ],
   "source": [
    "#help(vars)\n",
    "class Python:\n",
    "    def __init__(self, x = 7, y = 9):  \n",
    "        self.x = x  \n",
    "        self.y = y  \n",
    "    \n",
    "InstanceOfPython = Python()  \n",
    "print(vars(InstanceOfPython)) "
   ]
  },
  {
   "cell_type": "code",
   "execution_count": null,
   "metadata": {},
   "outputs": [],
   "source": [
    "t1 = tuple()\n",
    "print('t1=', t1)\n",
    "\n",
    "# creating a tuple from a list\n",
    "t2 = tuple([1, 6, 9])\n",
    "print('t2=', t2)\n",
    "\n",
    "# creating a tuple from a string\n",
    "t1 = tuple('Java')\n",
    "print('t1=',t1)\n",
    "\n",
    "# creating a tuple from a dictionary\n",
    "t1 = tuple({4: 'four', 5: 'five'})\n",
    "print('t1=',t1) \n"
   ]
  },
  {
   "cell_type": "code",
   "execution_count": 25,
   "metadata": {},
   "outputs": [
    {
     "name": "stdout",
     "output_type": "stream",
     "text": [
      "<class 'list'>\n",
      "<class 'dict'>\n",
      "<class '__main__.Python'>\n"
     ]
    }
   ],
   "source": [
    "#help(type)\n",
    "List = [4, 5]  \n",
    "print(type(List))  \n",
    "  \n",
    "Dict = {4: 'four', 5: 'five'}  \n",
    "print(type(Dict))  \n",
    "  \n",
    "class Python:  \n",
    "    a = 0\n",
    "    \n",
    "InstanceOfPython = Python()  \n",
    "print(type(InstanceOfPython))  "
   ]
  },
  {
   "cell_type": "code",
   "execution_count": 41,
   "metadata": {},
   "outputs": [
    {
     "name": "stdout",
     "output_type": "stream",
     "text": [
      "[]\n",
      "{(4, 'four'), (6, 'six'), (5, 'five')}\n"
     ]
    }
   ],
   "source": [
    "#class\n",
    "#help(zip)\n",
    "numList = [4,5, 6]  \n",
    "strList = ['four', 'five', 'six']  \n",
    "  \n",
    "# No iterables are passed  \n",
    "result = zip()  \n",
    "  \n",
    "# Converting itertor to list  \n",
    "resultList = list(result)  \n",
    "print(resultList)  \n",
    "  \n",
    "# Two iterables are passed  \n",
    "result = zip(numList, strList)  \n",
    "  \n",
    "# Converting itertor to set  \n",
    "resultSet = set(result)  \n",
    "print(resultSet)  "
   ]
  },
  {
   "cell_type": "code",
   "execution_count": 37,
   "metadata": {},
   "outputs": [
    {
     "name": "stdout",
     "output_type": "stream",
     "text": [
      "10\n"
     ]
    }
   ],
   "source": [
    "from functools import reduce\n",
    "\"\"\"\n",
    "Reduce Function\n",
    "===============\n",
    "Reduce takes a function and a collection of items. It returns a value that is created by combining the items.\n",
    "This is a simple reduce. It returns the sum of all the items in the collection.\n",
    "\"\"\"\n",
    "data=[0, 1, 2, 3, 4]\n",
    "fun=lambda a, x: a + x\n",
    "total = reduce(fun, data)\n",
    "print(total)                          #10\n",
    "\n"
   ]
  }
 ],
 "metadata": {
  "kernelspec": {
   "display_name": "Python 3",
   "language": "python",
   "name": "python3"
  },
  "language_info": {
   "codemirror_mode": {
    "name": "ipython",
    "version": 3
   },
   "file_extension": ".py",
   "mimetype": "text/x-python",
   "name": "python",
   "nbconvert_exporter": "python",
   "pygments_lexer": "ipython3",
   "version": "3.7.3"
  }
 },
 "nbformat": 4,
 "nbformat_minor": 4
}
