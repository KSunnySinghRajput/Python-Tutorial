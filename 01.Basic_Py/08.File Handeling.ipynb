{
 "cells": [
  {
   "cell_type": "raw",
   "metadata": {},
   "source": [
    "filehandler = open(<file-name>, <access-mode>, <buffering>)     \n",
    "\n",
    "<access-mode>\n",
    "1\tr\t         R              pointer(beginning)    The file is by default open in this mode if no access mode is passed.\n",
    "2\trb\t         R.b            pointer(beginning) \n",
    "3\tr+\t         R/W            pointer(beginning) \n",
    "4\trb+\t         R/W.b          pointer(beginning)\n",
    "5\tw\t         W              pointer(beginning)     creates(overwrites)\n",
    "6\twb\t         W.b            pointer(beginning)     creates(overwrites)\n",
    "7\tw+\t         R/W            pointer(beginning)     creates(append)\n",
    "                It is different from r+ in the sense that it overwrites the previous file if one exists whereas r+ doesn't overwrite the previously written file. \n",
    "8\twb+\t         R/W.           pointer(beginning)\n",
    "9\ta\t         W(append)      pointer(previously)    creates(append)\n",
    "10\tab\t         W.b            pointer(previously)    creates(append)\n",
    "11\ta+\t         R/W(append)    pointer(end)           creates(append)\n",
    "12\tab+\t         R/W(append).b  pointer(end)\n"
   ]
  },
  {
   "cell_type": "code",
   "execution_count": null,
   "metadata": {},
   "outputs": [],
   "source": [
    "# \"r\" - Read - Default value. Opens a file for reading, error if the file does not exist\n",
    "# \"a\" - Append - Add more content to a file\n",
    "# \"w\" - Write - Opens a file for writing, creates the file if it does not exist\n",
    "# \"x\" - Create - Creates the specified file, returns an error if the file exists\n",
    "# \"t\" - Text - Default value. Text mode\n",
    "# \"b\" - Binary - Binary mode (e.g. images)\n",
    "# \"r+\" - Read and Write both"
   ]
  },
  {
   "cell_type": "code",
   "execution_count": 13,
   "metadata": {},
   "outputs": [
    {
     "name": "stdout",
     "output_type": "stream",
     "text": [
      "1.This is a test\n",
      "2.This is a test\n",
      "3.This is a test\n",
      "4.This is a test\n",
      "5.This is a test\n"
     ]
    }
   ],
   "source": [
    "f = open(\"D:\\\\Python\\\\#Python\\\\01.Tutorial\\\\file_writing.txt\", \"rt\")\n",
    "#f = open(\"file_writing.txt\", \"rt\")\n",
    "content = f.read()\n",
    "f.close()\n",
    "print(content)"
   ]
  },
  {
   "cell_type": "code",
   "execution_count": null,
   "metadata": {},
   "outputs": [],
   "source": [
    "# READ lINE BY LINE"
   ]
  },
  {
   "cell_type": "code",
   "execution_count": 7,
   "metadata": {},
   "outputs": [
    {
     "name": "stdout",
     "output_type": "stream",
     "text": [
      "1.This is a test\n",
      "2.This is a test\n",
      "3.This is a test\n",
      "4.This is a test\n",
      "5.This is a test"
     ]
    }
   ],
   "source": [
    "f = open(\"file_writing.txt\", \"rt\")  #To open a file for reading, \"rt\" is a default value\n",
    "for line in f:\n",
    "    print(line, end=\"\")\n",
    "f.close()"
   ]
  },
  {
   "cell_type": "code",
   "execution_count": 11,
   "metadata": {},
   "outputs": [
    {
     "name": "stdout",
     "output_type": "stream",
     "text": [
      "1.This is a test\n",
      "\n"
     ]
    }
   ],
   "source": [
    "with open('file_writing.txt') as c:         #If you’re not using the with keyword, then you should call f.close() to close the file and immediately free up any system resources used by it.\n",
    "     print(c.readline())"
   ]
  },
  {
   "cell_type": "code",
   "execution_count": 8,
   "metadata": {},
   "outputs": [
    {
     "name": "stdout",
     "output_type": "stream",
     "text": [
      "1.This is a test\n",
      "\n",
      "['2.This is a test\\n', '3.This is a test\\n', '4.This is a test\\n', '5.This is a test']\n"
     ]
    }
   ],
   "source": [
    "# readline()\n",
    "f = open(\"file_writing.txt\", \"rt\")\n",
    "print(f.readline())         #it will print 1st line by default\n",
    "print(f.readlines())          #it will print all lines in a list\n",
    "f.close()"
   ]
  },
  {
   "cell_type": "code",
   "execution_count": null,
   "metadata": {},
   "outputs": [],
   "source": [
    "#=============================================================================\n",
    "#FILE WRITING\n",
    "# f = open(\"file_writing.txt\", \"w\")\n",
    "# f.write(\"this is example of file writing\")\n",
    "# f.close()\n",
    "\n",
    "#FILE APPENDING\n",
    "# f = open(\"file_writing.txt\", \"a\")\n",
    "# f.write(\"this is example of file writing\\n\")\n",
    "# f.close()\n",
    "\n",
    "#FILE APPENDING & KNOW HOW MANY CHARACTERS YOU HAVE WRITTEN IN FILE\n",
    "# f = open(\"file_writing.txt\", \"a\")\n",
    "# a = f.write(\"this is example of file writing\\n\")\n",
    "# print(a)\n",
    "# f.close()\n",
    "\n",
    "#READ AND WRITE BOTH\n",
    "# f = open(\"file_writing.txt\", \"r+\")\n",
    "# print(f.read())\n",
    "# f.write(\"I am learning file handeling in python \\n\")\n",
    "# f.close()\n"
   ]
  },
  {
   "cell_type": "code",
   "execution_count": null,
   "metadata": {},
   "outputs": [],
   "source": [
    "fileobj.read(<count>)  \n",
    "fileptr.write(\"Python is the modern day language. It makes things so simple.\")  \n",
    "fileptr.readline();   \n",
    "fileobject.close()  "
   ]
  },
  {
   "cell_type": "code",
   "execution_count": 12,
   "metadata": {},
   "outputs": [
    {
     "data": {
      "text/plain": [
       "<function TextIOWrapper.close()>"
      ]
     },
     "execution_count": 12,
     "metadata": {},
     "output_type": "execute_result"
    }
   ],
   "source": [
    "f = open(\"D:\\\\Python\\\\#Python\\\\01.Tutorial\\\\file_writing.txt\", 'a')\n",
    "f.write('This is a test\\n')\n",
    "f.close"
   ]
  },
  {
   "cell_type": "code",
   "execution_count": null,
   "metadata": {},
   "outputs": [],
   "source": [
    "f = open(\"workfile.txt\", 'r')\n",
    "read_data = f.read()\n",
    "f.close\n",
    "read_data"
   ]
  },
  {
   "cell_type": "code",
   "execution_count": null,
   "metadata": {},
   "outputs": [],
   "source": [
    "f = open('workfile.txt', 'rb+')\n",
    "f.write(b'0123456789abcdef')\n",
    "\n",
    "f.seek(5)   # Go to the 6th byte in the file\n",
    "f.read(1)\n",
    "\n",
    "f.seek(-3, 2) # Go to the 3rd byte before the end\n",
    "f.read(1)\n",
    "\n",
    "f.close()"
   ]
  },
  {
   "cell_type": "code",
   "execution_count": null,
   "metadata": {},
   "outputs": [],
   "source": [
    "#Using with statement with files:=\n",
    "\n",
    "with open(<file name>, <access mode>) as <file-pointer>:  \n",
    "    #statement suite\n",
    "    "
   ]
  },
  {
   "cell_type": "code",
   "execution_count": null,
   "metadata": {},
   "outputs": [],
   "source": [
    "with open('workfile.txt') as c:         #If you’re not using the with keyword, then you should call f.close() to close the file and immediately free up any system resources used by it.\n",
    "     read_data = c.read()\n",
    "\n",
    "#print(read_data)\n",
    "for line in read_data:\n",
    "     print(line, end='')"
   ]
  },
  {
   "cell_type": "code",
   "execution_count": null,
   "metadata": {},
   "outputs": [],
   "source": [
    "import os\n",
    "\n",
    "def appendf(a):\n",
    "    f = open(a,\"a\")     #1.Append - Opens a file for appending, creates the file if it does not exist\n",
    "    e = str(input(\"Enter Statement:-\"))\n",
    "    f.write(e)\n",
    "\n",
    "def writef(a):\n",
    "    f = open(a,\"w\")    #2.Write - Opens a file for writing, creates the file if it does not exist\n",
    "    e = str(input(\"Enter Statement:-\"))\n",
    "    f.write(e)\n",
    "\n",
    "def write(a):\n",
    "    print(\"1:-Append - Create & Write\")\n",
    "    print(\"2:-Write - Create & Overwrite\")\n",
    "    c = int(input(\"Select Key:-\"))\n",
    "    if c == 1:\n",
    "        appendf(a)\n",
    "    elif c == 2:\n",
    "        writef(a)\n",
    "   \n",
    "def fread(a):\n",
    "    f = open(a,\"r\")     #3.Read - Default value. Opens a file for reading, error if the file does not exist\n",
    "    print(f.read())\n",
    "\n",
    "def filew(a):\n",
    "    if os.path.exists(a):\n",
    "         print(a+\" file exist\")\n",
    "    else:\n",
    "        f = open(a,\"x\")    #4.Create - will create a file, returns an error if the file exist\n",
    "        write(a)\n",
    "\n",
    "def delf(f):\n",
    "    if os.path.exists(f):\n",
    "        os.remove(f)\n",
    "        print(\"The EXIT file DELETE\")\n",
    "    else:\n",
    "        print(\"The file does not exist\")\n",
    "\n",
    "def delfolder(folder):     # Note: You can only remove empty folders.\n",
    "    if os.path.exists(folder):\n",
    "        os.remove(folder)\n",
    "        print(\"The EXIT folder DELETE\")\n",
    "    else:\n",
    "        print(\"The folder does not exist\")\n",
    "\n",
    "def repeat(f):\n",
    "    print(\"1:-Create - only Create\")\n",
    "    print(\"2:-Write - Write TXT File\")\n",
    "    print(\"3:-Read - Read TXT File\")\n",
    "    print(\"4:-Clear - only clear TXT File\")\n",
    "    print(\"5:-Delete - Delete TXT File\")\n",
    "    print(\"6:-Exit\")\n",
    "    c = int(input(\"Select Key:-\"))\n",
    "    if c == 1:\n",
    "        write(f)\n",
    "        repeat(f)\n",
    "    elif c == 2:\n",
    "        writef(f)\n",
    "        repeat(f)\n",
    "    elif c == 3:\n",
    "        fread(f)\n",
    "        repeat(f)\n",
    "    elif c == 4:\n",
    "        f = open(f,\"w\")\n",
    "        f.write(\"\")\n",
    "        repeat(f)\n",
    "    elif c == 5:\n",
    "        delf(f)\n",
    "        repeat(f)\n",
    "    elif c == 6:\n",
    "        exit()\n",
    "    else:\n",
    "        print(\"Wrong Entery PLZ Select Right key\")\n",
    "        repeat(f)\n",
    "\n",
    "def main():\n",
    "    f = (str(input(\"Enter File Name:-\"))) + \".txt\"\n",
    "    if os.path.exists(f):\n",
    "        print(f+\" file exist\")\n",
    "    else:\n",
    "        print(f+\" this does not exist\")\n",
    "    repeat(f)\n",
    "    fread(f)\n",
    "\n",
    "if __name__ == '__main__':\n",
    "    main()"
   ]
  }
 ],
 "metadata": {
  "kernelspec": {
   "display_name": "Python 3",
   "language": "python",
   "name": "python3"
  },
  "language_info": {
   "codemirror_mode": {
    "name": "ipython",
    "version": 3
   },
   "file_extension": ".py",
   "mimetype": "text/x-python",
   "name": "python",
   "nbconvert_exporter": "python",
   "pygments_lexer": "ipython3",
   "version": "3.7.3"
  }
 },
 "nbformat": 4,
 "nbformat_minor": 4
}
