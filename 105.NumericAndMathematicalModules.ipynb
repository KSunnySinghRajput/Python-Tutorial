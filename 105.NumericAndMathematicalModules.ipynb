{
 "cells": [
  {
   "cell_type": "code",
   "execution_count": 17,
   "metadata": {},
   "outputs": [],
   "source": [
    "def deg2rad(deg):\n",
    "    # Convert angle x from degrees to radians.\n",
    "    return mt.radians(deg)\n",
    "#deg2rad(57.400000000000006) -> 1.0018189906447452\n",
    "\n",
    "def rad2deg(rad:int or float ):\n",
    "    # Convert angle x from radians to degrees.\n",
    "    return mt.degrees(rad)    \n",
    "#rad2deg(1.0018189906447452)  -> 57.400000000000006\n",
    "\n",
    "#sin cos tan\n",
    "def sin(angle:int or float,type = 'degrees'):\n",
    "    # type = radians and degrees\n",
    "    if type == 'radians':\n",
    "        return mt.sin(angle)\n",
    "    if type == 'degrees':\n",
    "        return mt.sin(deg2rad(angle))\n",
    "    else:\n",
    "        print (\"TYPE ERROR:type is  radians and degrees\")\n",
    "\n",
    "def cos(angle:int or float,type = 'degrees'):\n",
    "    # type = radians and degrees\n",
    "    if type == 'radians':\n",
    "        return mt.cos(angle)\n",
    "    if type == 'degrees':\n",
    "        return mt.cos(deg2rad(angle))\n",
    "    else:\n",
    "        print (\"TYPE ERROR:type is  radians and degrees\")\n",
    "\n",
    "def tan(angle:int or float,type = 'degrees'):\n",
    "    # type = radians and degrees\n",
    "    if type == 'radians':\n",
    "        return mt.tan(angle)\n",
    "    if type == 'degrees':\n",
    "        return mt.tan(deg2rad(angle))\n",
    "    else:\n",
    "        print (\"TYPE ERROR:type is  radians and degrees\")\n",
    "\n",
    "#cosec sec cot\n",
    "def sinh(angle:int or float,type = 'degrees'):\n",
    "    # type = radians and degrees\n",
    "    if type == 'radians':\n",
    "        return mt.sinh(angle)\n",
    "    if type == 'degrees':\n",
    "        return mt.sinh(deg2rad(angle))\n",
    "    else:\n",
    "        print (\"TYPE ERROR:type is  radians and degrees\")\n",
    "\n",
    "def cosh(angle:int or float,type = 'degrees'):\n",
    "    # type = radians and degrees\n",
    "    if type == 'radians':\n",
    "        return mt.cosh(angle)\n",
    "    if type == 'degrees':\n",
    "        return mt.cosh(deg2rad(angle))\n",
    "    else:\n",
    "        print (\"TYPE ERROR:type is  radians and degrees\")\n",
    "\n",
    "def tanh(angle:int or float,type = 'degrees'):\n",
    "    # type = radians and degrees\n",
    "    if type == 'radians':\n",
    "        return mt.tanh(angle)\n",
    "    if type == 'degrees':\n",
    "        return mt.tanh(deg2rad(angle))\n",
    "    else:\n",
    "        print (\"TYPE ERROR:type is  radians and degrees\")"
   ]
  },
  {
   "cell_type": "code",
   "execution_count": 18,
   "metadata": {},
   "outputs": [
    {
     "ename": "NameError",
     "evalue": "name 'pi' is not defined",
     "output_type": "error",
     "traceback": [
      "\u001b[1;31m---------------------------------------------------------------------------\u001b[0m",
      "\u001b[1;31mNameError\u001b[0m                                 Traceback (most recent call last)",
      "\u001b[1;32m<ipython-input-18-ee695d299866>\u001b[0m in \u001b[0;36m<module>\u001b[1;34m\u001b[0m\n\u001b[0;32m     39\u001b[0m     \u001b[0mplt\u001b[0m\u001b[1;33m.\u001b[0m\u001b[0mlegend\u001b[0m\u001b[1;33m(\u001b[0m\u001b[1;33m)\u001b[0m\u001b[1;33m;\u001b[0m \u001b[1;31m# for Label\u001b[0m\u001b[1;33m\u001b[0m\u001b[1;33m\u001b[0m\u001b[0m\n\u001b[0;32m     40\u001b[0m     \u001b[1;32mreturn\u001b[0m \u001b[0maxh\u001b[0m\u001b[1;33m\u001b[0m\u001b[1;33m\u001b[0m\u001b[0m\n\u001b[1;32m---> 41\u001b[1;33m \u001b[0mTrigoGraphDraw\u001b[0m\u001b[1;33m(\u001b[0m\u001b[0ma\u001b[0m\u001b[1;33m=\u001b[0m\u001b[1;36m36\u001b[0m\u001b[1;33m,\u001b[0m\u001b[0mtrigofun\u001b[0m \u001b[1;33m=\u001b[0m \u001b[1;34m'sinh'\u001b[0m\u001b[1;33m)\u001b[0m\u001b[1;33m\u001b[0m\u001b[1;33m\u001b[0m\u001b[0m\n\u001b[0m",
      "\u001b[1;32m<ipython-input-18-ee695d299866>\u001b[0m in \u001b[0;36mTrigoGraphDraw\u001b[1;34m(a, trigofun)\u001b[0m\n\u001b[0;32m      5\u001b[0m     \u001b[0max\u001b[0m\u001b[1;33m.\u001b[0m\u001b[0maxhline\u001b[0m\u001b[1;33m(\u001b[0m\u001b[1;36m0\u001b[0m\u001b[1;33m,\u001b[0m\u001b[0mcolor\u001b[0m\u001b[1;33m=\u001b[0m\u001b[1;34m'red'\u001b[0m\u001b[1;33m)\u001b[0m\u001b[1;33m\u001b[0m\u001b[1;33m\u001b[0m\u001b[0m\n\u001b[0;32m      6\u001b[0m     \u001b[0max\u001b[0m\u001b[1;33m.\u001b[0m\u001b[0maxvline\u001b[0m\u001b[1;33m(\u001b[0m\u001b[1;36m0\u001b[0m\u001b[1;33m,\u001b[0m\u001b[0mcolor\u001b[0m\u001b[1;33m=\u001b[0m\u001b[1;34m'red'\u001b[0m\u001b[1;33m)\u001b[0m\u001b[1;33m\u001b[0m\u001b[1;33m\u001b[0m\u001b[0m\n\u001b[1;32m----> 7\u001b[1;33m     \u001b[0mx_COD\u001b[0m \u001b[1;33m=\u001b[0m \u001b[0mnp\u001b[0m\u001b[1;33m.\u001b[0m\u001b[0mlinspace\u001b[0m\u001b[1;33m(\u001b[0m\u001b[1;36m0\u001b[0m\u001b[1;33m,\u001b[0m\u001b[1;36m2\u001b[0m\u001b[1;33m*\u001b[0m\u001b[0mpi\u001b[0m\u001b[1;33m)\u001b[0m\u001b[1;33m\u001b[0m\u001b[1;33m\u001b[0m\u001b[0m\n\u001b[0m\u001b[0;32m      8\u001b[0m     \u001b[0my_COD\u001b[0m \u001b[1;33m=\u001b[0m \u001b[0mnp\u001b[0m\u001b[1;33m.\u001b[0m\u001b[0mzeros\u001b[0m\u001b[1;33m(\u001b[0m\u001b[0mlen\u001b[0m\u001b[1;33m(\u001b[0m\u001b[0mx_COD\u001b[0m\u001b[1;33m)\u001b[0m\u001b[1;33m)\u001b[0m\u001b[1;33m\u001b[0m\u001b[1;33m\u001b[0m\u001b[0m\n\u001b[0;32m      9\u001b[0m \u001b[1;33m\u001b[0m\u001b[0m\n",
      "\u001b[1;31mNameError\u001b[0m: name 'pi' is not defined"
     ]
    },
    {
     "data": {
      "image/png": "[encoded data removed]",
      "text/plain": [
       "<Figure size 432x288 with 1 Axes>"
      ]
     },
     "metadata": {
      "needs_background": "light"
     },
     "output_type": "display_data"
    }
   ],
   "source": [
    "import matplotlib.pyplot as plt\n",
    "import numpy as np\n",
    "def TrigoGraphDraw(a=None,trigofun='sin'):\n",
    "    ax = plt.axes()\n",
    "    ax.axhline(0,color='red')\n",
    "    ax.axvline(0,color='red')\n",
    "    x_COD = np.linspace(0,2*pi)\n",
    "    y_COD = np.zeros(len(x_COD))\n",
    "    \n",
    "    if  trigofun is 'sin':\n",
    "        axh=sin(a)\n",
    "        VAL=np.sin(x_COD)\n",
    "    if  trigofun is 'cos':\n",
    "        axh=cos(a)\n",
    "        VAL=np.cos(x_COD)\n",
    "    if  trigofun is 'tan':\n",
    "        axh=tan(a)\n",
    "        VAL=np.tan(x_COD)\n",
    "    if  trigofun is 'sinh':\n",
    "        axh=sinh(a)\n",
    "        VAL=np.sinh(x_COD)\n",
    "    if  trigofun is 'cosh':\n",
    "        axh=cosh(a)\n",
    "        VAL=np.cosh(x_COD)\n",
    "    if  trigofun is 'tanh':\n",
    "        axh=tanh(a)\n",
    "        VAL=np.tanh(x_COD)\n",
    "        \n",
    "    ax.plot(x_COD,VAL, '-g' ,label='sin(x)')\n",
    "    \n",
    "    axv=deg2rad(a)\n",
    "    if a is None:\n",
    "        pass\n",
    "    else:\n",
    "        \n",
    "        ax.axhline(axh,color='cyan',label='output line')  \n",
    "        ax.axvline(axv,color='cyan',label='angle')\n",
    "        ax.text(y=axh+0.1,x=axv,s=str(axh))\n",
    "    plt.legend(); # for Label\n",
    "    return axh\n",
    "TrigoGraphDraw(a=36,trigofun = 'sinh')"
   ]
  },
  {
   "cell_type": "code",
   "execution_count": null,
   "metadata": {},
   "outputs": [],
   "source": [
    "def sin2cos():\n",
    "def sin2tan():\n",
    "def cos2sin():\n",
    "def cos2tan():\n",
    "def tan2sin():\n",
    "def tan2cos():"
   ]
  },
  {
   "cell_type": "code",
   "execution_count": 19,
   "metadata": {},
   "outputs": [],
   "source": [
    "# math.comb(n, k)\n",
    "def comb(n, k):\n",
    "    #n! / (k! * (n - k)!)\n",
    "    if  k <= n and k > n and 0== n :\n",
    "        return factorial(n)/(factorial(n)*factorial(n-k))"
   ]
  },
  {
   "cell_type": "markdown",
   "metadata": {},
   "source": []
  }
 ],
 "metadata": {
  "kernelspec": {
   "display_name": "Python 3",
   "language": "python",
   "name": "python3"
  },
  "language_info": {
   "codemirror_mode": {
    "name": "ipython",
    "version": 3
   },
   "file_extension": ".py",
   "mimetype": "text/x-python",
   "name": "python",
   "nbconvert_exporter": "python",
   "pygments_lexer": "ipython3",
   "version": "3.7.8"
  }
 },
 "nbformat": 4,
 "nbformat_minor": 4
}
