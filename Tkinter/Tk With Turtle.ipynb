{
 "cells": [
  {
   "cell_type": "code",
   "execution_count": 2,
   "id": "quarterly-scottish",
   "metadata": {},
   "outputs": [],
   "source": [
    "import turtle\n",
    "\n",
    "screen = turtle.Screen()\n",
    "screen.title(\"A Turtle Graphics Screen\")\n",
    "screen.setup(600, 600)\n",
    "screen.bgcolor(\"cyan\")\n",
    "\n",
    "turtle.done()"
   ]
  },
  {
   "cell_type": "code",
   "execution_count": 1,
   "id": "banned-second",
   "metadata": {},
   "outputs": [],
   "source": [
    "import turtle\n",
    "import tkinter as tk\n",
    "\n",
    "\n",
    "def do_stuff():\n",
    "    for color in [\"red\", \"yellow\", \"green\"]:\n",
    "        my_lovely_turtle.color(color)\n",
    "        my_lovely_turtle.right(120)\n",
    "\n",
    "\n",
    "def press():\n",
    "    do_stuff()\n",
    "\n",
    "\n",
    "if __name__ == \"__main__\":\n",
    "    screen = turtle.Screen()\n",
    "    screen.bgcolor(\"cyan\")\n",
    "    canvas = screen.getcanvas()\n",
    "    button = tk.Button(canvas.master, text=\"Press me\", command=press)\n",
    "    canvas.create_window(-200, -200, window=button)\n",
    "    my_lovely_turtle = turtle.Turtle(shape=\"turtle\")\n",
    "    turtle.done()"
   ]
  },
  {
   "cell_type": "code",
   "execution_count": null,
   "id": "foreign-monkey",
   "metadata": {},
   "outputs": [],
   "source": []
  },
  {
   "cell_type": "code",
   "execution_count": 1,
   "id": "interpreted-bhutan",
   "metadata": {},
   "outputs": [],
   "source": [
    "import turtle\n",
    "import tkinter as tk\n",
    "\n",
    "\n",
    "class App:\n",
    "    def __init__(self, master):\n",
    "        self.master = master\n",
    "        self.master.title(\"Raw Turtle\")\n",
    "        self.canvas = tk.Canvas(master)\n",
    "        self.canvas.config(width=600, height=200)\n",
    "        self.canvas.pack(side=tk.LEFT)\n",
    "        self.screen = turtle.TurtleScreen(self.canvas)\n",
    "        self.screen.bgcolor(\"cyan\")\n",
    "        self.button = tk.Button(self.master, text=\"Press me\", command=self.press)\n",
    "        self.button.pack()\n",
    "        self.my_lovely_turtle = turtle.RawTurtle(self.screen, shape=\"turtle\")\n",
    "        self.my_lovely_turtle.color(\"green\")\n",
    "\n",
    "    def do_stuff(self):\n",
    "        for color in [\"red\", \"yellow\", \"green\"]:\n",
    "            self.my_lovely_turtle.color(color)\n",
    "            self.my_lovely_turtle.right(120)\n",
    "\n",
    "    def press(self):\n",
    "        self.do_stuff()\n",
    "\n",
    "\n",
    "if __name__ == '__main__':\n",
    "    root = tk.Tk()\n",
    "    app = App(root)\n",
    "    root.mainloop()"
   ]
  },
  {
   "cell_type": "code",
   "execution_count": null,
   "id": "alive-momentum",
   "metadata": {},
   "outputs": [],
   "source": []
  }
 ],
 "metadata": {
  "kernelspec": {
   "display_name": "Python 3",
   "language": "python",
   "name": "python3"
  },
  "language_info": {
   "codemirror_mode": {
    "name": "ipython",
    "version": 3
   },
   "file_extension": ".py",
   "mimetype": "text/x-python",
   "name": "python",
   "nbconvert_exporter": "python",
   "pygments_lexer": "ipython3",
   "version": "3.7.8"
  }
 },
 "nbformat": 4,
 "nbformat_minor": 5
}
