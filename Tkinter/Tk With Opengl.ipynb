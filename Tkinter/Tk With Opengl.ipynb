{
 "cells": [
  {
   "cell_type": "code",
   "execution_count": null,
   "id": "responsible-corpus",
   "metadata": {},
   "outputs": [],
   "source": [
    "import time\n",
    "import tkinter\n",
    "from OpenGL import GL\n",
    "from pyopengltk import OpenGLFrame\n",
    "\n",
    "class AppOgl(OpenGLFrame):\n",
    "\n",
    "    def initgl(self):\n",
    "        \"\"\"Initalize gl states when the frame is created\"\"\"\n",
    "        GL.glViewport(0, 0, self.width, self.height)\n",
    "        GL.glClearColor(0.0, 1.0, 0.0, 0.0)    \n",
    "        self.start = time.time()\n",
    "        self.nframes = 0\n",
    "\n",
    "    def redraw(self):\n",
    "        \"\"\"Render a single frame\"\"\"\n",
    "        GL.glClear(GL.GL_COLOR_BUFFER_BIT)\n",
    "        tm = time.time() - self.start\n",
    "        self.nframes += 1\n",
    "        print(\"fps\",self.nframes / tm, end=\"\\r\" )\n",
    "\n",
    "\n",
    "if __name__ == '__main__':\n",
    "    root = tkinter.Tk()\n",
    "    app = AppOgl(root, width=320, height=200)\n",
    "    app.pack(fill=tkinter.BOTH, expand=tkinter.YES)\n",
    "    app.animate = 1\n",
    "    app.after(100, app.printContext)\n",
    "    app.mainloop()"
   ]
  }
 ],
 "metadata": {
  "kernelspec": {
   "display_name": "Python 3",
   "language": "python",
   "name": "python3"
  },
  "language_info": {
   "codemirror_mode": {
    "name": "ipython",
    "version": 3
   },
   "file_extension": ".py",
   "mimetype": "text/x-python",
   "name": "python",
   "nbconvert_exporter": "python",
   "pygments_lexer": "ipython3",
   "version": "3.7.8"
  }
 },
 "nbformat": 4,
 "nbformat_minor": 5
}
