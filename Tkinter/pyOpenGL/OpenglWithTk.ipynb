{
 "cells": [
  {
   "cell_type": "code",
   "execution_count": 2,
   "metadata": {},
   "outputs": [
    {
     "name": "stdout",
     "output_type": "stream",
     "text": [
      "Number of extensions: 229\n",
      "GL_VENDOR  : b'Intel'\n",
      "GL_RENDERER: b'Intel(R) HD Graphics 520'\n",
      "GL_VERSION : b'4.6.0 - Build 27.20.100.8681'\n",
      " GL_MAJOR_VERSION: 4\n",
      " GL_MINOR_VERSION: 6\n",
      " GL_SHADING_LANGUAGE_VERSION : b'4.60 - Build 27.20.100.8681'\n",
      " GL_CONTEXT_CORE_PROFILE_BIT : False\n",
      " GL_CONTEXT_COMPATIBILITY_PROFILE_BIT : True\n"
     ]
    }
   ],
   "source": [
    "import time\n",
    "import tkinter\n",
    "from OpenGL import GL\n",
    "from pyopengltk import OpenGLFrame\n",
    "\n",
    "class AppOgl(OpenGLFrame):\n",
    "\n",
    "    def initgl(self):\n",
    "        \"\"\"Initalize gl states when the frame is created\"\"\"\n",
    "        GL.glViewport(0, 0, self.width, self.height)\n",
    "        GL.glClearColor(0.0, 1.0, 0.0, 0.0)    \n",
    "        self.start = time.time()\n",
    "        self.nframes = 0\n",
    "\n",
    "    def redraw(self):\n",
    "        \"\"\"Render a single frame\"\"\"\n",
    "        GL.glClear(GL.GL_COLOR_BUFFER_BIT)\n",
    "        tm = time.time() - self.start\n",
    "        self.nframes += 1\n",
    "        #print(\"fps\",self.nframes / tm, end=\"\\r\" )\n",
    "\n",
    "\n",
    "if __name__ == '__main__':\n",
    "    root = tkinter.Tk()\n",
    "    app = AppOgl(root, width=320, height=200)\n",
    "    app.pack(fill=tkinter.BOTH, expand=tkinter.YES)\n",
    "    app.animate = 1\n",
    "    app.after(100, app.printContext)\n",
    "    app.mainloop()"
   ]
  },
  {
   "cell_type": "code",
   "execution_count": 8,
   "metadata": {},
   "outputs": [],
   "source": [
    "import tkinter\n",
    "from pyopengltk import OpenGLFrame\n",
    "from OpenGL import GL\n",
    "from OpenGL import GLU\n",
    "\n",
    "verticies = (    (1, -1, -1),    (1, 1, -1),    (-1, 1, -1),    (-1, -1, -1),\n",
    "                 (1, -1, 1),    (1, 1, 1),    (-1, -1, 1),    (-1, 1, 1)    )\n",
    "\n",
    "edges = (    (0,1),    (0,3),    (0,4),    (2,1),    (2,3),    (2,7),\n",
    "    (6,3),    (6,4),    (6,7),    (5,1),    (5,4),    (5,7)    )\n",
    "\n",
    "def Cube():\n",
    "    GL.glBegin(GL.GL_LINES)\n",
    "    for edge in edges:\n",
    "        for vertex in edge:\n",
    "            GL.glVertex3fv(verticies[vertex])\n",
    "    GL.glEnd()\n",
    "\n",
    "class CubeSpinner( OpenGLFrame ):\n",
    "    def initgl(self):\n",
    "        GL.glLoadIdentity()\n",
    "        GLU.gluPerspective(45, (self.width/self.height), 0.1, 50.0)\n",
    "        GL.glTranslatef(0.0,0.0, -5)\n",
    "    def redraw(self):\n",
    "        GL.glRotatef(1, 3, 1, 1)\n",
    "        GL.glClear(GL.GL_COLOR_BUFFER_BIT|GL.GL_DEPTH_BUFFER_BIT)\n",
    "        Cube()\n",
    "\n",
    "def main():\n",
    "    frm = CubeSpinner( height = 600, width = 800 )\n",
    "    frm.animate = 10\n",
    "    frm.pack( fill = tkinter.BOTH, expand = 1)\n",
    "    return frm.mainloop()\n",
    "\n",
    "if __name__==\"__main__\":\n",
    "    main()"
   ]
  },
  {
   "cell_type": "code",
   "execution_count": null,
   "metadata": {},
   "outputs": [],
   "source": []
  }
 ],
 "metadata": {
  "kernelspec": {
   "display_name": "Python 3",
   "language": "python",
   "name": "python3"
  },
  "language_info": {
   "codemirror_mode": {
    "name": "ipython",
    "version": 3
   },
   "file_extension": ".py",
   "mimetype": "text/x-python",
   "name": "python",
   "nbconvert_exporter": "python",
   "pygments_lexer": "ipython3",
   "version": "3.7.8"
  }
 },
 "nbformat": 4,
 "nbformat_minor": 4
}
