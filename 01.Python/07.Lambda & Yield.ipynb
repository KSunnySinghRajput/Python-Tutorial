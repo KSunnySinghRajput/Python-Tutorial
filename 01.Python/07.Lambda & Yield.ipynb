{
 "cells": [
  {
   "cell_type": "code",
   "execution_count": null,
   "metadata": {},
   "outputs": [],
   "source": [
    "#A lambda function is a small anonymous function\n",
    "#A lambda function can take any number of arguments, but can only have one expression.\n",
    "\n",
    "#lambda arguments : expression\n",
    "x = lambda a : a + 10\n",
    "print(x(5))                     #15\n",
    "\n",
    "\n",
    "#A lambda function that multiplies argument a with argument b and print the result:\n",
    "x = lambda a, b : a * b\n",
    "print(x(5, 6))                  #30\n",
    "\n",
    "#A lambda function that sums argument a, b, and c and print the result:\n",
    "x = lambda a, b, c : a + b + c\n",
    "print(x(5, 6, 2))               #13\n",
    "\n",
    "#Use that function definition to make a function that always doubles the number you send in:\n",
    "def myfunc(n):\n",
    "  return lambda a : a * n\n",
    "mydoubler = myfunc(2)\n",
    "print(mydoubler(11))            #22\n",
    "\n",
    "#Or, use the same function definition to make a function that always triples the number you send in:\n",
    "mytripler = myfunc(3)\n",
    "print(mytripler(11))            #33\n"
   ]
  },
  {
   "cell_type": "code",
   "execution_count": null,
   "metadata": {},
   "outputs": [],
   "source": [
    "def reverse(data):\n",
    "    for index in range(len(data)-1, -1, -1):\n",
    "        yield data[index]\n",
    "for char in reverse('golf'):\n",
    "     print(char)\n"
   ]
  }
 ],
 "metadata": {
  "kernelspec": {
   "display_name": "Python 3",
   "language": "python",
   "name": "python3"
  },
  "language_info": {
   "codemirror_mode": {
    "name": "ipython",
    "version": 3
   },
   "file_extension": ".py",
   "mimetype": "text/x-python",
   "name": "python",
   "nbconvert_exporter": "python",
   "pygments_lexer": "ipython3",
   "version": "3.7.3"
  }
 },
 "nbformat": 4,
 "nbformat_minor": 4
}
