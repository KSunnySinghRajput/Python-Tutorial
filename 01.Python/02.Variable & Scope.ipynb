{
 "cells": [
  {
   "cell_type": "markdown",
   "metadata": {},
   "source": [
    "# Variable Declaring And Assigning"
   ]
  },
  {
   "cell_type": "code",
   "execution_count": 3,
   "metadata": {},
   "outputs": [
    {
     "name": "stdout",
     "output_type": "stream",
     "text": [
      "3\n"
     ]
    }
   ],
   "source": [
    "a=3\n",
    "print(a)"
   ]
  },
  {
   "cell_type": "code",
   "execution_count": 4,
   "metadata": {},
   "outputs": [
    {
     "name": "stdout",
     "output_type": "stream",
     "text": [
      "34 3\n"
     ]
    }
   ],
   "source": [
    "#c=3 d=4 wrong\n",
    "b=34;x=3\n",
    "print(b , x)"
   ]
  },
  {
   "cell_type": "code",
   "execution_count": 6,
   "metadata": {},
   "outputs": [
    {
     "name": "stdout",
     "output_type": "stream",
     "text": [
      "3 4\n"
     ]
    }
   ],
   "source": [
    "c,d=3,4       #Assigning multiple values to multiple variables\n",
    "print(c , d)"
   ]
  },
  {
   "cell_type": "code",
   "execution_count": 7,
   "metadata": {},
   "outputs": [
    {
     "name": "stdout",
     "output_type": "stream",
     "text": [
      "45 45 45 45 45\n"
     ]
    }
   ],
   "source": [
    "a=s=d=d=45    #Assigning single value to multiple variables\n",
    "print(a,s,d,d,45)"
   ]
  },
  {
   "cell_type": "markdown",
   "metadata": {},
   "source": [
    "# Scope of variable"
   ]
  },
  {
   "cell_type": "code",
   "execution_count": 17,
   "metadata": {},
   "outputs": [
    {
     "name": "stdout",
     "output_type": "stream",
     "text": [
      "10\n",
      "20\n",
      "10\n"
     ]
    }
   ],
   "source": [
    "var1 = 10               #var1 = This is a Global Variable\n",
    "print(var1)\n",
    "def func1():\n",
    "    var1 = 20          #Local Variable (It can't be call outside of function)\n",
    "    print(var1)\n",
    "func1()\n",
    "print(var1)"
   ]
  },
  {
   "cell_type": "code",
   "execution_count": 14,
   "metadata": {},
   "outputs": [
    {
     "name": "stdout",
     "output_type": "stream",
     "text": [
      "10\n",
      "10 20\n",
      "10\n"
     ]
    }
   ],
   "source": [
    "var2 = 10               #var1 = This is a Global Variable\n",
    "def func2():\n",
    "    print(var2)\n",
    "    var3 = 20          #Local Variable (It can't be call outside of function)\n",
    "    print(var2,  var3)\n",
    "func2()\n",
    "print(var1)"
   ]
  },
  {
   "cell_type": "code",
   "execution_count": 18,
   "metadata": {},
   "outputs": [
    {
     "name": "stdout",
     "output_type": "stream",
     "text": [
      "10 20 60\n",
      "10\n"
     ]
    }
   ],
   "source": [
    "var4 = 10               #var1 = This is a Global Variable\n",
    "def func3():\n",
    "    global var4         #Global Keywords\n",
    "    var5 = var4 + 50\n",
    "    var6 = 20   #Local Variable (It can't be call outside of function)\n",
    "    print(var4,  var6, var5)\n",
    "func3()\n",
    "print(var4)"
   ]
  },
  {
   "cell_type": "code",
   "execution_count": 20,
   "metadata": {},
   "outputs": [
    {
     "name": "stdout",
     "output_type": "stream",
     "text": [
      "10 20 60\n",
      "10\n"
     ]
    }
   ],
   "source": [
    "var7 = 10               #var1 = This is a Global Variable\n",
    "def func4():\n",
    "    global var7         #Global Keywords\n",
    "    var9 = var7 + 50\n",
    "    var8 = 20   #Local Variable (It can't be call outside of function)\n",
    "    print(var7,  var8, var9)\n",
    "func4()\n",
    "print(var7)"
   ]
  },
  {
   "cell_type": "code",
   "execution_count": null,
   "metadata": {},
   "outputs": [],
   "source": []
  }
 ],
 "metadata": {
  "kernelspec": {
   "display_name": "Python 3",
   "language": "python",
   "name": "python3"
  },
  "language_info": {
   "codemirror_mode": {
    "name": "ipython",
    "version": 3
   },
   "file_extension": ".py",
   "mimetype": "text/x-python",
   "name": "python",
   "nbconvert_exporter": "python",
   "pygments_lexer": "ipython3",
   "version": "3.7.3"
  }
 },
 "nbformat": 4,
 "nbformat_minor": 4
}
