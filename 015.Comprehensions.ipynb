{
 "cells": [
  {
   "cell_type": "markdown",
   "id": "super-hierarchy",
   "metadata": {},
   "source": [
    "# <center>Comprehensions<Center>\n",
    "> Comprehensions in Python provide us with a short and concise way to construct new sequences (such as lists, set, dictionary etc.) using sequences which have been already defined."
   ]
  },
  {
   "cell_type": "markdown",
   "id": "polish-walter",
   "metadata": {},
   "source": [
    "**Without Comprehensions**"
   ]
  },
  {
   "cell_type": "code",
   "execution_count": 25,
   "id": "better-sense",
   "metadata": {},
   "outputs": [
    {
     "data": {
      "text/plain": [
       "[2, 4, 4, 6]"
      ]
     },
     "execution_count": 25,
     "metadata": {},
     "output_type": "execute_result"
    }
   ],
   "source": [
    "input_list = [1, 2, 3, 4, 4, 5, 6, 7, 7]\n",
    "output_list = []\n",
    "for var in input_list:\n",
    "    if var % 2 == 0:\n",
    "        output_list.append(var)\n",
    "output_list"
   ]
  },
  {
   "cell_type": "code",
   "execution_count": 26,
   "id": "executive-entry",
   "metadata": {},
   "outputs": [
    {
     "data": {
      "text/plain": [
       "[1, 4, 9, 16, 16, 25, 36, 49, 49]"
      ]
     },
     "execution_count": 26,
     "metadata": {},
     "output_type": "execute_result"
    }
   ],
   "source": [
    "input_list = [1, 2, 3, 4, 4, 5, 6, 7, 7]\n",
    "list(map(lambda x: if (T>200):, input_list))"
   ]
  },
  {
   "cell_type": "markdown",
   "id": "about-factory",
   "metadata": {},
   "source": [
    "**With Comprehensions**"
   ]
  },
  {
   "cell_type": "code",
   "execution_count": 15,
   "id": "revised-coast",
   "metadata": {},
   "outputs": [
    {
     "data": {
      "text/plain": [
       "[2, 4, 4, 6]"
      ]
     },
     "execution_count": 15,
     "metadata": {},
     "output_type": "execute_result"
    }
   ],
   "source": [
    "input_list = [1, 2, 3, 4, 4, 5, 6, 7, 7]\n",
    "[var for var in input_list if var % 2 == 0]"
   ]
  },
  {
   "cell_type": "markdown",
   "id": "latter-french",
   "metadata": {},
   "source": [
    "### 1. list \n",
    "**loop**"
   ]
  },
  {
   "cell_type": "code",
   "execution_count": 19,
   "id": "round-speed",
   "metadata": {},
   "outputs": [
    {
     "data": {
      "text/plain": [
       "[1, 2, 3, 4, 4, 5, 6, 7, 7]"
      ]
     },
     "execution_count": 19,
     "metadata": {},
     "output_type": "execute_result"
    }
   ],
   "source": [
    "input_list = [1, 2, 3, 4, 4, 5, 6, 7, 7]\n",
    "[var for var in input_list]"
   ]
  },
  {
   "cell_type": "markdown",
   "id": "boxed-sacrifice",
   "metadata": {},
   "source": [
    "**nested-loop**"
   ]
  },
  {
   "cell_type": "code",
   "execution_count": 20,
   "id": "future-trunk",
   "metadata": {},
   "outputs": [
    {
     "data": {
      "text/plain": [
       "[(1, 1), (1, 2), (1, 3), (2, 1), (2, 2), (2, 3), (3, 1), (3, 2), (3, 3)]"
      ]
     },
     "execution_count": 20,
     "metadata": {},
     "output_type": "execute_result"
    }
   ],
   "source": [
    "A= [1, 2, 3]\n",
    "[(var1,var2) for var1 in A  for var2 in A ]"
   ]
  },
  {
   "cell_type": "code",
   "execution_count": null,
   "id": "flush-spanish",
   "metadata": {},
   "outputs": [],
   "source": []
  },
  {
   "cell_type": "code",
   "execution_count": 21,
   "id": "advised-display",
   "metadata": {},
   "outputs": [
    {
     "data": {
      "text/plain": [
       "[(1, 1), (2, 2), (3, 3)]"
      ]
     },
     "execution_count": 21,
     "metadata": {},
     "output_type": "execute_result"
    }
   ],
   "source": [
    "A= [1, 2, 3]\n",
    "[(var1,var2) for var1, var2 in zip(A,A)]"
   ]
  },
  {
   "cell_type": "code",
   "execution_count": null,
   "id": "lesser-rapid",
   "metadata": {},
   "outputs": [],
   "source": []
  },
  {
   "cell_type": "code",
   "execution_count": 22,
   "id": "dangerous-advocacy",
   "metadata": {},
   "outputs": [
    {
     "data": {
      "text/plain": [
       "[(1, 1), (2, 2), (3, 3)]"
      ]
     },
     "execution_count": 22,
     "metadata": {},
     "output_type": "execute_result"
    }
   ],
   "source": [
    "list(zip(A,A))"
   ]
  },
  {
   "cell_type": "markdown",
   "id": "organizational-class",
   "metadata": {},
   "source": [
    "**Condition**"
   ]
  },
  {
   "cell_type": "code",
   "execution_count": null,
   "id": "reduced-milan",
   "metadata": {},
   "outputs": [],
   "source": [
    "input_list = [1, 2, 3, 4, 4, 5, 6, 7, 7]\n",
    "[var for var in input_list if var % 2 == 0]"
   ]
  },
  {
   "cell_type": "markdown",
   "id": "economic-section",
   "metadata": {},
   "source": [
    "### 2 .set"
   ]
  },
  {
   "cell_type": "code",
   "execution_count": 1,
   "id": "metallic-resident",
   "metadata": {},
   "outputs": [
    {
     "data": {
      "text/plain": [
       "{0, 1, 2}"
      ]
     },
     "execution_count": 1,
     "metadata": {},
     "output_type": "execute_result"
    }
   ],
   "source": [
    "{s for s in [1, 2, 1, 0]}"
   ]
  },
  {
   "cell_type": "code",
   "execution_count": 2,
   "id": "civil-identity",
   "metadata": {},
   "outputs": [
    {
     "data": {
      "text/plain": [
       "{0, 1, 4}"
      ]
     },
     "execution_count": 2,
     "metadata": {},
     "output_type": "execute_result"
    }
   ],
   "source": [
    "{s**2 for s in [1, 2, 1, 0]}"
   ]
  },
  {
   "cell_type": "code",
   "execution_count": 3,
   "id": "devoted-research",
   "metadata": {},
   "outputs": [
    {
     "data": {
      "text/plain": [
       "{1, 3}"
      ]
     },
     "execution_count": 3,
     "metadata": {},
     "output_type": "execute_result"
    }
   ],
   "source": [
    "{s for s in [1, 2, 3] if s % 2}"
   ]
  },
  {
   "cell_type": "code",
   "execution_count": 4,
   "id": "necessary-execution",
   "metadata": {},
   "outputs": [
    {
     "data": {
      "text/plain": [
       "{(3, 0), (3, 1), (4, 0), (4, 1)}"
      ]
     },
     "execution_count": 4,
     "metadata": {},
     "output_type": "execute_result"
    }
   ],
   "source": [
    "{(m, n) for n in range(2) for m in range(3, 5)}"
   ]
  },
  {
   "cell_type": "markdown",
   "id": "sitting-hindu",
   "metadata": {},
   "source": [
    "## 3. dict"
   ]
  },
  {
   "cell_type": "code",
   "execution_count": 5,
   "id": "graduate-sullivan",
   "metadata": {},
   "outputs": [
    {
     "data": {
      "text/plain": [
       "{0: 'item0', 1: 'item1', 2: 'item2', 3: 'item3', 4: 'item4'}"
      ]
     },
     "execution_count": 5,
     "metadata": {},
     "output_type": "execute_result"
    }
   ],
   "source": [
    "{i:f\"item{i}\" for i in range(5)}"
   ]
  },
  {
   "cell_type": "code",
   "execution_count": 6,
   "id": "neither-hamburg",
   "metadata": {},
   "outputs": [
    {
     "data": {
      "text/plain": [
       "{100: 'item100', 200: 'item200', 300: 'item300', 400: 'item400'}"
      ]
     },
     "execution_count": 6,
     "metadata": {},
     "output_type": "execute_result"
    }
   ],
   "source": [
    "{i:f\"item{i}\" for i in range(1, 500) if i%100==0}"
   ]
  },
  {
   "cell_type": "code",
   "execution_count": 7,
   "id": "sophisticated-tutorial",
   "metadata": {},
   "outputs": [
    {
     "data": {
      "text/plain": [
       "{'item0': 0, 'item1': 1, 'item2': 2, 'item3': 3, 'item4': 4}"
      ]
     },
     "execution_count": 7,
     "metadata": {},
     "output_type": "execute_result"
    }
   ],
   "source": [
    "dict1={i:f\"item{i}\" for i in range(5)}\n",
    "{value:key for key,value in dict1.items()}"
   ]
  },
  {
   "cell_type": "code",
   "execution_count": 8,
   "id": "handy-sheet",
   "metadata": {},
   "outputs": [
    {
     "data": {
      "text/plain": [
       "{1: 2, 3: 4}"
      ]
     },
     "execution_count": 8,
     "metadata": {},
     "output_type": "execute_result"
    }
   ],
   "source": [
    "{k: v for k, v in [(1, 2), (3, 4)]}"
   ]
  },
  {
   "cell_type": "code",
   "execution_count": 9,
   "id": "designing-dragon",
   "metadata": {},
   "outputs": [
    {
     "data": {
      "text/plain": [
       "{'b': 1}"
      ]
     },
     "execution_count": 9,
     "metadata": {},
     "output_type": "execute_result"
    }
   ],
   "source": [
    "{k: v for k, v in (('a', 0), ('b', 1)) if v == 1}"
   ]
  },
  {
   "cell_type": "markdown",
   "id": "australian-dominant",
   "metadata": {},
   "source": [
    "# nested-Comprehensions"
   ]
  },
  {
   "cell_type": "code",
   "execution_count": 10,
   "id": "dependent-adjustment",
   "metadata": {},
   "outputs": [
    {
     "data": {
      "text/plain": [
       "[[0, 1, 2, 3, 4, 5, 6],\n",
       " [0, 1, 2, 3, 4, 5, 6],\n",
       " [0, 1, 2, 3, 4, 5, 6],\n",
       " [0, 1, 2, 3, 4, 5, 6],\n",
       " [0, 1, 2, 3, 4, 5, 6]]"
      ]
     },
     "execution_count": 10,
     "metadata": {},
     "output_type": "execute_result"
    }
   ],
   "source": [
    "[[j for j in range(7)] for i in range(5)]"
   ]
  },
  {
   "cell_type": "code",
   "execution_count": 11,
   "id": "flush-landscape",
   "metadata": {},
   "outputs": [
    {
     "data": {
      "text/plain": [
       "[[1, 5, 9], [2, 6, 10], [3, 7, 11], [4, 8, 12]]"
      ]
     },
     "execution_count": 11,
     "metadata": {},
     "output_type": "execute_result"
    }
   ],
   "source": [
    "matrix = [[1, 2, 3, 4],\n",
    "          [5, 6, 7, 8],\n",
    "          [9, 10, 11, 12]]\n",
    "[[row[i] for row in matrix] for i in range(4)]"
   ]
  },
  {
   "cell_type": "code",
   "execution_count": 12,
   "id": "another-things",
   "metadata": {},
   "outputs": [
    {
     "data": {
      "text/plain": [
       "[[1, 0], [2, 0], [1, 1], [2, 1]]"
      ]
     },
     "execution_count": 12,
     "metadata": {},
     "output_type": "execute_result"
    }
   ],
   "source": [
    "[[m, n] for n in [i for i in [0, 1]] for m in [1, 2]]"
   ]
  }
 ],
 "metadata": {
  "kernelspec": {
   "display_name": "Python 3",
   "language": "python",
   "name": "python3"
  },
  "language_info": {
   "codemirror_mode": {
    "name": "ipython",
    "version": 3
   },
   "file_extension": ".py",
   "mimetype": "text/x-python",
   "name": "python",
   "nbconvert_exporter": "python",
   "pygments_lexer": "ipython3",
   "version": "3.7.8"
  }
 },
 "nbformat": 4,
 "nbformat_minor": 5
}
