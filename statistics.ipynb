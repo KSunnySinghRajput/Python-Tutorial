{
 "cells": [
  {
   "cell_type": "code",
   "execution_count": null,
   "id": "nonprofit-positive",
   "metadata": {},
   "outputs": [],
   "source": [
    "mean() Arithmetic mean (“average”) of data.\n",
    "\n",
    "fmean() Fast, floating point arithmetic mean.\n",
    "\n",
    "geometric_mean() Geometric mean of data.\n",
    "\n",
    "harmonic_mean() Harmonic mean of data.\n",
    "\n",
    "median()   Median (middle value) of data.\n",
    "\n",
    "median_low() Low median of data.\n",
    "\n",
    "median_high() High median of data.\n",
    "\n",
    "median_grouped() Median, or 50th percentile, of grouped data.\n",
    "\n",
    "mode() Single mode (most common value) of discrete or nominal data.\n",
    "\n",
    "multimode() List of modes (most common values) of discrete or nomimal data.\n",
    "\n",
    "quantiles() Divide data into intervals with equal probability."
   ]
  },
  {
   "cell_type": "code",
   "execution_count": null,
   "id": "bacterial-profile",
   "metadata": {},
   "outputs": [],
   "source": [
    "pstdev() Population standard deviation of data.\n",
    "\n",
    "pvariance() Population variance of data.\n",
    "\n",
    "stdev() Sample standard deviation of data.\n",
    "\n",
    "variance() Sample variance of data.\n",
    "\n"
   ]
  },
  {
   "cell_type": "code",
   "execution_count": 4,
   "id": "liberal-commander",
   "metadata": {},
   "outputs": [],
   "source": [
    "from statistics import *"
   ]
  },
  {
   "cell_type": "code",
   "execution_count": 5,
   "id": "weird-legend",
   "metadata": {},
   "outputs": [
    {
     "data": {
      "text/plain": [
       "2.8"
      ]
     },
     "execution_count": 5,
     "metadata": {},
     "output_type": "execute_result"
    }
   ],
   "source": [
    "mean([1, 2, 3, 4, 4])"
   ]
  },
  {
   "cell_type": "code",
   "execution_count": 6,
   "id": "requested-terrace",
   "metadata": {},
   "outputs": [
    {
     "ename": "NameError",
     "evalue": "name 'fmean' is not defined",
     "output_type": "error",
     "traceback": [
      "\u001b[1;31m---------------------------------------------------------------------------\u001b[0m",
      "\u001b[1;31mNameError\u001b[0m                                 Traceback (most recent call last)",
      "\u001b[1;32m<ipython-input-6-a123564423de>\u001b[0m in \u001b[0;36m<module>\u001b[1;34m\u001b[0m\n\u001b[1;32m----> 1\u001b[1;33m \u001b[0mfmean\u001b[0m\u001b[1;33m(\u001b[0m\u001b[1;33m[\u001b[0m\u001b[1;36m3.5\u001b[0m\u001b[1;33m,\u001b[0m \u001b[1;36m4.0\u001b[0m\u001b[1;33m,\u001b[0m \u001b[1;36m5.25\u001b[0m\u001b[1;33m]\u001b[0m\u001b[1;33m)\u001b[0m\u001b[1;33m\u001b[0m\u001b[1;33m\u001b[0m\u001b[0m\n\u001b[0m",
      "\u001b[1;31mNameError\u001b[0m: name 'fmean' is not defined"
     ]
    }
   ],
   "source": [
    "fmean([3.5, 4.0, 5.25])"
   ]
  },
  {
   "cell_type": "code",
   "execution_count": 7,
   "id": "continental-control",
   "metadata": {},
   "outputs": [
    {
     "data": {
      "text/plain": [
       "1.3720238095238095"
      ]
     },
     "execution_count": 7,
     "metadata": {},
     "output_type": "execute_result"
    }
   ],
   "source": [
    "data = [2.75, 1.75, 1.25, 0.25, 0.5, 1.25, 3.5]\n",
    "variance(data)"
   ]
  },
  {
   "cell_type": "code",
   "execution_count": null,
   "id": "pediatric-bathroom",
   "metadata": {},
   "outputs": [],
   "source": []
  }
 ],
 "metadata": {
  "kernelspec": {
   "display_name": "Python 3",
   "language": "python",
   "name": "python3"
  },
  "language_info": {
   "codemirror_mode": {
    "name": "ipython",
    "version": 3
   },
   "file_extension": ".py",
   "mimetype": "text/x-python",
   "name": "python",
   "nbconvert_exporter": "python",
   "pygments_lexer": "ipython3",
   "version": "3.7.8"
  }
 },
 "nbformat": 4,
 "nbformat_minor": 5
}
