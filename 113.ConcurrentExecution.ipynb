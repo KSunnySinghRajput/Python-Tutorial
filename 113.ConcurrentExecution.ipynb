{
 "cells": [
  {
   "cell_type": "markdown",
   "metadata": {},
   "source": [
    "    1. threading            — Thread-based parallelism\n",
    "    2. multiprocessing      — Process-based parallelism "
   ]
  },
  {
   "cell_type": "markdown",
   "metadata": {},
   "source": [
    "<h1 id=\"threading\">1.threading</h1>"
   ]
  },
  {
   "cell_type": "markdown",
   "metadata": {},
   "source": [
    "<h1 id=\"multiprocessing\">2.multiprocessing</h1>"
   ]
  },
  {
   "cell_type": "code",
   "execution_count": null,
   "metadata": {},
   "outputs": [],
   "source": [
    "#Threading - Python threads are used in cases where the execution of a task involves some waiting. Threading allows python to execute other code while waiting; this is easily simulated with the sleep function.\n",
    "\n",
    "# import time\n",
    "\n",
    "# def square(numbers):\n",
    "#     print(\"calculate square of the numbers\")\n",
    "#     for n in numbers:\n",
    "#         time.sleep(.5)\n",
    "#         print(\"Square is\", n*n)\n",
    "\n",
    "# def cube(numbers):\n",
    "#     print(\"calculate qube of the numbers\")\n",
    "#     for n in numbers:\n",
    "#         time.sleep(.5)\n",
    "#         print(\"Qube is\", n*n*n)\n",
    "\n",
    "# list = [2,3,4,5]\n",
    "# t = time.time()\n",
    "# square(list)\n",
    "# cube(list)\n",
    "# print(\"The execution time is\", time.time()-t)\n",
    "\n",
    "#-------------------------------------------------\n",
    "\n",
    "\n",
    "# import time\n",
    "# import threading\n",
    "\n",
    "# def square(numbers):\n",
    "#     print(\"calculate square of the numbers\")\n",
    "#     for n in numbers:\n",
    "#         time.sleep(.5)\n",
    "#         print(\"Square is\", n*n)\n",
    "\n",
    "# def cube(numbers):\n",
    "#     print(\"calculate qube of the numbers\")\n",
    "#     for n in numbers:\n",
    "#         time.sleep(.5)\n",
    "#         print(\"Qube is\", n*n*n)\n",
    "\n",
    "# list = [2,3,4,5]\n",
    "# t = time.time()\n",
    "# t1 = threading.Thread(target=square, args=(list,))\n",
    "# t2 = threading.Thread(target=cube, args=(list,))\n",
    "\n",
    "# t1.start()\n",
    "# t2.start()\n",
    "\n",
    "# t1.join()\n",
    "# t2.join()\n",
    "\n",
    "# print(\"The execution time is\", time.time()-t)"
   ]
  }
 ],
 "metadata": {
  "kernelspec": {
   "display_name": "Python 3",
   "language": "python",
   "name": "python3"
  },
  "language_info": {
   "codemirror_mode": {
    "name": "ipython",
    "version": 3
   },
   "file_extension": ".py",
   "mimetype": "text/x-python",
   "name": "python",
   "nbconvert_exporter": "python",
   "pygments_lexer": "ipython3",
   "version": "3.7.8"
  }
 },
 "nbformat": 4,
 "nbformat_minor": 4
}
