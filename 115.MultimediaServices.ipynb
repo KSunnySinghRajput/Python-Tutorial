{
 "cells": [
  {
   "cell_type": "markdown",
   "metadata": {},
   "source": [
    "    1. audioop              — Manipulate raw audio data\n",
    "    2. aifc                 — Read and write AIFF and AIFC files\n",
    "    3. sunau                — Read and write Sun AU files\n",
    "    4. wave                 — Read and write WAV files\n",
    "    5. chunk                — Read IFF chunked data\n",
    "    6. colorsys             — Conversions between color systems\n",
    "    7. imghdr               — Determine the type of an image\n",
    "    8. sndhdr               — Determine type of sound file\n",
    "    9. ossaudiodev          — Access to OSS-compatible audio devices"
   ]
  },
  {
   "cell_type": "code",
   "execution_count": null,
   "metadata": {},
   "outputs": [],
   "source": []
  }
 ],
 "metadata": {
  "kernelspec": {
   "display_name": "Python 3",
   "language": "python",
   "name": "python3"
  },
  "language_info": {
   "codemirror_mode": {
    "name": "ipython",
    "version": 3
   },
   "file_extension": ".py",
   "mimetype": "text/x-python",
   "name": "python",
   "nbconvert_exporter": "python",
   "pygments_lexer": "ipython3",
   "version": "3.7.8"
  }
 },
 "nbformat": 4,
 "nbformat_minor": 4
}
