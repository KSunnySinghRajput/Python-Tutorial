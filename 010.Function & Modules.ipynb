{
 "cells": [
  {
   "cell_type": "markdown",
   "metadata": {},
   "source": [
    "# Modules\n",
    "Modules in Python are pre-written code that we can use in our program according to there needs.\n",
    "## There are 2 Types of Modules in Python\n",
    "1) **Built-in Modules**\n",
    "- random\n",
    "\n",
    "2) **External Modules**\n",
    "- flask\n",
    "- panda"
   ]
  },
  {
   "cell_type": "code",
   "execution_count": 1,
   "metadata": {},
   "outputs": [
    {
     "name": "stdout",
     "output_type": "stream",
     "text": [
      "['BPF', 'LOG4', 'NV_MAGICCONST', 'RECIP_BPF', 'Random', 'SG_MAGICCONST', 'SystemRandom', 'TWOPI', '_BuiltinMethodType', '_MethodType', '_Sequence', '_Set', '__all__', '__builtins__', '__cached__', '__doc__', '__file__', '__loader__', '__name__', '__package__', '__spec__', '_acos', '_bisect', '_ceil', '_cos', '_e', '_exp', '_inst', '_itertools', '_log', '_os', '_pi', '_random', '_sha512', '_sin', '_sqrt', '_test', '_test_generator', '_urandom', '_warn', 'betavariate', 'choice', 'choices', 'expovariate', 'gammavariate', 'gauss', 'getrandbits', 'getstate', 'lognormvariate', 'normalvariate', 'paretovariate', 'randint', 'random', 'randrange', 'sample', 'seed', 'setstate', 'shuffle', 'triangular', 'uniform', 'vonmisesvariate', 'weibullvariate']\n"
     ]
    }
   ],
   "source": [
    "import random\n",
    "print(dir(random))"
   ]
  },
  {
   "cell_type": "code",
   "execution_count": 2,
   "metadata": {},
   "outputs": [
    {
     "name": "stdout",
     "output_type": "stream",
     "text": [
      "5\n"
     ]
    }
   ],
   "source": [
    "random_number = random.randint(0, 5)    #Return a random integer between (0, 5)\n",
    "print(random_number)"
   ]
  },
  {
   "cell_type": "markdown",
   "metadata": {},
   "source": [
    "### 1. Function - Demo"
   ]
  },
  {
   "cell_type": "code",
   "execution_count": 4,
   "metadata": {},
   "outputs": [
    {
     "name": "stdout",
     "output_type": "stream",
     "text": [
      "hello world\n"
     ]
    }
   ],
   "source": [
    "def hello_world():  \n",
    "    print(\"hello world\")  \n",
    "hello_world() "
   ]
  },
  {
   "cell_type": "markdown",
   "metadata": {},
   "source": [
    "### 2. Parameters & Arguments in function"
   ]
  },
  {
   "cell_type": "code",
   "execution_count": 5,
   "metadata": {},
   "outputs": [
    {
     "name": "stdout",
     "output_type": "stream",
     "text": [
      "Hi  Ayush\n"
     ]
    }
   ],
   "source": [
    "def func(name):        #defining the function\n",
    "    print(\"Hi \",name)  \n",
    "func(\"Ayush\")            #calling the function  \n",
    "#Parameters  - name\n",
    "#Arguments   - \"Ayush\""
   ]
  },
  {
   "cell_type": "markdown",
   "metadata": {},
   "source": [
    "### 3. Return function"
   ]
  },
  {
   "cell_type": "code",
   "execution_count": null,
   "metadata": {},
   "outputs": [],
   "source": [
    "#python function to calculate the sum of two variables   \n",
    "def sum (a,b):                  #defining the function  \n",
    "    return a+b  \n",
    "  \n",
    "a = int(input(\"Enter a: \"))     #taking values from the user  \n",
    "b = int(input(\"Enter b: \"))\n",
    "print(\"Sum = \",sum(a,b))        #printing the sum of a and b "
   ]
  },
  {
   "cell_type": "markdown",
   "metadata": {},
   "source": [
    "### 4. Type of Arguments\n",
    "> **i.  Default Arguments**"
   ]
  },
  {
   "cell_type": "code",
   "execution_count": 27,
   "metadata": {},
   "outputs": [
    {
     "name": "stdout",
     "output_type": "stream",
     "text": [
      "Hello Kate, Good morning!\n",
      "Hello Bruce, How do you do?\n"
     ]
    }
   ],
   "source": [
    "def greet(name, msg=\"Good morning!\"):\n",
    "    print(\"Hello\", name + ', ' + msg)\n",
    "# the variable age is not passed into the function however the default value of age is considered in the function\n",
    "greet(\"Kate\")\n",
    "greet(\"Bruce\", \"How do you do?\")"
   ]
  },
  {
   "cell_type": "markdown",
   "metadata": {},
   "source": [
    ">**ii. Keyword Arguments**"
   ]
  },
  {
   "cell_type": "code",
   "execution_count": 24,
   "metadata": {},
   "outputs": [
    {
     "name": "stdout",
     "output_type": "stream",
     "text": [
      "Hello Bruce, How do you do?\n",
      "Hello Bruce, How do you do?\n"
     ]
    }
   ],
   "source": [
    "# 2 keyword arguments\n",
    "greet(name = \"Bruce\",msg = \"How do you do?\")\n",
    "\n",
    "# 2 keyword arguments (out of order)\n",
    "greet(msg = \"How do you do?\",name = \"Bruce\") "
   ]
  },
  {
   "cell_type": "markdown",
   "metadata": {},
   "source": [
    ">**iii. Arbitrary Arguments**"
   ]
  },
  {
   "cell_type": "code",
   "execution_count": 18,
   "metadata": {},
   "outputs": [
    {
     "name": "stdout",
     "output_type": "stream",
     "text": [
      "Monica Luke Steve John\n",
      "<class 'tuple'>\n",
      "Hello Monica\n",
      "Hello Luke\n",
      "Hello Steve\n",
      "Hello John\n"
     ]
    }
   ],
   "source": [
    "def greet(*names):\n",
    "    print(*names)\n",
    "    print(type(names))\n",
    "    for name in names:\n",
    "        print(\"Hello\", name)\n",
    "greet(\"Monica\", \"Luke\", \"Steve\", \"John\")"
   ]
  },
  {
   "cell_type": "code",
   "execution_count": 32,
   "metadata": {},
   "outputs": [
    {
     "name": "stdout",
     "output_type": "stream",
     "text": [
      "5\n",
      "Monica Luke Steve John ('Monica', 'Luke', 'Steve', 'John')\n",
      "\n",
      "{}\n"
     ]
    }
   ],
   "source": [
    "def greet(value,*args,**kwargs):\n",
    "    print(value)\n",
    "    print(*args,args)\n",
    "    print(**kwargs)\n",
    "    print(kwargs)\n",
    "    if kwargs:\n",
    "        print(kwargs)\n",
    "greet(5,\"Monica\", \"Luke\", \"Steve\", \"John\")"
   ]
  },
  {
   "cell_type": "code",
   "execution_count": 21,
   "metadata": {},
   "outputs": [],
   "source": [
    "import sys\n",
    "def foo(required,*args,**kwargs):\n",
    "    print(required)\n",
    "    if args:\n",
    "        print(args)\n",
    "    if kwargs:\n",
    "        print(kwargs)\n",
    "def main(*args,**kwargs):\n",
    "    print ('version is', sys.version)\n",
    "    print ('sys.argv is', sys.argv)\n",
    "    foo(sys.argv)\n",
    "    print (\"This is the name of the script: \", sys.args[0])\n",
    "    print (\"Number of arguments: \", len(sys.args))\n",
    "    print (\"The arguments are: \" , str(sys.args))\n",
    "    #if args:\n",
    "        #print(args+1)\n",
    "    if kwargs:\n",
    "        print(kwargs)\n",
    "\n",
    "if __name__ == '__main__':\n",
    "    main(sys.argv)"
   ]
  },
  {
   "cell_type": "code",
   "execution_count": null,
   "metadata": {},
   "outputs": [],
   "source": []
  },
  {
   "cell_type": "markdown",
   "metadata": {},
   "source": [
    "### 5. Arguments Type   \n",
    "    __annotations__"
   ]
  },
  {
   "cell_type": "code",
   "execution_count": 31,
   "metadata": {},
   "outputs": [
    {
     "data": {
      "text/plain": [
       "'Hello sunny'"
      ]
     },
     "execution_count": 31,
     "metadata": {},
     "output_type": "execute_result"
    }
   ],
   "source": [
    "def greeting(name: str) -> str:\n",
    "    return 'Hello ' + name\n",
    "greeting('sunny')"
   ]
  },
  {
   "cell_type": "code",
   "execution_count": 33,
   "metadata": {},
   "outputs": [
    {
     "name": "stdout",
     "output_type": "stream",
     "text": [
      "Annotations: {'ham': <class 'str'>, 'eggs': <class 'str'>, 'return': <class 'str'>}\n",
      "Arguments: spam eggs\n"
     ]
    },
    {
     "data": {
      "text/plain": [
       "'spam and eggs'"
      ]
     },
     "execution_count": 33,
     "metadata": {},
     "output_type": "execute_result"
    }
   ],
   "source": [
    "def f(ham: str, eggs: str = 'eggs') -> str:\n",
    "    print(\"Annotations:\", f.__annotations__)\n",
    "    print(\"Arguments:\", ham, eggs)\n",
    "    return ham + ' and ' + eggs\n",
    "\n",
    "f('spam')"
   ]
  },
  {
   "cell_type": "markdown",
   "metadata": {},
   "source": [
    "### 6. Call by\n",
    ">**Call by value in Python**"
   ]
  },
  {
   "cell_type": "code",
   "execution_count": 13,
   "metadata": {},
   "outputs": [
    {
     "name": "stdout",
     "output_type": "stream",
     "text": [
      "Inside Function: GeeksforGeeks\n",
      "Outside Function: Geeks\n"
     ]
    }
   ],
   "source": [
    "string = \"Geeks\"\n",
    "def test(string):       \n",
    "    string = \"GeeksforGeeks\"\n",
    "    print(\"Inside Function:\", string) \n",
    "\n",
    "test(string) \n",
    "print(\"Outside Function:\", string) "
   ]
  },
  {
   "cell_type": "markdown",
   "metadata": {},
   "source": [
    ">**Call by reference in Python**"
   ]
  },
  {
   "cell_type": "code",
   "execution_count": 8,
   "metadata": {},
   "outputs": [
    {
     "name": "stdout",
     "output_type": "stream",
     "text": [
      "Inside Function [10, 20, 30, 40, 50]\n",
      "Outside Function: [10, 20, 30, 40, 50]\n"
     ]
    }
   ],
   "source": [
    "mylist = [10,20,30,40] \n",
    "def add_more(list1): \n",
    "    list1.append(50) \n",
    "    print(\"Inside Function\", list1) \n",
    "\n",
    "add_more(mylist) \n",
    "print(\"Outside Function:\", mylist) "
   ]
  },
  {
   "cell_type": "markdown",
   "metadata": {},
   "source": [
    "### 7. Scope of variables\n",
    ">The scopes of the variables depend upon the location where the variable is being declared. The variable declared in one >part of the program may not be accessible to the other parts.\n",
    ">\n",
    ">In python, the variables are defined with the two types of scopes.\n",
    ">\n",
    ">- 1.Global variables\n",
    ">- 2.Local variables"
   ]
  },
  {
   "cell_type": "code",
   "execution_count": 2,
   "metadata": {},
   "outputs": [
    {
     "name": "stdout",
     "output_type": "stream",
     "text": [
      "1 :  10\n",
      "3 :  10\n",
      "4 :  20\n",
      "5 :  30\n",
      "7 :  10\n"
     ]
    }
   ],
   "source": [
    "var1 = 10               #var1 = This is a Global Variable\n",
    "print(\"1 : \",  var1)\n",
    "\n",
    "def func1():\n",
    "    #print( \"val 2 : \",var1)  # Error : local variable 'var1' referenced before assignment\n",
    "    global var1               # Global Keywords\n",
    "    print( \"3 : \",var1) \n",
    "    var2 = 20                 # Local Variable (It can't be call outside of function)\n",
    "    print( \"4 : \",var2)\n",
    "    var3 = var1  + var2\n",
    "    print( \"5 : \",var3)\n",
    "func1()\n",
    "#print( \"6 : \",var2)      # Error  : name 'var2' is not defined\n",
    "print( \"7 : \",var1)"
   ]
  },
  {
   "cell_type": "code",
   "execution_count": 3,
   "metadata": {},
   "outputs": [
    {
     "name": "stdout",
     "output_type": "stream",
     "text": [
      "After local assignment: test spam\n",
      "After nonlocal assignment: nonlocal spam\n",
      "After global assignment: nonlocal spam\n",
      "In global scope: global spam\n"
     ]
    }
   ],
   "source": [
    "def scope_test():\n",
    "    def do_local():\n",
    "        spam = \"local spam\"\n",
    "    def do_nonlocal():\n",
    "        nonlocal spam\n",
    "        spam = \"nonlocal spam\"\n",
    "    def do_global():\n",
    "        global spam\n",
    "        spam = \"global spam\"\n",
    "    spam = \"test spam\"\n",
    "    do_local()\n",
    "    print(\"After local assignment:\", spam)    #10 line o/p\n",
    "    do_nonlocal()\n",
    "    print(\"After nonlocal assignment:\", spam)   #6 line o/p\n",
    "    do_global()\n",
    "    print(\"After global assignment:\", spam)     #6 line o/p\n",
    "scope_test()\n",
    "print(\"In global scope:\", spam)         #9 line o/p"
   ]
  },
  {
   "cell_type": "markdown",
   "metadata": {},
   "source": [
    "### 7. Function Call By Function Name"
   ]
  },
  {
   "cell_type": "code",
   "execution_count": 51,
   "metadata": {},
   "outputs": [
    {
     "name": "stdout",
     "output_type": "stream",
     "text": [
      "result\n"
     ]
    }
   ],
   "source": [
    "def f():\n",
    "    return \"result\"\n",
    "\n",
    "function_name = \"f\"\n",
    "result = eval(function_name + \"()\")\n",
    "print(result)"
   ]
  },
  {
   "cell_type": "markdown",
   "metadata": {},
   "source": [
    "**Example**"
   ]
  },
  {
   "cell_type": "code",
   "execution_count": 24,
   "metadata": {},
   "outputs": [],
   "source": [
    "def cheeseshop(kind, *arguments, **keywords):\n",
    "    print(\"-- Do you have any\", kind, \"?\")\n",
    "    print(\"-- I'm sorry, we're all out of\", kind)\n",
    "    for arg in arguments:\n",
    "        print(arg)\n",
    "    print(\"-\" * 40)\n",
    "    for kw in keywords:\n",
    "        print(kw, \":\", keywords[kw])"
   ]
  },
  {
   "cell_type": "code",
   "execution_count": 28,
   "metadata": {},
   "outputs": [
    {
     "name": "stdout",
     "output_type": "stream",
     "text": [
      "-- This parrot wouldn't voom if you put 1000 volts through it.\n",
      "-- Lovely plumage, the Norwegian Blue\n",
      "-- It's a stiff !\n",
      "-- This parrot wouldn't voom if you put 1000 volts through it.\n",
      "-- Lovely plumage, the Norwegian Blue\n",
      "-- It's a stiff !\n",
      "-- This parrot wouldn't VOOOOOM if you put 1000000 volts through it.\n",
      "-- Lovely plumage, the Norwegian Blue\n",
      "-- It's a stiff !\n",
      "-- This parrot wouldn't VOOOOOM if you put 1000000 volts through it.\n",
      "-- Lovely plumage, the Norwegian Blue\n",
      "-- It's a stiff !\n",
      "-- This parrot wouldn't jump if you put a million volts through it.\n",
      "-- Lovely plumage, the Norwegian Blue\n",
      "-- It's bereft of life !\n",
      "-- This parrot wouldn't voom if you put a thousand volts through it.\n",
      "-- Lovely plumage, the Norwegian Blue\n",
      "-- It's pushing up the daisies !\n"
     ]
    }
   ],
   "source": [
    "def parrot(voltage, state='a stiff', action='voom', type='Norwegian Blue'):\n",
    "    print(\"-- This parrot wouldn't\", action, end=' ')\n",
    "    print(\"if you put\", voltage, \"volts through it.\")\n",
    "    print(\"-- Lovely plumage, the\", type)\n",
    "    print(\"-- It's\", state, \"!\")\n",
    "\n",
    "\n",
    "parrot(1000)                                            # 1 positional argument\n",
    "parrot(voltage=1000)                                    # 1 keyword argument\n",
    "parrot(voltage=1000000, action='VOOOOOM')               # 2 keyword arguments\n",
    "parrot(action='VOOOOOM', voltage=1000000)               # 2 keyword arguments\n",
    "# 3 positional arguments\n",
    "parrot('a million', 'bereft of life', 'jump')\n",
    "# 1 positional, 1 keyword\n",
    "parrot('a thousand', state='pushing up the daisies')\n",
    "\n",
    "# parrot()                                        # required argument missing\n",
    "# parrot(voltage=5.0, 'dead')                     # non-keyword argument after a keyword argument\n",
    "# parrot(110, voltage=220)                        # duplicate value for the same argument\n",
    "# parrot(actor='John Cleese')                     # unknown keyword argument"
   ]
  },
  {
   "cell_type": "code",
   "execution_count": 11,
   "metadata": {},
   "outputs": [
    {
     "data": {
      "text/plain": [
       "'earth mars venus'"
      ]
     },
     "execution_count": 11,
     "metadata": {},
     "output_type": "execute_result"
    }
   ],
   "source": [
    "def write_multiple_items(file, separator, *args):\n",
    "    file.write(separator.join(args))\n",
    "\n",
    "def concat(*args, sep=\"/\"):\n",
    "    return sep.join(args)\n",
    "\n",
    "concat(\"earth\", \"mars\", \"venus\")  # 'earth/mars/venus'\n",
    "concat(\"earth\", \"mars\", \"venus\", sep=\" \")  # 'earth.mars.venus'"
   ]
  },
  {
   "cell_type": "code",
   "execution_count": null,
   "metadata": {},
   "outputs": [],
   "source": [
    "#*args & **kwargs - *args and **kwargs allow you to pass multiple arguments or keyword arguments to a function.\n",
    "\n",
    "\n",
    "#What if I want to add 2 more name\n",
    "'''def fruit_names(*args):\n",
    "    print(args)\n",
    "    # print(args[2])            #If you want to print item of 2nd index\n",
    "fnames = [\"apple\", \"banana\", \"coconut\", \"date\", \"grapes\", \"orange\"]\n",
    "fruit_names(*fnames)'''\n",
    "\n",
    "'''def fruit_names(*args, **kwargs):\n",
    "    for item in args:\n",
    "        print (item)\n",
    "    for key, values in kwargs.items():\n",
    "        print(key, values)\n",
    "fnames = [\"apple\", \"banana\", \"coconut\", \"date\", \"Grapes\", \"Mango\"]\n",
    "kw = {\"apple\":100, \"banana\":50, \"coconut\":30, \"date\":60}\n",
    "fruit_names(*fnames, **kw)'''\n",
    "\n",
    "#*args - The special syntax *args in function definitions in python is used to pass a variable number of arguments to a function. It is used to pass a non-keyworded, variable-length argument list.\n",
    "# --- The syntax is to use the symbol * to take in a variable number of arguments; by convention, it is often used with the word args.\n",
    "# --- What *args allows you to do is take in more arguments than the number of formal arguments that you previously defined.\n",
    "\n",
    "#programs to add numbers using *args\n",
    "'''def my_sum(*args):\n",
    "    result = 0\n",
    "    # Iterating over the Python args tuple\n",
    "    for x in args:\n",
    "        result += x\n",
    "    return result\n",
    "print(my_sum(1, 2, 3))'''\n",
    "\n",
    "#**kwargs - is used to pass a keyworded, variable-length argument list. We use the name kwargs with the double star. The reason is because the double star allows us to pass through keyword arguments\n",
    "def fruit_names(**kwargs):\n",
    "    for key, values in kwargs.items():\n",
    "        print(key, values)\n",
    "kw = {\"apple\":100, \"banana\":50, \"coconut\":30, \"date\":60}\n",
    "fruit_names(**kw)\n"
   ]
  },
  {
   "cell_type": "markdown",
   "metadata": {},
   "source": [
    "**Exp.1**"
   ]
  },
  {
   "cell_type": "code",
   "execution_count": 33,
   "metadata": {},
   "outputs": [],
   "source": [
    "def cheeseshop(kind, *arguments, **keywords):\n",
    "    print(\"-- Do you have any\", kind, \"?\")\n",
    "    print(\"-- I'm sorry, we're all out of\", kind)\n",
    "    for arg in arguments:\n",
    "        print(arg)\n",
    "    print(\"-\" * 40)\n",
    "    for kw in keywords:\n",
    "        print(kw, \":\", keywords[kw])\n"
   ]
  },
  {
   "cell_type": "code",
   "execution_count": 34,
   "metadata": {},
   "outputs": [
    {
     "name": "stdout",
     "output_type": "stream",
     "text": [
      "-- Do you have any Limburger ?\n",
      "-- I'm sorry, we're all out of Limburger\n",
      "It's very runny, sir.\n",
      "It's really very, VERY runny, sir.\n",
      "----------------------------------------\n",
      "shopkeeper : Michael Palin\n",
      "client : John Cleese\n",
      "sketch : Cheese Shop Sketch\n"
     ]
    }
   ],
   "source": [
    "cheeseshop(\"Limburger\", \"It's very runny, sir.\",\n",
    "           \"It's really very, VERY runny, sir.\",\n",
    "           shopkeeper=\"Michael Palin\",\n",
    "           client=\"John Cleese\",\n",
    "           sketch=\"Cheese Shop Sketch\")"
   ]
  },
  {
   "cell_type": "markdown",
   "metadata": {},
   "source": [
    "**Exp:2**"
   ]
  },
  {
   "cell_type": "code",
   "execution_count": 37,
   "metadata": {},
   "outputs": [
    {
     "name": "stdout",
     "output_type": "stream",
     "text": [
      "2\n",
      "2\n"
     ]
    }
   ],
   "source": [
    "def standard_arg(arg):\n",
    "    print(arg)\n",
    "standard_arg(2)\n",
    "standard_arg(arg=2)"
   ]
  },
  {
   "cell_type": "markdown",
   "metadata": {},
   "source": [
    "**Exp :3**"
   ]
  },
  {
   "cell_type": "code",
   "execution_count": 48,
   "metadata": {},
   "outputs": [
    {
     "name": "stdout",
     "output_type": "stream",
     "text": [
      "3\n"
     ]
    }
   ],
   "source": [
    "def kwd_only_arg(*, arg):\n",
    "    print(arg)\n",
    "kwd_only_arg(arg=3)"
   ]
  },
  {
   "cell_type": "markdown",
   "metadata": {},
   "source": [
    "# <center>Built-in Functions</center>"
   ]
  },
  {
   "cell_type": "code",
   "execution_count": 1,
   "metadata": {},
   "outputs": [
    {
     "name": "stdout",
     "output_type": "stream",
     "text": [
      "['In', 'Out', '_', '__', '___', '__builtin__', '__builtins__', '__doc__', '__loader__', '__name__', '__package__', '__spec__', '_dh', '_i', '_i1', '_ih', '_ii', '_iii', '_oh', 'exit', 'get_ipython', 'quit']\n"
     ]
    }
   ],
   "source": [
    "#help(dir)\n",
    "# Calling function\n",
    "att = dir()\n",
    "# Displaying result\n",
    "print(att) "
   ]
  },
  {
   "cell_type": "code",
   "execution_count": 2,
   "metadata": {},
   "outputs": [
    {
     "name": "stdout",
     "output_type": "stream",
     "text": [
      "1903283687280\n",
      "1903284255216\n",
      "1903284665096\n"
     ]
    }
   ],
   "source": [
    "#help(id)\n",
    "# Calling function  \n",
    "val = id(\"Javatpoint\") # string object  \n",
    "val2 = id(1200) # integer object  \n",
    "val3 = id([25,336,95,236,92,3225]) # List object  \n",
    "# Displaying result  \n",
    "print(val)  \n",
    "print(val2)  \n",
    "print(val3)  "
   ]
  },
  {
   "cell_type": "code",
   "execution_count": 26,
   "metadata": {},
   "outputs": [
    {
     "name": "stdout",
     "output_type": "stream",
     "text": [
      "localsNotPresent: {}\n",
      "localsPresent: {'present': True, 'hello': 'sunny'}\n"
     ]
    }
   ],
   "source": [
    "def localsAbsent():\n",
    "    return locals()\n",
    "\n",
    "def localsPresent():\n",
    "    present = True\n",
    "    hello=\"sunny\"\n",
    "    return locals()\n",
    "\n",
    "print('localsNotPresent:', localsAbsent())\n",
    "print('localsPresent:', localsPresent()) "
   ]
  },
  {
   "cell_type": "code",
   "execution_count": null,
   "metadata": {},
   "outputs": [],
   "source": []
  }
 ],
 "metadata": {
  "kernelspec": {
   "display_name": "Python 3",
   "language": "python",
   "name": "python3"
  },
  "language_info": {
   "codemirror_mode": {
    "name": "ipython",
    "version": 3
   },
   "file_extension": ".py",
   "mimetype": "text/x-python",
   "name": "python",
   "nbconvert_exporter": "python",
   "pygments_lexer": "ipython3",
   "version": "3.7.8"
  }
 },
 "nbformat": 4,
 "nbformat_minor": 4
}
