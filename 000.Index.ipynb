{
 "cells": [
  {
   "cell_type": "markdown",
   "id": "several-treasury",
   "metadata": {},
   "source": [
    "## 1. Python"
   ]
  },
  {
   "cell_type": "markdown",
   "id": "derived-release",
   "metadata": {},
   "source": [
    "### 1. [Introduction]()\n",
    "### 2. [Assign & Operators]()\n",
    "### 3. [Datatype Boolean Types]()\n",
    "### 4. [Datatype Numeric Types]()\n",
    "### 5. [Datatype String Type]()\n",
    "### 6. [%,  format & .format]()\n",
    "### 7. [Datatype Tupple, List & Range]()\n",
    "### 8. [Datatype Set]()\n",
    "### 9. [Datatype Dict]()\n",
    "### 10. [Control Statement]()\n",
    "### 11. [Function & Modules]()\n",
    "### 12. [Decorator Function]()\n",
    "### 13. [File Handeling]()\n",
    "### 14. [Exceptions]()\n",
    "### 15. [OOPs]()\n",
    "### 16. [Comprehensions]()\n",
    "### 17. [Lambda & Yield]()"
   ]
  },
  {
   "cell_type": "markdown",
   "id": "distinct-investigator",
   "metadata": {},
   "source": [
    "- Notes on availability\n",
    "- Built-in Functions\n",
    "- Built-in Constants\n",
    "- Constants added by the site module\n",
    "- Built-in Types\n",
    "- Truth Value Testing\n",
    "- Boolean Operations \n",
    "    - and\n",
    "    - or\n",
    "    - not\n",
    "    \n",
    "- Comparisons\n",
    "\n",
    "- Numeric Types \n",
    "    - int\n",
    "    - float\n",
    "    - complex\n",
    "    \n",
    "- Iterator Types\n",
    "\n",
    "- Sequence Types\n",
    "    - list \n",
    "    - tuple\n",
    "    - range\n",
    "    \n",
    "- Text Sequence Type \n",
    "    - str\n",
    "    \n",
    "- Binary Sequence Types \n",
    "    - bytes\n",
    "    - bytearray\n",
    "    - memoryview\n",
    "    \n",
    "- Set Types \n",
    "    - set\n",
    "    - frozenset\n",
    "- Mapping Types\n",
    "    - dict\n",
    "- Context Manager Types\n",
    "- Other Built-in Types\n",
    "- Special Attributes\n",
    "- Built-in Exceptions\n",
    "- Base classes\n",
    "- Concrete exceptions\n",
    "- Warnings\n",
    "- Exception hierarchy"
   ]
  },
  {
   "cell_type": "markdown",
   "id": "academic-horse",
   "metadata": {},
   "source": [
    "## 2. [Data Types](102.Datatypes.ipynb)\n",
    "    1. datetime             — Basic date and time types\n",
    "    2. calendar             — General calendar-related functions\n",
    "    3. collections          — Container datatypes\n",
    "    4. collections.abc      — Abstract Base Classes for Containers\n",
    "    5. heapq                — Heap queue algorithm\n",
    "    6. bisect               — Array bisection algorithm\n",
    "    7. array                — Efficient arrays of numeric values\n",
    "    8. weakref              — Weak references\n",
    "    9. types                — Dynamic type creation and names for built-in types\n",
    "    11. copy                — Shallow and deep copy operations\n",
    "    12. pprint              — Data pretty printer\n",
    "    13. reprlib             — Alternate repr() implementation\n",
    "    15. enum                — Support for enumerations\n",
    "    "
   ]
  },
  {
   "cell_type": "markdown",
   "id": "crude-recommendation",
   "metadata": {},
   "source": [
    "## 3. [Binary Data Services](103.BinaryDataServices.ipynb)\n",
    "\n",
    "    1. struct               — Interpret bytes as packed binary data\n",
    "    2. codecs               — Codec registry and base classes\n",
    "    "
   ]
  },
  {
   "cell_type": "markdown",
   "id": "addressed-citation",
   "metadata": {},
   "source": [
    "## 4. [Text Processing Services](104.TextProcessingServices.ipynb)\n",
    "\n",
    "    1. string               — Common string operations\n",
    "    2. re                   — Regular expression operations\n",
    "    3. difflib              — Helpers for computing deltas\n",
    "    4. textwrap             — Text wrapping and filling\n",
    "    5. unicodedata          — Unicode Database\n",
    "    6. stringprep           — Internet String Preparation\n",
    "    7. readline             — GNU readline interface\n",
    "    8. rlcompleter          — Completion function for GNU readline    "
   ]
  },
  {
   "cell_type": "markdown",
   "id": "impossible-provision",
   "metadata": {},
   "source": [
    "## 5. [Numeric and Mathematical Modules](105.NumericAndMathematicalModules.ipynb)\n",
    "    \n",
    "    1. numbers              — Numeric abstract base classes\n",
    "    2. math                 — Mathematical functions\n",
    "    3. cmath                — Mathematical functions for complex numbers\n",
    "    4. decimal              — Decimal fixed point and floating point arithmetic\n",
    "    5. fractions            — Rational numbers\n",
    "    6. random               — Generate pseudo-random numbers\n",
    "    7. statistics           — Mathematical statistics functions\n",
    "    "
   ]
  },
  {
   "cell_type": "markdown",
   "id": "parallel-mistake",
   "metadata": {},
   "source": [
    "## 6. [Functional Programming Modules](106.FunctionalProgrammingModules.ipynb)\n",
    "\n",
    "    1. itertools            — Functions creating iterators for efficient looping\n",
    "    2. functools            — Higher-order functions and operations on callable objects\n",
    "    3. operator             — Standard operators as functions"
   ]
  },
  {
   "cell_type": "markdown",
   "id": "gentle-excellence",
   "metadata": {},
   "source": [
    "## 7. [File and Directory Access](107.FileAndDirectoryAccess.ipynb)\n",
    "\n",
    "    1. pathlib              — Object-oriented filesystem paths\n",
    "    2. os.path              — Common pathname manipulations\n",
    "    3. fileinput            — Iterate over lines from multiple input streams\n",
    "    4. stat                 — Interpreting stat() results\n",
    "    5. filecmp              — File and Directory Comparisons\n",
    "    6. tempfile             — Generate temporary files and directories\n",
    "    7. glob                 — Unix style pathname pattern expansion\n",
    "    8. fnmatch              — Unix filename pattern matching\n",
    "    9. linecache            — Random access to text lines\n",
    "    10. shutil              — High-level file operations\n",
    "    11. macpath             — Mac OS 9 path manipulation functions\n",
    "    "
   ]
  },
  {
   "cell_type": "markdown",
   "id": "reasonable-geometry",
   "metadata": {},
   "source": [
    "## 8. [Data Persistence](108.DataPersistence.ipynb)\n",
    "\n",
    "    1. pickle               — Python object serialization\n",
    "    2. copyreg              — Register pickle support functions\n",
    "    3. shelve               — Python object persistence\n",
    "    4. marshal              — Internal Python object serialization\n",
    "    5. dbm                  — Interfaces to Unix “databases”\n",
    "    6. sqlite3              — DB-API 2.0 interface for SQLite databases"
   ]
  },
  {
   "cell_type": "markdown",
   "id": "lasting-medium",
   "metadata": {},
   "source": [
    "## 9. [Data Compression and Archiving](109.DataCompressionAndArchiving.ipynb)\n",
    "\n",
    "    1. zlib                 — Compression compatible with gzip\n",
    "    2. gzip                 — Support for gzip files\n",
    "    3. bz2                  — Support for bzip2 compression\n",
    "    4. lzma                 — Compression using the LZMA algorithm\n",
    "    5. zipfile              — Work with ZIP archives\n",
    "    6. tarfile              — Read and write tar archive files"
   ]
  },
  {
   "cell_type": "markdown",
   "id": "academic-guidance",
   "metadata": {},
   "source": [
    "## 10. [File Formats](110.FileFormats.ipynb)\n",
    "\n",
    "    1. csv                  — CSV File Reading and Writing\n",
    "    2. configparser         — Configuration file parser\n",
    "    3. netrc                — netrc file processing\n",
    "    4. xdrlib               — Encode and decode XDR data\n",
    "    5. plistlib             — Generate and parse Mac OS X .plist files"
   ]
  },
  {
   "cell_type": "markdown",
   "id": "israeli-guatemala",
   "metadata": {},
   "source": [
    "## 11. [Cryptographic Services](111.CryptographicServices.ipynb)\n",
    "\n",
    "    1. hashlib              — Secure hashes and message digests\n",
    "    2. hmac                 — Keyed-Hashing for Message Authentication\n",
    "    3. secrets              — Generate secure random numbers for managing secrets\n",
    "    other:\n",
    "    4.Cryptography\n",
    "    "
   ]
  },
  {
   "cell_type": "markdown",
   "id": "celtic-application",
   "metadata": {},
   "source": [
    "## 12. [Generic Operating System Services](112.GenericOperatingSystemServices.ipynb)\n",
    "\n",
    "    1. os                   — Miscellaneous operating system interfaces\n",
    "    2. io                   — Core tools for working with streams\n",
    "    3. time                 — Time access and conversions\n",
    "    4. argparse             — Parser for command-line options, arguments and sub-commands\n",
    "    5. getopt               — C-style parser for command line options\n",
    "    6. logging              — Logging facility for Python\n",
    "    7. logging.config       — Logging configuration\n",
    "    8. logging.handlers     — Logging handlers\n",
    "    9. getpass              — Portable password input\n",
    "    10. curses              — Terminal handling for character-cell displays\n",
    "    11. curses.textpad      — Text input widget for curses programs\n",
    "    12. curses.ascii        — Utilities for ASCII characters\n",
    "    13. curses.panel        — A panel stack extension for curses\n",
    "    14. platform            — Access to underlying platform’s identifying data\n",
    "    15. errno               — Standard errno system symbols\n",
    "    16. ctypes              — A foreign function library for Python\n",
    "    "
   ]
  },
  {
   "cell_type": "markdown",
   "id": "funky-korean",
   "metadata": {},
   "source": [
    "## 13. [Concurrent Execution](113.ConcurrentExecution.ipynb)\n",
    "\n",
    "    1. threading            — Thread-based parallelism\n",
    "    2. multiprocessing      — Process-based parallelism "
   ]
  },
  {
   "cell_type": "markdown",
   "id": "magnetic-trademark",
   "metadata": {},
   "source": [
    "## 14. [The concurrent package](114.TheConcurrentPackage.ipynb)\n",
    "\n",
    "    1. concurrent.futures   — Launching parallel tasks\n",
    "    2. subprocess           — Subprocess management\n",
    "    3. sched                — Event scheduler\n",
    "    4. queue                — A synchronized queue class\n",
    "    5. _thread              — Low-level threading API\n",
    "    6. _dummy_thread        — Drop-in replacement for the _thread module\n",
    "    7. dummy_threading      — Drop-in replacement for the threading module"
   ]
  },
  {
   "cell_type": "markdown",
   "id": "strong-launch",
   "metadata": {},
   "source": [
    "## 15. [Multimedia Services](115.NetworkingAndInterprocessCommunication.ipynb)\n",
    "\n",
    "    1. audioop              — Manipulate raw audio data\n",
    "    2. aifc                 — Read and write AIFF and AIFC files\n",
    "    3. sunau                — Read and write Sun AU files\n",
    "    4. wave                 — Read and write WAV files\n",
    "    5. chunk                — Read IFF chunked data\n",
    "    6. colorsys             — Conversions between color systems\n",
    "    7. imghdr               — Determine the type of an image\n",
    "    8. sndhdr               — Determine type of sound file\n",
    "    9. ossaudiodev          — Access to OSS-compatible audio devices"
   ]
  },
  {
   "cell_type": "markdown",
   "id": "lined-transcription",
   "metadata": {},
   "source": [
    "## 16. [Program Frameworks]()\n",
    "\n",
    "    1. turtle               — Turtle graphics\n",
    "    2. cmd                  — Support for line-oriented command interpreters\n",
    "    3. shlex                — Simple lexical analysis"
   ]
  },
  {
   "cell_type": "markdown",
   "id": "fiscal-process",
   "metadata": {},
   "source": [
    "## 17. [Internationalization]()\n",
    "\n",
    "    1. gettext              — Multilingual internationalization services\n",
    "    2. locale               — Internationalization services"
   ]
  },
  {
   "cell_type": "markdown",
   "id": "collected-burke",
   "metadata": {},
   "source": [
    "## 18. [Graphical User Interfaces with Tk](118.Tk)\n",
    "\n",
    "    1. tkinter              — Python interface to Tcl/Tk\n",
    "    2. tkinter.ttk          — Tk themed widgets\n",
    "    3. tkinter.tix          — Extension widgets for Tk\n",
    "    4. tkinter.scrolledtext — Scrolled Text Widget\n",
    "    5. IDLE\n",
    "    6. Other Graphical User Interface Packages"
   ]
  },
  {
   "cell_type": "markdown",
   "id": "sufficient-survivor",
   "metadata": {},
   "source": [
    "## 19. [Development Tools]()\n",
    "\n",
    "    1. typing               — Support for type hints\n",
    "    2. pydoc                — Documentation generator and online help system\n",
    "    3. doctest              — Test interactive Python examples\n",
    "    4. unittest             — Unit testing framework\n",
    "    5. unittest.mock        — mock object library\n",
    "    6. unittest.mock        — getting started\n",
    "    7. 2to3                 — Automated Python 2 to 3 code translation\n",
    "    8. test                 — Regression tests package for Python\n",
    "    9. test.support         — Utilities for the Python test suite\n",
    "    10. test.support.script_helper — Utilities for the Python execution tests"
   ]
  },
  {
   "cell_type": "markdown",
   "id": "fancy-robinson",
   "metadata": {},
   "source": [
    "## 20. [Debugging and Profiling]()\n",
    "\n",
    "    1. bdb                  — Debugger framework\n",
    "    2. faulthandler         — Dump the Python traceback\n",
    "    3. pdb                  — The Python Debugger"
   ]
  },
  {
   "cell_type": "markdown",
   "id": "parallel-tiffany",
   "metadata": {},
   "source": [
    "## 21. [The Python Profilers]()\n",
    "\n",
    "    1. timeit               — Measure execution time of small code snippets\n",
    "    2. trace                — Trace or track Python statement execution\n",
    "    3. tracemalloc          — Trace memory allocations"
   ]
  },
  {
   "cell_type": "markdown",
   "id": "studied-novel",
   "metadata": {},
   "source": [
    "## 22. [Software Packaging and Distribution]()\n",
    "    1. distutils            — Building and installing Python modules\n",
    "    2. ensurepip            — Bootstrapping the pip installer\n",
    "    3. venv                 — Creation of virtual environments\n",
    "    4. zipapp               — Manage executable Python zip archives"
   ]
  },
  {
   "cell_type": "markdown",
   "id": "focal-horse",
   "metadata": {},
   "source": [
    "## 23. [Python Runtime Services]()\n",
    "\n",
    "    1. sys                  — System-specific parameters and functions\n",
    "    2. sysconfig            — Provide access to Python’s configuration information\n",
    "    3. builtins             — Built-in objects\n",
    "    4. __main__             — Top-level script environment\n",
    "    6. warnings             — Warning control\n",
    "    7. dataclasses          — Data Classes\n",
    "    8. contextlib           — Utilities for with-statement contexts\n",
    "    9. abc                  — Abstract Base Classes\n",
    "    10. atexit              — Exit handlers\n",
    "    11. traceback           — Print or retrieve a stack traceback\n",
    "    12. __future__          — Future statement definitions\n",
    "    13. gc                  — Garbage Collector interface\n",
    "    14. inspect             — Inspect live objects\n",
    "    15. site                — Site-specific configuration hook"
   ]
  },
  {
   "cell_type": "markdown",
   "id": "significant-cornwall",
   "metadata": {},
   "source": [
    "## 24. [Custom Python Interpreters]()\n",
    "    1. code                 — Interpreter base classes\n",
    "    2. codeop               — Compile Python code"
   ]
  },
  {
   "cell_type": "markdown",
   "id": "retained-overview",
   "metadata": {},
   "source": [
    "## 25. [Importing Modules]()\n",
    "\n",
    "    1. zipimport            — Import modules from Zip archives\n",
    "    2. pkgutil              — Package extension utility\n",
    "    3. modulefinder         — Find modules used by a script\n",
    "    4. runpy                — Locating and executing Python modules\n",
    "    5. importlib            — The implementation of import"
   ]
  },
  {
   "cell_type": "markdown",
   "id": "floating-capacity",
   "metadata": {},
   "source": [
    "## 26. [Python Language Services]()\n",
    "\n",
    "    1. parser               — Access Python parse trees\n",
    "    2. ast                  — Abstract Syntax Trees\n",
    "    4. symtable             — Access to the compiler’s symbol tables\n",
    "    5. symbol               — Constants used with Python parse trees\n",
    "    6. token                — Constants used with Python parse trees\n",
    "    7. keyword              — Testing for Python keywords\n",
    "    8. tokenize             — Tokenizer for Python source\n",
    "    9. tabnanny             — Detection of ambiguous indentation\n",
    "    9. pyclbr               — Python module browser support\n",
    "    10. py_compile          — Compile Python source files\n",
    "    11. compileall          — Byte-compile Python libraries\n",
    "    12. dis                 — Disassembler for Python bytecode\n",
    "    12. pickletools         — Tools for pickle developers"
   ]
  },
  {
   "cell_type": "markdown",
   "id": "accepting-twins",
   "metadata": {},
   "source": [
    "## 27. [Miscellaneous Services]()\n",
    "\n",
    "    1. formatter            — Generic output formatting"
   ]
  },
  {
   "cell_type": "markdown",
   "id": "joint-ghana",
   "metadata": {},
   "source": [
    "## 28. [MS Windows Specific Services](128.MSWindowsSpecificServices.ipynb)\n",
    "\n",
    "    1. msilib               — Read and write Microsoft Installer files\n",
    "    2. msvcrt               — Useful routines from the MS VC++ runtime\n",
    "    3. winreg               — Windows registry access\n",
    "    4. winsound             — Sound-playing interface for Windows\n",
    "    "
   ]
  },
  {
   "cell_type": "markdown",
   "id": "fifteen-secondary",
   "metadata": {},
   "source": [
    "## 29. [Unix Specific Services]()\n",
    "\n",
    "    1. posix                — The most common POSIX system calls\n",
    "    2. pwd                  — The password database\n",
    "    3. spwd                 — The shadow password database\n",
    "    4. grp                  — The group database\n",
    "    6. crypt                — Function to check Unix passwords\n",
    "    7. termios              — POSIX style tty control\n",
    "    8. tty                  — Terminal control functions\n",
    "    9. pty                  — Pseudo-terminal utilities\n",
    "    10. fcntl               — The fcntl and ioctl system calls\n",
    "    11. pipes               — Interface to shell pipelines\n",
    "    12. resource            — Resource usage information\n",
    "    13. nis                 — Interface to Sun’s NIS (Yellow Pages)\n",
    "    14. syslog              — Unix syslog library routines"
   ]
  },
  {
   "cell_type": "markdown",
   "id": "better-northeast",
   "metadata": {},
   "source": [
    "## 30. [Superseded Modules]()\n",
    "\n",
    "    1. optparse             — Parser for command line options\n",
    "    2. imp                  — Access the import internals\n",
    "    3. Undocumented Modules\n",
    "    4. Platform specific modules"
   ]
  },
  {
   "cell_type": "markdown",
   "id": "rubber-opera",
   "metadata": {},
   "source": [
    "# WEB Handling\n",
    "\n",
    "## 1. [Networking and Interprocess Communication](201.NetworkingAndInterprocessCommunication.ipynb)\n",
    "\n",
    "    1.asyncio               — Asynchronous I/O\n",
    "    2.socket                — Low-level networking interface\n",
    "    3.ssl                   — TLS/SSL wrapper for socket objects\n",
    "    4.select                — Waiting for I/O completion\n",
    "    5.selectors             — High-level I/O multiplexing\n",
    "    6.asyncore              — Asynchronous socket handler\n",
    "    7.asynchat              — Asynchronous socket command/response handler\n",
    "    8.signal                — Set handlers for asynchronous events\n",
    "    9.mmap                  — Memory-mapped file support\n",
    "    \n",
    "## 2. [Internet Data Handling](202.InternetDataHandling.ipynb)\n",
    "\n",
    "    1. email                — An email and MIME handling package\n",
    "    2. json                 — JSON encoder and decoder\n",
    "    3. mailcap              — Mailcap file handling\n",
    "    4. mailbox              — Manipulate mailboxes in various formats\n",
    "    5. mimetypes            — Map filenames to MIME types\n",
    "    6. base64               — Base16, Base32, Base64, Base85 Data Encodings\n",
    "    7. binhex               — Encode and decode binhex4 files\n",
    "    8. binascii             — Convert between binary and ASCII\n",
    "    9. quopri               — Encode and decode MIME quoted-printable data\n",
    "    10. uu                  — Encode and decode uuencode files\n",
    "\n",
    "## 3. [Structured Markup Processing Tools](203.HTMLStructuredMarkupProcessing.ipynb)\n",
    "\n",
    "    1. html                 — HyperText Markup Language support\n",
    "    2. html.parser          — Simple HTML and XHTML parser\n",
    "    3. html.entities        — Definitions of HTML general entities\n",
    "\n",
    "## 4. [XML Processing Modules](204.XMLProcessing.ipynb)\n",
    "\n",
    "    1. xml.etree.ElementTree — The ElementTree XML API\n",
    "    2. xml.dom              — The Document Object Model API\n",
    "    3. xml.dom.minidom      — Minimal DOM implementation\n",
    "    4. xml.dom.pulldom      — Support for building partial DOM trees\n",
    "    5. xml.sax              — Support for SAX2 parsers\n",
    "    6. xml.sax.handler      — Base classes for SAX handlers\n",
    "    7. xml.sax.saxutils     — SAX Utilities\n",
    "    8. xml.sax.xmlreader    — Interface for XML parsers\n",
    "    9. xml.parsers.expat    — Fast XML parsing using Expat\n",
    "\n",
    "## 5. [Internet Protocols and Support](205.InternetProtocolsAndSupport.ipynb)\n",
    "\n",
    "    1. webbrowser           — Convenient Web-browser controller\n",
    "    2. cgi                  — Common Gateway Interface support\n",
    "    3. cgitb                — Traceback manager for CGI scripts\n",
    "    4. wsgiref              — WSGI Utilities and Reference Implementation\n",
    "    5. urllib               — URL handling modules\n",
    "    6. urllib.request       — Extensible library for opening URLs\n",
    "    7. urllib.response      — Response classes used by urllib\n",
    "    8. urllib.parse         — Parse URLs into components\n",
    "    9. urllib.error         — Exception classes raised by urllib.request\n",
    "    10. urllib.robotparser  — Parser for robots.txt\n",
    "    11. http                — HTTP modules\n",
    "    12. http.client         — HTTP protocol client\n",
    "    13. ftplib              — FTP protocol client\n",
    "    14. poplib              — POP3 protocol client\n",
    "    15. imaplib             — IMAP4 protocol client\n",
    "    16. nntplib             — NNTP protocol client\n",
    "    17. smtplib             — SMTP protocol client\n",
    "    18. smtpd               — SMTP Server\n",
    "    19. telnetlib           — Telnet client\n",
    "    20. uuid                — UUID objects according to RFC 4122\n",
    "    21. socketserver        — A framework for network servers\n",
    "    22. http.server         — HTTP servers\n",
    "    23. http.cookies        — HTTP state management\n",
    "    24. http.cookiejar      — Cookie handling for HTTP clients\n",
    "    25. xmlrpc              — XMLRPC server and client modules\n",
    "    26. xmlrpc.client       — XML-RPC client access\n",
    "    27. xmlrpc.server       — Basic XML-RPC servers\n",
    "    29. ipaddress           — IPv4/IPv6 manipulation library"
   ]
  },
  {
   "cell_type": "code",
   "execution_count": null,
   "id": "assigned-belarus",
   "metadata": {},
   "outputs": [],
   "source": []
  },
  {
   "cell_type": "code",
   "execution_count": null,
   "id": "future-twins",
   "metadata": {},
   "outputs": [],
   "source": []
  }
 ],
 "metadata": {
  "kernelspec": {
   "display_name": "Python 3",
   "language": "python",
   "name": "python3"
  },
  "language_info": {
   "codemirror_mode": {
    "name": "ipython",
    "version": 3
   },
   "file_extension": ".py",
   "mimetype": "text/x-python",
   "name": "python",
   "nbconvert_exporter": "python",
   "pygments_lexer": "ipython3",
   "version": "3.7.8"
  }
 },
 "nbformat": 4,
 "nbformat_minor": 5
}
