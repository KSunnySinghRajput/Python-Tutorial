{
 "cells": [
  {
   "cell_type": "markdown",
   "metadata": {},
   "source": [
    "- Type\n",
    "\n",
    "        1. Integer\n",
    "        2. Float\n",
    "        3. Complex\n",
    "\n",
    "- Operation\n",
    "\n",
    "        1. numbers              — Numeric abstract base classes\n",
    "        2. math                 — Mathematical functions\n",
    "        3. cmath                — Mathematical functions for complex numbers\n",
    "        4. decimal              — Decimal fixed point and floating point arithmetic\n",
    "        5. fractions            — Rational numbers\n",
    "        6. random               — Generate pseudo-random numbers\n",
    "        7. statistics           — Mathematical statistics functions"
   ]
  },
  {
   "cell_type": "markdown",
   "metadata": {},
   "source": [
    "# <center> Numeric types</center> "
   ]
  },
  {
   "cell_type": "code",
   "execution_count": null,
   "metadata": {},
   "outputs": [],
   "source": [
    "#Input\n",
    "b2=int(input(\"Enter int  :  \"))  "
   ]
  },
  {
   "cell_type": "markdown",
   "metadata": {},
   "source": [
    "## 1. int( )"
   ]
  },
  {
   "cell_type": "code",
   "execution_count": 233,
   "metadata": {},
   "outputs": [],
   "source": [
    "#help(int)"
   ]
  },
  {
   "cell_type": "code",
   "execution_count": 234,
   "metadata": {},
   "outputs": [
    {
     "data": {
      "text/plain": [
       "int"
      ]
     },
     "execution_count": 234,
     "metadata": {},
     "output_type": "execute_result"
    }
   ],
   "source": [
    "b=int()\n",
    "type(b)"
   ]
  },
  {
   "cell_type": "code",
   "execution_count": 235,
   "metadata": {},
   "outputs": [
    {
     "name": "stdout",
     "output_type": "stream",
     "text": [
      "integer values : 10 10 10\n"
     ]
    }
   ],
   "source": [
    "# Calling function\n",
    "val = int(10) # integer value\n",
    "val2 = int(10.52) # float value\n",
    "val3 = int('10') # string value\n",
    "# Displaying result\n",
    "print(\"integer values :\",val, val2, val3) "
   ]
  },
  {
   "cell_type": "code",
   "execution_count": 236,
   "metadata": {},
   "outputs": [
    {
     "data": {
      "text/plain": [
       "10"
      ]
     },
     "execution_count": 236,
     "metadata": {},
     "output_type": "execute_result"
    }
   ],
   "source": [
    "b1=10\n",
    "b1"
   ]
  },
  {
   "cell_type": "code",
   "execution_count": 237,
   "metadata": {},
   "outputs": [
    {
     "data": {
      "text/plain": [
       "int"
      ]
     },
     "execution_count": 237,
     "metadata": {},
     "output_type": "execute_result"
    }
   ],
   "source": [
    "type(b1)"
   ]
  },
  {
   "cell_type": "code",
   "execution_count": 127,
   "metadata": {},
   "outputs": [
    {
     "data": {
      "text/plain": [
       "12928464"
      ]
     },
     "execution_count": 127,
     "metadata": {},
     "output_type": "execute_result"
    }
   ],
   "source": [
    "y='0xc545d0'\n",
    "int(y,base=16)"
   ]
  },
  {
   "cell_type": "markdown",
   "metadata": {},
   "source": [
    "## c. float( )"
   ]
  },
  {
   "cell_type": "code",
   "execution_count": null,
   "metadata": {},
   "outputs": [],
   "source": [
    "#help(float)"
   ]
  },
  {
   "cell_type": "code",
   "execution_count": null,
   "metadata": {},
   "outputs": [],
   "source": [
    "c=float()\n",
    "type(c)"
   ]
  },
  {
   "cell_type": "code",
   "execution_count": null,
   "metadata": {},
   "outputs": [],
   "source": [
    "c1=10.5\n",
    "print(c1)\n",
    "c1"
   ]
  },
  {
   "cell_type": "code",
   "execution_count": null,
   "metadata": {},
   "outputs": [],
   "source": [
    "type(c1)"
   ]
  },
  {
   "cell_type": "code",
   "execution_count": null,
   "metadata": {},
   "outputs": [],
   "source": [
    "c2 = float(input(\"Enter FLOAT  :  \"))\n",
    "c2"
   ]
  },
  {
   "cell_type": "markdown",
   "metadata": {},
   "source": [
    "## d. complex( )"
   ]
  },
  {
   "cell_type": "code",
   "execution_count": 2,
   "metadata": {},
   "outputs": [],
   "source": [
    "#help(complex)"
   ]
  },
  {
   "cell_type": "code",
   "execution_count": null,
   "metadata": {},
   "outputs": [],
   "source": [
    "d=complex()\n",
    "type(d)"
   ]
  },
  {
   "cell_type": "code",
   "execution_count": null,
   "metadata": {},
   "outputs": [],
   "source": [
    "# Python complex() function example\n",
    "# Calling function\n",
    "a = complex(1) # Passing single parameter\n",
    "b = complex(1,2) # Passing both parameters\n",
    "# Displaying result\n",
    "print(a)\n",
    "print(b) "
   ]
  },
  {
   "cell_type": "code",
   "execution_count": null,
   "metadata": {},
   "outputs": [],
   "source": [
    "d1=2.0 + 2.3j\n",
    "print(d1)\n",
    "d1"
   ]
  },
  {
   "cell_type": "code",
   "execution_count": null,
   "metadata": {},
   "outputs": [],
   "source": [
    "#Complex\n",
    "x = 3+5j\n",
    "y = 5j\n",
    "z = -5j"
   ]
  },
  {
   "cell_type": "code",
   "execution_count": null,
   "metadata": {},
   "outputs": [],
   "source": [
    "type(d1)"
   ]
  },
  {
   "cell_type": "code",
   "execution_count": null,
   "metadata": {},
   "outputs": [],
   "source": [
    "d2 = complex(input(\"Enter COMPILE  :  \"))     #2+2.3j\n",
    "d2"
   ]
  },
  {
   "cell_type": "markdown",
   "metadata": {},
   "source": [
    "# <center>Type Casting</center>\n",
    "\n",
    "\n",
    "1. int()     - Integer\n",
    "2. float()   - Float Value\n",
    "3. chr()     - Charecter Value\n",
    "4. complex"
   ]
  },
  {
   "cell_type": "code",
   "execution_count": null,
   "metadata": {},
   "outputs": [],
   "source": [
    "#Integers:\n",
    "int(1)   # x will be 1"
   ]
  },
  {
   "cell_type": "code",
   "execution_count": null,
   "metadata": {},
   "outputs": [],
   "source": [
    "int(2.8) # y will be 2"
   ]
  },
  {
   "cell_type": "code",
   "execution_count": null,
   "metadata": {},
   "outputs": [],
   "source": [
    "int(\"3\") # z will be 3"
   ]
  },
  {
   "cell_type": "code",
   "execution_count": null,
   "metadata": {},
   "outputs": [],
   "source": [
    "#Floats:\n",
    "float(1)     # x will be 1.0"
   ]
  },
  {
   "cell_type": "code",
   "execution_count": null,
   "metadata": {},
   "outputs": [],
   "source": [
    "float(2.8)   # y will be 2.8"
   ]
  },
  {
   "cell_type": "code",
   "execution_count": null,
   "metadata": {},
   "outputs": [],
   "source": [
    "float(\"3\")   # z will be 3.0"
   ]
  },
  {
   "cell_type": "code",
   "execution_count": null,
   "metadata": {},
   "outputs": [],
   "source": [
    "float(\"4.2\") # w will be 4.2"
   ]
  },
  {
   "cell_type": "code",
   "execution_count": null,
   "metadata": {},
   "outputs": [],
   "source": [
    "#Strings:\n",
    "str(\"s1\") # x will be 's1'"
   ]
  },
  {
   "cell_type": "code",
   "execution_count": null,
   "metadata": {},
   "outputs": [],
   "source": [
    "str(2)    # y will be '2'"
   ]
  },
  {
   "cell_type": "code",
   "execution_count": null,
   "metadata": {},
   "outputs": [],
   "source": [
    "str(3.0)  # z will be '3.0'"
   ]
  },
  {
   "cell_type": "markdown",
   "metadata": {},
   "source": [
    "**Note :**\n",
    "    \n",
    " - can't convert complex to int \n",
    " - invalid literal for int() with base 10:"
   ]
  },
  {
   "cell_type": "markdown",
   "metadata": {},
   "source": [
    "# <center>Built-in Functions</center>\n"
   ]
  },
  {
   "cell_type": "code",
   "execution_count": null,
   "metadata": {},
   "outputs": [],
   "source": [
    "#help(__builtins__)"
   ]
  },
  {
   "cell_type": "markdown",
   "metadata": {},
   "source": [
    "## 3. Math fuction"
   ]
  },
  {
   "cell_type": "markdown",
   "metadata": {},
   "source": [
    "**abs()**"
   ]
  },
  {
   "cell_type": "code",
   "execution_count": null,
   "metadata": {},
   "outputs": [],
   "source": [
    "# help(abs)          Remove Sign"
   ]
  },
  {
   "cell_type": "code",
   "execution_count": 64,
   "metadata": {},
   "outputs": [
    {
     "name": "stdout",
     "output_type": "stream",
     "text": [
      "Absolute value of -40 is: 20\n"
     ]
    }
   ],
   "source": [
    "print('Absolute value of -40 is:', abs(-20))"
   ]
  },
  {
   "cell_type": "code",
   "execution_count": 66,
   "metadata": {},
   "outputs": [
    {
     "name": "stdout",
     "output_type": "stream",
     "text": [
      "Absolute value of -40.83 is: 20.83\n"
     ]
    }
   ],
   "source": [
    "print('Absolute value of -40.83 is:', abs(-20.83))"
   ]
  },
  {
   "cell_type": "markdown",
   "metadata": {},
   "source": [
    "**sum()**"
   ]
  },
  {
   "cell_type": "code",
   "execution_count": null,
   "metadata": {},
   "outputs": [],
   "source": [
    "#help(sum)"
   ]
  },
  {
   "cell_type": "code",
   "execution_count": 62,
   "metadata": {},
   "outputs": [
    {
     "data": {
      "text/plain": [
       "7"
      ]
     },
     "execution_count": 62,
     "metadata": {},
     "output_type": "execute_result"
    }
   ],
   "source": [
    "sum([1, 2,4 ])"
   ]
  },
  {
   "cell_type": "code",
   "execution_count": 61,
   "metadata": {},
   "outputs": [
    {
     "data": {
      "text/plain": [
       "17"
      ]
     },
     "execution_count": 61,
     "metadata": {},
     "output_type": "execute_result"
    }
   ],
   "source": [
    "sum([1, 2, 4], 10)"
   ]
  },
  {
   "cell_type": "markdown",
   "metadata": {},
   "source": [
    "**round()**"
   ]
  },
  {
   "cell_type": "code",
   "execution_count": null,
   "metadata": {},
   "outputs": [],
   "source": [
    "#help(round)"
   ]
  },
  {
   "cell_type": "code",
   "execution_count": 58,
   "metadata": {},
   "outputs": [
    {
     "data": {
      "text/plain": [
       "10"
      ]
     },
     "execution_count": 58,
     "metadata": {},
     "output_type": "execute_result"
    }
   ],
   "source": [
    "round(10)  "
   ]
  },
  {
   "cell_type": "code",
   "execution_count": 59,
   "metadata": {},
   "outputs": [
    {
     "data": {
      "text/plain": [
       "11"
      ]
     },
     "execution_count": 59,
     "metadata": {},
     "output_type": "execute_result"
    }
   ],
   "source": [
    "round(10.8)"
   ]
  },
  {
   "cell_type": "code",
   "execution_count": 60,
   "metadata": {},
   "outputs": [
    {
     "data": {
      "text/plain": [
       "7"
      ]
     },
     "execution_count": 60,
     "metadata": {},
     "output_type": "execute_result"
    }
   ],
   "source": [
    "round(6.6)"
   ]
  },
  {
   "cell_type": "markdown",
   "metadata": {},
   "source": [
    "**pow() / Root**"
   ]
  },
  {
   "cell_type": "code",
   "execution_count": null,
   "metadata": {},
   "outputs": [],
   "source": [
    "#help(pow)\n",
    "# positive x, positive y (x**y)  "
   ]
  },
  {
   "cell_type": "code",
   "execution_count": 67,
   "metadata": {},
   "outputs": [
    {
     "data": {
      "text/plain": [
       "16"
      ]
     },
     "execution_count": 67,
     "metadata": {},
     "output_type": "execute_result"
    }
   ],
   "source": [
    "pow(4, 2)"
   ]
  },
  {
   "cell_type": "code",
   "execution_count": 68,
   "metadata": {},
   "outputs": [
    {
     "data": {
      "text/plain": [
       "16"
      ]
     },
     "execution_count": 68,
     "metadata": {},
     "output_type": "execute_result"
    }
   ],
   "source": [
    "pow(-4, 2)"
   ]
  },
  {
   "cell_type": "code",
   "execution_count": 69,
   "metadata": {},
   "outputs": [
    {
     "data": {
      "text/plain": [
       "0.0625"
      ]
     },
     "execution_count": 69,
     "metadata": {},
     "output_type": "execute_result"
    }
   ],
   "source": [
    "pow(4, -2)"
   ]
  },
  {
   "cell_type": "code",
   "execution_count": 70,
   "metadata": {},
   "outputs": [
    {
     "data": {
      "text/plain": [
       "0.0625"
      ]
     },
     "execution_count": 70,
     "metadata": {},
     "output_type": "execute_result"
    }
   ],
   "source": [
    "pow(-4, -2)"
   ]
  },
  {
   "cell_type": "markdown",
   "metadata": {},
   "source": [
    "**divmod()**"
   ]
  },
  {
   "cell_type": "code",
   "execution_count": null,
   "metadata": {},
   "outputs": [],
   "source": [
    "#help(divmod)"
   ]
  },
  {
   "cell_type": "code",
   "execution_count": 74,
   "metadata": {},
   "outputs": [
    {
     "data": {
      "text/plain": [
       "(5, 1)"
      ]
     },
     "execution_count": 74,
     "metadata": {},
     "output_type": "execute_result"
    }
   ],
   "source": [
    "divmod(11,2)"
   ]
  },
  {
   "cell_type": "code",
   "execution_count": 75,
   "metadata": {},
   "outputs": [
    {
     "data": {
      "text/plain": [
       "5"
      ]
     },
     "execution_count": 75,
     "metadata": {},
     "output_type": "execute_result"
    }
   ],
   "source": [
    "divmod(11,2)[0]"
   ]
  },
  {
   "cell_type": "code",
   "execution_count": 76,
   "metadata": {},
   "outputs": [
    {
     "data": {
      "text/plain": [
       "1"
      ]
     },
     "execution_count": 76,
     "metadata": {},
     "output_type": "execute_result"
    }
   ],
   "source": [
    "divmod(11,2)[1]"
   ]
  },
  {
   "cell_type": "markdown",
   "metadata": {},
   "source": [
    "**eval()**"
   ]
  },
  {
   "cell_type": "code",
   "execution_count": null,
   "metadata": {},
   "outputs": [],
   "source": [
    "#help(eval)"
   ]
  },
  {
   "cell_type": "code",
   "execution_count": 77,
   "metadata": {},
   "outputs": [
    {
     "data": {
      "text/plain": [
       "9"
      ]
     },
     "execution_count": 77,
     "metadata": {},
     "output_type": "execute_result"
    }
   ],
   "source": [
    "x = 8\n",
    "eval('x + 1')"
   ]
  },
  {
   "cell_type": "markdown",
   "metadata": {},
   "source": [
    "# Other Lib / Operation"
   ]
  },
  {
   "cell_type": "code",
   "execution_count": null,
   "metadata": {},
   "outputs": [],
   "source": [
    "https://mathworld.wolfram.com/topics/CombinatorialGeometry.html\n",
    "    \n",
    "https://www.google.com/url?sa=i&url=https%3A%2F%2Fwww.jamesbrennan.org%2Falgebra%2Fnumbers%2Freal_number_system.htm&psig=AOvVaw0K2qi1v15kWLI96oGJ4lHI&ust=1596723933259000&source=images&cd=vfe&ved=0CAIQjRxqFwoTCPDSraqihOsCFQAAAAAdAAAAABAO"
   ]
  },
  {
   "cell_type": "markdown",
   "metadata": {},
   "source": [
    "## 1. numbers\n",
    "\n",
    "- A complex number is a number that can be expressed in the form a + bi, where a and b are real numbers, and i satisfies the equation i2 = −1. Because no real number satisfies this equation, i is called an imaginary number. For the complex number a + bi, a is called the real part, and b is called the imaginary part.\n",
    "\n",
    "- Number\n",
    "    - Complex\n",
    "        - Real\n",
    "            - Rational\n",
    "                 - Integral"
   ]
  },
  {
   "cell_type": "code",
   "execution_count": 18,
   "metadata": {},
   "outputs": [],
   "source": [
    "import numbers\n",
    "# help(numbers)"
   ]
  },
  {
   "cell_type": "code",
   "execution_count": 19,
   "metadata": {},
   "outputs": [],
   "source": [
    "# class Complex(Number) \n",
    "x = 3+5j"
   ]
  },
  {
   "cell_type": "code",
   "execution_count": 20,
   "metadata": {},
   "outputs": [
    {
     "data": {
      "text/plain": [
       "(3.0, 5.0)"
      ]
     },
     "execution_count": 20,
     "metadata": {},
     "output_type": "execute_result"
    }
   ],
   "source": [
    "x.real ,x.imag "
   ]
  },
  {
   "cell_type": "code",
   "execution_count": 21,
   "metadata": {},
   "outputs": [],
   "source": [
    "# class Integral(Rational)\n",
    "x=20"
   ]
  },
  {
   "cell_type": "code",
   "execution_count": 17,
   "metadata": {},
   "outputs": [
    {
     "data": {
      "text/plain": [
       "(1, 20)"
      ]
     },
     "execution_count": 17,
     "metadata": {},
     "output_type": "execute_result"
    }
   ],
   "source": [
    "x.denominator,x.numerator"
   ]
  },
  {
   "cell_type": "markdown",
   "metadata": {},
   "source": [
    "## 2. math"
   ]
  },
  {
   "cell_type": "code",
   "execution_count": 42,
   "metadata": {},
   "outputs": [],
   "source": [
    "from math import *\n",
    "import math as  mt"
   ]
  },
  {
   "cell_type": "code",
   "execution_count": 45,
   "metadata": {},
   "outputs": [],
   "source": [
    "# help(mt)"
   ]
  },
  {
   "cell_type": "code",
   "execution_count": 46,
   "metadata": {},
   "outputs": [
    {
     "name": "stdout",
     "output_type": "stream",
     "text": [
      "pi   : 3.141592653589793\n",
      "e    : 2.718281828459045\n",
      "inf  : inf\n",
      "nan  : nan\n",
      "tau  : 6.283185307179586\n"
     ]
    }
   ],
   "source": [
    "print(\"pi   :\",pi)       #3.141592653589793\n",
    "print(\"e    :\",e)        #2.718281828459045\n",
    "print(\"inf  :\",inf)      #inf\n",
    "print(\"nan  :\",nan)      #nan\n",
    "print(\"tau  :\",tau)      #6.283185307179586"
   ]
  },
  {
   "cell_type": "code",
   "execution_count": 47,
   "metadata": {},
   "outputs": [],
   "source": [
    "# isfinite(x)  : Return True if x is neither an infinity nor a NaN, and False otherwise.\n",
    "# isinf(x)     : Return True if x is a positive or negative infinity, and False otherwise.\n",
    "# isnan(x)     : Return True if x is a NaN (not a number), and False otherwise."
   ]
  },
  {
   "cell_type": "markdown",
   "metadata": {},
   "source": [
    "**A. Basic**"
   ]
  },
  {
   "cell_type": "markdown",
   "metadata": {},
   "source": [
    "- **floor(x):** Return the floor of x as an Integral.\n",
    "    - This is the largest integer <= x."
   ]
  },
  {
   "cell_type": "code",
   "execution_count": 48,
   "metadata": {},
   "outputs": [
    {
     "data": {
      "text/plain": [
       "23"
      ]
     },
     "execution_count": 48,
     "metadata": {},
     "output_type": "execute_result"
    }
   ],
   "source": [
    "floor(23.255)"
   ]
  },
  {
   "cell_type": "markdown",
   "metadata": {},
   "source": [
    "- **fmod(x, y):**Return fmod(x, y), according to platform C.\n",
    "    - x % y may differ."
   ]
  },
  {
   "cell_type": "code",
   "execution_count": 49,
   "metadata": {},
   "outputs": [
    {
     "data": {
      "text/plain": [
       "5.0"
      ]
     },
     "execution_count": 49,
     "metadata": {},
     "output_type": "execute_result"
    }
   ],
   "source": [
    "fmod(200,13)"
   ]
  },
  {
   "cell_type": "markdown",
   "metadata": {},
   "source": [
    "- **exp(x):**Return e raised to the power of x."
   ]
  },
  {
   "cell_type": "code",
   "execution_count": 50,
   "metadata": {},
   "outputs": [
    {
     "data": {
      "text/plain": [
       "7.38905609893065"
      ]
     },
     "execution_count": 50,
     "metadata": {},
     "output_type": "execute_result"
    }
   ],
   "source": [
    "exp(2)"
   ]
  },
  {
   "cell_type": "markdown",
   "metadata": {},
   "source": [
    "- **pow(x, y):** Return x**y (x to the power of y)."
   ]
  },
  {
   "cell_type": "markdown",
   "metadata": {},
   "source": [
    "- **sqrt(x):** Return the square root of x."
   ]
  },
  {
   "cell_type": "code",
   "execution_count": 51,
   "metadata": {},
   "outputs": [
    {
     "data": {
      "text/plain": [
       "3.0"
      ]
     },
     "execution_count": 51,
     "metadata": {},
     "output_type": "execute_result"
    }
   ],
   "source": [
    "sqrt(9)"
   ]
  },
  {
   "cell_type": "markdown",
   "metadata": {},
   "source": [
    "- **modf(x, /):** Return the fractional and integer parts of x.\n",
    "    - Both results carry the sign of x and are floats."
   ]
  },
  {
   "cell_type": "code",
   "execution_count": 52,
   "metadata": {},
   "outputs": [
    {
     "data": {
      "text/plain": [
       "(0.6666666666666666, 0.0)"
      ]
     },
     "execution_count": 52,
     "metadata": {},
     "output_type": "execute_result"
    }
   ],
   "source": [
    "modf(2/3)"
   ]
  },
  {
   "cell_type": "markdown",
   "metadata": {},
   "source": [
    "- **factorial(x):**Find x!."
   ]
  },
  {
   "cell_type": "code",
   "execution_count": 53,
   "metadata": {},
   "outputs": [
    {
     "data": {
      "text/plain": [
       "120"
      ]
     },
     "execution_count": 53,
     "metadata": {},
     "output_type": "execute_result"
    }
   ],
   "source": [
    "factorial(5)"
   ]
  },
  {
   "cell_type": "markdown",
   "metadata": {},
   "source": [
    "### Function"
   ]
  },
  {
   "cell_type": "markdown",
   "metadata": {},
   "source": [
    "- **ceil(x, /):**Return the ceiling of x as an Integral.\n",
    "    - his is the smallest integer >= x."
   ]
  },
  {
   "cell_type": "markdown",
   "metadata": {},
   "source": [
    "- **copysign(x, y, /):** Return a float with the magnitude (absolute value) of x but the sign of y.\n",
    "    - On platforms that support signed zeros, copysign(1.0, -0.0)\n",
    "    - returns -1.0."
   ]
  },
  {
   "cell_type": "markdown",
   "metadata": {},
   "source": [
    "- **lgamma(x):** Natural logarithm of absolute value of Gamma function at x.\n",
    "    - **erf(x):**Error function at x."
   ]
  },
  {
   "cell_type": "markdown",
   "metadata": {},
   "source": [
    " - **erfc(x, /):** Complementary error function at x."
   ]
  },
  {
   "cell_type": "markdown",
   "metadata": {},
   "source": [
    "- **expm1(x, /):Return exp(x)-1.**\n",
    "    - This function avoids the loss of precision involved in the direct evaluation of exp(x)-1 for small x."
   ]
  },
  {
   "cell_type": "markdown",
   "metadata": {},
   "source": [
    "- **fabs(x, /):** Return the absolute value of the float x."
   ]
  },
  {
   "cell_type": "markdown",
   "metadata": {},
   "source": [
    "- **frexp(x, /):**Return the mantissa and exponent of x, as pair (m, e).\n",
    "    - m is a float and e is an int, such that x = m * 2.**e.\n",
    "    - If x is 0, m and e are both 0.  Else 0.5 <= abs(m) < 1.0."
   ]
  },
  {
   "cell_type": "markdown",
   "metadata": {},
   "source": [
    "- **fsum(seq, /):** Return an accurate floating point sum of values in the iterable seq.\n",
    "    - Assumes IEEE-754 floating point arithmetic."
   ]
  },
  {
   "cell_type": "markdown",
   "metadata": {},
   "source": [
    "- **gamma(x, /):** Gamma function at x."
   ]
  },
  {
   "cell_type": "markdown",
   "metadata": {},
   "source": [
    "- **gcd(x, y, /):** greatest common divisor of x and y"
   ]
  },
  {
   "cell_type": "markdown",
   "metadata": {},
   "source": [
    "- **hypot(x, y, /):** Return the Euclidean distance, sqrt(x*x + y*y)."
   ]
  },
  {
   "cell_type": "markdown",
   "metadata": {},
   "source": [
    "- **isclose(a, b, *, rel_tol=1e-09, abs_tol=0.0):** Determine whether two floating point numbers are close in value."
   ]
  },
  {
   "cell_type": "markdown",
   "metadata": {},
   "source": [
    "- **ldexp(x, i, /):** Return x * (2**i).\n",
    "    - This is essentially the inverse of frexp().\n",
    "    "
   ]
  },
  {
   "cell_type": "markdown",
   "metadata": {},
   "source": [
    "- **remainder(x, y, /):**\n",
    "    - Difference between x and the closest integer multiple of y.\n",
    "    - Return x - n*y where n*y is the closest integer multiple of y.\n",
    "    - In the case where x is exactly halfway between two multiples of y, the nearest even value of n is used. The result is always exact."
   ]
  },
  {
   "cell_type": "markdown",
   "metadata": {},
   "source": [
    "- **trunc(x, /)**\n",
    "    - Truncates the Real x to the nearest Integral toward 0.\n",
    "    - Uses the __trunc__ magic method."
   ]
  },
  {
   "cell_type": "markdown",
   "metadata": {},
   "source": [
    "**B.Trignomatric**\n",
    "\n",
    "> π rad = 180°\n",
    ">\n",
    "> 1Rad × 180/π = 57.296Deg\n",
    ">\n",
    "> α(degrees) = α(radians) × 180° / π\n",
    ">\n",
    "> degrees = radians × 180° / π\n",
    "\n",
    "|Radians (rad)|Radians (rad)|Degrees (°)|\n",
    "|:---|:---|:---|\n",
    "|0 |0 |0°|\n",
    "|π/6 |0.5235987756 |30°|\n",
    "|π/4 |0.7853981634 |45°|\n",
    "|π/3 |1.0471975512 |60°|\n",
    "|π/2 |1.5707963268 |90°|\n",
    "|2π/3 |2.0943951024 |120°|\n",
    "|3π/4 |2.3561944902 |135°|\n",
    "|5π/6 |2.6179938780 |150°|\n",
    "|π |3.1415926536 |180°|\n",
    "|3π/2 |4.7123889804 |270°|\n",
    "|2π |6.2831853072 |360°|"
   ]
  },
  {
   "cell_type": "markdown",
   "metadata": {},
   "source": [
    "- **degrees(x):** Convert angle x from radians to degrees."
   ]
  },
  {
   "cell_type": "code",
   "execution_count": 58,
   "metadata": {},
   "outputs": [
    {
     "data": {
      "text/plain": [
       "90.0"
      ]
     },
     "execution_count": 58,
     "metadata": {},
     "output_type": "execute_result"
    }
   ],
   "source": [
    "degrees(1.5707963267948966)"
   ]
  },
  {
   "cell_type": "markdown",
   "metadata": {},
   "source": [
    "- **radians(x):** Convert angle x from degrees to radians.\n",
    "    "
   ]
  },
  {
   "cell_type": "code",
   "execution_count": 59,
   "metadata": {},
   "outputs": [
    {
     "data": {
      "text/plain": [
       "1.5707963267948966"
      ]
     },
     "execution_count": 59,
     "metadata": {},
     "output_type": "execute_result"
    }
   ],
   "source": [
    "radians(90)"
   ]
  },
  {
   "cell_type": "markdown",
   "metadata": {},
   "source": [
    "- **sin(x) :** Return the sine of x (measured in radians). "
   ]
  },
  {
   "cell_type": "code",
   "execution_count": 60,
   "metadata": {},
   "outputs": [
    {
     "data": {
      "text/plain": [
       "1.0"
      ]
     },
     "execution_count": 60,
     "metadata": {},
     "output_type": "execute_result"
    }
   ],
   "source": [
    "sin(1.5707963267948966)"
   ]
  },
  {
   "cell_type": "code",
   "execution_count": 61,
   "metadata": {},
   "outputs": [
    {
     "data": {
      "text/plain": [
       "1.0"
      ]
     },
     "execution_count": 61,
     "metadata": {},
     "output_type": "execute_result"
    }
   ],
   "source": [
    "sin(radians(90))"
   ]
  },
  {
   "cell_type": "code",
   "execution_count": 62,
   "metadata": {},
   "outputs": [
    {
     "data": {
      "text/plain": [
       "0.0"
      ]
     },
     "execution_count": 62,
     "metadata": {},
     "output_type": "execute_result"
    }
   ],
   "source": [
    "sin(radians(0))"
   ]
  },
  {
   "cell_type": "markdown",
   "metadata": {},
   "source": [
    "- **cos(x) :** Return the cosine of x (measured in radians)."
   ]
  },
  {
   "cell_type": "code",
   "execution_count": 79,
   "metadata": {},
   "outputs": [
    {
     "data": {
      "text/plain": [
       "1.0"
      ]
     },
     "execution_count": 79,
     "metadata": {},
     "output_type": "execute_result"
    }
   ],
   "source": [
    "cos(0)"
   ]
  },
  {
   "cell_type": "code",
   "execution_count": 83,
   "metadata": {},
   "outputs": [
    {
     "data": {
      "text/plain": [
       "6.123233995736766e-17"
      ]
     },
     "execution_count": 83,
     "metadata": {},
     "output_type": "execute_result"
    }
   ],
   "source": [
    "cos(1.5707963267948966)"
   ]
  },
  {
   "cell_type": "code",
   "execution_count": 78,
   "metadata": {},
   "outputs": [
    {
     "data": {
      "text/plain": [
       "6.123233995736766e-17"
      ]
     },
     "execution_count": 78,
     "metadata": {},
     "output_type": "execute_result"
    }
   ],
   "source": [
    "cos(radians(90)"
   ]
  },
  {
   "cell_type": "code",
   "execution_count": 74,
   "metadata": {},
   "outputs": [
    {
     "data": {
      "text/plain": [
       "1.0"
      ]
     },
     "execution_count": 74,
     "metadata": {},
     "output_type": "execute_result"
    }
   ],
   "source": [
    "cos(0)"
   ]
  },
  {
   "cell_type": "code",
   "execution_count": 75,
   "metadata": {},
   "outputs": [
    {
     "data": {
      "text/plain": [
       "0.5403023058681398"
      ]
     },
     "execution_count": 75,
     "metadata": {},
     "output_type": "execute_result"
    }
   ],
   "source": [
    "cos(1)"
   ]
  },
  {
   "cell_type": "markdown",
   "metadata": {},
   "source": [
    "- **tan(x, /):** Return the tangent of x (measured in radians)."
   ]
  },
  {
   "cell_type": "markdown",
   "metadata": {},
   "source": [
    "- **asin(x, /):** Return the arc sine (measured in radians) of x.  "
   ]
  },
  {
   "cell_type": "markdown",
   "metadata": {},
   "source": [
    "- **acos(x, /):** Return the arc cosine (measured in radians) of x.    "
   ]
  },
  {
   "cell_type": "markdown",
   "metadata": {},
   "source": [
    "- **atan(x, /):** Return the arc tangent (measured in radians) of x."
   ]
  },
  {
   "cell_type": "markdown",
   "metadata": {},
   "source": [
    "- **atan2(y, x, /):** Return the arc tangent (measured in radians) of y/x.\n",
    "    - Unlike atan(y/x), the signs of both x and y are considered.\n",
    "    "
   ]
  },
  {
   "cell_type": "markdown",
   "metadata": {},
   "source": [
    "**hyperbolic**"
   ]
  },
  {
   "cell_type": "markdown",
   "metadata": {},
   "source": [
    "- **sinh(x, /):** Return the hyperbolic sine of x."
   ]
  },
  {
   "cell_type": "markdown",
   "metadata": {},
   "source": [
    "- **cosh(x, /):** Return the hyperbolic cosine of x."
   ]
  },
  {
   "cell_type": "markdown",
   "metadata": {},
   "source": [
    "- **tanh(x, /):** Return the hyperbolic tangent of x."
   ]
  },
  {
   "cell_type": "markdown",
   "metadata": {},
   "source": [
    "- **asinh(x, /):** Return the inverse hyperbolic sine of x."
   ]
  },
  {
   "cell_type": "markdown",
   "metadata": {},
   "source": [
    "- **acosh(x, /):** Return the inverse hyperbolic cosine of x."
   ]
  },
  {
   "cell_type": "markdown",
   "metadata": {},
   "source": [
    "- **atanh(x, /):** Return the inverse hyperbolic tangent of x.\n",
    "    "
   ]
  },
  {
   "cell_type": "markdown",
   "metadata": {},
   "source": [
    "### log(...)"
   ]
  },
  {
   "cell_type": "markdown",
   "metadata": {},
   "source": [
    "- **log(x, [base=math.e]):** Return the logarithm of x to the given base.\n",
    "    - If the base not specified, returns the natural logarithm (base e) of x."
   ]
  },
  {
   "cell_type": "code",
   "execution_count": 84,
   "metadata": {},
   "outputs": [
    {
     "data": {
      "text/plain": [
       "2.302585092994046"
      ]
     },
     "execution_count": 84,
     "metadata": {},
     "output_type": "execute_result"
    }
   ],
   "source": [
    "log(10)"
   ]
  },
  {
   "cell_type": "markdown",
   "metadata": {},
   "source": [
    "- **log10(x)**: Return the base 10 logarithm of x.\n",
    "    "
   ]
  },
  {
   "cell_type": "code",
   "execution_count": 86,
   "metadata": {},
   "outputs": [
    {
     "data": {
      "text/plain": [
       "1.0"
      ]
     },
     "execution_count": 86,
     "metadata": {},
     "output_type": "execute_result"
    }
   ],
   "source": [
    "log10(10)"
   ]
  },
  {
   "cell_type": "markdown",
   "metadata": {},
   "source": [
    "- **log1p(x)**: Return the natural logarithm of 1+x (base e).\n",
    "    - The result is computed in a way which is accurate for x near zero."
   ]
  },
  {
   "cell_type": "code",
   "execution_count": null,
   "metadata": {},
   "outputs": [],
   "source": [
    "log1p(10)"
   ]
  },
  {
   "cell_type": "markdown",
   "metadata": {},
   "source": [
    "- **log2(x)**: Return the base 2 logarithm of x.\n",
    "    "
   ]
  },
  {
   "cell_type": "code",
   "execution_count": 87,
   "metadata": {},
   "outputs": [
    {
     "data": {
      "text/plain": [
       "1.0"
      ]
     },
     "execution_count": 87,
     "metadata": {},
     "output_type": "execute_result"
    }
   ],
   "source": [
    "log2(2)"
   ]
  },
  {
   "cell_type": "markdown",
   "metadata": {},
   "source": [
    "## [cmath](https://docs.python.org/3.7/library/cmath.html)"
   ]
  },
  {
   "cell_type": "markdown",
   "metadata": {},
   "source": [
    "cmath.phase(x)|Return the phase of x (also known as the argument of x), as a float. phase(x) is equivalent to math.atan2(x.imag, x.real). The result lies in the range [-π, π], and the branch cut for this operation lies along the negative real axis, continuous from above. On systems with support for signed zeros (which includes most systems in current use), this means that the sign of the result is the same as the sign of x.imag, even when x.imag is zero:\n",
    "\n",
    "Note The modulus (absolute value) of a complex number x can be computed using the built-in abs() function. There is no separate cmath module function for this operation.\n",
    "cmath.polar(x)|Return the representation of x in polar coordinates. Returns a pair (r, phi) where r is the modulus of x and phi is the phase of x. polar(x) is equivalent to (abs(x), phase(x)).\n",
    "|cmath.rect(r, phi)|Return the complex number x with polar coordinates r and phi. Equivalent to r * (math.cos(phi) + math.sin(phi)*1j).\n",
    "\n",
    "**2. Power and logarithmic functions**\\\n",
    "\n",
    "|Function| Description|\n",
    "|:-----|:------|\n",
    "|cmath.exp(x)|Return e raised to the power x, where e is the base of natural logarithms.\n",
    "|cmath.log(x[, base])|Returns the logarithm of x to the given base. If the base is not specified, returns the natural logarithm of x. There is one branch cut, from 0 along the negative real axis to -∞, continuous from above.\n",
    "|cmath.log10(x)|Return the base-10 logarithm of x. This has the same branch cut as log().\n",
    "|cmath.sqrt(x)|Return the square root of x. This has the same branch cut as log().\n",
    "\n",
    "**3. Trigonometric functions**\n",
    "\n",
    "|Function| Description|\n",
    "|:-----|:------|\n",
    "|cmath.acos(x)|Return the arc cosine of x. There are two branch cuts: One extends right from 1 along the real axis to ∞, |continuous from below. The other extends left from -1 along the real axis to -∞, continuous from above.\n",
    "|cmath.asin(x)|Return the arc sine of x. This has the same branch cuts as acos().\n",
    "|cmath.atan(x)|Return the arc tangent of x. There are two branch cuts: One extends from 1j along the imaginary axis to ∞j, continuous from the right. The other extends from -1j along the imaginary axis to -∞j, continuous from the left.\n",
    "|cmath.cos(x)|Return the cosine of x.\n",
    "|cmath.sin(x)|Return the sine of x.\n",
    "|cmath.tan(x)|Return the tangent of x.\n",
    "\n",
    "\n",
    "**4. Hyperbolic functions**\n",
    "\n",
    "|Function| Description|\n",
    "|:-----|:------|\n",
    "|cmath.acosh(x)|Return the inverse hyperbolic cosine of x. There is one branch cut, extending left from 1 along the real axis to -∞, continuous from above.\n",
    "|cmath.asinh(x)|Return the inverse hyperbolic sine of x. There are two branch cuts: One extends from 1j along the imaginary axis to ∞j, continuous from the right. The other extends from -1j along the imaginary axis to -∞j, continuous from the left.\n",
    "|cmath.atanh(x)|Return the inverse hyperbolic tangent of x. There are two branch cuts: One extends from 1 along the real axis to ∞, continuous from below. The other extends from -1 along the real axis to -∞, continuous from above.\n",
    "|cmath.cosh(x)|Return the hyperbolic cosine of x.\n",
    "|cmath.sinh(x)|Return the hyperbolic sine of x.\n",
    "|cmath.tanh(x)|Return the hyperbolic tangent of x.\n",
    "\n",
    "**5. Classification functions**\n",
    "\n",
    "|Function| Description|\n",
    "|:-----|:------|\n",
    "|cmath.isfinite(x)|Return True if both the real and imaginary parts of x are finite, and False otherwise.\n",
    "|cmath.isinf(x)|Return True if either the real or the imaginary part of x is an infinity, and False otherwise.\n",
    "|cmath.isnan(x)|Return True if either the real or the imaginary part of x is a NaN, and False otherwise.\n",
    "|cmath.isclose(a, b, *, rel_tol=1e-09, abs_tol=0.0)|Return True if the values a and b are close to each other and False otherwise.\n",
    "\n",
    "\n",
    "**6. Constants**\n",
    "\n",
    "|Function| Description|\n",
    "|:-----|:------|\n",
    "|cmath.pi|The mathematical constant π, as a float.\n",
    "|cmath.e|The mathematical constant e, as a float.\n",
    "|cmath.tau|The mathematical constant τ, as a float.\n",
    "|cmath.inf|Floating-point positive infinity. Equivalent to float('inf').\n",
    "|cmath.infj|Complex number with zero real part and positive infinity imaginary part. Equivalent to complex(0.0, float('inf')).\n",
    "|cmath.nan|A floating-point “not a number” (NaN) value. Equivalent to float('nan').\n",
    "|cmath.nanj|Complex number with zero real part and NaN imaginary part. Equivalent to complex(0.0, float('nan'))."
   ]
  },
  {
   "cell_type": "markdown",
   "metadata": {},
   "source": [
    "## 4. decimal"
   ]
  },
  {
   "cell_type": "code",
   "execution_count": 98,
   "metadata": {},
   "outputs": [],
   "source": [
    "from decimal import *"
   ]
  },
  {
   "cell_type": "code",
   "execution_count": 99,
   "metadata": {},
   "outputs": [
    {
     "data": {
      "text/plain": [
       "Decimal('10')"
      ]
     },
     "execution_count": 99,
     "metadata": {},
     "output_type": "execute_result"
    }
   ],
   "source": [
    "Decimal('10')"
   ]
  },
  {
   "cell_type": "code",
   "execution_count": 100,
   "metadata": {},
   "outputs": [
    {
     "data": {
      "text/plain": [
       "Decimal('3.14')"
      ]
     },
     "execution_count": 100,
     "metadata": {},
     "output_type": "execute_result"
    }
   ],
   "source": [
    "Decimal('3.14')"
   ]
  },
  {
   "cell_type": "code",
   "execution_count": 102,
   "metadata": {},
   "outputs": [
    {
     "data": {
      "text/plain": [
       "Decimal('3.142857142857142793701541449991054832935333251953125')"
      ]
     },
     "execution_count": 102,
     "metadata": {},
     "output_type": "execute_result"
    }
   ],
   "source": [
    "Decimal(22/7)"
   ]
  },
  {
   "cell_type": "code",
   "execution_count": 103,
   "metadata": {},
   "outputs": [
    {
     "data": {
      "text/plain": [
       "Decimal('3.140000000000000124344978758017532527446746826171875')"
      ]
     },
     "execution_count": 103,
     "metadata": {},
     "output_type": "execute_result"
    }
   ],
   "source": [
    "Decimal(3.14)"
   ]
  },
  {
   "cell_type": "markdown",
   "metadata": {},
   "source": [
    "## 5. fractions"
   ]
  },
  {
   "cell_type": "code",
   "execution_count": 89,
   "metadata": {},
   "outputs": [],
   "source": [
    "from fractions import Fraction"
   ]
  },
  {
   "cell_type": "code",
   "execution_count": 90,
   "metadata": {},
   "outputs": [
    {
     "data": {
      "text/plain": [
       "Fraction(-8, 5)"
      ]
     },
     "execution_count": 90,
     "metadata": {},
     "output_type": "execute_result"
    }
   ],
   "source": [
    "Fraction(16, -10)"
   ]
  },
  {
   "cell_type": "code",
   "execution_count": 91,
   "metadata": {},
   "outputs": [
    {
     "data": {
      "text/plain": [
       "Fraction(123, 1)"
      ]
     },
     "execution_count": 91,
     "metadata": {},
     "output_type": "execute_result"
    }
   ],
   "source": [
    "Fraction(123)"
   ]
  },
  {
   "cell_type": "code",
   "execution_count": 92,
   "metadata": {},
   "outputs": [
    {
     "data": {
      "text/plain": [
       "Fraction(0, 1)"
      ]
     },
     "execution_count": 92,
     "metadata": {},
     "output_type": "execute_result"
    }
   ],
   "source": [
    "Fraction()"
   ]
  },
  {
   "cell_type": "code",
   "execution_count": 93,
   "metadata": {},
   "outputs": [
    {
     "data": {
      "text/plain": [
       "Fraction(3, 7)"
      ]
     },
     "execution_count": 93,
     "metadata": {},
     "output_type": "execute_result"
    }
   ],
   "source": [
    "Fraction('3/7')"
   ]
  },
  {
   "cell_type": "code",
   "execution_count": 94,
   "metadata": {},
   "outputs": [
    {
     "data": {
      "text/plain": [
       "Fraction(1414213, 1000000)"
      ]
     },
     "execution_count": 94,
     "metadata": {},
     "output_type": "execute_result"
    }
   ],
   "source": [
    "Fraction('1.414213')"
   ]
  },
  {
   "cell_type": "code",
   "execution_count": 95,
   "metadata": {},
   "outputs": [
    {
     "data": {
      "text/plain": [
       "Fraction(7, 1000000)"
      ]
     },
     "execution_count": 95,
     "metadata": {},
     "output_type": "execute_result"
    }
   ],
   "source": [
    "Fraction('7e-6')"
   ]
  },
  {
   "cell_type": "markdown",
   "metadata": {},
   "source": [
    "## 6. random\n",
    "\n",
    "|Method|Descriptio|\n",
    "|:---|:---|\n",
    "|seed()|Initialize the random number generator\n",
    "|getstate()|Returns the current internal state of the random number generator\n",
    "|setstate()|Restores the internal state of the random number generator\n",
    "|getrandbits()|Returns a number representing the random bits\n",
    "|randrange()|Returns a random number between the given range\n",
    "|randint()|Returns a random number between the given range\n",
    "|choice()|Returns a random element from the given sequence\n",
    "|choices()|Returns a list with a random selection from the given sequence\n",
    "|shuffle()|Takes a sequence and returns the sequence in a random order\n",
    "|sample()|Returns a given sample of a sequence\n",
    "|random()|Returns a random float number between 0 and 1\n",
    "|uniform()|Returns a random float number between two given parameters\n",
    "|triangular()|Returns a random float number between two given parameters, you can also set a mode parameter to specify the midpoint between the two other parameters\n",
    "|betavariate()|Returns a random float number between 0 and 1 based on the Beta distribution (used in statistics)\n",
    "|expovariate()|Returns a random float number based on the Exponential distribution (used in statistics)\n",
    "|gammavariate()|Returns a random float number based on the Gamma distribution (used in statistics)\n",
    "|gauss()|Returns a random float number based on the Gaussian distribution (used in probability theories)\n",
    "|lognormvariate()|Returns a random float number based on a log-normal distribution (used in probability theories)\n",
    "|normalvariate()|Returns a random float number based on the normal distribution (used in probability theories)\n",
    "|vonmisesvariate()|Returns a random float number based on the von Mises distribution (used in directional statistics)\n",
    "|paretovariate()|Returns a random float number based on the Pareto distribution (used in probability theories)\n",
    "|weibullvariate()|Returns a random float number based on the Weibull distribution (used in statistics)"
   ]
  },
  {
   "cell_type": "code",
   "execution_count": 104,
   "metadata": {},
   "outputs": [],
   "source": [
    "import random"
   ]
  },
  {
   "cell_type": "code",
   "execution_count": 124,
   "metadata": {},
   "outputs": [
    {
     "data": {
      "text/plain": [
       "[6, 4, 3, 1, 2, 5]"
      ]
     },
     "execution_count": 124,
     "metadata": {},
     "output_type": "execute_result"
    }
   ],
   "source": [
    "sample_list=[1, 2, 3, 4, 5, 6]\n",
    "random.shuffle(sample_list)\n",
    "sample_list"
   ]
  },
  {
   "cell_type": "code",
   "execution_count": 118,
   "metadata": {},
   "outputs": [
    {
     "data": {
      "text/plain": [
       "10"
      ]
     },
     "execution_count": 118,
     "metadata": {},
     "output_type": "execute_result"
    }
   ],
   "source": [
    "random.choice([1, 4, 8, 10, 3])"
   ]
  },
  {
   "cell_type": "code",
   "execution_count": 116,
   "metadata": {},
   "outputs": [
    {
     "data": {
      "text/plain": [
       "20"
      ]
     },
     "execution_count": 116,
     "metadata": {},
     "output_type": "execute_result"
    }
   ],
   "source": [
    "random.randrange(20, 50, 3)"
   ]
  },
  {
   "cell_type": "code",
   "execution_count": 120,
   "metadata": {},
   "outputs": [],
   "source": [
    "random.seed(5)"
   ]
  }
 ],
 "metadata": {
  "kernelspec": {
   "display_name": "Python 3",
   "language": "python",
   "name": "python3"
  },
  "language_info": {
   "codemirror_mode": {
    "name": "ipython",
    "version": 3
   },
   "file_extension": ".py",
   "mimetype": "text/x-python",
   "name": "python",
   "nbconvert_exporter": "python",
   "pygments_lexer": "ipython3",
   "version": "3.7.8"
  }
 },
 "nbformat": 4,
 "nbformat_minor": 4
}
