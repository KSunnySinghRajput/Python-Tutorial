{
 "cells": [
  {
   "cell_type": "markdown",
   "metadata": {},
   "source": [
    "- Type\n",
    "\n",
    "        1. Integer\n",
    "        2. Float\n",
    "        3. Complex\n",
    "\n",
    "- Operation\n",
    "\n",
    "        1. numbers              — Numeric abstract base classes\n",
    "        2. math                 — Mathematical functions\n",
    "        3. cmath                — Mathematical functions for complex numbers\n",
    "        4. decimal              — Decimal fixed point and floating point arithmetic\n",
    "        5. fractions            — Rational numbers\n",
    "        6. random               — Generate pseudo-random numbers\n",
    "        7. statistics           — Mathematical statistics functions"
   ]
  },
  {
   "cell_type": "markdown",
   "metadata": {},
   "source": [
    "# <center> Numeric types</center> "
   ]
  },
  {
   "cell_type": "code",
   "execution_count": null,
   "metadata": {},
   "outputs": [],
   "source": [
    "#Input\n",
    "b2=int(input(\"Enter int  :  \"))  "
   ]
  },
  {
   "cell_type": "markdown",
   "metadata": {},
   "source": [
    "## 1. int( )"
   ]
  },
  {
   "cell_type": "code",
   "execution_count": 233,
   "metadata": {},
   "outputs": [],
   "source": [
    "#help(int)"
   ]
  },
  {
   "cell_type": "code",
   "execution_count": 234,
   "metadata": {},
   "outputs": [
    {
     "data": {
      "text/plain": [
       "int"
      ]
     },
     "execution_count": 234,
     "metadata": {},
     "output_type": "execute_result"
    }
   ],
   "source": [
    "b=int()\n",
    "type(b)"
   ]
  },
  {
   "cell_type": "code",
   "execution_count": 235,
   "metadata": {},
   "outputs": [
    {
     "name": "stdout",
     "output_type": "stream",
     "text": [
      "integer values : 10 10 10\n"
     ]
    }
   ],
   "source": [
    "# Calling function\n",
    "val = int(10) # integer value\n",
    "val2 = int(10.52) # float value\n",
    "val3 = int('10') # string value\n",
    "# Displaying result\n",
    "print(\"integer values :\",val, val2, val3) "
   ]
  },
  {
   "cell_type": "code",
   "execution_count": 236,
   "metadata": {},
   "outputs": [
    {
     "data": {
      "text/plain": [
       "10"
      ]
     },
     "execution_count": 236,
     "metadata": {},
     "output_type": "execute_result"
    }
   ],
   "source": [
    "b1=10\n",
    "b1"
   ]
  },
  {
   "cell_type": "code",
   "execution_count": 237,
   "metadata": {},
   "outputs": [
    {
     "data": {
      "text/plain": [
       "int"
      ]
     },
     "execution_count": 237,
     "metadata": {},
     "output_type": "execute_result"
    }
   ],
   "source": [
    "type(b1)"
   ]
  },
  {
   "cell_type": "markdown",
   "metadata": {},
   "source": [
    "## c. float( )"
   ]
  },
  {
   "cell_type": "code",
   "execution_count": null,
   "metadata": {},
   "outputs": [],
   "source": [
    "#help(float)"
   ]
  },
  {
   "cell_type": "code",
   "execution_count": null,
   "metadata": {},
   "outputs": [],
   "source": [
    "c=float()\n",
    "type(c)"
   ]
  },
  {
   "cell_type": "code",
   "execution_count": null,
   "metadata": {},
   "outputs": [],
   "source": [
    "c1=10.5\n",
    "print(c1)\n",
    "c1"
   ]
  },
  {
   "cell_type": "code",
   "execution_count": null,
   "metadata": {},
   "outputs": [],
   "source": [
    "type(c1)"
   ]
  },
  {
   "cell_type": "code",
   "execution_count": null,
   "metadata": {},
   "outputs": [],
   "source": [
    "c2 = float(input(\"Enter FLOAT  :  \"))\n",
    "c2"
   ]
  },
  {
   "cell_type": "code",
   "execution_count": null,
   "metadata": {},
   "outputs": [],
   "source": []
  },
  {
   "cell_type": "code",
   "execution_count": null,
   "metadata": {},
   "outputs": [],
   "source": []
  },
  {
   "cell_type": "code",
   "execution_count": null,
   "metadata": {},
   "outputs": [],
   "source": []
  },
  {
   "cell_type": "code",
   "execution_count": null,
   "metadata": {},
   "outputs": [],
   "source": []
  },
  {
   "cell_type": "markdown",
   "metadata": {},
   "source": [
    "## d. complex( )"
   ]
  },
  {
   "cell_type": "code",
   "execution_count": 2,
   "metadata": {},
   "outputs": [],
   "source": [
    "#help(complex)"
   ]
  },
  {
   "cell_type": "code",
   "execution_count": null,
   "metadata": {},
   "outputs": [],
   "source": [
    "d=complex()\n",
    "type(d)"
   ]
  },
  {
   "cell_type": "code",
   "execution_count": null,
   "metadata": {},
   "outputs": [],
   "source": [
    "# Python complex() function example\n",
    "# Calling function\n",
    "a = complex(1) # Passing single parameter\n",
    "b = complex(1,2) # Passing both parameters\n",
    "# Displaying result\n",
    "print(a)\n",
    "print(b) "
   ]
  },
  {
   "cell_type": "code",
   "execution_count": null,
   "metadata": {},
   "outputs": [],
   "source": [
    "d1=2.0 + 2.3j\n",
    "print(d1)\n",
    "d1"
   ]
  },
  {
   "cell_type": "code",
   "execution_count": null,
   "metadata": {},
   "outputs": [],
   "source": [
    "#Complex\n",
    "x = 3+5j\n",
    "y = 5j\n",
    "z = -5j"
   ]
  },
  {
   "cell_type": "code",
   "execution_count": null,
   "metadata": {},
   "outputs": [],
   "source": [
    "type(d1)"
   ]
  },
  {
   "cell_type": "code",
   "execution_count": null,
   "metadata": {},
   "outputs": [],
   "source": [
    "d2 = complex(input(\"Enter COMPILE  :  \"))     #2+2.3j\n",
    "d2"
   ]
  },
  {
   "cell_type": "markdown",
   "metadata": {},
   "source": [
    "# <center>Type Casting</center>\n",
    "\n",
    "\n",
    "1. int()     - Integer\n",
    "2. float()   - Float Value\n",
    "3. chr()     - Charecter Value\n",
    "4. complex"
   ]
  },
  {
   "cell_type": "code",
   "execution_count": null,
   "metadata": {},
   "outputs": [],
   "source": [
    "#Integers:\n",
    "int(1)   # x will be 1"
   ]
  },
  {
   "cell_type": "code",
   "execution_count": null,
   "metadata": {},
   "outputs": [],
   "source": [
    "int(2.8) # y will be 2"
   ]
  },
  {
   "cell_type": "code",
   "execution_count": null,
   "metadata": {},
   "outputs": [],
   "source": [
    "int(\"3\") # z will be 3"
   ]
  },
  {
   "cell_type": "code",
   "execution_count": null,
   "metadata": {},
   "outputs": [],
   "source": [
    "#Floats:\n",
    "float(1)     # x will be 1.0"
   ]
  },
  {
   "cell_type": "code",
   "execution_count": null,
   "metadata": {},
   "outputs": [],
   "source": [
    "float(2.8)   # y will be 2.8"
   ]
  },
  {
   "cell_type": "code",
   "execution_count": null,
   "metadata": {},
   "outputs": [],
   "source": [
    "float(\"3\")   # z will be 3.0"
   ]
  },
  {
   "cell_type": "code",
   "execution_count": null,
   "metadata": {},
   "outputs": [],
   "source": [
    "float(\"4.2\") # w will be 4.2"
   ]
  },
  {
   "cell_type": "code",
   "execution_count": null,
   "metadata": {},
   "outputs": [],
   "source": [
    "#Strings:\n",
    "str(\"s1\") # x will be 's1'"
   ]
  },
  {
   "cell_type": "code",
   "execution_count": null,
   "metadata": {},
   "outputs": [],
   "source": [
    "str(2)    # y will be '2'"
   ]
  },
  {
   "cell_type": "code",
   "execution_count": null,
   "metadata": {},
   "outputs": [],
   "source": [
    "str(3.0)  # z will be '3.0'"
   ]
  },
  {
   "cell_type": "markdown",
   "metadata": {},
   "source": [
    "**Note :**\n",
    "    \n",
    " - can't convert complex to int \n",
    " - invalid literal for int() with base 10:"
   ]
  },
  {
   "cell_type": "markdown",
   "metadata": {},
   "source": [
    "# <center>Built-in Functions</center>\n"
   ]
  },
  {
   "cell_type": "code",
   "execution_count": null,
   "metadata": {},
   "outputs": [],
   "source": [
    "#help(__builtins__)"
   ]
  },
  {
   "cell_type": "markdown",
   "metadata": {},
   "source": [
    "## 3. Math fuction"
   ]
  },
  {
   "cell_type": "markdown",
   "metadata": {},
   "source": [
    "**abs()**"
   ]
  },
  {
   "cell_type": "code",
   "execution_count": null,
   "metadata": {},
   "outputs": [],
   "source": [
    "# help(abs)"
   ]
  },
  {
   "cell_type": "code",
   "execution_count": 64,
   "metadata": {},
   "outputs": [
    {
     "name": "stdout",
     "output_type": "stream",
     "text": [
      "Absolute value of -40 is: 20\n"
     ]
    }
   ],
   "source": [
    "print('Absolute value of -40 is:', abs(-20))"
   ]
  },
  {
   "cell_type": "code",
   "execution_count": 66,
   "metadata": {},
   "outputs": [
    {
     "name": "stdout",
     "output_type": "stream",
     "text": [
      "Absolute value of -40.83 is: 20.83\n"
     ]
    }
   ],
   "source": [
    "print('Absolute value of -40.83 is:', abs(-20.83))"
   ]
  },
  {
   "cell_type": "markdown",
   "metadata": {},
   "source": [
    "**sum()**"
   ]
  },
  {
   "cell_type": "code",
   "execution_count": null,
   "metadata": {},
   "outputs": [],
   "source": [
    "#help(sum)"
   ]
  },
  {
   "cell_type": "code",
   "execution_count": 62,
   "metadata": {},
   "outputs": [
    {
     "data": {
      "text/plain": [
       "7"
      ]
     },
     "execution_count": 62,
     "metadata": {},
     "output_type": "execute_result"
    }
   ],
   "source": [
    "sum([1, 2,4 ])"
   ]
  },
  {
   "cell_type": "code",
   "execution_count": 61,
   "metadata": {},
   "outputs": [
    {
     "data": {
      "text/plain": [
       "17"
      ]
     },
     "execution_count": 61,
     "metadata": {},
     "output_type": "execute_result"
    }
   ],
   "source": [
    "sum([1, 2, 4], 10)"
   ]
  },
  {
   "cell_type": "markdown",
   "metadata": {},
   "source": [
    "**round()**"
   ]
  },
  {
   "cell_type": "code",
   "execution_count": null,
   "metadata": {},
   "outputs": [],
   "source": [
    "#help(round)"
   ]
  },
  {
   "cell_type": "code",
   "execution_count": 58,
   "metadata": {},
   "outputs": [
    {
     "data": {
      "text/plain": [
       "10"
      ]
     },
     "execution_count": 58,
     "metadata": {},
     "output_type": "execute_result"
    }
   ],
   "source": [
    "round(10)  "
   ]
  },
  {
   "cell_type": "code",
   "execution_count": 59,
   "metadata": {},
   "outputs": [
    {
     "data": {
      "text/plain": [
       "11"
      ]
     },
     "execution_count": 59,
     "metadata": {},
     "output_type": "execute_result"
    }
   ],
   "source": [
    "round(10.8)"
   ]
  },
  {
   "cell_type": "code",
   "execution_count": 60,
   "metadata": {},
   "outputs": [
    {
     "data": {
      "text/plain": [
       "7"
      ]
     },
     "execution_count": 60,
     "metadata": {},
     "output_type": "execute_result"
    }
   ],
   "source": [
    "round(6.6)"
   ]
  },
  {
   "cell_type": "markdown",
   "metadata": {},
   "source": [
    "**pow() / Root**"
   ]
  },
  {
   "cell_type": "code",
   "execution_count": null,
   "metadata": {},
   "outputs": [],
   "source": [
    "#help(pow)\n",
    "# positive x, positive y (x**y)  "
   ]
  },
  {
   "cell_type": "code",
   "execution_count": 67,
   "metadata": {},
   "outputs": [
    {
     "data": {
      "text/plain": [
       "16"
      ]
     },
     "execution_count": 67,
     "metadata": {},
     "output_type": "execute_result"
    }
   ],
   "source": [
    "pow(4, 2)"
   ]
  },
  {
   "cell_type": "code",
   "execution_count": 68,
   "metadata": {},
   "outputs": [
    {
     "data": {
      "text/plain": [
       "16"
      ]
     },
     "execution_count": 68,
     "metadata": {},
     "output_type": "execute_result"
    }
   ],
   "source": [
    "pow(-4, 2)"
   ]
  },
  {
   "cell_type": "code",
   "execution_count": 69,
   "metadata": {},
   "outputs": [
    {
     "data": {
      "text/plain": [
       "0.0625"
      ]
     },
     "execution_count": 69,
     "metadata": {},
     "output_type": "execute_result"
    }
   ],
   "source": [
    "pow(4, -2)"
   ]
  },
  {
   "cell_type": "code",
   "execution_count": 70,
   "metadata": {},
   "outputs": [
    {
     "data": {
      "text/plain": [
       "0.0625"
      ]
     },
     "execution_count": 70,
     "metadata": {},
     "output_type": "execute_result"
    }
   ],
   "source": [
    "pow(-4, -2)"
   ]
  },
  {
   "cell_type": "markdown",
   "metadata": {},
   "source": [
    "**divmod()**"
   ]
  },
  {
   "cell_type": "code",
   "execution_count": null,
   "metadata": {},
   "outputs": [],
   "source": [
    "#help(divmod)"
   ]
  },
  {
   "cell_type": "code",
   "execution_count": 74,
   "metadata": {},
   "outputs": [
    {
     "data": {
      "text/plain": [
       "(5, 1)"
      ]
     },
     "execution_count": 74,
     "metadata": {},
     "output_type": "execute_result"
    }
   ],
   "source": [
    "divmod(11,2)"
   ]
  },
  {
   "cell_type": "code",
   "execution_count": 75,
   "metadata": {},
   "outputs": [
    {
     "data": {
      "text/plain": [
       "5"
      ]
     },
     "execution_count": 75,
     "metadata": {},
     "output_type": "execute_result"
    }
   ],
   "source": [
    "divmod(11,2)[0]"
   ]
  },
  {
   "cell_type": "code",
   "execution_count": 76,
   "metadata": {},
   "outputs": [
    {
     "data": {
      "text/plain": [
       "1"
      ]
     },
     "execution_count": 76,
     "metadata": {},
     "output_type": "execute_result"
    }
   ],
   "source": [
    "divmod(11,2)[1]"
   ]
  },
  {
   "cell_type": "markdown",
   "metadata": {},
   "source": [
    "**eval()**"
   ]
  },
  {
   "cell_type": "code",
   "execution_count": null,
   "metadata": {},
   "outputs": [],
   "source": [
    "#help(eval)"
   ]
  },
  {
   "cell_type": "code",
   "execution_count": 77,
   "metadata": {},
   "outputs": [
    {
     "data": {
      "text/plain": [
       "9"
      ]
     },
     "execution_count": 77,
     "metadata": {},
     "output_type": "execute_result"
    }
   ],
   "source": [
    "x = 8\n",
    "eval('x + 1')"
   ]
  },
  {
   "cell_type": "markdown",
   "metadata": {},
   "source": [
    "# <center>Other Lib</center>"
   ]
  },
  {
   "cell_type": "code",
   "execution_count": null,
   "metadata": {},
   "outputs": [],
   "source": [
    "https://mathworld.wolfram.com/topics/CombinatorialGeometry.html\n",
    "    \n",
    "https://www.google.com/url?sa=i&url=https%3A%2F%2Fwww.jamesbrennan.org%2Falgebra%2Fnumbers%2Freal_number_system.htm&psig=AOvVaw0K2qi1v15kWLI96oGJ4lHI&ust=1596723933259000&source=images&cd=vfe&ved=0CAIQjRxqFwoTCPDSraqihOsCFQAAAAAdAAAAABAO"
   ]
  },
  {
   "cell_type": "markdown",
   "metadata": {},
   "source": [
    "## 1. numbers\n",
    "\n",
    "- A complex number is a number that can be expressed in the form a + bi, where a and b are real numbers, and i satisfies the equation i2 = −1. Because no real number satisfies this equation, i is called an imaginary number. For the complex number a + bi, a is called the real part, and b is called the imaginary part.\n",
    "\n",
    "- Number\n",
    "    - Complex\n",
    "        - Real\n",
    "            - Rational\n",
    "                 - Integral"
   ]
  },
  {
   "cell_type": "code",
   "execution_count": null,
   "metadata": {},
   "outputs": [],
   "source": [
    "import numbers\n",
    "help(numbers)"
   ]
  },
  {
   "cell_type": "code",
   "execution_count": null,
   "metadata": {},
   "outputs": [],
   "source": []
  },
  {
   "cell_type": "code",
   "execution_count": null,
   "metadata": {},
   "outputs": [],
   "source": []
  },
  {
   "cell_type": "markdown",
   "metadata": {},
   "source": [
    "## 2. math"
   ]
  },
  {
   "cell_type": "code",
   "execution_count": 1,
   "metadata": {},
   "outputs": [],
   "source": [
    "from math import *"
   ]
  },
  {
   "cell_type": "code",
   "execution_count": 8,
   "metadata": {},
   "outputs": [
    {
     "name": "stdout",
     "output_type": "stream",
     "text": [
      "pi   : 3.141592653589793\n",
      "e    : 2.718281828459045\n",
      "inf  : inf\n",
      "nan  : nan\n",
      "tau  : 6.283185307179586\n"
     ]
    }
   ],
   "source": [
    "print(\"pi   :\",pi)        #3.141592653589793\n",
    "print(\"e    :\",e)          #2.718281828459045\n",
    "print(\"inf  :\",inf)   #inf\n",
    "print(\"nan  :\",nan)      #nan\n",
    "print(\"tau  :\",tau)      #6.283185307179586"
   ]
  },
  {
   "cell_type": "code",
   "execution_count": null,
   "metadata": {},
   "outputs": [],
   "source": [
    "# isfinite(x, /)  : Return True if x is neither an infinity nor a NaN, and False otherwise.\n",
    "# isinf(x, /)     : Return True if x is a positive or negative infinity, and False otherwise.\n",
    "# isnan(x, /)     : Return True if x is a NaN (not a number), and False otherwise."
   ]
  },
  {
   "cell_type": "markdown",
   "metadata": {},
   "source": [
    "**Basic**"
   ]
  },
  {
   "cell_type": "code",
   "execution_count": null,
   "metadata": {},
   "outputs": [],
   "source": [
    "#floor(x, /):Return the floor of x as an Integral.\n",
    "#This is the largest integer <= x."
   ]
  },
  {
   "cell_type": "code",
   "execution_count": null,
   "metadata": {},
   "outputs": [],
   "source": [
    "#fmod(x, y, /):Return fmod(x, y), according to platform C.\n",
    "#x % y may differ."
   ]
  },
  {
   "cell_type": "code",
   "execution_count": null,
   "metadata": {},
   "outputs": [],
   "source": [
    "#exp(x, /):Return e raised to the power of x."
   ]
  },
  {
   "cell_type": "code",
   "execution_count": null,
   "metadata": {},
   "outputs": [],
   "source": [
    "#sqrt(x, /): Return the square root of x."
   ]
  },
  {
   "cell_type": "code",
   "execution_count": null,
   "metadata": {},
   "outputs": [],
   "source": [
    "#modf(x, /) : Return the fractional and integer parts of x.\n",
    "        \n",
    "        Both results carry the sign of x and are floats."
   ]
  },
  {
   "cell_type": "code",
   "execution_count": null,
   "metadata": {},
   "outputs": [],
   "source": [
    "#factorial(x, /):Find x!.\n",
    "factorial(5)"
   ]
  },
  {
   "cell_type": "markdown",
   "metadata": {},
   "source": [
    "### Trignomatric"
   ]
  },
  {
   "cell_type": "code",
   "execution_count": 25,
   "metadata": {},
   "outputs": [],
   "source": [
    "radList=[\n",
    "0,0.017452,0.034899,0.052336,0.069756,0.087156,0.104528,0.121869,0.139173,0.156434,\n",
    "0.173648,0.190809,0.207912,0.224951,0.241922,0.258819,0.275637,0.292372,0.309017,0.325568,\n",
    " 0.34202,0.358368,0.374607,0.390731,0.406737,0.422618,0.438371,0.45399,0.469472,0.48481,\n",
    "0.5,0.515038,0.529919,0.544639,0.559193,0.573576,0.587785,0.601815,0.615661,0.62932,\n",
    "0.642788,0.656059,0.669131,0.681998,0.694658,0.707107,0.71934,0.731354,0.743145,0.75471,\n",
    "0.766044,0.777146,0.788011,0.798636,0.809017,0.819152,0.829038,0.838671,0.848048,0.857167,\n",
    "0.866025,0.87462,0.882948,0.891007,0.898794,0.906308,0.913545,0.920505,0.927184,0.93358,\n",
    "0.939693,0.945519,0.951057,0.956305,0.961262,0.965926,0.970296,0.97437,0.978148,0.981627,\n",
    "0.984808,0.987688,0.990268,0.992546,0.994522,0.996195,0.997564,0.99863,0.999391,0.999848,1]"
   ]
  },
  {
   "cell_type": "code",
   "execution_count": 26,
   "metadata": {},
   "outputs": [],
   "source": [
    "degList=list(range(0,90,1))"
   ]
  },
  {
   "cell_type": "code",
   "execution_count": 24,
   "metadata": {},
   "outputs": [],
   "source": [
    "deg_rad_chat={deg:rad for deg, rad in zip(degList,radList)}\n",
    "\n",
    "def sinfun(deg=None,rad=None):\n",
    "    if deg:\n",
    "        \n",
    "        \n",
    "    elif rad:\n",
    "    \n",
    "    else \n",
    "    \n",
    "    \n",
    "sinfun(20)"
   ]
  },
  {
   "cell_type": "code",
   "execution_count": null,
   "metadata": {},
   "outputs": [],
   "source": []
  },
  {
   "cell_type": "markdown",
   "metadata": {},
   "source": [
    "π rad = 180°\n",
    "\n",
    "1Rad × 180/π = 57.296Deg\n",
    "\n",
    "α(degrees) = α(radians) × 180° / π\n",
    "\n",
    "degrees = radians × 180° / π\n",
    "\n",
    "<table class=\"ntable\">\n",
    "<tbody><tr>\n",
    "<th>Radians (rad)</th>\n",
    "<th>Radians (rad)</th>\n",
    "<th>Degrees (°)</th>\n",
    "</tr>\n",
    "<tr>\n",
    "<td>0 rad</td>\n",
    "<td>0 rad</td>\n",
    "<td>0°</td>\n",
    "</tr>\n",
    "<tr>\n",
    "<td>π/6 rad</td>\n",
    "<td>0.5235987756 rad</td>\n",
    "<td>30°</td>\n",
    "</tr>\n",
    "<tr>\n",
    "<td>π/4 rad</td>\n",
    "<td>0.7853981634 rad</td>\n",
    "<td>45°</td>\n",
    "</tr>\n",
    "<tr>\n",
    "<td>π/3 rad</td>\n",
    "<td>1.0471975512 rad</td>\n",
    "<td>60°</td>\n",
    "</tr>\n",
    "<tr>\n",
    "<td>π/2 rad</td>\n",
    "<td>1.5707963268 rad</td>\n",
    "<td>90°</td>\n",
    "</tr>\n",
    "<tr>\n",
    "<td>2π/3 rad</td>\n",
    "<td>2.0943951024 rad</td>\n",
    "<td>120°</td>\n",
    "</tr>\n",
    "<tr>\n",
    "<td>3π/4 rad</td>\n",
    "<td>2.3561944902 rad</td>\n",
    "<td>135°</td>\n",
    "</tr>\n",
    "<tr>\n",
    "<td>5π/6 rad</td>\n",
    "<td>2.6179938780 rad</td>\n",
    "<td>150°</td>\n",
    "</tr>\n",
    "<tr>\n",
    "<td>π rad</td>\n",
    "<td>3.1415926536 rad</td>\n",
    "<td>180°</td>\n",
    "</tr>\n",
    "<tr>\n",
    "<td>3π/2 rad</td>\n",
    "<td>4.7123889804 rad</td>\n",
    "<td>270°</td>\n",
    "</tr>\n",
    "<tr>\n",
    "<td>2π rad</td>\n",
    "<td>6.2831853072 rad</td>\n",
    "<td>360°</td>\n",
    "</tr>\n",
    "</tbody></table>\n",
    "\n",
    "#degrees(x, /):Convert angle x from radians to degrees.\n",
    "degrees(1.5707963267948966)\n",
    "\n",
    "#radians(x, /):Convert angle x from degrees to radians.\n",
    "radians(90)"
   ]
  },
  {
   "cell_type": "markdown",
   "metadata": {},
   "source": [
    "**rad**"
   ]
  },
  {
   "cell_type": "markdown",
   "metadata": {},
   "source": [
    "#sin(x, /) : Return the sine of x (measured in radians).   \n",
    "sin(1.5707963267948966)\n",
    "\n",
    "sin(0)\n",
    "\n",
    "#cos(x, /) : Return the cosine of x (measured in radians).\n",
    "cos(0)\n",
    "\n",
    "cos(1)\n",
    "\n",
    "#tan(x, /) : Return the tangent of x (measured in radians).\n",
    "\n",
    "#asin(x, /) : Return the arc sine (measured in radians) of x.  \n",
    "\n",
    "#acos(x, /) : Return the arc cosine (measured in radians) of x.    \n",
    "\n",
    "#atan(x, /) : Return the arc tangent (measured in radians) of x.\n",
    "\n",
    "#atan2(y, x, /) : Return the arc tangent (measured in radians) of y/x.\n",
    "        \n",
    "        Unlike atan(y/x), the signs of both x and y are considered.\n",
    "    "
   ]
  },
  {
   "cell_type": "markdown",
   "metadata": {},
   "source": [
    "**hyperbolic**"
   ]
  },
  {
   "cell_type": "code",
   "execution_count": 9,
   "metadata": {},
   "outputs": [],
   "source": [
    "#sinh(x, /) : Return the hyperbolic sine of x.\n",
    "\n",
    "#cosh(x, /) : Return the hyperbolic cosine of x.\n",
    "\n",
    "#tanh(x, /):Return the hyperbolic tangent of x.\n",
    "\n",
    "#asinh(x, /) : Return the inverse hyperbolic sine of x.\n",
    "\n",
    "#acosh(x, /) : Return the inverse hyperbolic cosine of x.\n",
    "\n",
    "#atanh(x, /) : Return the inverse hyperbolic tangent of x.\n",
    "    "
   ]
  },
  {
   "cell_type": "markdown",
   "metadata": {},
   "source": [
    "### log(...)"
   ]
  },
  {
   "cell_type": "markdown",
   "metadata": {},
   "source": [
    " : log(x, [base=math.e])\n",
    "        Return the logarithm of x to the given base.\n",
    "        \n",
    "        If the base not specified, returns the natural logarithm (base e) of x.\n",
    "    \n",
    "    log10(x, /)\n",
    "        Return the base 10 logarithm of x.\n",
    "    \n",
    "    log1p(x, /)\n",
    "        Return the natural logarithm of 1+x (base e).\n",
    "        \n",
    "        The result is computed in a way which is accurate for x near zero.\n",
    "    \n",
    "    log2(x, /)\n",
    "        Return the base 2 logarithm of x.\n",
    "    "
   ]
  },
  {
   "cell_type": "markdown",
   "metadata": {},
   "source": [
    "### Function"
   ]
  },
  {
   "cell_type": "code",
   "execution_count": null,
   "metadata": {},
   "outputs": [],
   "source": [
    "#ceil(x, /):Return the ceiling of x as an Integral.\n",
    "#his is the smallest integer >= x.\n",
    "    \n",
    "\n",
    "copysign(x, y, /):Return a float with the magnitude (absolute value) of x but the sign of y.\n",
    "\n",
    "    On platforms that support signed zeros, copysign(1.0, -0.0)\n",
    "    returns -1.0.\n",
    "\n",
    "\n",
    "#lgamma(x, /):Natural logarithm of absolute value of Gamma function at x.\n",
    "\n",
    "#erf(x, /):Error function at x.\n",
    "#erfc(x, /):Complementary error function at x.\n",
    "#expm1(x, /):Return exp(x)-1.\n",
    "This function avoids the loss of precision involved in the direct evaluation of exp(x)-1 for small x.\n",
    "    \n",
    "\n",
    "#fabs(x, /):Return the absolute value of the float x.\n",
    "   \n",
    "\n",
    "frexp(x, /):Return the mantissa and exponent of x, as pair (m, e).\n",
    "        m is a float and e is an int, such that x = m * 2.**e.\n",
    "        If x is 0, m and e are both 0.  Else 0.5 <= abs(m) < 1.0.\n",
    "    \n",
    "    fsum(seq, /):Return an accurate floating point sum of values in the iterable seq.\n",
    "        \n",
    "        Assumes IEEE-754 floating point arithmetic.\n",
    "    \n",
    "    gamma(x, /):Gamma function at x.\n",
    "    \n",
    "    gcd(x, y, /):greatest common divisor of x and y\n",
    "    \n",
    "    hypot(x, y, /)\n",
    "        Return the Euclidean distance, sqrt(x*x + y*y).\n",
    "    \n",
    "    isclose(a, b, *, rel_tol=1e-09, abs_tol=0.0)\n",
    "        Determine whether two floating point numbers are close in value.\n",
    "        \n",
    "          rel_tol\n",
    "            maximum difference for being considered \"close\", relative to the\n",
    "            magnitude of the input values\n",
    "          abs_tol\n",
    "            maximum difference for being considered \"close\", regardless of the\n",
    "            magnitude of the input values\n",
    "        \n",
    "        Return True if a is close in value to b, and False otherwise.\n",
    "        \n",
    "        For the values to be considered close, the difference between them\n",
    "        must be smaller than at least one of the tolerances.\n",
    "        \n",
    "        -inf, inf and NaN behave similarly to the IEEE 754 Standard.  That\n",
    "        is, NaN is not close to anything, even itself.  inf and -inf are\n",
    "        only close to themselves.\n",
    "\n",
    "    ldexp(x, i, /)\n",
    "        Return x * (2**i).\n",
    "        \n",
    "        This is essentially the inverse of frexp().\n",
    "    \n",
    "        pow(x, y, /)\n",
    "        Return x**y (x to the power of y).\n",
    "        \n",
    "\n",
    "    \n",
    "\n",
    "    \n",
    "\n",
    "    \n",
    "\n",
    "    \n",
    "    remainder(x, y, /)\n",
    "        Difference between x and the closest integer multiple of y.\n",
    "        \n",
    "        Return x - n*y where n*y is the closest integer multiple of y.\n",
    "        In the case where x is exactly halfway between two multiples of\n",
    "        y, the nearest even value of n is used. The result is always exact.\n",
    "\n",
    "\n",
    "\n",
    "    "
   ]
  },
  {
   "cell_type": "code",
   "execution_count": null,
   "metadata": {},
   "outputs": [],
   "source": [
    "    trunc(x, /)\n",
    "        Truncates the Real x to the nearest Integral toward 0.\n",
    "        \n",
    "        Uses the __trunc__ magic method."
   ]
  },
  {
   "cell_type": "markdown",
   "metadata": {},
   "source": [
    "## 3. cmath"
   ]
  },
  {
   "cell_type": "code",
   "execution_count": null,
   "metadata": {},
   "outputs": [],
   "source": []
  },
  {
   "cell_type": "code",
   "execution_count": null,
   "metadata": {},
   "outputs": [],
   "source": []
  },
  {
   "cell_type": "markdown",
   "metadata": {},
   "source": [
    "## 4. decimal"
   ]
  },
  {
   "cell_type": "code",
   "execution_count": null,
   "metadata": {},
   "outputs": [],
   "source": []
  },
  {
   "cell_type": "code",
   "execution_count": null,
   "metadata": {},
   "outputs": [],
   "source": []
  },
  {
   "cell_type": "code",
   "execution_count": null,
   "metadata": {},
   "outputs": [],
   "source": []
  },
  {
   "cell_type": "markdown",
   "metadata": {},
   "source": [
    "## 5. fractions"
   ]
  },
  {
   "cell_type": "code",
   "execution_count": null,
   "metadata": {},
   "outputs": [],
   "source": [
    "from fractions import Fraction\n",
    "\n",
    "Fraction(16, -10)\n",
    "\n",
    "Fraction(123)\n",
    "\n",
    "Fraction()\n",
    "\n",
    "Fraction('3/7')\n",
    "\n",
    "Fraction('1.414213')\n",
    "\n",
    "Fraction('7e-6')"
   ]
  },
  {
   "cell_type": "markdown",
   "metadata": {},
   "source": [
    "## 6. random"
   ]
  },
  {
   "cell_type": "code",
   "execution_count": null,
   "metadata": {},
   "outputs": [],
   "source": []
  },
  {
   "cell_type": "code",
   "execution_count": null,
   "metadata": {},
   "outputs": [],
   "source": []
  },
  {
   "cell_type": "markdown",
   "metadata": {},
   "source": [
    "## 7. statistics"
   ]
  },
  {
   "cell_type": "code",
   "execution_count": null,
   "metadata": {},
   "outputs": [],
   "source": []
  }
 ],
 "metadata": {
  "kernelspec": {
   "display_name": "Python 3",
   "language": "python",
   "name": "python3"
  },
  "language_info": {
   "codemirror_mode": {
    "name": "ipython",
    "version": 3
   },
   "file_extension": ".py",
   "mimetype": "text/x-python",
   "name": "python",
   "nbconvert_exporter": "python",
   "pygments_lexer": "ipython3",
   "version": "3.7.8"
  }
 },
 "nbformat": 4,
 "nbformat_minor": 4
}
