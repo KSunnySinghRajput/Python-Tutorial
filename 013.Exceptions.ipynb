{
 "cells": [
  {
   "cell_type": "markdown",
   "metadata": {},
   "source": [
    "# <center>Exceptions</center>\n",
    "An exception can be defined as an abnormal condition in a program resulting in the disruption in\n",
    "the flow of the program.\n",
    "\n",
    "Whenever an exception occurs, the program halts the execution, and thus the further code is not\n",
    "executed. Therefore, an exception is the error which python script is unable to tackle with.\n",
    "Python provides us with the way to handle the Exception so that the other part of the code can\n",
    "be executed without any disruption. However, if we do not handle the exception, the interpreter\n",
    "doesn't execute all the code that exists after the that.\n",
    "\n",
    "## Common Exceptions\n",
    "A list of common exceptions that can be thrown from a normal python program is given below.\n",
    "1. ZeroDivisionError: Occurs when a number is divided by zero.\n",
    "2. NameError: It occurs when a name is not found. It may be local or global.\n",
    "3. IndentationError: If incorrect indentation is given.\n",
    "4. IOError: It occurs when Input Output operation fails.\n",
    "5. EOFError: It occurs when the end of the file is reached, and yet operations are being\n",
    "performed.\n",
    "\n",
    "## Problem without handling exceptions\n",
    "As we have already discussed, the exception is an abnormal condition that halts the execution of\n",
    "the program. Consider the following example.\n"
   ]
  },
  {
   "cell_type": "raw",
   "metadata": {},
   "source": [
    "BaseException\n",
    " +-- SystemExit\n",
    " +-- KeyboardInterrupt\n",
    " +-- GeneratorExit\n",
    " +-- Exception\n",
    "      +-- StopIteration\n",
    "      +-- StopAsyncIteration\n",
    "      +-- ArithmeticError\n",
    "      |    +-- FloatingPointError\n",
    "      |    +-- OverflowError\n",
    "      |    +-- ZeroDivisionError\n",
    "      +-- AssertionError\n",
    "      +-- AttributeError\n",
    "      +-- BufferError\n",
    "      +-- EOFError\n",
    "      +-- ImportError\n",
    "           +-- ModuleNotFoundError\n",
    "      +-- LookupError\n",
    "      |    +-- IndexError\n",
    "      |    +-- KeyError\n",
    "      +-- MemoryError\n",
    "      +-- NameError\n",
    "      |    +-- UnboundLocalError\n",
    "      +-- OSError\n",
    "      |    +-- BlockingIOError\n",
    "      |    +-- ChildProcessError\n",
    "      |    +-- ConnectionError\n",
    "      |    |    +-- BrokenPipeError\n",
    "      |    |    +-- ConnectionAbortedError\n",
    "      |    |    +-- ConnectionRefusedError\n",
    "      |    |    +-- ConnectionResetError\n",
    "      |    +-- FileExistsError\n",
    "      |    +-- FileNotFoundError\n",
    "      |    +-- InterruptedError\n",
    "      |    +-- IsADirectoryError\n",
    "      |    +-- NotADirectoryError\n",
    "      |    +-- PermissionError\n",
    "      |    +-- ProcessLookupError\n",
    "      |    +-- TimeoutError\n",
    "      +-- ReferenceError\n",
    "      +-- RuntimeError\n",
    "      |    +-- NotImplementedError\n",
    "      |    +-- RecursionError\n",
    "      +-- SyntaxError\n",
    "      |    +-- IndentationError\n",
    "      |         +-- TabError\n",
    "      +-- SystemError\n",
    "      +-- TypeError\n",
    "      +-- ValueError\n",
    "      |    +-- UnicodeError\n",
    "      |         +-- UnicodeDecodeError\n",
    "      |         +-- UnicodeEncodeError\n",
    "      |         +-- UnicodeTranslateError\n",
    "      +-- Warning\n",
    "           +-- DeprecationWarning\n",
    "           +-- PendingDeprecationWarning\n",
    "           +-- RuntimeWarning\n",
    "           +-- SyntaxWarning\n",
    "           +-- UserWarning\n",
    "           +-- FutureWarning\n",
    "           +-- ImportWarning\n",
    "           +-- UnicodeWarning\n",
    "           +-- BytesWarning\n",
    "           +-- ResourceWarning"
   ]
  },
  {
   "cell_type": "code",
   "execution_count": 1,
   "metadata": {},
   "outputs": [
    {
     "ename": "ZeroDivisionError",
     "evalue": "division by zero",
     "output_type": "error",
     "traceback": [
      "\u001b[1;31m---------------------------------------------------------------------------\u001b[0m",
      "\u001b[1;31mZeroDivisionError\u001b[0m                         Traceback (most recent call last)",
      "\u001b[1;32m<ipython-input-1-eb614c1b4ce8>\u001b[0m in \u001b[0;36m<module>\u001b[1;34m\u001b[0m\n\u001b[0;32m      3\u001b[0m \u001b[0ma\u001b[0m \u001b[1;33m=\u001b[0m \u001b[1;36m10\u001b[0m\u001b[1;33m\u001b[0m\u001b[1;33m\u001b[0m\u001b[0m\n\u001b[0;32m      4\u001b[0m \u001b[0mb\u001b[0m \u001b[1;33m=\u001b[0m \u001b[1;36m0\u001b[0m\u001b[1;33m\u001b[0m\u001b[1;33m\u001b[0m\u001b[0m\n\u001b[1;32m----> 5\u001b[1;33m \u001b[0mc\u001b[0m \u001b[1;33m=\u001b[0m \u001b[0ma\u001b[0m\u001b[1;33m/\u001b[0m\u001b[0mb\u001b[0m\u001b[1;33m;\u001b[0m\u001b[1;33m\u001b[0m\u001b[1;33m\u001b[0m\u001b[0m\n\u001b[0m\u001b[0;32m      6\u001b[0m \u001b[0mprint\u001b[0m\u001b[1;33m(\u001b[0m\u001b[1;34m\"a/b = %d\"\u001b[0m\u001b[1;33m%\u001b[0m\u001b[0mc\u001b[0m\u001b[1;33m)\u001b[0m\u001b[1;33m\u001b[0m\u001b[1;33m\u001b[0m\u001b[0m\n\u001b[0;32m      7\u001b[0m \u001b[1;33m\u001b[0m\u001b[0m\n",
      "\u001b[1;31mZeroDivisionError\u001b[0m: division by zero"
     ]
    }
   ],
   "source": [
    "#a = int(input(\"Enter a:\"))\n",
    "#b = int(input(\"Enter b:\"))\n",
    "a = 10\n",
    "b = 0\n",
    "c = a/b;\n",
    "print(\"a/b = %d\"%c)\n",
    "\n",
    "#other code:\n",
    "print(\"Hi I am other part of the program\") \n"
   ]
  },
  {
   "cell_type": "markdown",
   "metadata": {},
   "source": [
    "# 1.try except"
   ]
  },
  {
   "cell_type": "markdown",
   "metadata": {},
   "source": [
    " in python\n",
    "If the python program contains suspicious code that may throw the exception, we must place\n",
    "that code in the try block. The try block must be followed with the except statement which\n",
    "contains a block of code that will be executed if there is some exception in the try block"
   ]
  },
  {
   "cell_type": "raw",
   "metadata": {},
   "source": [
    "try:\n",
    " #block of code\n",
    "\n",
    "except Exception1:\n",
    " #block of code\n",
    "\n",
    "except Exception2:\n",
    " #block of code\n",
    "\n",
    "#other code "
   ]
  },
  {
   "cell_type": "raw",
   "metadata": {},
   "source": [
    "try:\n",
    " #block of code\n",
    "\n",
    "except Exception1:\n",
    " #block of code\n",
    "\n",
    "else:\n",
    " #this code executes if no except block is executed "
   ]
  },
  {
   "cell_type": "code",
   "execution_count": 6,
   "metadata": {},
   "outputs": [
    {
     "name": "stdout",
     "output_type": "stream",
     "text": [
      "a/b = 5\n",
      "Hi I am else block\n"
     ]
    }
   ],
   "source": [
    "try:\n",
    "    #a = int(input(\"Enter a:\"))\n",
    "    #b = int(input(\"Enter b:\"))\n",
    "    a = 10\n",
    "    b = 2\n",
    "    c = a/b;\n",
    "    print(\"a/b = %d\"%c)\n",
    "except Exception:\n",
    "    print(\"can't divide by zero\")\n",
    "else:\n",
    "    print(\"Hi I am else block\")"
   ]
  },
  {
   "cell_type": "code",
   "execution_count": 7,
   "metadata": {},
   "outputs": [
    {
     "name": "stdout",
     "output_type": "stream",
     "text": [
      "can't divide by zero\n"
     ]
    }
   ],
   "source": [
    "try:\n",
    "    #a = int(input(\"Enter a:\"))\n",
    "    #b = int(input(\"Enter b:\"))\n",
    "    a = 10\n",
    "    b = 0\n",
    "    c = a/b;\n",
    "    print(\"a/b = %d\"%c)\n",
    "except Exception:\n",
    "    print(\"can't divide by zero\")\n",
    "else:\n",
    "    print(\"Hi I am else block\")"
   ]
  },
  {
   "cell_type": "markdown",
   "metadata": {},
   "source": [
    "### Points to remember\n",
    "1. Python facilitates us to not specify the exception with the except statement.\n",
    "2. We can declare multiple exceptions in the except statement since the try block may\n",
    "contain the statements which throw the different type of exceptions.\n",
    "3. We can also specify an else block along with the try-except statement which will be\n",
    "executed if no exception is raised in the try block.\n",
    "4. The statements that don't throw the exception should be placed inside the else block."
   ]
  },
  {
   "cell_type": "code",
   "execution_count": 20,
   "metadata": {},
   "outputs": [
    {
     "name": "stdout",
     "output_type": "stream",
     "text": [
      "File not found\n"
     ]
    }
   ],
   "source": [
    "try:\n",
    " #this will throw an exception if the file doesn't exist.\n",
    " fileptr = open(\"file.txt\",\"r\")\n",
    "except IOError:\n",
    " print(\"File not found\")\n",
    "else:\n",
    " print(\"The file opened successfully\")\n",
    " fileptr.close() \n"
   ]
  },
  {
   "cell_type": "markdown",
   "metadata": {},
   "source": [
    "## Declaring multiple exceptions\n",
    "The python allows us to declare the multiple exceptions with the except clause. Declaring\n",
    "multiple exceptions is useful in the cases where a try block throws multiple exceptions."
   ]
  },
  {
   "cell_type": "raw",
   "metadata": {},
   "source": [
    "try:\n",
    " #block of code\n",
    "\n",
    "except (<Exception 1>,<Exception 2>,<Exception 3>,...<Exception n>)\n",
    " #block of code\n",
    "\n",
    "else:\n",
    " #block of code \n"
   ]
  },
  {
   "cell_type": "code",
   "execution_count": 21,
   "metadata": {},
   "outputs": [
    {
     "ename": "NameError",
     "evalue": "name 'StandardError' is not defined",
     "output_type": "error",
     "traceback": [
      "\u001b[1;31m---------------------------------------------------------------------------\u001b[0m",
      "\u001b[1;31mZeroDivisionError\u001b[0m                         Traceback (most recent call last)",
      "\u001b[1;32m<ipython-input-21-b81c71f86d22>\u001b[0m in \u001b[0;36m<module>\u001b[1;34m\u001b[0m\n\u001b[0;32m      1\u001b[0m \u001b[1;32mtry\u001b[0m\u001b[1;33m:\u001b[0m\u001b[1;33m\u001b[0m\u001b[1;33m\u001b[0m\u001b[0m\n\u001b[1;32m----> 2\u001b[1;33m     \u001b[0ma\u001b[0m\u001b[1;33m=\u001b[0m\u001b[1;36m10\u001b[0m\u001b[1;33m/\u001b[0m\u001b[1;36m0\u001b[0m\u001b[1;33m;\u001b[0m\u001b[1;33m\u001b[0m\u001b[1;33m\u001b[0m\u001b[0m\n\u001b[0m\u001b[0;32m      3\u001b[0m \u001b[1;32mexcept\u001b[0m \u001b[1;33m(\u001b[0m\u001b[0mArithmeticError\u001b[0m\u001b[1;33m,\u001b[0m\u001b[0mStandardError\u001b[0m\u001b[1;33m)\u001b[0m\u001b[1;33m:\u001b[0m\u001b[1;33m\u001b[0m\u001b[1;33m\u001b[0m\u001b[0m\n",
      "\u001b[1;31mZeroDivisionError\u001b[0m: division by zero",
      "\nDuring handling of the above exception, another exception occurred:\n",
      "\u001b[1;31mNameError\u001b[0m                                 Traceback (most recent call last)",
      "\u001b[1;32m<ipython-input-21-b81c71f86d22>\u001b[0m in \u001b[0;36m<module>\u001b[1;34m\u001b[0m\n\u001b[0;32m      1\u001b[0m \u001b[1;32mtry\u001b[0m\u001b[1;33m:\u001b[0m\u001b[1;33m\u001b[0m\u001b[1;33m\u001b[0m\u001b[0m\n\u001b[0;32m      2\u001b[0m     \u001b[0ma\u001b[0m\u001b[1;33m=\u001b[0m\u001b[1;36m10\u001b[0m\u001b[1;33m/\u001b[0m\u001b[1;36m0\u001b[0m\u001b[1;33m;\u001b[0m\u001b[1;33m\u001b[0m\u001b[1;33m\u001b[0m\u001b[0m\n\u001b[1;32m----> 3\u001b[1;33m \u001b[1;32mexcept\u001b[0m \u001b[1;33m(\u001b[0m\u001b[0mArithmeticError\u001b[0m\u001b[1;33m,\u001b[0m\u001b[0mStandardError\u001b[0m\u001b[1;33m)\u001b[0m\u001b[1;33m:\u001b[0m\u001b[1;33m\u001b[0m\u001b[1;33m\u001b[0m\u001b[0m\n\u001b[0m\u001b[0;32m      4\u001b[0m     \u001b[0mprint\u001b[0m \u001b[1;33m(\u001b[0m\u001b[1;34m\"Arithmetic Exception\"\u001b[0m\u001b[1;33m)\u001b[0m\u001b[1;33m\u001b[0m\u001b[1;33m\u001b[0m\u001b[0m\n\u001b[0;32m      5\u001b[0m \u001b[1;32melse\u001b[0m\u001b[1;33m:\u001b[0m\u001b[1;33m\u001b[0m\u001b[1;33m\u001b[0m\u001b[0m\n",
      "\u001b[1;31mNameError\u001b[0m: name 'StandardError' is not defined"
     ]
    }
   ],
   "source": [
    "try:\n",
    "    a=10/0;\n",
    "except (ArithmeticError,StandardError):\n",
    "    print (\"Arithmetic Exception\")\n",
    "else:\n",
    "    print (\"Successfully Done\") \n"
   ]
  },
  {
   "cell_type": "markdown",
   "metadata": {},
   "source": [
    "# 2.The finally block\n",
    "We can use the finally block with the try block in which, we can pace the important code which\n",
    "must be executed before the try statement throws an exception. \n",
    "The syntax to use the finally block is given below.\n"
   ]
  },
  {
   "cell_type": "raw",
   "metadata": {},
   "source": [
    "try:\n",
    " # block of code\n",
    " # this may throw an exception\n",
    "finally:\n",
    " # block of code\n",
    " # this will always be executed \n"
   ]
  },
  {
   "cell_type": "code",
   "execution_count": 13,
   "metadata": {},
   "outputs": [
    {
     "name": "stdout",
     "output_type": "stream",
     "text": [
      "Error\n"
     ]
    }
   ],
   "source": [
    "try:\n",
    "    fileptr = open(\"file.txt\",\"r\")\n",
    "    try:\n",
    "        fileptr.write(\"Hi I am good\")\n",
    "    finally:\n",
    "        fileptr.close()\n",
    "        print(\"file closed\")\n",
    "except:\n",
    "    print(\"Error\") \n"
   ]
  },
  {
   "cell_type": "markdown",
   "metadata": {},
   "source": [
    "# 3.Raising exceptions\n",
    "An exception can be raised by using the raise clause in python. The syntax to use the raise\n",
    "statement is given below."
   ]
  },
  {
   "cell_type": "raw",
   "metadata": {},
   "source": [
    "raise Exception_class,<value> "
   ]
  },
  {
   "cell_type": "markdown",
   "metadata": {},
   "source": [
    "### Points to remember\n",
    "1. To raise an exception, raise statement is used. The exception class name follows it.\n",
    "2. An exception can be provided with a value that can be given in the parenthesis.\n",
    "3. To access the value \"as\" keyword is used. \"e\" is used as a reference variable which stores\n",
    "the value of the exception."
   ]
  },
  {
   "cell_type": "code",
   "execution_count": 17,
   "metadata": {},
   "outputs": [
    {
     "name": "stdout",
     "output_type": "stream",
     "text": [
      "Enter the age?17\n",
      "The age is not valid\n"
     ]
    }
   ],
   "source": [
    "try:\n",
    "    age = int(input(\"Enter the age?\"))\n",
    "    if age<18:\n",
    "        raise ValueError;\n",
    "    else:\n",
    "        print(\"the age is valid\")\n",
    "except ValueError:\n",
    "    print(\"The age is not valid\") \n"
   ]
  },
  {
   "cell_type": "code",
   "execution_count": 18,
   "metadata": {},
   "outputs": [
    {
     "name": "stdout",
     "output_type": "stream",
     "text": [
      "Enter a?20\n",
      "Enter b?0\n",
      "The value of b can't be 0\n"
     ]
    }
   ],
   "source": [
    "try:\n",
    "    a = int(input(\"Enter a?\"))\n",
    "    b = int(input(\"Enter b?\"))\n",
    "    if b is 0:\n",
    "        raise ArithmeticError;\n",
    "    else:\n",
    "        print(\"a/b = \",a/b)\n",
    "except ArithmeticError:\n",
    "    print(\"The value of b can't be 0\") \n"
   ]
  },
  {
   "cell_type": "markdown",
   "metadata": {},
   "source": [
    "# 4.Custom Exception\n",
    "The python allows us to create our exceptions that can be raised from the program and caught\n",
    "using the except clause. However, we suggest you read this section after visiting the Python\n",
    "object and classes.\n"
   ]
  },
  {
   "cell_type": "code",
   "execution_count": 22,
   "metadata": {},
   "outputs": [
    {
     "name": "stdout",
     "output_type": "stream",
     "text": [
      "Received error: 2000\n"
     ]
    }
   ],
   "source": [
    "class ErrorInCode(Exception):\n",
    "    def __init__(self, data):\n",
    "        self.data = data\n",
    "    def __str__(self):\n",
    "        return repr(self.data)\n",
    "\n",
    "try:\n",
    "    raise ErrorInCode(2000)\n",
    "except ErrorInCode as ae:\n",
    "    print(\"Received error:\", ae.data) "
   ]
  },
  {
   "cell_type": "code",
   "execution_count": null,
   "metadata": {},
   "outputs": [],
   "source": [
    "# eXAMPLE"
   ]
  },
  {
   "cell_type": "code",
   "execution_count": 1,
   "metadata": {},
   "outputs": [
    {
     "ename": "ZeroDivisionError",
     "evalue": "division by zero",
     "output_type": "error",
     "traceback": [
      "\u001b[1;31m---------------------------------------------------------------------------\u001b[0m",
      "\u001b[1;31mZeroDivisionError\u001b[0m                         Traceback (most recent call last)",
      "\u001b[1;32m<ipython-input-1-785172889a71>\u001b[0m in \u001b[0;36m<module>\u001b[1;34m\u001b[0m\n\u001b[0;32m      1\u001b[0m \u001b[0ma\u001b[0m\u001b[1;33m=\u001b[0m \u001b[1;36m2\u001b[0m\u001b[1;33m\u001b[0m\u001b[1;33m\u001b[0m\u001b[0m\n\u001b[0;32m      2\u001b[0m \u001b[0mb\u001b[0m\u001b[1;33m=\u001b[0m\u001b[1;36m0\u001b[0m\u001b[1;33m\u001b[0m\u001b[1;33m\u001b[0m\u001b[0m\n\u001b[1;32m----> 3\u001b[1;33m \u001b[0mc\u001b[0m\u001b[1;33m=\u001b[0m\u001b[0ma\u001b[0m\u001b[1;33m/\u001b[0m\u001b[0mb\u001b[0m\u001b[1;33m\u001b[0m\u001b[1;33m\u001b[0m\u001b[0m\n\u001b[0m\u001b[0;32m      4\u001b[0m \u001b[0mc\u001b[0m\u001b[1;33m\u001b[0m\u001b[1;33m\u001b[0m\u001b[0m\n",
      "\u001b[1;31mZeroDivisionError\u001b[0m: division by zero"
     ]
    }
   ],
   "source": [
    "a= 2\n",
    "b=0\n",
    "c=a/b\n",
    "c"
   ]
  },
  {
   "cell_type": "code",
   "execution_count": null,
   "metadata": {},
   "outputs": [],
   "source": [
    "try:\n",
    "    a= 2\n",
    "    b=0\n",
    "    c=a/b\n",
    "except:\n",
    "    print('ZeroDivisionError')"
   ]
  },
  {
   "cell_type": "code",
   "execution_count": null,
   "metadata": {},
   "outputs": [],
   "source": [
    "try:\n",
    "    a= 2\n",
    "    b=0\n",
    "    c=a/b\n",
    "except ZeroDivisionError:\n",
    "    print('ZeroDivisionError')\n",
    "    \n",
    "except FloatingPointError:\n",
    "    print('FloatingPointError')"
   ]
  }
 ],
 "metadata": {
  "kernelspec": {
   "display_name": "Python 3",
   "language": "python",
   "name": "python3"
  },
  "language_info": {
   "codemirror_mode": {
    "name": "ipython",
    "version": 3
   },
   "file_extension": ".py",
   "mimetype": "text/x-python",
   "name": "python",
   "nbconvert_exporter": "python",
   "pygments_lexer": "ipython3",
   "version": "3.7.8"
  }
 },
 "nbformat": 4,
 "nbformat_minor": 4
}
