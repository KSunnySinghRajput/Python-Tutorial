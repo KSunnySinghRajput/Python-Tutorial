{
 "cells": [
  {
   "cell_type": "code",
   "execution_count": null,
   "id": "accomplished-marble",
   "metadata": {},
   "outputs": [],
   "source": [
    "# 2D"
   ]
  },
  {
   "cell_type": "code",
   "execution_count": null,
   "id": "removed-walker",
   "metadata": {},
   "outputs": [],
   "source": [
    "X-axis: Column\n",
    "Y-axis: Row"
   ]
  },
  {
   "cell_type": "code",
   "execution_count": 4,
   "id": "geographic-laptop",
   "metadata": {},
   "outputs": [
    {
     "data": {
      "text/plain": [
       "[[0, 10, 20, 30, 40, 50, 60, 70, 80, 90],\n",
       " [100, 110, 120, 130, 140, 150, 160, 170, 180, 190],\n",
       " [200, 210, 220, 230, 240, 250, 260, 270, 280, 290],\n",
       " [300, 310, 320, 330, 340, 350, 360, 370, 380, 390],\n",
       " [400, 410, 420, 430, 440, 450, 460, 470, 480, 490],\n",
       " [500, 510, 520, 530, 540, 550, 560, 570, 580, 590],\n",
       " [600, 610, 620, 630, 640, 650, 660, 670, 680, 690],\n",
       " [700, 710, 720, 730, 740, 750, 760, 770, 780, 790],\n",
       " [800, 810, 820, 830, 840, 850, 860, 870, 880, 890],\n",
       " [900, 910, 920, 930, 940, 950, 960, 970, 980, 990]]"
      ]
     },
     "execution_count": 4,
     "metadata": {},
     "output_type": "execute_result"
    }
   ],
   "source": [
    "A=[[  0, 10, 20, 30, 40, 50, 60, 70, 80, 90],\n",
    "[100,110,120,130,140,150,160,170,180,190],\n",
    "[200,210,220,230,240,250,260,270,280,290],\n",
    "[300,310,320,330,340,350,360,370,380,390],\n",
    "[400,410,420,430,440,450,460,470,480,490],\n",
    "[500,510,520,530,540,550,560,570,580,590],\n",
    "[600,610,620,630,640,650,660,670,680,690],\n",
    "[700,710,720,730,740,750,760,770,780,790],\n",
    "[800,810,820,830,840,850,860,870,880,890],\n",
    "[900,910,920,930,940,950,960,970,980,990]]\n",
    "A"
   ]
  },
  {
   "cell_type": "code",
   "execution_count": 7,
   "id": "aerial-acrylic",
   "metadata": {},
   "outputs": [],
   "source": [
    "def RowShape(arr):\n",
    "    return len(arr)\n",
    "def ColShape(arr):\n",
    "    size_list=[len(arr[a])  for a in range (0,len(arr))]\n",
    "    if len(set(size_list))==1:\n",
    "        return size_list[0]\n",
    "    else:\n",
    "        print(\"Array not same\")\n",
    "        return size_list\n",
    "def shape(arr):\n",
    "    return dict(row = RowShape(arr),col=ColShape(arr))"
   ]
  },
  {
   "cell_type": "code",
   "execution_count": 8,
   "id": "demonstrated-continuity",
   "metadata": {},
   "outputs": [
    {
     "data": {
      "text/plain": [
       "{'row': 10, 'col': 10}"
      ]
     },
     "execution_count": 8,
     "metadata": {},
     "output_type": "execute_result"
    }
   ],
   "source": [
    "shape(A)"
   ]
  },
  {
   "cell_type": "code",
   "execution_count": 13,
   "id": "failing-imaging",
   "metadata": {},
   "outputs": [
    {
     "data": {
      "text/plain": [
       "[[0, 10, 20, 30, 40, 50, 60, 70, 80, 90],\n",
       " [100, 110, 120, 130, 140, 150, 160, 170, 180, 190],\n",
       " [200, 210, 220, 230, 240, 250, 260, 270, 280, 290],\n",
       " [300, 310, 320, 330, 340, 350, 360, 370, 380, 390],\n",
       " [400, 410, 420, 430, 440, 450, 460, 470, 480, 490]]"
      ]
     },
     "execution_count": 13,
     "metadata": {},
     "output_type": "execute_result"
    }
   ],
   "source": [
    "#Row\n",
    "A[0:5]   \n",
    "#0initial  to 5Final ro select"
   ]
  },
  {
   "cell_type": "code",
   "execution_count": 17,
   "id": "blessed-tower",
   "metadata": {},
   "outputs": [
    {
     "data": {
      "text/plain": [
       "[[0, 10, 20, 30, 40, 50, 60, 70, 80, 90],\n",
       " [300, 310, 320, 330, 340, 350, 360, 370, 380, 390]]"
      ]
     },
     "execution_count": 17,
     "metadata": {},
     "output_type": "execute_result"
    }
   ],
   "source": [
    "A[0:5:3]\n",
    "#0initial, 5Final ,3step row select"
   ]
  },
  {
   "cell_type": "code",
   "execution_count": null,
   "id": "neutral-coast",
   "metadata": {},
   "outputs": [],
   "source": []
  }
 ],
 "metadata": {
  "kernelspec": {
   "display_name": "Python 3",
   "language": "python",
   "name": "python3"
  },
  "language_info": {
   "codemirror_mode": {
    "name": "ipython",
    "version": 3
   },
   "file_extension": ".py",
   "mimetype": "text/x-python",
   "name": "python",
   "nbconvert_exporter": "python",
   "pygments_lexer": "ipython3",
   "version": "3.7.8"
  }
 },
 "nbformat": 4,
 "nbformat_minor": 5
}
